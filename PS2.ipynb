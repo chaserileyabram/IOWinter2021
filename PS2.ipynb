{
 "cells": [
  {
   "cell_type": "code",
   "execution_count": null,
   "metadata": {},
   "outputs": [],
   "source": [
    "# Chase Abram\n",
    "# IO 2 2021 with Hortacsu"
   ]
  },
  {
   "cell_type": "code",
   "execution_count": 56,
   "metadata": {},
   "outputs": [
    {
     "data": {
      "text/html": [
       "<table class=\"data-frame\"><thead><tr><th></th><th>milage</th></tr><tr><th></th><th>Int64</th></tr></thead><tbody><p>5,000 rows × 1 columns</p><tr><th>1</th><td>23</td></tr><tr><th>2</th><td>31</td></tr><tr><th>3</th><td>36</td></tr><tr><th>4</th><td>46</td></tr><tr><th>5</th><td>56</td></tr><tr><th>6</th><td>66</td></tr><tr><th>7</th><td>75</td></tr><tr><th>8</th><td>85</td></tr><tr><th>9</th><td>86</td></tr><tr><th>10</th><td>95</td></tr><tr><th>11</th><td>106</td></tr><tr><th>12</th><td>124</td></tr><tr><th>13</th><td>135</td></tr><tr><th>14</th><td>142</td></tr><tr><th>15</th><td>9</td></tr><tr><th>16</th><td>18</td></tr><tr><th>17</th><td>28</td></tr><tr><th>18</th><td>44</td></tr><tr><th>19</th><td>54</td></tr><tr><th>20</th><td>64</td></tr><tr><th>21</th><td>71</td></tr><tr><th>22</th><td>77</td></tr><tr><th>23</th><td>94</td></tr><tr><th>24</th><td>96</td></tr><tr><th>25</th><td>109</td></tr><tr><th>26</th><td>113</td></tr><tr><th>27</th><td>125</td></tr><tr><th>28</th><td>8</td></tr><tr><th>29</th><td>12</td></tr><tr><th>30</th><td>18</td></tr><tr><th>&vellip;</th><td>&vellip;</td></tr></tbody></table>"
      ],
      "text/latex": [
       "\\begin{tabular}{r|c}\n",
       "\t& milage\\\\\n",
       "\t\\hline\n",
       "\t& Int64\\\\\n",
       "\t\\hline\n",
       "\t1 & 23 \\\\\n",
       "\t2 & 31 \\\\\n",
       "\t3 & 36 \\\\\n",
       "\t4 & 46 \\\\\n",
       "\t5 & 56 \\\\\n",
       "\t6 & 66 \\\\\n",
       "\t7 & 75 \\\\\n",
       "\t8 & 85 \\\\\n",
       "\t9 & 86 \\\\\n",
       "\t10 & 95 \\\\\n",
       "\t11 & 106 \\\\\n",
       "\t12 & 124 \\\\\n",
       "\t13 & 135 \\\\\n",
       "\t14 & 142 \\\\\n",
       "\t15 & 9 \\\\\n",
       "\t16 & 18 \\\\\n",
       "\t17 & 28 \\\\\n",
       "\t18 & 44 \\\\\n",
       "\t19 & 54 \\\\\n",
       "\t20 & 64 \\\\\n",
       "\t21 & 71 \\\\\n",
       "\t22 & 77 \\\\\n",
       "\t23 & 94 \\\\\n",
       "\t24 & 96 \\\\\n",
       "\t25 & 109 \\\\\n",
       "\t26 & 113 \\\\\n",
       "\t27 & 125 \\\\\n",
       "\t28 & 8 \\\\\n",
       "\t29 & 12 \\\\\n",
       "\t30 & 18 \\\\\n",
       "\t$\\dots$ & $\\dots$ \\\\\n",
       "\\end{tabular}\n"
      ],
      "text/plain": [
       "\u001b[1m5000×1 DataFrame\u001b[0m\n",
       "\u001b[1m  Row \u001b[0m│\u001b[1m milage \u001b[0m\n",
       "\u001b[1m      \u001b[0m│\u001b[90m Int64  \u001b[0m\n",
       "──────┼────────\n",
       "    1 │     23\n",
       "    2 │     31\n",
       "    3 │     36\n",
       "    4 │     46\n",
       "    5 │     56\n",
       "    6 │     66\n",
       "    7 │     75\n",
       "    8 │     85\n",
       "    9 │     86\n",
       "   10 │     95\n",
       "   11 │    106\n",
       "  ⋮   │   ⋮\n",
       " 4991 │     15\n",
       " 4992 │     26\n",
       " 4993 │     36\n",
       " 4994 │     43\n",
       " 4995 │     48\n",
       " 4996 │     53\n",
       " 4997 │     60\n",
       " 4998 │     74\n",
       " 4999 │     91\n",
       " 5000 │      4\n",
       "\u001b[31m4979 rows omitted\u001b[0m"
      ]
     },
     "execution_count": 56,
     "metadata": {},
     "output_type": "execute_result"
    }
   ],
   "source": [
    "using CSV\n",
    "using DataFrames\n",
    "using ForwardDiff\n",
    "using LinearAlgebra\n",
    "using Optim\n",
    "\n",
    "using Random\n",
    "using Statistics\n",
    "\n",
    "using Plots\n",
    "\n",
    "# Load data\n",
    "df = DataFrame()\n",
    "df = CSV.read(\"psetTwo.csv\", DataFrame)"
   ]
  },
  {
   "cell_type": "code",
   "execution_count": 9,
   "metadata": {},
   "outputs": [
    {
     "data": {
      "text/plain": [
       "5000-element Array{Int64,1}:\n",
       " 0\n",
       " 0\n",
       " 0\n",
       " 0\n",
       " 0\n",
       " 0\n",
       " 0\n",
       " 0\n",
       " 0\n",
       " 0\n",
       " 0\n",
       " 0\n",
       " 0\n",
       " ⋮\n",
       " 0\n",
       " 1\n",
       " 0\n",
       " 0\n",
       " 0\n",
       " 0\n",
       " 0\n",
       " 0\n",
       " 0\n",
       " 0\n",
       " 0\n",
       " 1"
      ]
     },
     "execution_count": 9,
     "metadata": {},
     "output_type": "execute_result"
    }
   ],
   "source": [
    "# Mileage\n",
    "mileage = df.milage\n",
    "N = length(mileage)\n",
    "\n",
    "# Find replacement periods\n",
    "d_rep = [0; (mileage[2:N] - mileage[1:N-1]) .< 0]"
   ]
  },
  {
   "cell_type": "code",
   "execution_count": 107,
   "metadata": {},
   "outputs": [
    {
     "data": {
      "text/plain": [
       "trans_mats (generic function with 1 method)"
      ]
     },
     "execution_count": 107,
     "metadata": {},
     "output_type": "execute_result"
    }
   ],
   "source": [
    "# Discretize the domain (equispacing)\n",
    "function disc_domain(data, K)\n",
    "    M = maximum(data)\n",
    "    m = minimum(data)\n",
    "    return LinRange(m,M,K)\n",
    "end\n",
    "\n",
    "# Map value to its chunk\n",
    "function to_chunk(vs, chunks)\n",
    "    \n",
    "    its = zeros(length(vs))\n",
    "    for j in 1:length(vs)\n",
    "        it = 1\n",
    "        while vs[j] > chunks[it] && it < length(chunks)\n",
    "            it += 1\n",
    "        end\n",
    "        its[j] = it\n",
    "    end\n",
    "    return Int64.(its)\n",
    "end\n",
    "\n",
    "# Create transition matrices\n",
    "function trans_mats(m, d, K)\n",
    "    disc = disc_domain(m, K)\n",
    "    \n",
    "#     println(\"disc: \", disc)\n",
    "    rep = zeros(K,K)\n",
    "    no_rep = zeros(K,K)\n",
    "    \n",
    "    chunk_map = to_chunk(m, disc)\n",
    "    \n",
    "    for i in 2:length(m)\n",
    "        if d[i] > 0\n",
    "            rep[chunk_map[i-1], chunk_map[i]] += 1\n",
    "        else\n",
    "            no_rep[chunk_map[i-1], chunk_map[i]] += 1\n",
    "        end\n",
    "    end\n",
    "    \n",
    "    # Normalize\n",
    "#     rep = rep.*(1 ./max.(sum(rep,dims=2), 1.0))\n",
    "#     no_rep = no_rep.*(1 ./max.(sum(no_rep,dims=2), 1.0))\n",
    "    \n",
    "    return rep, no_rep\n",
    "end"
   ]
  },
  {
   "cell_type": "code",
   "execution_count": 123,
   "metadata": {},
   "outputs": [
    {
     "data": {
      "text/plain": [
       "([0.0 0.0 0.0; 0.0 159.0 0.0; 1.0 248.0 0.0], [0.0 1.0 0.0; 0.0 3733.0 249.0; 0.0 0.0 608.0])"
      ]
     },
     "execution_count": 123,
     "metadata": {},
     "output_type": "execute_result"
    }
   ],
   "source": [
    "K = 3\n",
    "\n",
    "disc = disc_domain(mileage, K)\n",
    "\n",
    "to_chunk(mileage, disc)\n",
    "\n",
    "# plot(to_chunk(mileage, disc))\n",
    "\n",
    "trans_mats(mileage, d_rep, K)"
   ]
  },
  {
   "cell_type": "code",
   "execution_count": null,
   "metadata": {},
   "outputs": [],
   "source": []
  }
 ],
 "metadata": {
  "kernelspec": {
   "display_name": "Julia 1.5.3",
   "language": "julia",
   "name": "julia-1.5"
  },
  "language_info": {
   "file_extension": ".jl",
   "mimetype": "application/julia",
   "name": "julia",
   "version": "1.5.3"
  }
 },
 "nbformat": 4,
 "nbformat_minor": 2
}
