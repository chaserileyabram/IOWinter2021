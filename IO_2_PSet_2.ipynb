{
 "cells": [
  {
   "cell_type": "markdown",
   "metadata": {},
   "source": [
    "# Problem Set 2\n",
    "\n",
    "#### Abram and Higbee - IO 2, 2021"
   ]
  },
  {
   "cell_type": "markdown",
   "metadata": {},
   "source": [
    "### Set up environment"
   ]
  },
  {
   "cell_type": "code",
   "execution_count": 1,
   "metadata": {},
   "outputs": [],
   "source": [
    "# Set wd\n",
    "pwd()\n",
    "dir = \"/Users/JoshuaHigbee/Box/2. Second Year/2. Winter Quarter - 2021/\" *\n",
    "      \"Industrial Organization II - Hortacsu/Problem Sets/Problem Set 2/\";\n",
    "cd(dir);\n",
    "\n",
    "# Set up packages (must have pre-loaded)\n",
    "using CSV, DataFrames, Random, Distributions, LinearAlgebra,\n",
    "      LatexPrint, StatsBase, Plots, SpecialFunctions\n",
    "using Optim, ForwardDiff, PyCall, ShiftedArrays, StatsPlots\n",
    "\n",
    "# Set seed\n",
    "Random.seed!(12345);\n",
    "\n",
    "# Set column view\n",
    "ENV[\"COLUMNS\"]=500;"
   ]
  },
  {
   "cell_type": "markdown",
   "metadata": {},
   "source": [
    "<br><br><br><br>\n",
    "\n",
    "## QUESTION 1.3\n",
    "\n",
    "### 1.3.2 - Bayes-Nash Equilibria\n",
    "\n",
    "Given the shape of the best response functions, and the fact that there are two players, there are at most 3 equilibria for any value of $x$.  First, we verify this using a grid search over parameters, then we use Newton's method to speed up the process and achieve more precision.\n",
    "\n",
    "##### Grid search for intersections"
   ]
  },
  {
   "cell_type": "code",
   "execution_count": 2,
   "metadata": {},
   "outputs": [
    {
     "name": "stdout",
     "output_type": "stream",
     "text": [
      "[0.599 0.599]\n",
      "[0.773 0.773]\n",
      "[0.071 0.929; 0.5 0.5; 0.929 0.071]\n",
      "[0.712 0.849; 0.785 0.784; 0.849 0.712]\n"
     ]
    }
   ],
   "source": [
    "# Search grid of starting values for equilibria\n",
    "fxp_eq_grid = (0:1e7) / 1e7\n",
    "\n",
    "# BR function (vector)\n",
    "br_eq_vec = function(; α, δ, x, p)\n",
    "    return exp.(Ref(α*x) .- δ*p) ./ (Ref(1) .+ exp.(Ref(α*x) .- δ*p))\n",
    "end\n",
    "\n",
    "# Check equilibria\n",
    "check_eq_vec = function(; α, δ, x)\n",
    "    eq_check = DataFrame(p = fxp_eq_grid)\n",
    "    eq_check.p1 = br_eq_vec(α=α, δ=δ, x=x, p=br_eq_vec(α=α, δ=δ, x=x, p=eq_check.p))\n",
    "    eq_check.diff = (abs.(eq_check.p .- eq_check.p1) .> 1e-7)\n",
    "    p1_eq = unique(round.(eq_check[eq_check.diff .== 0, :p], digits=3))\n",
    "    return hcat(round.(p1_eq, digits=3), round.(br_eq_vec(α=α, δ=δ, x=x, p=p1_eq), digits=3))\n",
    "end\n",
    "\n",
    "# Check equilibria for each combination of parameters and x values\n",
    "println(check_eq_vec(α=1, δ=1, x=1))\n",
    "println(check_eq_vec(α=1, δ=1, x=2))\n",
    "println(check_eq_vec(α=3, δ=6, x=1))\n",
    "println(check_eq_vec(α=3, δ=6, x=2))"
   ]
  },
  {
   "cell_type": "markdown",
   "metadata": {},
   "source": [
    "##### Newton's method"
   ]
  },
  {
   "cell_type": "code",
   "execution_count": 3,
   "metadata": {},
   "outputs": [
    {
     "name": "stdout",
     "output_type": "stream",
     "text": [
      "[0.599 0.599; 0.599 0.599; 0.599 0.599]\n",
      "[0.929 0.071; 0.5 0.5; 0.071 0.929]\n",
      "[0.773 0.773; 0.773 0.773; 0.773 0.773]\n",
      "[0.849 0.712; 0.785 0.785; 0.712 0.849]\n"
     ]
    }
   ],
   "source": [
    "# BR function (vector)\n",
    "br_eq_vec = function(; α, δ, x, p)\n",
    "    return (exp.(α*x .- δ*p) ./ (Ref(1) .+ exp.(α*x .- δ*p)))\n",
    "end\n",
    "\n",
    "# FXP function\n",
    "fxp_eq_f = function(; α, δ, x, p)\n",
    "    return p .- reverse(br_eq_vec(α=α, δ=δ, x=x, p=p))\n",
    "end\n",
    "\n",
    "# dFXP function\n",
    "fxp_eq_df = function(; α, δ, x, p)\n",
    "    dp1dp2 = -(δ*exp.(δ*p[2] .+ α*x))./(exp.(δ*p[2]) .+ exp.(α*x))^2\n",
    "    dp2dp1 = -(δ*exp.(δ*p[1] .+ α*x))./(exp.(δ*p[1]) .+ exp.(α*x))^2\n",
    "    return I - [0 dp1dp2; dp2dp1 0]\n",
    "end\n",
    "\n",
    "# Newton function\n",
    "fxp_eq = function(; α, δ, x, p)\n",
    "    diff = 1; p0=p; p1=p; iter=1\n",
    "    while diff > 1e-6 && iter < 20\n",
    "        p1 = p0 .- fxp_eq_df.(α=α, δ=δ, x=x, p=p0)\\fxp_eq_f.(α=α, δ=δ, x=x, p=p0)\n",
    "        diff = maximum(abs.(p1 .- p0))\n",
    "        p0 = p1; iter=iter+1\n",
    "    end\n",
    "    return p1\n",
    "end\n",
    "\n",
    "\n",
    "# Save strategy values for use later\n",
    "θ_vec = [[1,1], [3,6]]\n",
    "eq_vec = Array{Array{Float64}}(undef, 2, 2)\n",
    "for x in 1:2\n",
    "    for i in 1:2\n",
    "        h_1 = fxp_eq(α=θ_vec[i][1], δ=θ_vec[i][2], x=x, p=[1; 0]) # 1 plays high prob\n",
    "        sym = fxp_eq(α=θ_vec[i][1], δ=θ_vec[i][2], x=x, p=[0.5; 0.5]) # Symmetric\n",
    "        l_1 = fxp_eq(α=θ_vec[i][1], δ=θ_vec[i][2], x=x, p=[0; 1]) # 2 plays low prob\n",
    "        eq_vec[x,i] = [h_1 sym l_1]'\n",
    "    end\n",
    "end\n",
    "\n",
    "# x=1\n",
    "println(round.(eq_vec[1,1], digits=3)) # α=1, δ=1\n",
    "println(round.(eq_vec[1,2], digits=3)) # α=3, δ=6\n",
    "\n",
    "# x=2\n",
    "println(round.(eq_vec[2,1], digits=3)) # α=1, δ=1\n",
    "println(round.(eq_vec[2,2], digits=3)) # α=3, δ=6"
   ]
  },
  {
   "cell_type": "markdown",
   "metadata": {},
   "source": [
    "<br><br><br><br><br>\n",
    "\n",
    "### 1.3.3 - Symetric Strategy Estimation\n",
    "\n",
    "We now use the Newton's method approach to estimate the strategies within the maximum likelihood estimation."
   ]
  },
  {
   "cell_type": "markdown",
   "metadata": {},
   "source": [
    "##### Set up simulation data"
   ]
  },
  {
   "cell_type": "code",
   "execution_count": 4,
   "metadata": {},
   "outputs": [],
   "source": [
    "# Set up parameters\n",
    "α=3; δ=6;\n",
    "T=1000; S=50;\n",
    "\n",
    "# Create simulation data\n",
    "dt = DataFrame(t = repeat(1:T, outer = S), s = repeat(1:S, inner = T))\n",
    "dt.x = repeat(rand(Binomial(1,0.5), T) .+ Ref(1.0), outer = S)\n",
    "#dt.x = rand(Binomial(1,0.5), S*T) .+ Ref(1.0) # Testing with drawing x each iteration - - - - - - - - - - - - \n",
    "dt.ϵ_1 = rand(Logistic(0,1),S*T)\n",
    "dt.ϵ_2 = rand(Logistic(0,1),S*T)\n",
    "dt.y_1 = 1.0*(dt.x .== 1.0).*(α*dt.x .- δ*0.5 .+ dt.ϵ_1 .>= 0) .+ \n",
    "            1.0*(dt.x .== 2.0).*(α*dt.x .- δ*0.785 .+ dt.ϵ_1 .>= 0)\n",
    "dt.y_2 = 1.0*(dt.x .== 1.0).*(α*dt.x .- δ*0.5 .+ dt.ϵ_2 .>= 0) .+ \n",
    "            1.0*(dt.x .== 2.0).*(α*dt.x .- δ*0.785 .+ dt.ϵ_2 .>= 0);"
   ]
  },
  {
   "cell_type": "markdown",
   "metadata": {},
   "source": [
    "##### Write functions for MLE"
   ]
  },
  {
   "cell_type": "code",
   "execution_count": 5,
   "metadata": {},
   "outputs": [],
   "source": [
    "# Log-Likelihood individual term - function of the other player's strategy p\n",
    "ll_i = function(; α, δ, x, p, y)\n",
    "    y1 = y.*(α.*x .- δ.*p .- log.(Ref(1.0) .+ exp.(α.*x .- δ.*p)))\n",
    "    y0 = (Ref(1.0).-y) .* log.(Ref(1.0) .- exp.(α.*x .- δ.*p)./\n",
    "            (Ref(1.0) .+ exp.(α.*x .- δ.*p)))\n",
    "    return y1 + y0\n",
    "end\n",
    "\n",
    "# Log-Likelihood\n",
    "ll_all = function(; α, δ, p0=[0.5, 0.5])\n",
    "    dt_temp = copy(dt_sim); dt_temp.p̂1 = Ref(-1.0); dt_temp.p̂2 = Ref(-1.0)\n",
    "    for r in 1:nrow(dt_temp)\n",
    "        row = dt_temp[r,:]\n",
    "        p̂ = fxp_eq(α=α, δ=δ, x=row.x, p=p0)\n",
    "        dt_temp[r, :p̂1] = p̂[1]\n",
    "        dt_temp[r, :p̂2] = p̂[2]\n",
    "    end\n",
    "    prob1 = ll_i(α=α, δ=δ, x=dt_temp.x, p=dt_temp.p̂2, y=dt_temp.y_1)\n",
    "    prob2 = ll_i(α=α, δ=δ, x=dt_temp.x, p=dt_temp.p̂1, y=dt_temp.y_2)\n",
    "    prob = prob1 .+ prob2\n",
    "    return sum(prob)\n",
    "end\n",
    "\n",
    "# Log-Likelihood to pass to Optim\n",
    "ll_optim = function(θ)\n",
    "    α=θ[1];δ=θ[2]\n",
    "    return -1.0 .* ll_all(α=α, δ=δ, p0=[0.5, 0.5])\n",
    "end\n",
    "\n",
    "# Log-Likelihood individual term - gradient\n",
    "ll_grad_i = function(; α, δ, x, p, y)\n",
    "    dll_α1 = y .* x .* exp.(δ.*p) ./ (exp.(α.*x) .+ exp.(δ.*p))\n",
    "    dll_δ1 = -y .* p .* exp.(δ.*p) ./ (exp.(α.*x) .+ exp.(δ.*p))\n",
    "    dll_α0 = (y .- Ref(1.0)) .* x .* exp.(α.*x) ./ (exp.(α.*x) .+ exp.(δ.*p))\n",
    "    dll_δ0 = -(y .- Ref(1.0)) .* p .* exp.(α.*x) ./ (exp.(α.*x) .+ exp.(δ.*p))\n",
    "    return [(dll_α1 .+ dll_α0) (dll_δ1 .+ dll_δ0)]\n",
    "end\n",
    "\n",
    "# Log-Likelihood - gradient\n",
    "ll_grad_all = function(; α, δ, p0=[0.5, 0.5])\n",
    "    dt_temp = copy(dt_sim); dt_temp.p̂1 = Ref(-1.0); dt_temp.p̂2 = Ref(-1.0)\n",
    "    for r in 1:nrow(dt_temp)\n",
    "        row = dt_temp[r,:]\n",
    "        p̂ = fxp_eq(α=α, δ=δ, x=row.x, p=p0)\n",
    "        dt_temp[r, :p̂1] = p̂[1]\n",
    "        dt_temp[r, :p̂2] = p̂[2]\n",
    "    end\n",
    "    dll_1 = ll_grad_i(α=α, δ=δ, x=dt_temp.x, p=dt_temp.p̂1, y=dt_temp.y_1)\n",
    "    dll_2 = ll_grad_i(α=α, δ=δ, x=dt_temp.x, p=dt_temp.p̂2, y=dt_temp.y_2)\n",
    "    dll_t = dll_1 .+ dll_2\n",
    "    dll = mean(dll_t, dims=1)\n",
    "    return dll\n",
    "end\n",
    "\n",
    "# Log-Likelihood gradient to pass to Optim\n",
    "ll_grad_optim = function(G, θ)\n",
    "    α=θ[1];δ=θ[2]\n",
    "    ll_g = -1.0 .* ll_grad_all(α=α, δ=δ, p0=[0.5, 0.5])\n",
    "    G[1] = ll_g[1]\n",
    "    G[2] = ll_g[2]\n",
    "end;"
   ]
  },
  {
   "cell_type": "markdown",
   "metadata": {},
   "source": [
    "##### Test optimization (with and without gradient)"
   ]
  },
  {
   "cell_type": "code",
   "execution_count": 6,
   "metadata": {},
   "outputs": [
    {
     "name": "stdout",
     "output_type": "stream",
     "text": [
      "  4.958387 seconds (19.64 M allocations: 1.008 GiB, 9.88% gc time)\n",
      "[2.7831421626192023, 5.4935486678262]\n",
      "  4.213635 seconds (14.32 M allocations: 742.001 MiB, 4.57% gc time)\n",
      "[2.7831202431059423, 5.49349281487287]\n"
     ]
    }
   ],
   "source": [
    "dt_sim = copy(dt[dt[:s].==1,:]);\n",
    "\n",
    "@time optimum = optimize(ll_optim,[1.0,1.0])\n",
    "println(optimum.minimizer)\n",
    "\n",
    "@time optimum_g = optimize(ll_optim, ll_grad_optim, [1.0, 1.0], BFGS())\n",
    "println(optimum_g.minimizer)"
   ]
  },
  {
   "cell_type": "markdown",
   "metadata": {},
   "source": [
    "##### Estimate maximum likelihood"
   ]
  },
  {
   "cell_type": "code",
   "execution_count": 7,
   "metadata": {},
   "outputs": [
    {
     "name": "stdout",
     "output_type": "stream",
     "text": [
      "Iters:  1 2 3 4 5 6 7 8 9 10 11 12 13 14 15 16 17 18 19 20 21 22 23 24 25 26 27 28 29 30 31 32 33 34 35 36 37 38 39 40 41 42 43 44 45 46 47 48 49 50 \n",
      " \n",
      "Mean α is 2.984028001398533Var of α is 0.42842521493703123\n",
      "Mean δ is 5.982860407079602Var of δ is 2.4469896754131426\n"
     ]
    }
   ],
   "source": [
    "# Loop over simulation draws\n",
    "params_sim = DataFrame(α= fill(0.0, S), δ= fill(0.0, S))\n",
    "print(\"Iters: \")\n",
    "for s in 1:nrow(params_sim)\n",
    "    dt_sim = copy(dt[dt[:s].==s,:]);\n",
    "    # res = optimize(ll_optim, [1.0, 1.0])\n",
    "    res = optimize(ll_optim, ll_grad_optim, [1.0,1.0], BFGS())\n",
    "    params_sim[s, [:α, :δ]] = res.minimizer\n",
    "    print(\" \" * string(s))\n",
    "end\n",
    "params_sim_1_3 = params_sim\n",
    "\n",
    "println(\" \"); println(\" \")\n",
    "println(\"Mean α is \" * string(mean(params_sim.α)) * \"Var of α is \" * string(std(params_sim.α)^2))\n",
    "println(\"Mean δ is \" * string(mean(params_sim.δ)) * \"Var of δ is \" * string(std(params_sim.δ)^2))"
   ]
  },
  {
   "cell_type": "markdown",
   "metadata": {},
   "source": [
    "##### Plot histograms for analysis"
   ]
  },
  {
   "cell_type": "code",
   "execution_count": 8,
   "metadata": {},
   "outputs": [
    {
     "data": {
      "image/svg+xml": [
       "<?xml version=\"1.0\" encoding=\"utf-8\"?>\n",
       "<svg xmlns=\"http://www.w3.org/2000/svg\" xmlns:xlink=\"http://www.w3.org/1999/xlink\" width=\"800\" height=\"400\" viewBox=\"0 0 3200 1600\">\n",
       "<defs>\n",
       "  <clipPath id=\"clip720\">\n",
       "    <rect x=\"0\" y=\"0\" width=\"3200\" height=\"1600\"/>\n",
       "  </clipPath>\n",
       "</defs>\n",
       "<path clip-path=\"url(#clip720)\" d=\"\n",
       "M0 1600 L3200 1600 L3200 0 L0 0  Z\n",
       "  \" fill=\"#ffffff\" fill-rule=\"evenodd\" fill-opacity=\"1\"/>\n",
       "<defs>\n",
       "  <clipPath id=\"clip721\">\n",
       "    <rect x=\"640\" y=\"0\" width=\"2241\" height=\"1600\"/>\n",
       "  </clipPath>\n",
       "</defs>\n",
       "<path clip-path=\"url(#clip720)\" d=\"\n",
       "M417.78 1281.73 L3011.02 1281.73 L3011.02 188.976 L417.78 188.976  Z\n",
       "  \" fill=\"#ffffff\" fill-rule=\"evenodd\" fill-opacity=\"1\"/>\n",
       "<defs>\n",
       "  <clipPath id=\"clip722\">\n",
       "    <rect x=\"417\" y=\"188\" width=\"2594\" height=\"1094\"/>\n",
       "  </clipPath>\n",
       "</defs>\n",
       "<polyline clip-path=\"url(#clip720)\" style=\"stroke:#000000; stroke-width:16; stroke-opacity:1; fill:none\" points=\"\n",
       "  417.78,1281.73 3011.02,1281.73 \n",
       "  \"/>\n",
       "<polyline clip-path=\"url(#clip720)\" style=\"stroke:#000000; stroke-width:16; stroke-opacity:1; fill:none\" points=\"\n",
       "  417.78,1281.73 417.78,188.976 \n",
       "  \"/>\n",
       "<polyline clip-path=\"url(#clip720)\" style=\"stroke:#000000; stroke-width:16; stroke-opacity:1; fill:none\" points=\"\n",
       "  960.628,1281.73 960.628,1268.62 \n",
       "  \"/>\n",
       "<polyline clip-path=\"url(#clip720)\" style=\"stroke:#000000; stroke-width:16; stroke-opacity:1; fill:none\" points=\"\n",
       "  1515.56,1281.73 1515.56,1268.62 \n",
       "  \"/>\n",
       "<polyline clip-path=\"url(#clip720)\" style=\"stroke:#000000; stroke-width:16; stroke-opacity:1; fill:none\" points=\"\n",
       "  2070.49,1281.73 2070.49,1268.62 \n",
       "  \"/>\n",
       "<polyline clip-path=\"url(#clip720)\" style=\"stroke:#000000; stroke-width:16; stroke-opacity:1; fill:none\" points=\"\n",
       "  2625.42,1281.73 2625.42,1268.62 \n",
       "  \"/>\n",
       "<polyline clip-path=\"url(#clip720)\" style=\"stroke:#000000; stroke-width:16; stroke-opacity:1; fill:none\" points=\"\n",
       "  417.78,1250.8 448.899,1250.8 \n",
       "  \"/>\n",
       "<polyline clip-path=\"url(#clip720)\" style=\"stroke:#000000; stroke-width:16; stroke-opacity:1; fill:none\" points=\"\n",
       "  417.78,977.187 448.899,977.187 \n",
       "  \"/>\n",
       "<polyline clip-path=\"url(#clip720)\" style=\"stroke:#000000; stroke-width:16; stroke-opacity:1; fill:none\" points=\"\n",
       "  417.78,703.569 448.899,703.569 \n",
       "  \"/>\n",
       "<polyline clip-path=\"url(#clip720)\" style=\"stroke:#000000; stroke-width:16; stroke-opacity:1; fill:none\" points=\"\n",
       "  417.78,429.952 448.899,429.952 \n",
       "  \"/>\n",
       "<g clip-path=\"url(#clip720)\">\n",
       "<text style=\"fill:#000000; fill-opacity:1; font-family:Arial,Helvetica Neue,Helvetica,sans-serif; font-size:95px; text-anchor:middle;\" transform=\"rotate(0, 960.628, 1380.53)\" x=\"960.628\" y=\"1380.53\">2</text>\n",
       "</g>\n",
       "<g clip-path=\"url(#clip720)\">\n",
       "<text style=\"fill:#000000; fill-opacity:1; font-family:Arial,Helvetica Neue,Helvetica,sans-serif; font-size:95px; text-anchor:middle;\" transform=\"rotate(0, 1515.56, 1380.53)\" x=\"1515.56\" y=\"1380.53\">3</text>\n",
       "</g>\n",
       "<g clip-path=\"url(#clip720)\">\n",
       "<text style=\"fill:#000000; fill-opacity:1; font-family:Arial,Helvetica Neue,Helvetica,sans-serif; font-size:95px; text-anchor:middle;\" transform=\"rotate(0, 2070.49, 1380.53)\" x=\"2070.49\" y=\"1380.53\">4</text>\n",
       "</g>\n",
       "<g clip-path=\"url(#clip720)\">\n",
       "<text style=\"fill:#000000; fill-opacity:1; font-family:Arial,Helvetica Neue,Helvetica,sans-serif; font-size:95px; text-anchor:middle;\" transform=\"rotate(0, 2625.42, 1380.53)\" x=\"2625.42\" y=\"1380.53\">5</text>\n",
       "</g>\n",
       "<g clip-path=\"url(#clip720)\">\n",
       "<text style=\"fill:#000000; fill-opacity:1; font-family:Arial,Helvetica Neue,Helvetica,sans-serif; font-size:95px; text-anchor:end;\" transform=\"rotate(0, 385.78, 1285.3)\" x=\"385.78\" y=\"1285.3\">0.0</text>\n",
       "</g>\n",
       "<g clip-path=\"url(#clip720)\">\n",
       "<text style=\"fill:#000000; fill-opacity:1; font-family:Arial,Helvetica Neue,Helvetica,sans-serif; font-size:95px; text-anchor:end;\" transform=\"rotate(0, 385.78, 1011.69)\" x=\"385.78\" y=\"1011.69\">0.2</text>\n",
       "</g>\n",
       "<g clip-path=\"url(#clip720)\">\n",
       "<text style=\"fill:#000000; fill-opacity:1; font-family:Arial,Helvetica Neue,Helvetica,sans-serif; font-size:95px; text-anchor:end;\" transform=\"rotate(0, 385.78, 738.069)\" x=\"385.78\" y=\"738.069\">0.4</text>\n",
       "</g>\n",
       "<g clip-path=\"url(#clip720)\">\n",
       "<text style=\"fill:#000000; fill-opacity:1; font-family:Arial,Helvetica Neue,Helvetica,sans-serif; font-size:95px; text-anchor:end;\" transform=\"rotate(0, 385.78, 464.452)\" x=\"385.78\" y=\"464.452\">0.6</text>\n",
       "</g>\n",
       "<path clip-path=\"url(#clip722)\" d=\"\n",
       "M491.174 1250.76 L503.468 1250.74 L515.761 1250.72 L528.055 1250.68 L540.349 1250.63 L552.643 1250.55 L564.936 1250.44 L577.23 1250.29 L589.524 1250.09 L601.818 1249.81 \n",
       "  L614.111 1249.44 L626.405 1248.95 L638.699 1248.31 L650.993 1247.47 L663.286 1246.39 L675.58 1245.02 L687.874 1243.3 L700.168 1241.14 L712.461 1238.48 L724.755 1235.23 \n",
       "  L737.049 1231.3 L749.343 1226.59 L761.636 1221.01 L773.93 1214.47 L786.224 1206.87 L798.518 1198.12 L810.811 1188.17 L823.105 1176.95 L835.399 1164.43 L847.693 1150.59 \n",
       "  L859.986 1135.43 L872.28 1118.97 L884.574 1101.27 L896.868 1082.39 L909.161 1062.42 L921.455 1041.45 L933.749 1019.57 L946.043 996.903 L958.336 973.539 L970.63 949.568 \n",
       "  L982.924 925.066 L995.218 900.089 L1007.51 874.673 L1019.81 848.835 L1032.1 822.571 L1044.39 795.865 L1056.69 768.686 L1068.98 741.004 L1081.27 712.79 L1093.57 684.025 \n",
       "  L1105.86 654.711 L1118.16 624.877 L1130.45 594.582 L1142.74 563.924 L1155.04 533.037 L1167.33 502.1 L1179.62 471.328 L1191.92 440.974 L1204.21 411.319 L1216.51 382.671 \n",
       "  L1228.8 355.356 L1241.09 329.705 L1253.39 306.051 L1265.68 284.716 L1277.97 266.003 L1290.27 250.184 L1302.56 237.498 L1314.86 228.137 L1327.15 222.243 L1339.44 219.903 \n",
       "  L1351.74 221.145 L1364.03 225.934 L1376.32 234.176 L1388.62 245.718 L1400.91 260.352 L1413.21 277.821 L1425.5 297.826 L1437.79 320.04 L1450.09 344.112 L1462.38 369.683 \n",
       "  L1474.67 396.394 L1486.97 423.902 L1499.26 451.882 L1511.56 480.043 L1523.85 508.131 L1536.14 535.933 L1548.44 563.275 L1560.73 590.027 L1573.02 616.096 L1585.32 641.419 \n",
       "  L1597.61 665.959 L1609.91 689.695 L1622.2 712.614 L1634.49 734.704 L1646.79 755.95 L1659.08 776.321 L1671.37 795.777 L1683.67 814.261 L1695.96 831.702 L1708.26 848.019 \n",
       "  L1720.55 863.123 L1732.84 876.928 L1745.14 889.352 L1757.43 900.329 L1769.72 909.813 L1782.02 917.785 L1794.31 924.255 L1806.61 929.271 L1818.9 932.915 L1831.19 935.305 \n",
       "  L1843.49 936.592 L1855.78 936.955 L1868.07 936.599 L1880.37 935.744 L1892.66 934.617 L1904.96 933.449 L1917.25 932.461 L1929.54 931.86 L1941.84 931.83 L1954.13 932.526 \n",
       "  L1966.42 934.071 L1978.72 936.551 L1991.01 940.014 L2003.31 944.467 L2015.6 949.884 L2027.89 956.203 L2040.19 963.33 L2052.48 971.148 L2064.77 979.519 L2077.07 988.29 \n",
       "  L2089.36 997.303 L2101.66 1006.4 L2113.95 1015.42 L2126.24 1024.21 L2138.54 1032.66 L2150.83 1040.64 L2163.12 1048.06 L2175.42 1054.85 L2187.71 1060.99 L2200 1066.44 \n",
       "  L2212.3 1071.22 L2224.59 1075.37 L2236.89 1078.94 L2249.18 1082.02 L2261.47 1084.68 L2273.77 1087.04 L2286.06 1089.21 L2298.35 1091.3 L2310.65 1093.43 L2322.94 1095.7 \n",
       "  L2335.24 1098.21 L2347.53 1101.05 L2359.82 1104.28 L2372.12 1107.97 L2384.41 1112.14 L2396.7 1116.8 L2409 1121.95 L2421.29 1127.57 L2433.59 1133.61 L2445.88 1140.02 \n",
       "  L2458.17 1146.74 L2470.47 1153.67 L2482.76 1160.75 L2495.05 1167.88 L2507.35 1174.98 L2519.64 1181.97 L2531.94 1188.78 L2544.23 1195.33 L2556.52 1201.56 L2568.82 1207.43 \n",
       "  L2581.11 1212.9 L2593.4 1217.94 L2605.7 1222.54 L2617.99 1226.7 L2630.29 1230.41 L2642.58 1233.69 L2654.87 1236.57 L2667.17 1239.06 L2679.46 1241.2 L2691.75 1243.02 \n",
       "  L2704.05 1244.55 L2716.34 1245.82 L2728.64 1246.87 L2740.93 1247.72 L2753.22 1248.42 L2765.52 1248.97 L2777.81 1249.41 L2790.1 1249.75 L2802.4 1250.02 L2814.69 1250.22 \n",
       "  L2826.99 1250.37 L2839.28 1250.49 L2851.57 1250.58 L2863.87 1250.64 L2876.16 1250.69 L2888.45 1250.72 L2900.75 1250.74 L2913.04 1250.76 L2925.34 1250.76 L2937.63 1250.76 \n",
       "  L2937.63 1250.8 L2925.34 1250.8 L2913.04 1250.8 L2900.75 1250.8 L2888.45 1250.8 L2876.16 1250.8 L2863.87 1250.8 L2851.57 1250.8 L2839.28 1250.8 L2826.99 1250.8 \n",
       "  L2814.69 1250.8 L2802.4 1250.8 L2790.1 1250.8 L2777.81 1250.8 L2765.52 1250.8 L2753.22 1250.8 L2740.93 1250.8 L2728.64 1250.8 L2716.34 1250.8 L2704.05 1250.8 \n",
       "  L2691.75 1250.8 L2679.46 1250.8 L2667.17 1250.8 L2654.87 1250.8 L2642.58 1250.8 L2630.29 1250.8 L2617.99 1250.8 L2605.7 1250.8 L2593.4 1250.8 L2581.11 1250.8 \n",
       "  L2568.82 1250.8 L2556.52 1250.8 L2544.23 1250.8 L2531.94 1250.8 L2519.64 1250.8 L2507.35 1250.8 L2495.05 1250.8 L2482.76 1250.8 L2470.47 1250.8 L2458.17 1250.8 \n",
       "  L2445.88 1250.8 L2433.59 1250.8 L2421.29 1250.8 L2409 1250.8 L2396.7 1250.8 L2384.41 1250.8 L2372.12 1250.8 L2359.82 1250.8 L2347.53 1250.8 L2335.24 1250.8 \n",
       "  L2322.94 1250.8 L2310.65 1250.8 L2298.35 1250.8 L2286.06 1250.8 L2273.77 1250.8 L2261.47 1250.8 L2249.18 1250.8 L2236.89 1250.8 L2224.59 1250.8 L2212.3 1250.8 \n",
       "  L2200 1250.8 L2187.71 1250.8 L2175.42 1250.8 L2163.12 1250.8 L2150.83 1250.8 L2138.54 1250.8 L2126.24 1250.8 L2113.95 1250.8 L2101.66 1250.8 L2089.36 1250.8 \n",
       "  L2077.07 1250.8 L2064.77 1250.8 L2052.48 1250.8 L2040.19 1250.8 L2027.89 1250.8 L2015.6 1250.8 L2003.31 1250.8 L1991.01 1250.8 L1978.72 1250.8 L1966.42 1250.8 \n",
       "  L1954.13 1250.8 L1941.84 1250.8 L1929.54 1250.8 L1917.25 1250.8 L1904.96 1250.8 L1892.66 1250.8 L1880.37 1250.8 L1868.07 1250.8 L1855.78 1250.8 L1843.49 1250.8 \n",
       "  L1831.19 1250.8 L1818.9 1250.8 L1806.61 1250.8 L1794.31 1250.8 L1782.02 1250.8 L1769.72 1250.8 L1757.43 1250.8 L1745.14 1250.8 L1732.84 1250.8 L1720.55 1250.8 \n",
       "  L1708.26 1250.8 L1695.96 1250.8 L1683.67 1250.8 L1671.37 1250.8 L1659.08 1250.8 L1646.79 1250.8 L1634.49 1250.8 L1622.2 1250.8 L1609.91 1250.8 L1597.61 1250.8 \n",
       "  L1585.32 1250.8 L1573.02 1250.8 L1560.73 1250.8 L1548.44 1250.8 L1536.14 1250.8 L1523.85 1250.8 L1511.56 1250.8 L1499.26 1250.8 L1486.97 1250.8 L1474.67 1250.8 \n",
       "  L1462.38 1250.8 L1450.09 1250.8 L1437.79 1250.8 L1425.5 1250.8 L1413.21 1250.8 L1400.91 1250.8 L1388.62 1250.8 L1376.32 1250.8 L1364.03 1250.8 L1351.74 1250.8 \n",
       "  L1339.44 1250.8 L1327.15 1250.8 L1314.86 1250.8 L1302.56 1250.8 L1290.27 1250.8 L1277.97 1250.8 L1265.68 1250.8 L1253.39 1250.8 L1241.09 1250.8 L1228.8 1250.8 \n",
       "  L1216.51 1250.8 L1204.21 1250.8 L1191.92 1250.8 L1179.62 1250.8 L1167.33 1250.8 L1155.04 1250.8 L1142.74 1250.8 L1130.45 1250.8 L1118.16 1250.8 L1105.86 1250.8 \n",
       "  L1093.57 1250.8 L1081.27 1250.8 L1068.98 1250.8 L1056.69 1250.8 L1044.39 1250.8 L1032.1 1250.8 L1019.81 1250.8 L1007.51 1250.8 L995.218 1250.8 L982.924 1250.8 \n",
       "  L970.63 1250.8 L958.336 1250.8 L946.043 1250.8 L933.749 1250.8 L921.455 1250.8 L909.161 1250.8 L896.868 1250.8 L884.574 1250.8 L872.28 1250.8 L859.986 1250.8 \n",
       "  L847.693 1250.8 L835.399 1250.8 L823.105 1250.8 L810.811 1250.8 L798.518 1250.8 L786.224 1250.8 L773.93 1250.8 L761.636 1250.8 L749.343 1250.8 L737.049 1250.8 \n",
       "  L724.755 1250.8 L712.461 1250.8 L700.168 1250.8 L687.874 1250.8 L675.58 1250.8 L663.286 1250.8 L650.993 1250.8 L638.699 1250.8 L626.405 1250.8 L614.111 1250.8 \n",
       "  L601.818 1250.8 L589.524 1250.8 L577.23 1250.8 L564.936 1250.8 L552.643 1250.8 L540.349 1250.8 L528.055 1250.8 L515.761 1250.8 L503.468 1250.8 L491.174 1250.8 \n",
       "   Z\n",
       "  \" fill=\"#5cacee\" fill-rule=\"evenodd\" fill-opacity=\"0.5\"/>\n",
       "<polyline clip-path=\"url(#clip722)\" style=\"stroke:#009af9; stroke-width:16; stroke-opacity:1; fill:none\" points=\"\n",
       "  491.174,1250.76 503.468,1250.74 515.761,1250.72 528.055,1250.68 540.349,1250.63 552.643,1250.55 564.936,1250.44 577.23,1250.29 589.524,1250.09 601.818,1249.81 \n",
       "  614.111,1249.44 626.405,1248.95 638.699,1248.31 650.993,1247.47 663.286,1246.39 675.58,1245.02 687.874,1243.3 700.168,1241.14 712.461,1238.48 724.755,1235.23 \n",
       "  737.049,1231.3 749.343,1226.59 761.636,1221.01 773.93,1214.47 786.224,1206.87 798.518,1198.12 810.811,1188.17 823.105,1176.95 835.399,1164.43 847.693,1150.59 \n",
       "  859.986,1135.43 872.28,1118.97 884.574,1101.27 896.868,1082.39 909.161,1062.42 921.455,1041.45 933.749,1019.57 946.043,996.903 958.336,973.539 970.63,949.568 \n",
       "  982.924,925.066 995.218,900.089 1007.51,874.673 1019.81,848.835 1032.1,822.571 1044.39,795.865 1056.69,768.686 1068.98,741.004 1081.27,712.79 1093.57,684.025 \n",
       "  1105.86,654.711 1118.16,624.877 1130.45,594.582 1142.74,563.924 1155.04,533.037 1167.33,502.1 1179.62,471.328 1191.92,440.974 1204.21,411.319 1216.51,382.671 \n",
       "  1228.8,355.356 1241.09,329.705 1253.39,306.051 1265.68,284.716 1277.97,266.003 1290.27,250.184 1302.56,237.498 1314.86,228.137 1327.15,222.243 1339.44,219.903 \n",
       "  1351.74,221.145 1364.03,225.934 1376.32,234.176 1388.62,245.718 1400.91,260.352 1413.21,277.821 1425.5,297.826 1437.79,320.04 1450.09,344.112 1462.38,369.683 \n",
       "  1474.67,396.394 1486.97,423.902 1499.26,451.882 1511.56,480.043 1523.85,508.131 1536.14,535.933 1548.44,563.275 1560.73,590.027 1573.02,616.096 1585.32,641.419 \n",
       "  1597.61,665.959 1609.91,689.695 1622.2,712.614 1634.49,734.704 1646.79,755.95 1659.08,776.321 1671.37,795.777 1683.67,814.261 1695.96,831.702 1708.26,848.019 \n",
       "  1720.55,863.123 1732.84,876.928 1745.14,889.352 1757.43,900.329 1769.72,909.813 1782.02,917.785 1794.31,924.255 1806.61,929.271 1818.9,932.915 1831.19,935.305 \n",
       "  1843.49,936.592 1855.78,936.955 1868.07,936.599 1880.37,935.744 1892.66,934.617 1904.96,933.449 1917.25,932.461 1929.54,931.86 1941.84,931.83 1954.13,932.526 \n",
       "  1966.42,934.071 1978.72,936.551 1991.01,940.014 2003.31,944.467 2015.6,949.884 2027.89,956.203 2040.19,963.33 2052.48,971.148 2064.77,979.519 2077.07,988.29 \n",
       "  2089.36,997.303 2101.66,1006.4 2113.95,1015.42 2126.24,1024.21 2138.54,1032.66 2150.83,1040.64 2163.12,1048.06 2175.42,1054.85 2187.71,1060.99 2200,1066.44 \n",
       "  2212.3,1071.22 2224.59,1075.37 2236.89,1078.94 2249.18,1082.02 2261.47,1084.68 2273.77,1087.04 2286.06,1089.21 2298.35,1091.3 2310.65,1093.43 2322.94,1095.7 \n",
       "  2335.24,1098.21 2347.53,1101.05 2359.82,1104.28 2372.12,1107.97 2384.41,1112.14 2396.7,1116.8 2409,1121.95 2421.29,1127.57 2433.59,1133.61 2445.88,1140.02 \n",
       "  2458.17,1146.74 2470.47,1153.67 2482.76,1160.75 2495.05,1167.88 2507.35,1174.98 2519.64,1181.97 2531.94,1188.78 2544.23,1195.33 2556.52,1201.56 2568.82,1207.43 \n",
       "  2581.11,1212.9 2593.4,1217.94 2605.7,1222.54 2617.99,1226.7 2630.29,1230.41 2642.58,1233.69 2654.87,1236.57 2667.17,1239.06 2679.46,1241.2 2691.75,1243.02 \n",
       "  2704.05,1244.55 2716.34,1245.82 2728.64,1246.87 2740.93,1247.72 2753.22,1248.42 2765.52,1248.97 2777.81,1249.41 2790.1,1249.75 2802.4,1250.02 2814.69,1250.22 \n",
       "  2826.99,1250.37 2839.28,1250.49 2851.57,1250.58 2863.87,1250.64 2876.16,1250.69 2888.45,1250.72 2900.75,1250.74 2913.04,1250.76 2925.34,1250.76 2937.63,1250.76 \n",
       "  \n",
       "  \"/>\n",
       "<polyline clip-path=\"url(#clip722)\" style=\"stroke:#e26f46; stroke-width:16; stroke-opacity:1; fill:none\" points=\"\n",
       "  1515.56,2374.49 1515.56,-903.779 \n",
       "  \"/>\n",
       "<polyline clip-path=\"url(#clip722)\" style=\"stroke:#3da44d; stroke-width:16; stroke-opacity:1; fill:none\" points=\"\n",
       "  1506.7,2374.49 1506.7,-903.779 \n",
       "  \"/>\n",
       "<path clip-path=\"url(#clip720)\" d=\"\n",
       "M1965.03 743.856 L2915.02 743.856 L2915.02 260.016 L1965.03 260.016  Z\n",
       "  \" fill=\"#000000\" fill-rule=\"evenodd\" fill-opacity=\"0\"/>\n",
       "<polyline clip-path=\"url(#clip720)\" style=\"stroke:#000000; stroke-width:16; stroke-opacity:0; fill:none\" points=\"\n",
       "  1965.03,743.856 2915.02,743.856 2915.02,260.016 1965.03,260.016 1965.03,743.856 \n",
       "  \"/>\n",
       "<path clip-path=\"url(#clip720)\" d=\"\n",
       "M1997.03 429.36 L2189.03 429.36 L2189.03 332.592 L1997.03 332.592 L1997.03 429.36  Z\n",
       "  \" fill=\"#5cacee\" fill-rule=\"evenodd\" fill-opacity=\"0.5\"/>\n",
       "<polyline clip-path=\"url(#clip720)\" style=\"stroke:#009af9; stroke-width:16; stroke-opacity:1; fill:none\" points=\"\n",
       "  1997.03,332.592 2189.03,332.592 \n",
       "  \"/>\n",
       "<g clip-path=\"url(#clip720)\">\n",
       "<text style=\"fill:#000000; fill-opacity:1; font-family:Symbol; font-size:103px; text-anchor:start;\" transform=\"rotate(0, 2221.03, 396.788)\" x=\"2221.03\" y=\"396.788\">α</text>\n",
       "</g>\n",
       "<g clip-path=\"url(#clip720)\">\n",
       "<text style=\"fill:#000000; fill-opacity:1; font-family:Arial,Helvetica Neue,Helvetica,sans-serif; font-size:77px; text-anchor:start;\" transform=\"rotate(0, 2286.42, 424.047)\" x=\"2286.42\" y=\"424.047\">s</text>\n",
       "</g>\n",
       "<polyline clip-path=\"url(#clip720)\" style=\"stroke:#e26f46; stroke-width:16; stroke-opacity:1; fill:none\" points=\"\n",
       "  1997.03,501.936 2189.03,501.936 \n",
       "  \"/>\n",
       "<g clip-path=\"url(#clip720)\">\n",
       "<text style=\"fill:#000000; fill-opacity:1; font-family:Arial,Helvetica Neue,Helvetica,sans-serif; font-size:95px; text-anchor:start;\" transform=\"rotate(0, 2221.03, 529.239)\" x=\"2221.03\" y=\"529.239\">True </text>\n",
       "</g>\n",
       "<g clip-path=\"url(#clip720)\">\n",
       "<text style=\"fill:#000000; fill-opacity:1; font-family:Symbol; font-size:103px; text-anchor:start;\" transform=\"rotate(0, 2445.71, 529.239)\" x=\"2445.71\" y=\"529.239\">α</text>\n",
       "</g>\n",
       "<g clip-path=\"url(#clip720)\">\n",
       "<text style=\"fill:#000000; fill-opacity:1; font-family:Arial,Helvetica Neue,Helvetica,sans-serif; font-size:95px; text-anchor:start;\" transform=\"rotate(0, 2511.1, 529.239)\" x=\"2511.1\" y=\"529.239\"> = 3</text>\n",
       "</g>\n",
       "<polyline clip-path=\"url(#clip720)\" style=\"stroke:#3da44d; stroke-width:16; stroke-opacity:1; fill:none\" points=\"\n",
       "  1997.03,622.896 2189.03,622.896 \n",
       "  \"/>\n",
       "<g clip-path=\"url(#clip720)\">\n",
       "<text style=\"fill:#000000; fill-opacity:1; font-family:Arial,Helvetica Neue,Helvetica,sans-serif; font-size:95px; text-anchor:start;\" transform=\"rotate(0, 2221.03, 650.199)\" x=\"2221.03\" y=\"650.199\">Mean </text>\n",
       "</g>\n",
       "<g clip-path=\"url(#clip720)\">\n",
       "<text style=\"fill:#000000; fill-opacity:1; font-family:Symbol; font-size:103px; text-anchor:start;\" transform=\"rotate(0, 2488.55, 650.199)\" x=\"2488.55\" y=\"650.199\">α</text>\n",
       "</g>\n",
       "<g clip-path=\"url(#clip720)\">\n",
       "<text style=\"fill:#000000; fill-opacity:1; font-family:Arial,Helvetica Neue,Helvetica,sans-serif; font-size:95px; text-anchor:start;\" transform=\"rotate(0, 2553.94, 650.199)\" x=\"2553.94\" y=\"650.199\"> = 2.98</text>\n",
       "</g>\n",
       "</svg>\n"
      ]
     },
     "execution_count": 8,
     "metadata": {},
     "output_type": "execute_result"
    }
   ],
   "source": [
    "# α\n",
    "fig = density(params_sim[:, :α], fill=(0, .5,:steelblue2), lab=\"\\\\alpha_s\",  \n",
    "        linecolor=:match, linewidth=1)\n",
    "plot!(collect(α), seriestype=\"vline\", \n",
    "        lab=\"True \\\\alpha = \" * string(α), \n",
    "        linewidth=1)\n",
    "plot!(collect(mean(params_sim.α)), seriestype=\"vline\", \n",
    "        lab=\"Mean \\\\alpha = \" * string(round(mean(params_sim.α), digits=2)),\n",
    "        linewidth=1, legendfont=font(4), xtickfont=font(4), ytickfont=font(4),\n",
    "        foreground_color_legend=nothing, background_color_legend=nothing, grid=false)\n",
    "plot!(size=(200,100))\n",
    "savefig(\"1_3_3_alpha.png\")\n",
    "fig"
   ]
  },
  {
   "cell_type": "code",
   "execution_count": 9,
   "metadata": {},
   "outputs": [
    {
     "data": {
      "image/svg+xml": [
       "<?xml version=\"1.0\" encoding=\"utf-8\"?>\n",
       "<svg xmlns=\"http://www.w3.org/2000/svg\" xmlns:xlink=\"http://www.w3.org/1999/xlink\" width=\"800\" height=\"400\" viewBox=\"0 0 3200 1600\">\n",
       "<defs>\n",
       "  <clipPath id=\"clip770\">\n",
       "    <rect x=\"0\" y=\"0\" width=\"3200\" height=\"1600\"/>\n",
       "  </clipPath>\n",
       "</defs>\n",
       "<path clip-path=\"url(#clip770)\" d=\"\n",
       "M0 1600 L3200 1600 L3200 0 L0 0  Z\n",
       "  \" fill=\"#ffffff\" fill-rule=\"evenodd\" fill-opacity=\"1\"/>\n",
       "<defs>\n",
       "  <clipPath id=\"clip771\">\n",
       "    <rect x=\"640\" y=\"0\" width=\"2241\" height=\"1600\"/>\n",
       "  </clipPath>\n",
       "</defs>\n",
       "<path clip-path=\"url(#clip770)\" d=\"\n",
       "M417.78 1281.73 L3011.02 1281.73 L3011.02 188.976 L417.78 188.976  Z\n",
       "  \" fill=\"#ffffff\" fill-rule=\"evenodd\" fill-opacity=\"1\"/>\n",
       "<defs>\n",
       "  <clipPath id=\"clip772\">\n",
       "    <rect x=\"417\" y=\"188\" width=\"2594\" height=\"1094\"/>\n",
       "  </clipPath>\n",
       "</defs>\n",
       "<polyline clip-path=\"url(#clip770)\" style=\"stroke:#000000; stroke-width:16; stroke-opacity:1; fill:none\" points=\"\n",
       "  417.78,1281.73 3011.02,1281.73 \n",
       "  \"/>\n",
       "<polyline clip-path=\"url(#clip770)\" style=\"stroke:#000000; stroke-width:16; stroke-opacity:1; fill:none\" points=\"\n",
       "  417.78,1281.73 417.78,188.976 \n",
       "  \"/>\n",
       "<polyline clip-path=\"url(#clip770)\" style=\"stroke:#000000; stroke-width:16; stroke-opacity:1; fill:none\" points=\"\n",
       "  693.392,1281.73 693.392,1268.62 \n",
       "  \"/>\n",
       "<polyline clip-path=\"url(#clip770)\" style=\"stroke:#000000; stroke-width:16; stroke-opacity:1; fill:none\" points=\"\n",
       "  1287.58,1281.73 1287.58,1268.62 \n",
       "  \"/>\n",
       "<polyline clip-path=\"url(#clip770)\" style=\"stroke:#000000; stroke-width:16; stroke-opacity:1; fill:none\" points=\"\n",
       "  1881.77,1281.73 1881.77,1268.62 \n",
       "  \"/>\n",
       "<polyline clip-path=\"url(#clip770)\" style=\"stroke:#000000; stroke-width:16; stroke-opacity:1; fill:none\" points=\"\n",
       "  2475.95,1281.73 2475.95,1268.62 \n",
       "  \"/>\n",
       "<polyline clip-path=\"url(#clip770)\" style=\"stroke:#000000; stroke-width:16; stroke-opacity:1; fill:none\" points=\"\n",
       "  417.78,1250.8 448.899,1250.8 \n",
       "  \"/>\n",
       "<polyline clip-path=\"url(#clip770)\" style=\"stroke:#000000; stroke-width:16; stroke-opacity:1; fill:none\" points=\"\n",
       "  417.78,927.47 448.899,927.47 \n",
       "  \"/>\n",
       "<polyline clip-path=\"url(#clip770)\" style=\"stroke:#000000; stroke-width:16; stroke-opacity:1; fill:none\" points=\"\n",
       "  417.78,604.135 448.899,604.135 \n",
       "  \"/>\n",
       "<polyline clip-path=\"url(#clip770)\" style=\"stroke:#000000; stroke-width:16; stroke-opacity:1; fill:none\" points=\"\n",
       "  417.78,280.801 448.899,280.801 \n",
       "  \"/>\n",
       "<g clip-path=\"url(#clip770)\">\n",
       "<text style=\"fill:#000000; fill-opacity:1; font-family:Arial,Helvetica Neue,Helvetica,sans-serif; font-size:95px; text-anchor:middle;\" transform=\"rotate(0, 693.392, 1380.53)\" x=\"693.392\" y=\"1380.53\">2.5</text>\n",
       "</g>\n",
       "<g clip-path=\"url(#clip770)\">\n",
       "<text style=\"fill:#000000; fill-opacity:1; font-family:Arial,Helvetica Neue,Helvetica,sans-serif; font-size:95px; text-anchor:middle;\" transform=\"rotate(0, 1287.58, 1380.53)\" x=\"1287.58\" y=\"1380.53\">5.0</text>\n",
       "</g>\n",
       "<g clip-path=\"url(#clip770)\">\n",
       "<text style=\"fill:#000000; fill-opacity:1; font-family:Arial,Helvetica Neue,Helvetica,sans-serif; font-size:95px; text-anchor:middle;\" transform=\"rotate(0, 1881.77, 1380.53)\" x=\"1881.77\" y=\"1380.53\">7.5</text>\n",
       "</g>\n",
       "<g clip-path=\"url(#clip770)\">\n",
       "<text style=\"fill:#000000; fill-opacity:1; font-family:Arial,Helvetica Neue,Helvetica,sans-serif; font-size:95px; text-anchor:middle;\" transform=\"rotate(0, 2475.95, 1380.53)\" x=\"2475.95\" y=\"1380.53\">10.0</text>\n",
       "</g>\n",
       "<g clip-path=\"url(#clip770)\">\n",
       "<text style=\"fill:#000000; fill-opacity:1; font-family:Arial,Helvetica Neue,Helvetica,sans-serif; font-size:95px; text-anchor:end;\" transform=\"rotate(0, 385.78, 1285.3)\" x=\"385.78\" y=\"1285.3\">0.0</text>\n",
       "</g>\n",
       "<g clip-path=\"url(#clip770)\">\n",
       "<text style=\"fill:#000000; fill-opacity:1; font-family:Arial,Helvetica Neue,Helvetica,sans-serif; font-size:95px; text-anchor:end;\" transform=\"rotate(0, 385.78, 961.97)\" x=\"385.78\" y=\"961.97\">0.1</text>\n",
       "</g>\n",
       "<g clip-path=\"url(#clip770)\">\n",
       "<text style=\"fill:#000000; fill-opacity:1; font-family:Arial,Helvetica Neue,Helvetica,sans-serif; font-size:95px; text-anchor:end;\" transform=\"rotate(0, 385.78, 638.635)\" x=\"385.78\" y=\"638.635\">0.2</text>\n",
       "</g>\n",
       "<g clip-path=\"url(#clip770)\">\n",
       "<text style=\"fill:#000000; fill-opacity:1; font-family:Arial,Helvetica Neue,Helvetica,sans-serif; font-size:95px; text-anchor:end;\" transform=\"rotate(0, 385.78, 315.301)\" x=\"385.78\" y=\"315.301\">0.3</text>\n",
       "</g>\n",
       "<path clip-path=\"url(#clip772)\" d=\"\n",
       "M491.174 1250.74 L503.468 1250.72 L515.761 1250.7 L528.055 1250.65 L540.349 1250.59 L552.643 1250.49 L564.936 1250.36 L577.23 1250.18 L589.524 1249.94 L601.818 1249.61 \n",
       "  L614.111 1249.16 L626.405 1248.58 L638.699 1247.82 L650.993 1246.83 L663.286 1245.57 L675.58 1243.97 L687.874 1241.96 L700.168 1239.48 L712.461 1236.42 L724.755 1232.72 \n",
       "  L737.049 1228.26 L749.343 1222.97 L761.636 1216.74 L773.93 1209.48 L786.224 1201.12 L798.518 1191.6 L810.811 1180.85 L823.105 1168.85 L835.399 1155.6 L847.693 1141.1 \n",
       "  L859.986 1125.42 L872.28 1108.61 L884.574 1090.77 L896.868 1072.01 L909.161 1052.47 L921.455 1032.28 L933.749 1011.58 L946.043 990.509 L958.336 969.186 L970.63 947.712 \n",
       "  L982.924 926.156 L995.218 904.557 L1007.51 882.919 L1019.81 861.207 L1032.1 839.351 L1044.39 817.252 L1056.69 794.784 L1068.98 771.808 L1081.27 748.18 L1093.57 723.76 \n",
       "  L1105.86 698.429 L1118.16 672.097 L1130.45 644.717 L1142.74 616.289 L1155.04 586.875 L1167.33 556.596 L1179.62 525.637 L1191.92 494.247 L1204.21 462.733 L1216.51 431.452 \n",
       "  L1228.8 400.803 L1241.09 371.212 L1253.39 343.126 L1265.68 316.988 L1277.97 293.232 L1290.27 272.264 L1302.56 254.447 L1314.86 240.091 L1327.15 229.446 L1339.44 222.684 \n",
       "  L1351.74 219.903 L1364.03 221.12 L1376.32 226.268 L1388.62 235.205 L1400.91 247.711 L1413.21 263.505 L1425.5 282.247 L1437.79 303.556 L1450.09 327.019 L1462.38 352.208 \n",
       "  L1474.67 378.694 L1486.97 406.06 L1499.26 433.914 L1511.56 461.904 L1523.85 489.721 L1536.14 517.11 L1548.44 543.87 L1560.73 569.858 L1573.02 594.983 L1585.32 619.202 \n",
       "  L1597.61 642.511 L1609.91 664.937 L1622.2 686.525 L1634.49 707.326 L1646.79 727.39 L1659.08 746.756 L1671.37 765.439 L1683.67 783.434 L1695.96 800.707 L1708.26 817.196 \n",
       "  L1720.55 832.821 L1732.84 847.481 L1745.14 861.069 L1757.43 873.476 L1769.72 884.607 L1782.02 894.383 L1794.31 902.758 L1806.61 909.718 L1818.9 915.291 L1831.19 919.55 \n",
       "  L1843.49 922.609 L1855.78 924.622 L1868.07 925.775 L1880.37 926.284 L1892.66 926.377 L1904.96 926.29 L1917.25 926.256 L1929.54 926.488 L1941.84 927.177 L1954.13 928.482 \n",
       "  L1966.42 930.521 L1978.72 933.372 L1991.01 937.069 L2003.31 941.605 L2015.6 946.935 L2027.89 952.982 L2040.19 959.645 L2052.48 966.802 L2064.77 974.324 L2077.07 982.08 \n",
       "  L2089.36 989.943 L2101.66 997.795 L2113.95 1005.53 L2126.24 1013.08 L2138.54 1020.35 L2150.83 1027.31 L2163.12 1033.92 L2175.42 1040.16 L2187.71 1046.02 L2200 1051.5 \n",
       "  L2212.3 1056.62 L2224.59 1061.37 L2236.89 1065.78 L2249.18 1069.86 L2261.47 1073.63 L2273.77 1077.12 L2286.06 1080.36 L2298.35 1083.38 L2310.65 1086.24 L2322.94 1088.98 \n",
       "  L2335.24 1091.66 L2347.53 1094.36 L2359.82 1097.14 L2372.12 1100.08 L2384.41 1103.25 L2396.7 1106.72 L2409 1110.56 L2421.29 1114.8 L2433.59 1119.5 L2445.88 1124.65 \n",
       "  L2458.17 1130.26 L2470.47 1136.31 L2482.76 1142.74 L2495.05 1149.51 L2507.35 1156.53 L2519.64 1163.73 L2531.94 1171 L2544.23 1178.25 L2556.52 1185.38 L2568.82 1192.32 \n",
       "  L2581.11 1198.97 L2593.4 1205.27 L2605.7 1211.16 L2617.99 1216.6 L2630.29 1221.56 L2642.58 1226.03 L2654.87 1230.02 L2667.17 1233.53 L2679.46 1236.58 L2691.75 1239.2 \n",
       "  L2704.05 1241.43 L2716.34 1243.3 L2728.64 1244.86 L2740.93 1246.14 L2753.22 1247.18 L2765.52 1248.01 L2777.81 1248.68 L2790.1 1249.2 L2802.4 1249.6 L2814.69 1249.92 \n",
       "  L2826.99 1250.15 L2839.28 1250.33 L2851.57 1250.46 L2863.87 1250.56 L2876.16 1250.63 L2888.45 1250.68 L2900.75 1250.71 L2913.04 1250.74 L2925.34 1250.75 L2937.63 1250.75 \n",
       "  L2937.63 1250.8 L2925.34 1250.8 L2913.04 1250.8 L2900.75 1250.8 L2888.45 1250.8 L2876.16 1250.8 L2863.87 1250.8 L2851.57 1250.8 L2839.28 1250.8 L2826.99 1250.8 \n",
       "  L2814.69 1250.8 L2802.4 1250.8 L2790.1 1250.8 L2777.81 1250.8 L2765.52 1250.8 L2753.22 1250.8 L2740.93 1250.8 L2728.64 1250.8 L2716.34 1250.8 L2704.05 1250.8 \n",
       "  L2691.75 1250.8 L2679.46 1250.8 L2667.17 1250.8 L2654.87 1250.8 L2642.58 1250.8 L2630.29 1250.8 L2617.99 1250.8 L2605.7 1250.8 L2593.4 1250.8 L2581.11 1250.8 \n",
       "  L2568.82 1250.8 L2556.52 1250.8 L2544.23 1250.8 L2531.94 1250.8 L2519.64 1250.8 L2507.35 1250.8 L2495.05 1250.8 L2482.76 1250.8 L2470.47 1250.8 L2458.17 1250.8 \n",
       "  L2445.88 1250.8 L2433.59 1250.8 L2421.29 1250.8 L2409 1250.8 L2396.7 1250.8 L2384.41 1250.8 L2372.12 1250.8 L2359.82 1250.8 L2347.53 1250.8 L2335.24 1250.8 \n",
       "  L2322.94 1250.8 L2310.65 1250.8 L2298.35 1250.8 L2286.06 1250.8 L2273.77 1250.8 L2261.47 1250.8 L2249.18 1250.8 L2236.89 1250.8 L2224.59 1250.8 L2212.3 1250.8 \n",
       "  L2200 1250.8 L2187.71 1250.8 L2175.42 1250.8 L2163.12 1250.8 L2150.83 1250.8 L2138.54 1250.8 L2126.24 1250.8 L2113.95 1250.8 L2101.66 1250.8 L2089.36 1250.8 \n",
       "  L2077.07 1250.8 L2064.77 1250.8 L2052.48 1250.8 L2040.19 1250.8 L2027.89 1250.8 L2015.6 1250.8 L2003.31 1250.8 L1991.01 1250.8 L1978.72 1250.8 L1966.42 1250.8 \n",
       "  L1954.13 1250.8 L1941.84 1250.8 L1929.54 1250.8 L1917.25 1250.8 L1904.96 1250.8 L1892.66 1250.8 L1880.37 1250.8 L1868.07 1250.8 L1855.78 1250.8 L1843.49 1250.8 \n",
       "  L1831.19 1250.8 L1818.9 1250.8 L1806.61 1250.8 L1794.31 1250.8 L1782.02 1250.8 L1769.72 1250.8 L1757.43 1250.8 L1745.14 1250.8 L1732.84 1250.8 L1720.55 1250.8 \n",
       "  L1708.26 1250.8 L1695.96 1250.8 L1683.67 1250.8 L1671.37 1250.8 L1659.08 1250.8 L1646.79 1250.8 L1634.49 1250.8 L1622.2 1250.8 L1609.91 1250.8 L1597.61 1250.8 \n",
       "  L1585.32 1250.8 L1573.02 1250.8 L1560.73 1250.8 L1548.44 1250.8 L1536.14 1250.8 L1523.85 1250.8 L1511.56 1250.8 L1499.26 1250.8 L1486.97 1250.8 L1474.67 1250.8 \n",
       "  L1462.38 1250.8 L1450.09 1250.8 L1437.79 1250.8 L1425.5 1250.8 L1413.21 1250.8 L1400.91 1250.8 L1388.62 1250.8 L1376.32 1250.8 L1364.03 1250.8 L1351.74 1250.8 \n",
       "  L1339.44 1250.8 L1327.15 1250.8 L1314.86 1250.8 L1302.56 1250.8 L1290.27 1250.8 L1277.97 1250.8 L1265.68 1250.8 L1253.39 1250.8 L1241.09 1250.8 L1228.8 1250.8 \n",
       "  L1216.51 1250.8 L1204.21 1250.8 L1191.92 1250.8 L1179.62 1250.8 L1167.33 1250.8 L1155.04 1250.8 L1142.74 1250.8 L1130.45 1250.8 L1118.16 1250.8 L1105.86 1250.8 \n",
       "  L1093.57 1250.8 L1081.27 1250.8 L1068.98 1250.8 L1056.69 1250.8 L1044.39 1250.8 L1032.1 1250.8 L1019.81 1250.8 L1007.51 1250.8 L995.218 1250.8 L982.924 1250.8 \n",
       "  L970.63 1250.8 L958.336 1250.8 L946.043 1250.8 L933.749 1250.8 L921.455 1250.8 L909.161 1250.8 L896.868 1250.8 L884.574 1250.8 L872.28 1250.8 L859.986 1250.8 \n",
       "  L847.693 1250.8 L835.399 1250.8 L823.105 1250.8 L810.811 1250.8 L798.518 1250.8 L786.224 1250.8 L773.93 1250.8 L761.636 1250.8 L749.343 1250.8 L737.049 1250.8 \n",
       "  L724.755 1250.8 L712.461 1250.8 L700.168 1250.8 L687.874 1250.8 L675.58 1250.8 L663.286 1250.8 L650.993 1250.8 L638.699 1250.8 L626.405 1250.8 L614.111 1250.8 \n",
       "  L601.818 1250.8 L589.524 1250.8 L577.23 1250.8 L564.936 1250.8 L552.643 1250.8 L540.349 1250.8 L528.055 1250.8 L515.761 1250.8 L503.468 1250.8 L491.174 1250.8 \n",
       "   Z\n",
       "  \" fill=\"#5cacee\" fill-rule=\"evenodd\" fill-opacity=\"0.5\"/>\n",
       "<polyline clip-path=\"url(#clip772)\" style=\"stroke:#009af9; stroke-width:16; stroke-opacity:1; fill:none\" points=\"\n",
       "  491.174,1250.74 503.468,1250.72 515.761,1250.7 528.055,1250.65 540.349,1250.59 552.643,1250.49 564.936,1250.36 577.23,1250.18 589.524,1249.94 601.818,1249.61 \n",
       "  614.111,1249.16 626.405,1248.58 638.699,1247.82 650.993,1246.83 663.286,1245.57 675.58,1243.97 687.874,1241.96 700.168,1239.48 712.461,1236.42 724.755,1232.72 \n",
       "  737.049,1228.26 749.343,1222.97 761.636,1216.74 773.93,1209.48 786.224,1201.12 798.518,1191.6 810.811,1180.85 823.105,1168.85 835.399,1155.6 847.693,1141.1 \n",
       "  859.986,1125.42 872.28,1108.61 884.574,1090.77 896.868,1072.01 909.161,1052.47 921.455,1032.28 933.749,1011.58 946.043,990.509 958.336,969.186 970.63,947.712 \n",
       "  982.924,926.156 995.218,904.557 1007.51,882.919 1019.81,861.207 1032.1,839.351 1044.39,817.252 1056.69,794.784 1068.98,771.808 1081.27,748.18 1093.57,723.76 \n",
       "  1105.86,698.429 1118.16,672.097 1130.45,644.717 1142.74,616.289 1155.04,586.875 1167.33,556.596 1179.62,525.637 1191.92,494.247 1204.21,462.733 1216.51,431.452 \n",
       "  1228.8,400.803 1241.09,371.212 1253.39,343.126 1265.68,316.988 1277.97,293.232 1290.27,272.264 1302.56,254.447 1314.86,240.091 1327.15,229.446 1339.44,222.684 \n",
       "  1351.74,219.903 1364.03,221.12 1376.32,226.268 1388.62,235.205 1400.91,247.711 1413.21,263.505 1425.5,282.247 1437.79,303.556 1450.09,327.019 1462.38,352.208 \n",
       "  1474.67,378.694 1486.97,406.06 1499.26,433.914 1511.56,461.904 1523.85,489.721 1536.14,517.11 1548.44,543.87 1560.73,569.858 1573.02,594.983 1585.32,619.202 \n",
       "  1597.61,642.511 1609.91,664.937 1622.2,686.525 1634.49,707.326 1646.79,727.39 1659.08,746.756 1671.37,765.439 1683.67,783.434 1695.96,800.707 1708.26,817.196 \n",
       "  1720.55,832.821 1732.84,847.481 1745.14,861.069 1757.43,873.476 1769.72,884.607 1782.02,894.383 1794.31,902.758 1806.61,909.718 1818.9,915.291 1831.19,919.55 \n",
       "  1843.49,922.609 1855.78,924.622 1868.07,925.775 1880.37,926.284 1892.66,926.377 1904.96,926.29 1917.25,926.256 1929.54,926.488 1941.84,927.177 1954.13,928.482 \n",
       "  1966.42,930.521 1978.72,933.372 1991.01,937.069 2003.31,941.605 2015.6,946.935 2027.89,952.982 2040.19,959.645 2052.48,966.802 2064.77,974.324 2077.07,982.08 \n",
       "  2089.36,989.943 2101.66,997.795 2113.95,1005.53 2126.24,1013.08 2138.54,1020.35 2150.83,1027.31 2163.12,1033.92 2175.42,1040.16 2187.71,1046.02 2200,1051.5 \n",
       "  2212.3,1056.62 2224.59,1061.37 2236.89,1065.78 2249.18,1069.86 2261.47,1073.63 2273.77,1077.12 2286.06,1080.36 2298.35,1083.38 2310.65,1086.24 2322.94,1088.98 \n",
       "  2335.24,1091.66 2347.53,1094.36 2359.82,1097.14 2372.12,1100.08 2384.41,1103.25 2396.7,1106.72 2409,1110.56 2421.29,1114.8 2433.59,1119.5 2445.88,1124.65 \n",
       "  2458.17,1130.26 2470.47,1136.31 2482.76,1142.74 2495.05,1149.51 2507.35,1156.53 2519.64,1163.73 2531.94,1171 2544.23,1178.25 2556.52,1185.38 2568.82,1192.32 \n",
       "  2581.11,1198.97 2593.4,1205.27 2605.7,1211.16 2617.99,1216.6 2630.29,1221.56 2642.58,1226.03 2654.87,1230.02 2667.17,1233.53 2679.46,1236.58 2691.75,1239.2 \n",
       "  2704.05,1241.43 2716.34,1243.3 2728.64,1244.86 2740.93,1246.14 2753.22,1247.18 2765.52,1248.01 2777.81,1248.68 2790.1,1249.2 2802.4,1249.6 2814.69,1249.92 \n",
       "  2826.99,1250.15 2839.28,1250.33 2851.57,1250.46 2863.87,1250.56 2876.16,1250.63 2888.45,1250.68 2900.75,1250.71 2913.04,1250.74 2925.34,1250.75 2937.63,1250.75 \n",
       "  \n",
       "  \"/>\n",
       "<polyline clip-path=\"url(#clip772)\" style=\"stroke:#e26f46; stroke-width:16; stroke-opacity:1; fill:none\" points=\"\n",
       "  1525.25,2374.49 1525.25,-903.779 \n",
       "  \"/>\n",
       "<polyline clip-path=\"url(#clip772)\" style=\"stroke:#3da44d; stroke-width:16; stroke-opacity:1; fill:none\" points=\"\n",
       "  1521.18,2374.49 1521.18,-903.779 \n",
       "  \"/>\n",
       "<path clip-path=\"url(#clip770)\" d=\"\n",
       "M1979.22 743.856 L2915.02 743.856 L2915.02 260.016 L1979.22 260.016  Z\n",
       "  \" fill=\"#000000\" fill-rule=\"evenodd\" fill-opacity=\"0\"/>\n",
       "<polyline clip-path=\"url(#clip770)\" style=\"stroke:#000000; stroke-width:16; stroke-opacity:0; fill:none\" points=\"\n",
       "  1979.22,743.856 2915.02,743.856 2915.02,260.016 1979.22,260.016 1979.22,743.856 \n",
       "  \"/>\n",
       "<path clip-path=\"url(#clip770)\" d=\"\n",
       "M2011.22 429.36 L2203.22 429.36 L2203.22 332.592 L2011.22 332.592 L2011.22 429.36  Z\n",
       "  \" fill=\"#5cacee\" fill-rule=\"evenodd\" fill-opacity=\"0.5\"/>\n",
       "<polyline clip-path=\"url(#clip770)\" style=\"stroke:#009af9; stroke-width:16; stroke-opacity:1; fill:none\" points=\"\n",
       "  2011.22,332.592 2203.22,332.592 \n",
       "  \"/>\n",
       "<g clip-path=\"url(#clip770)\">\n",
       "<text style=\"fill:#000000; fill-opacity:1; font-family:Symbol; font-size:103px; text-anchor:start;\" transform=\"rotate(0, 2235.22, 396.788)\" x=\"2235.22\" y=\"396.788\">δ</text>\n",
       "</g>\n",
       "<g clip-path=\"url(#clip770)\">\n",
       "<text style=\"fill:#000000; fill-opacity:1; font-family:Arial,Helvetica Neue,Helvetica,sans-serif; font-size:77px; text-anchor:start;\" transform=\"rotate(0, 2286.42, 424.047)\" x=\"2286.42\" y=\"424.047\">s</text>\n",
       "</g>\n",
       "<polyline clip-path=\"url(#clip770)\" style=\"stroke:#e26f46; stroke-width:16; stroke-opacity:1; fill:none\" points=\"\n",
       "  2011.22,501.936 2203.22,501.936 \n",
       "  \"/>\n",
       "<g clip-path=\"url(#clip770)\">\n",
       "<text style=\"fill:#000000; fill-opacity:1; font-family:Arial,Helvetica Neue,Helvetica,sans-serif; font-size:95px; text-anchor:start;\" transform=\"rotate(0, 2235.22, 529.239)\" x=\"2235.22\" y=\"529.239\">True </text>\n",
       "</g>\n",
       "<g clip-path=\"url(#clip770)\">\n",
       "<text style=\"fill:#000000; fill-opacity:1; font-family:Symbol; font-size:103px; text-anchor:start;\" transform=\"rotate(0, 2459.91, 529.239)\" x=\"2459.91\" y=\"529.239\">δ</text>\n",
       "</g>\n",
       "<g clip-path=\"url(#clip770)\">\n",
       "<text style=\"fill:#000000; fill-opacity:1; font-family:Arial,Helvetica Neue,Helvetica,sans-serif; font-size:95px; text-anchor:start;\" transform=\"rotate(0, 2511.1, 529.239)\" x=\"2511.1\" y=\"529.239\"> = 6</text>\n",
       "</g>\n",
       "<polyline clip-path=\"url(#clip770)\" style=\"stroke:#3da44d; stroke-width:16; stroke-opacity:1; fill:none\" points=\"\n",
       "  2011.22,622.896 2203.22,622.896 \n",
       "  \"/>\n",
       "<g clip-path=\"url(#clip770)\">\n",
       "<text style=\"fill:#000000; fill-opacity:1; font-family:Arial,Helvetica Neue,Helvetica,sans-serif; font-size:95px; text-anchor:start;\" transform=\"rotate(0, 2235.22, 650.199)\" x=\"2235.22\" y=\"650.199\">Mean </text>\n",
       "</g>\n",
       "<g clip-path=\"url(#clip770)\">\n",
       "<text style=\"fill:#000000; fill-opacity:1; font-family:Symbol; font-size:103px; text-anchor:start;\" transform=\"rotate(0, 2502.75, 650.199)\" x=\"2502.75\" y=\"650.199\">δ</text>\n",
       "</g>\n",
       "<g clip-path=\"url(#clip770)\">\n",
       "<text style=\"fill:#000000; fill-opacity:1; font-family:Arial,Helvetica Neue,Helvetica,sans-serif; font-size:95px; text-anchor:start;\" transform=\"rotate(0, 2553.94, 650.199)\" x=\"2553.94\" y=\"650.199\"> = 5.98</text>\n",
       "</g>\n",
       "</svg>\n"
      ]
     },
     "execution_count": 9,
     "metadata": {},
     "output_type": "execute_result"
    }
   ],
   "source": [
    "# δ\n",
    "fig = density(params_sim[:, :δ], fill=(0, .5,:steelblue2), lab=\"\\\\delta_s\",  \n",
    "        linecolor=:match, linewidth=1)\n",
    "plot!(collect(δ), seriestype=\"vline\", \n",
    "        lab=\"True \\\\delta = \" * string(δ), \n",
    "        linewidth=1)\n",
    "plot!(collect(mean(params_sim.δ)), seriestype=\"vline\", \n",
    "        lab=\"Mean \\\\delta = \" * string(round(mean(params_sim.δ), digits=2)),\n",
    "        linewidth=1, legendfont=font(4), xtickfont=font(4), ytickfont=font(4),\n",
    "        foreground_color_legend=nothing, background_color_legend=nothing, grid=false)\n",
    "plot!(size=(200,100))\n",
    "savefig(\"1_3_3_delta.png\");\n",
    "fig"
   ]
  },
  {
   "cell_type": "markdown",
   "metadata": {},
   "source": [
    "<br><br><br><br><br>\n",
    "\n",
    "### 1.3.4 - All-Strategies Estimation\n",
    "\n",
    "We now allow the equilibria to be chosen randomly (the firms know the strategy that is chosen, but we do not)."
   ]
  },
  {
   "cell_type": "markdown",
   "metadata": {},
   "source": [
    "##### Generate data"
   ]
  },
  {
   "cell_type": "code",
   "execution_count": 10,
   "metadata": {},
   "outputs": [],
   "source": [
    "# Model k ∈ {1,...,K} with prob exp(k/2)\n",
    "eq_opts = eq_vec[:,2]\n",
    "eq_probs = exp.([1, 2, 3]./2) ./ sum(exp.([1, 2, 3]./2))\n",
    "\n",
    "# Function to map x, equilibrium, and player number to other player's strat\n",
    "eq_map = function(x, eq, player)\n",
    "    x = convert(Int64, x)\n",
    "    return eq_opts[x][eq,player]\n",
    "end\n",
    "\n",
    "# Set up parameters\n",
    "α=3; δ=6\n",
    "T=1000; S=50\n",
    "\n",
    "# Create simulation data\n",
    "dt = DataFrame(t = repeat(1:T, outer = S), s = repeat(1:S, inner = T))\n",
    "dt.x = repeat(rand(Binomial(1,0.5), T) .+ Ref(1.0), outer = S)\n",
    "#dt.x = rand(Binomial(1,0.5), S*T) .+ Ref(1.0) # Testing with drawing x each iteration - - - - - - - - - - - - \n",
    "dt.ϵ_1 = rand(Logistic(0,1), S*T)\n",
    "dt.ϵ_2 = rand(Logistic(0,1), S*T)\n",
    "dt.eq = rand(Categorical(eq_probs), S*T)\n",
    "dt.y_1 = 1.0.*(α*dt.x .- δ*eq_map.(dt.x, dt.eq, 2) .+ dt.ϵ_1 .>= 0)\n",
    "dt.y_2 = 1.0.*(α*dt.x .- δ*eq_map.(dt.x, dt.eq, 1) .+ dt.ϵ_2 .>= 0);"
   ]
  },
  {
   "cell_type": "markdown",
   "metadata": {},
   "source": [
    "First, we can check how the MLE estimator from the previous section performs:"
   ]
  },
  {
   "cell_type": "code",
   "execution_count": 11,
   "metadata": {},
   "outputs": [
    {
     "name": "stdout",
     "output_type": "stream",
     "text": [
      "Iters:  1 2 3 4 5 6 7 8 9 10 11 12 13 14 15 16 17 18 19 20 21 22 23 24 25 26 27 28 29 30 31 32 33 34 35 36 37 38 39 40 41 42 43 44 45 46 47 48 49 50 \n",
      " \n",
      "Mean α is 2.9621510610217467Var of α is 0.27799518362239517\n",
      "Mean δ is 5.9686816772744695Var of δ is 1.5208707312736431\n"
     ]
    }
   ],
   "source": [
    "# Loop over simulation draws\n",
    "params_sim = DataFrame(α= fill(0.0, S), δ= fill(0.0, S))\n",
    "print(\"Iters: \")\n",
    "for s in 1:nrow(params_sim)\n",
    "    dt_sim = copy(dt[dt[:s].==s,:]);\n",
    "    # res = optimize(ll_optim, [1.0, 1.0])\n",
    "    res = optimize(ll_optim, ll_grad_optim, [1.0,1.0], BFGS())\n",
    "    params_sim[s, [:α, :δ]] = res.minimizer\n",
    "    print(\" \" * string(s))\n",
    "end\n",
    "params_sim_1_4_sym = params_sim\n",
    "\n",
    "println(\" \"); println(\" \")\n",
    "println(\"Mean α is \" * string(mean(params_sim.α)) * \"Var of α is \" * string(std(params_sim.α)^2))\n",
    "println(\"Mean δ is \" * string(mean(params_sim.δ)) * \"Var of δ is \" * string(std(params_sim.δ)^2))"
   ]
  },
  {
   "cell_type": "code",
   "execution_count": 12,
   "metadata": {
    "scrolled": false
   },
   "outputs": [
    {
     "data": {
      "image/svg+xml": [
       "<?xml version=\"1.0\" encoding=\"utf-8\"?>\n",
       "<svg xmlns=\"http://www.w3.org/2000/svg\" xmlns:xlink=\"http://www.w3.org/1999/xlink\" width=\"800\" height=\"400\" viewBox=\"0 0 3200 1600\">\n",
       "<defs>\n",
       "  <clipPath id=\"clip820\">\n",
       "    <rect x=\"0\" y=\"0\" width=\"3200\" height=\"1600\"/>\n",
       "  </clipPath>\n",
       "</defs>\n",
       "<path clip-path=\"url(#clip820)\" d=\"\n",
       "M0 1600 L3200 1600 L3200 0 L0 0  Z\n",
       "  \" fill=\"#ffffff\" fill-rule=\"evenodd\" fill-opacity=\"1\"/>\n",
       "<defs>\n",
       "  <clipPath id=\"clip821\">\n",
       "    <rect x=\"640\" y=\"0\" width=\"2241\" height=\"1600\"/>\n",
       "  </clipPath>\n",
       "</defs>\n",
       "<path clip-path=\"url(#clip820)\" d=\"\n",
       "M417.78 1281.73 L3011.02 1281.73 L3011.02 188.976 L417.78 188.976  Z\n",
       "  \" fill=\"#ffffff\" fill-rule=\"evenodd\" fill-opacity=\"1\"/>\n",
       "<defs>\n",
       "  <clipPath id=\"clip822\">\n",
       "    <rect x=\"417\" y=\"188\" width=\"2594\" height=\"1094\"/>\n",
       "  </clipPath>\n",
       "</defs>\n",
       "<polyline clip-path=\"url(#clip820)\" style=\"stroke:#000000; stroke-width:16; stroke-opacity:1; fill:none\" points=\"\n",
       "  417.78,1281.73 3011.02,1281.73 \n",
       "  \"/>\n",
       "<polyline clip-path=\"url(#clip820)\" style=\"stroke:#000000; stroke-width:16; stroke-opacity:1; fill:none\" points=\"\n",
       "  417.78,1281.73 417.78,188.976 \n",
       "  \"/>\n",
       "<polyline clip-path=\"url(#clip820)\" style=\"stroke:#000000; stroke-width:16; stroke-opacity:1; fill:none\" points=\"\n",
       "  932.568,1281.73 932.568,1268.62 \n",
       "  \"/>\n",
       "<polyline clip-path=\"url(#clip820)\" style=\"stroke:#000000; stroke-width:16; stroke-opacity:1; fill:none\" points=\"\n",
       "  1535.33,1281.73 1535.33,1268.62 \n",
       "  \"/>\n",
       "<polyline clip-path=\"url(#clip820)\" style=\"stroke:#000000; stroke-width:16; stroke-opacity:1; fill:none\" points=\"\n",
       "  2138.1,1281.73 2138.1,1268.62 \n",
       "  \"/>\n",
       "<polyline clip-path=\"url(#clip820)\" style=\"stroke:#000000; stroke-width:16; stroke-opacity:1; fill:none\" points=\"\n",
       "  2740.87,1281.73 2740.87,1268.62 \n",
       "  \"/>\n",
       "<polyline clip-path=\"url(#clip820)\" style=\"stroke:#000000; stroke-width:16; stroke-opacity:1; fill:none\" points=\"\n",
       "  417.78,1250.8 448.899,1250.8 \n",
       "  \"/>\n",
       "<polyline clip-path=\"url(#clip820)\" style=\"stroke:#000000; stroke-width:16; stroke-opacity:1; fill:none\" points=\"\n",
       "  417.78,1003.87 448.899,1003.87 \n",
       "  \"/>\n",
       "<polyline clip-path=\"url(#clip820)\" style=\"stroke:#000000; stroke-width:16; stroke-opacity:1; fill:none\" points=\"\n",
       "  417.78,756.937 448.899,756.937 \n",
       "  \"/>\n",
       "<polyline clip-path=\"url(#clip820)\" style=\"stroke:#000000; stroke-width:16; stroke-opacity:1; fill:none\" points=\"\n",
       "  417.78,510.003 448.899,510.003 \n",
       "  \"/>\n",
       "<polyline clip-path=\"url(#clip820)\" style=\"stroke:#000000; stroke-width:16; stroke-opacity:1; fill:none\" points=\"\n",
       "  417.78,263.069 448.899,263.069 \n",
       "  \"/>\n",
       "<g clip-path=\"url(#clip820)\">\n",
       "<text style=\"fill:#000000; fill-opacity:1; font-family:Arial,Helvetica Neue,Helvetica,sans-serif; font-size:95px; text-anchor:middle;\" transform=\"rotate(0, 932.568, 1380.53)\" x=\"932.568\" y=\"1380.53\">2</text>\n",
       "</g>\n",
       "<g clip-path=\"url(#clip820)\">\n",
       "<text style=\"fill:#000000; fill-opacity:1; font-family:Arial,Helvetica Neue,Helvetica,sans-serif; font-size:95px; text-anchor:middle;\" transform=\"rotate(0, 1535.33, 1380.53)\" x=\"1535.33\" y=\"1380.53\">3</text>\n",
       "</g>\n",
       "<g clip-path=\"url(#clip820)\">\n",
       "<text style=\"fill:#000000; fill-opacity:1; font-family:Arial,Helvetica Neue,Helvetica,sans-serif; font-size:95px; text-anchor:middle;\" transform=\"rotate(0, 2138.1, 1380.53)\" x=\"2138.1\" y=\"1380.53\">4</text>\n",
       "</g>\n",
       "<g clip-path=\"url(#clip820)\">\n",
       "<text style=\"fill:#000000; fill-opacity:1; font-family:Arial,Helvetica Neue,Helvetica,sans-serif; font-size:95px; text-anchor:middle;\" transform=\"rotate(0, 2740.87, 1380.53)\" x=\"2740.87\" y=\"1380.53\">5</text>\n",
       "</g>\n",
       "<g clip-path=\"url(#clip820)\">\n",
       "<text style=\"fill:#000000; fill-opacity:1; font-family:Arial,Helvetica Neue,Helvetica,sans-serif; font-size:95px; text-anchor:end;\" transform=\"rotate(0, 385.78, 1285.3)\" x=\"385.78\" y=\"1285.3\">0.0</text>\n",
       "</g>\n",
       "<g clip-path=\"url(#clip820)\">\n",
       "<text style=\"fill:#000000; fill-opacity:1; font-family:Arial,Helvetica Neue,Helvetica,sans-serif; font-size:95px; text-anchor:end;\" transform=\"rotate(0, 385.78, 1038.37)\" x=\"385.78\" y=\"1038.37\">0.2</text>\n",
       "</g>\n",
       "<g clip-path=\"url(#clip820)\">\n",
       "<text style=\"fill:#000000; fill-opacity:1; font-family:Arial,Helvetica Neue,Helvetica,sans-serif; font-size:95px; text-anchor:end;\" transform=\"rotate(0, 385.78, 791.437)\" x=\"385.78\" y=\"791.437\">0.4</text>\n",
       "</g>\n",
       "<g clip-path=\"url(#clip820)\">\n",
       "<text style=\"fill:#000000; fill-opacity:1; font-family:Arial,Helvetica Neue,Helvetica,sans-serif; font-size:95px; text-anchor:end;\" transform=\"rotate(0, 385.78, 544.503)\" x=\"385.78\" y=\"544.503\">0.6</text>\n",
       "</g>\n",
       "<g clip-path=\"url(#clip820)\">\n",
       "<text style=\"fill:#000000; fill-opacity:1; font-family:Arial,Helvetica Neue,Helvetica,sans-serif; font-size:95px; text-anchor:end;\" transform=\"rotate(0, 385.78, 297.569)\" x=\"385.78\" y=\"297.569\">0.8</text>\n",
       "</g>\n",
       "<path clip-path=\"url(#clip822)\" d=\"\n",
       "M491.174 1250.76 L503.468 1250.75 L515.761 1250.73 L528.055 1250.7 L540.349 1250.65 L552.643 1250.58 L564.936 1250.48 L577.23 1250.35 L589.524 1250.17 L601.818 1249.92 \n",
       "  L614.111 1249.59 L626.405 1249.15 L638.699 1248.57 L650.993 1247.82 L663.286 1246.86 L675.58 1245.63 L687.874 1244.1 L700.168 1242.19 L712.461 1239.85 L724.755 1237.01 \n",
       "  L737.049 1233.59 L749.343 1229.53 L761.636 1224.76 L773.93 1219.22 L786.224 1212.85 L798.518 1205.61 L810.811 1197.47 L823.105 1188.42 L835.399 1178.46 L847.693 1167.61 \n",
       "  L859.986 1155.92 L872.28 1143.44 L884.574 1130.24 L896.868 1116.41 L909.161 1102.03 L921.455 1087.18 L933.749 1071.93 L946.043 1056.35 L958.336 1040.48 L970.63 1024.33 \n",
       "  L982.924 1007.88 L995.218 991.08 L1007.51 973.845 L1019.81 956.059 L1032.1 937.582 L1044.39 918.248 L1056.69 897.883 L1068.98 876.308 L1081.27 853.353 L1093.57 828.87 \n",
       "  L1105.86 802.74 L1118.16 774.891 L1130.45 745.302 L1142.74 714.014 L1155.04 681.135 L1167.33 646.845 L1179.62 611.393 L1191.92 575.096 L1204.21 538.331 L1216.51 501.526 \n",
       "  L1228.8 465.15 L1241.09 429.694 L1253.39 395.659 L1265.68 363.54 L1277.97 333.805 L1290.27 306.884 L1302.56 283.154 L1314.86 262.927 L1327.15 246.441 L1339.44 233.857 \n",
       "  L1351.74 225.254 L1364.03 220.629 L1376.32 219.903 L1388.62 222.927 L1400.91 229.486 L1413.21 239.31 L1425.5 252.083 L1437.79 267.455 L1450.09 285.048 L1462.38 304.471 \n",
       "  L1474.67 325.323 L1486.97 347.209 L1499.26 369.747 L1511.56 392.574 L1523.85 415.355 L1536.14 437.794 L1548.44 459.634 L1560.73 480.669 L1573.02 500.741 L1585.32 519.749 \n",
       "  L1597.61 537.644 L1609.91 554.429 L1622.2 570.157 L1634.49 584.919 L1646.79 598.845 L1659.08 612.09 L1671.37 624.822 L1683.67 637.218 L1695.96 649.449 L1708.26 661.675 \n",
       "  L1720.55 674.033 L1732.84 686.633 L1745.14 699.555 L1757.43 712.844 L1769.72 726.513 L1782.02 740.54 L1794.31 754.879 L1806.61 769.457 L1818.9 784.184 L1831.19 798.963 \n",
       "  L1843.49 813.688 L1855.78 828.258 L1868.07 842.582 L1880.37 856.582 L1892.66 870.195 L1904.96 883.38 L1917.25 896.119 L1929.54 908.411 L1941.84 920.276 L1954.13 931.75 \n",
       "  L1966.42 942.882 L1978.72 953.728 L1991.01 964.349 L2003.31 974.805 L2015.6 985.149 L2027.89 995.427 L2040.19 1005.67 L2052.48 1015.91 L2064.77 1026.14 L2077.07 1036.36 \n",
       "  L2089.36 1046.55 L2101.66 1056.67 L2113.95 1066.69 L2126.24 1076.56 L2138.54 1086.22 L2150.83 1095.63 L2163.12 1104.73 L2175.42 1113.47 L2187.71 1121.8 L2200 1129.69 \n",
       "  L2212.3 1137.1 L2224.59 1143.99 L2236.89 1150.36 L2249.18 1156.17 L2261.47 1161.42 L2273.77 1166.11 L2286.06 1170.25 L2298.35 1173.85 L2310.65 1176.94 L2322.94 1179.56 \n",
       "  L2335.24 1181.76 L2347.53 1183.58 L2359.82 1185.09 L2372.12 1186.37 L2384.41 1187.49 L2396.7 1188.52 L2409 1189.54 L2421.29 1190.63 L2433.59 1191.84 L2445.88 1193.22 \n",
       "  L2458.17 1194.83 L2470.47 1196.69 L2482.76 1198.8 L2495.05 1201.17 L2507.35 1203.78 L2519.64 1206.6 L2531.94 1209.6 L2544.23 1212.72 L2556.52 1215.92 L2568.82 1219.14 \n",
       "  L2581.11 1222.33 L2593.4 1225.44 L2605.7 1228.43 L2617.99 1231.26 L2630.29 1233.9 L2642.58 1236.32 L2654.87 1238.52 L2667.17 1240.49 L2679.46 1242.23 L2691.75 1243.75 \n",
       "  L2704.05 1245.06 L2716.34 1246.17 L2728.64 1247.11 L2740.93 1247.88 L2753.22 1248.52 L2765.52 1249.04 L2777.81 1249.45 L2790.1 1249.78 L2802.4 1250.03 L2814.69 1250.23 \n",
       "  L2826.99 1250.38 L2839.28 1250.5 L2851.57 1250.58 L2863.87 1250.65 L2876.16 1250.69 L2888.45 1250.72 L2900.75 1250.75 L2913.04 1250.76 L2925.34 1250.77 L2937.63 1250.77 \n",
       "  L2937.63 1250.8 L2925.34 1250.8 L2913.04 1250.8 L2900.75 1250.8 L2888.45 1250.8 L2876.16 1250.8 L2863.87 1250.8 L2851.57 1250.8 L2839.28 1250.8 L2826.99 1250.8 \n",
       "  L2814.69 1250.8 L2802.4 1250.8 L2790.1 1250.8 L2777.81 1250.8 L2765.52 1250.8 L2753.22 1250.8 L2740.93 1250.8 L2728.64 1250.8 L2716.34 1250.8 L2704.05 1250.8 \n",
       "  L2691.75 1250.8 L2679.46 1250.8 L2667.17 1250.8 L2654.87 1250.8 L2642.58 1250.8 L2630.29 1250.8 L2617.99 1250.8 L2605.7 1250.8 L2593.4 1250.8 L2581.11 1250.8 \n",
       "  L2568.82 1250.8 L2556.52 1250.8 L2544.23 1250.8 L2531.94 1250.8 L2519.64 1250.8 L2507.35 1250.8 L2495.05 1250.8 L2482.76 1250.8 L2470.47 1250.8 L2458.17 1250.8 \n",
       "  L2445.88 1250.8 L2433.59 1250.8 L2421.29 1250.8 L2409 1250.8 L2396.7 1250.8 L2384.41 1250.8 L2372.12 1250.8 L2359.82 1250.8 L2347.53 1250.8 L2335.24 1250.8 \n",
       "  L2322.94 1250.8 L2310.65 1250.8 L2298.35 1250.8 L2286.06 1250.8 L2273.77 1250.8 L2261.47 1250.8 L2249.18 1250.8 L2236.89 1250.8 L2224.59 1250.8 L2212.3 1250.8 \n",
       "  L2200 1250.8 L2187.71 1250.8 L2175.42 1250.8 L2163.12 1250.8 L2150.83 1250.8 L2138.54 1250.8 L2126.24 1250.8 L2113.95 1250.8 L2101.66 1250.8 L2089.36 1250.8 \n",
       "  L2077.07 1250.8 L2064.77 1250.8 L2052.48 1250.8 L2040.19 1250.8 L2027.89 1250.8 L2015.6 1250.8 L2003.31 1250.8 L1991.01 1250.8 L1978.72 1250.8 L1966.42 1250.8 \n",
       "  L1954.13 1250.8 L1941.84 1250.8 L1929.54 1250.8 L1917.25 1250.8 L1904.96 1250.8 L1892.66 1250.8 L1880.37 1250.8 L1868.07 1250.8 L1855.78 1250.8 L1843.49 1250.8 \n",
       "  L1831.19 1250.8 L1818.9 1250.8 L1806.61 1250.8 L1794.31 1250.8 L1782.02 1250.8 L1769.72 1250.8 L1757.43 1250.8 L1745.14 1250.8 L1732.84 1250.8 L1720.55 1250.8 \n",
       "  L1708.26 1250.8 L1695.96 1250.8 L1683.67 1250.8 L1671.37 1250.8 L1659.08 1250.8 L1646.79 1250.8 L1634.49 1250.8 L1622.2 1250.8 L1609.91 1250.8 L1597.61 1250.8 \n",
       "  L1585.32 1250.8 L1573.02 1250.8 L1560.73 1250.8 L1548.44 1250.8 L1536.14 1250.8 L1523.85 1250.8 L1511.56 1250.8 L1499.26 1250.8 L1486.97 1250.8 L1474.67 1250.8 \n",
       "  L1462.38 1250.8 L1450.09 1250.8 L1437.79 1250.8 L1425.5 1250.8 L1413.21 1250.8 L1400.91 1250.8 L1388.62 1250.8 L1376.32 1250.8 L1364.03 1250.8 L1351.74 1250.8 \n",
       "  L1339.44 1250.8 L1327.15 1250.8 L1314.86 1250.8 L1302.56 1250.8 L1290.27 1250.8 L1277.97 1250.8 L1265.68 1250.8 L1253.39 1250.8 L1241.09 1250.8 L1228.8 1250.8 \n",
       "  L1216.51 1250.8 L1204.21 1250.8 L1191.92 1250.8 L1179.62 1250.8 L1167.33 1250.8 L1155.04 1250.8 L1142.74 1250.8 L1130.45 1250.8 L1118.16 1250.8 L1105.86 1250.8 \n",
       "  L1093.57 1250.8 L1081.27 1250.8 L1068.98 1250.8 L1056.69 1250.8 L1044.39 1250.8 L1032.1 1250.8 L1019.81 1250.8 L1007.51 1250.8 L995.218 1250.8 L982.924 1250.8 \n",
       "  L970.63 1250.8 L958.336 1250.8 L946.043 1250.8 L933.749 1250.8 L921.455 1250.8 L909.161 1250.8 L896.868 1250.8 L884.574 1250.8 L872.28 1250.8 L859.986 1250.8 \n",
       "  L847.693 1250.8 L835.399 1250.8 L823.105 1250.8 L810.811 1250.8 L798.518 1250.8 L786.224 1250.8 L773.93 1250.8 L761.636 1250.8 L749.343 1250.8 L737.049 1250.8 \n",
       "  L724.755 1250.8 L712.461 1250.8 L700.168 1250.8 L687.874 1250.8 L675.58 1250.8 L663.286 1250.8 L650.993 1250.8 L638.699 1250.8 L626.405 1250.8 L614.111 1250.8 \n",
       "  L601.818 1250.8 L589.524 1250.8 L577.23 1250.8 L564.936 1250.8 L552.643 1250.8 L540.349 1250.8 L528.055 1250.8 L515.761 1250.8 L503.468 1250.8 L491.174 1250.8 \n",
       "   Z\n",
       "  \" fill=\"#5cacee\" fill-rule=\"evenodd\" fill-opacity=\"0.5\"/>\n",
       "<polyline clip-path=\"url(#clip822)\" style=\"stroke:#009af9; stroke-width:16; stroke-opacity:1; fill:none\" points=\"\n",
       "  491.174,1250.76 503.468,1250.75 515.761,1250.73 528.055,1250.7 540.349,1250.65 552.643,1250.58 564.936,1250.48 577.23,1250.35 589.524,1250.17 601.818,1249.92 \n",
       "  614.111,1249.59 626.405,1249.15 638.699,1248.57 650.993,1247.82 663.286,1246.86 675.58,1245.63 687.874,1244.1 700.168,1242.19 712.461,1239.85 724.755,1237.01 \n",
       "  737.049,1233.59 749.343,1229.53 761.636,1224.76 773.93,1219.22 786.224,1212.85 798.518,1205.61 810.811,1197.47 823.105,1188.42 835.399,1178.46 847.693,1167.61 \n",
       "  859.986,1155.92 872.28,1143.44 884.574,1130.24 896.868,1116.41 909.161,1102.03 921.455,1087.18 933.749,1071.93 946.043,1056.35 958.336,1040.48 970.63,1024.33 \n",
       "  982.924,1007.88 995.218,991.08 1007.51,973.845 1019.81,956.059 1032.1,937.582 1044.39,918.248 1056.69,897.883 1068.98,876.308 1081.27,853.353 1093.57,828.87 \n",
       "  1105.86,802.74 1118.16,774.891 1130.45,745.302 1142.74,714.014 1155.04,681.135 1167.33,646.845 1179.62,611.393 1191.92,575.096 1204.21,538.331 1216.51,501.526 \n",
       "  1228.8,465.15 1241.09,429.694 1253.39,395.659 1265.68,363.54 1277.97,333.805 1290.27,306.884 1302.56,283.154 1314.86,262.927 1327.15,246.441 1339.44,233.857 \n",
       "  1351.74,225.254 1364.03,220.629 1376.32,219.903 1388.62,222.927 1400.91,229.486 1413.21,239.31 1425.5,252.083 1437.79,267.455 1450.09,285.048 1462.38,304.471 \n",
       "  1474.67,325.323 1486.97,347.209 1499.26,369.747 1511.56,392.574 1523.85,415.355 1536.14,437.794 1548.44,459.634 1560.73,480.669 1573.02,500.741 1585.32,519.749 \n",
       "  1597.61,537.644 1609.91,554.429 1622.2,570.157 1634.49,584.919 1646.79,598.845 1659.08,612.09 1671.37,624.822 1683.67,637.218 1695.96,649.449 1708.26,661.675 \n",
       "  1720.55,674.033 1732.84,686.633 1745.14,699.555 1757.43,712.844 1769.72,726.513 1782.02,740.54 1794.31,754.879 1806.61,769.457 1818.9,784.184 1831.19,798.963 \n",
       "  1843.49,813.688 1855.78,828.258 1868.07,842.582 1880.37,856.582 1892.66,870.195 1904.96,883.38 1917.25,896.119 1929.54,908.411 1941.84,920.276 1954.13,931.75 \n",
       "  1966.42,942.882 1978.72,953.728 1991.01,964.349 2003.31,974.805 2015.6,985.149 2027.89,995.427 2040.19,1005.67 2052.48,1015.91 2064.77,1026.14 2077.07,1036.36 \n",
       "  2089.36,1046.55 2101.66,1056.67 2113.95,1066.69 2126.24,1076.56 2138.54,1086.22 2150.83,1095.63 2163.12,1104.73 2175.42,1113.47 2187.71,1121.8 2200,1129.69 \n",
       "  2212.3,1137.1 2224.59,1143.99 2236.89,1150.36 2249.18,1156.17 2261.47,1161.42 2273.77,1166.11 2286.06,1170.25 2298.35,1173.85 2310.65,1176.94 2322.94,1179.56 \n",
       "  2335.24,1181.76 2347.53,1183.58 2359.82,1185.09 2372.12,1186.37 2384.41,1187.49 2396.7,1188.52 2409,1189.54 2421.29,1190.63 2433.59,1191.84 2445.88,1193.22 \n",
       "  2458.17,1194.83 2470.47,1196.69 2482.76,1198.8 2495.05,1201.17 2507.35,1203.78 2519.64,1206.6 2531.94,1209.6 2544.23,1212.72 2556.52,1215.92 2568.82,1219.14 \n",
       "  2581.11,1222.33 2593.4,1225.44 2605.7,1228.43 2617.99,1231.26 2630.29,1233.9 2642.58,1236.32 2654.87,1238.52 2667.17,1240.49 2679.46,1242.23 2691.75,1243.75 \n",
       "  2704.05,1245.06 2716.34,1246.17 2728.64,1247.11 2740.93,1247.88 2753.22,1248.52 2765.52,1249.04 2777.81,1249.45 2790.1,1249.78 2802.4,1250.03 2814.69,1250.23 \n",
       "  2826.99,1250.38 2839.28,1250.5 2851.57,1250.58 2863.87,1250.65 2876.16,1250.69 2888.45,1250.72 2900.75,1250.75 2913.04,1250.76 2925.34,1250.77 2937.63,1250.77 \n",
       "  \n",
       "  \"/>\n",
       "<polyline clip-path=\"url(#clip822)\" style=\"stroke:#e26f46; stroke-width:16; stroke-opacity:1; fill:none\" points=\"\n",
       "  1535.33,2374.49 1535.33,-903.779 \n",
       "  \"/>\n",
       "<polyline clip-path=\"url(#clip822)\" style=\"stroke:#3da44d; stroke-width:16; stroke-opacity:1; fill:none\" points=\"\n",
       "  1512.52,2374.49 1512.52,-903.779 \n",
       "  \"/>\n",
       "<path clip-path=\"url(#clip820)\" d=\"\n",
       "M1965.03 743.856 L2915.02 743.856 L2915.02 260.016 L1965.03 260.016  Z\n",
       "  \" fill=\"#000000\" fill-rule=\"evenodd\" fill-opacity=\"0\"/>\n",
       "<polyline clip-path=\"url(#clip820)\" style=\"stroke:#000000; stroke-width:16; stroke-opacity:0; fill:none\" points=\"\n",
       "  1965.03,743.856 2915.02,743.856 2915.02,260.016 1965.03,260.016 1965.03,743.856 \n",
       "  \"/>\n",
       "<path clip-path=\"url(#clip820)\" d=\"\n",
       "M1997.03 429.36 L2189.03 429.36 L2189.03 332.592 L1997.03 332.592 L1997.03 429.36  Z\n",
       "  \" fill=\"#5cacee\" fill-rule=\"evenodd\" fill-opacity=\"0.5\"/>\n",
       "<polyline clip-path=\"url(#clip820)\" style=\"stroke:#009af9; stroke-width:16; stroke-opacity:1; fill:none\" points=\"\n",
       "  1997.03,332.592 2189.03,332.592 \n",
       "  \"/>\n",
       "<g clip-path=\"url(#clip820)\">\n",
       "<text style=\"fill:#000000; fill-opacity:1; font-family:Symbol; font-size:103px; text-anchor:start;\" transform=\"rotate(0, 2221.03, 396.788)\" x=\"2221.03\" y=\"396.788\">α</text>\n",
       "</g>\n",
       "<g clip-path=\"url(#clip820)\">\n",
       "<text style=\"fill:#000000; fill-opacity:1; font-family:Arial,Helvetica Neue,Helvetica,sans-serif; font-size:77px; text-anchor:start;\" transform=\"rotate(0, 2286.42, 424.047)\" x=\"2286.42\" y=\"424.047\">s</text>\n",
       "</g>\n",
       "<polyline clip-path=\"url(#clip820)\" style=\"stroke:#e26f46; stroke-width:16; stroke-opacity:1; fill:none\" points=\"\n",
       "  1997.03,501.936 2189.03,501.936 \n",
       "  \"/>\n",
       "<g clip-path=\"url(#clip820)\">\n",
       "<text style=\"fill:#000000; fill-opacity:1; font-family:Arial,Helvetica Neue,Helvetica,sans-serif; font-size:95px; text-anchor:start;\" transform=\"rotate(0, 2221.03, 529.239)\" x=\"2221.03\" y=\"529.239\">True </text>\n",
       "</g>\n",
       "<g clip-path=\"url(#clip820)\">\n",
       "<text style=\"fill:#000000; fill-opacity:1; font-family:Symbol; font-size:103px; text-anchor:start;\" transform=\"rotate(0, 2445.71, 529.239)\" x=\"2445.71\" y=\"529.239\">α</text>\n",
       "</g>\n",
       "<g clip-path=\"url(#clip820)\">\n",
       "<text style=\"fill:#000000; fill-opacity:1; font-family:Arial,Helvetica Neue,Helvetica,sans-serif; font-size:95px; text-anchor:start;\" transform=\"rotate(0, 2511.1, 529.239)\" x=\"2511.1\" y=\"529.239\"> = 3</text>\n",
       "</g>\n",
       "<polyline clip-path=\"url(#clip820)\" style=\"stroke:#3da44d; stroke-width:16; stroke-opacity:1; fill:none\" points=\"\n",
       "  1997.03,622.896 2189.03,622.896 \n",
       "  \"/>\n",
       "<g clip-path=\"url(#clip820)\">\n",
       "<text style=\"fill:#000000; fill-opacity:1; font-family:Arial,Helvetica Neue,Helvetica,sans-serif; font-size:95px; text-anchor:start;\" transform=\"rotate(0, 2221.03, 650.199)\" x=\"2221.03\" y=\"650.199\">Mean </text>\n",
       "</g>\n",
       "<g clip-path=\"url(#clip820)\">\n",
       "<text style=\"fill:#000000; fill-opacity:1; font-family:Symbol; font-size:103px; text-anchor:start;\" transform=\"rotate(0, 2488.55, 650.199)\" x=\"2488.55\" y=\"650.199\">α</text>\n",
       "</g>\n",
       "<g clip-path=\"url(#clip820)\">\n",
       "<text style=\"fill:#000000; fill-opacity:1; font-family:Arial,Helvetica Neue,Helvetica,sans-serif; font-size:95px; text-anchor:start;\" transform=\"rotate(0, 2553.94, 650.199)\" x=\"2553.94\" y=\"650.199\"> = 2.96</text>\n",
       "</g>\n",
       "</svg>\n"
      ]
     },
     "execution_count": 12,
     "metadata": {},
     "output_type": "execute_result"
    }
   ],
   "source": [
    "# α\n",
    "fig = density(params_sim[:, :α], fill=(0, .5,:steelblue2), lab=\"\\\\alpha_s\",  \n",
    "        linecolor=:match, linewidth=1)\n",
    "plot!(collect(α), seriestype=\"vline\", \n",
    "        lab=\"True \\\\alpha = \" * string(α), \n",
    "        linewidth=1)\n",
    "plot!(collect(mean(params_sim.α)), seriestype=\"vline\", \n",
    "        lab=\"Mean \\\\alpha = \" * string(round(mean(params_sim.α), digits=2)),\n",
    "        linewidth=1, legendfont=font(4), xtickfont=font(4), ytickfont=font(4),\n",
    "        foreground_color_legend=nothing, background_color_legend=nothing, grid=false)\n",
    "plot!(size=(200,100))\n",
    "savefig(\"1_3_4sym_alpha.png\")\n",
    "fig"
   ]
  },
  {
   "cell_type": "code",
   "execution_count": 13,
   "metadata": {
    "scrolled": false
   },
   "outputs": [
    {
     "data": {
      "image/svg+xml": [
       "<?xml version=\"1.0\" encoding=\"utf-8\"?>\n",
       "<svg xmlns=\"http://www.w3.org/2000/svg\" xmlns:xlink=\"http://www.w3.org/1999/xlink\" width=\"800\" height=\"400\" viewBox=\"0 0 3200 1600\">\n",
       "<defs>\n",
       "  <clipPath id=\"clip870\">\n",
       "    <rect x=\"0\" y=\"0\" width=\"3200\" height=\"1600\"/>\n",
       "  </clipPath>\n",
       "</defs>\n",
       "<path clip-path=\"url(#clip870)\" d=\"\n",
       "M0 1600 L3200 1600 L3200 0 L0 0  Z\n",
       "  \" fill=\"#ffffff\" fill-rule=\"evenodd\" fill-opacity=\"1\"/>\n",
       "<defs>\n",
       "  <clipPath id=\"clip871\">\n",
       "    <rect x=\"640\" y=\"0\" width=\"2241\" height=\"1600\"/>\n",
       "  </clipPath>\n",
       "</defs>\n",
       "<path clip-path=\"url(#clip870)\" d=\"\n",
       "M417.78 1281.73 L3011.02 1281.73 L3011.02 188.976 L417.78 188.976  Z\n",
       "  \" fill=\"#ffffff\" fill-rule=\"evenodd\" fill-opacity=\"1\"/>\n",
       "<defs>\n",
       "  <clipPath id=\"clip872\">\n",
       "    <rect x=\"417\" y=\"188\" width=\"2594\" height=\"1094\"/>\n",
       "  </clipPath>\n",
       "</defs>\n",
       "<polyline clip-path=\"url(#clip870)\" style=\"stroke:#000000; stroke-width:16; stroke-opacity:1; fill:none\" points=\"\n",
       "  417.78,1281.73 3011.02,1281.73 \n",
       "  \"/>\n",
       "<polyline clip-path=\"url(#clip870)\" style=\"stroke:#000000; stroke-width:16; stroke-opacity:1; fill:none\" points=\"\n",
       "  417.78,1281.73 417.78,188.976 \n",
       "  \"/>\n",
       "<polyline clip-path=\"url(#clip870)\" style=\"stroke:#000000; stroke-width:16; stroke-opacity:1; fill:none\" points=\"\n",
       "  481.465,1281.73 481.465,1268.62 \n",
       "  \"/>\n",
       "<polyline clip-path=\"url(#clip870)\" style=\"stroke:#000000; stroke-width:16; stroke-opacity:1; fill:none\" points=\"\n",
       "  1007.58,1281.73 1007.58,1268.62 \n",
       "  \"/>\n",
       "<polyline clip-path=\"url(#clip870)\" style=\"stroke:#000000; stroke-width:16; stroke-opacity:1; fill:none\" points=\"\n",
       "  1533.69,1281.73 1533.69,1268.62 \n",
       "  \"/>\n",
       "<polyline clip-path=\"url(#clip870)\" style=\"stroke:#000000; stroke-width:16; stroke-opacity:1; fill:none\" points=\"\n",
       "  2059.81,1281.73 2059.81,1268.62 \n",
       "  \"/>\n",
       "<polyline clip-path=\"url(#clip870)\" style=\"stroke:#000000; stroke-width:16; stroke-opacity:1; fill:none\" points=\"\n",
       "  2585.92,1281.73 2585.92,1268.62 \n",
       "  \"/>\n",
       "<polyline clip-path=\"url(#clip870)\" style=\"stroke:#000000; stroke-width:16; stroke-opacity:1; fill:none\" points=\"\n",
       "  417.78,1250.8 448.899,1250.8 \n",
       "  \"/>\n",
       "<polyline clip-path=\"url(#clip870)\" style=\"stroke:#000000; stroke-width:16; stroke-opacity:1; fill:none\" points=\"\n",
       "  417.78,964.916 448.899,964.916 \n",
       "  \"/>\n",
       "<polyline clip-path=\"url(#clip870)\" style=\"stroke:#000000; stroke-width:16; stroke-opacity:1; fill:none\" points=\"\n",
       "  417.78,679.026 448.899,679.026 \n",
       "  \"/>\n",
       "<polyline clip-path=\"url(#clip870)\" style=\"stroke:#000000; stroke-width:16; stroke-opacity:1; fill:none\" points=\"\n",
       "  417.78,393.137 448.899,393.137 \n",
       "  \"/>\n",
       "<g clip-path=\"url(#clip870)\">\n",
       "<text style=\"fill:#000000; fill-opacity:1; font-family:Arial,Helvetica Neue,Helvetica,sans-serif; font-size:95px; text-anchor:middle;\" transform=\"rotate(0, 481.465, 1380.53)\" x=\"481.465\" y=\"1380.53\">2</text>\n",
       "</g>\n",
       "<g clip-path=\"url(#clip870)\">\n",
       "<text style=\"fill:#000000; fill-opacity:1; font-family:Arial,Helvetica Neue,Helvetica,sans-serif; font-size:95px; text-anchor:middle;\" transform=\"rotate(0, 1007.58, 1380.53)\" x=\"1007.58\" y=\"1380.53\">4</text>\n",
       "</g>\n",
       "<g clip-path=\"url(#clip870)\">\n",
       "<text style=\"fill:#000000; fill-opacity:1; font-family:Arial,Helvetica Neue,Helvetica,sans-serif; font-size:95px; text-anchor:middle;\" transform=\"rotate(0, 1533.69, 1380.53)\" x=\"1533.69\" y=\"1380.53\">6</text>\n",
       "</g>\n",
       "<g clip-path=\"url(#clip870)\">\n",
       "<text style=\"fill:#000000; fill-opacity:1; font-family:Arial,Helvetica Neue,Helvetica,sans-serif; font-size:95px; text-anchor:middle;\" transform=\"rotate(0, 2059.81, 1380.53)\" x=\"2059.81\" y=\"1380.53\">8</text>\n",
       "</g>\n",
       "<g clip-path=\"url(#clip870)\">\n",
       "<text style=\"fill:#000000; fill-opacity:1; font-family:Arial,Helvetica Neue,Helvetica,sans-serif; font-size:95px; text-anchor:middle;\" transform=\"rotate(0, 2585.92, 1380.53)\" x=\"2585.92\" y=\"1380.53\">10</text>\n",
       "</g>\n",
       "<g clip-path=\"url(#clip870)\">\n",
       "<text style=\"fill:#000000; fill-opacity:1; font-family:Arial,Helvetica Neue,Helvetica,sans-serif; font-size:95px; text-anchor:end;\" transform=\"rotate(0, 385.78, 1285.3)\" x=\"385.78\" y=\"1285.3\">0.0</text>\n",
       "</g>\n",
       "<g clip-path=\"url(#clip870)\">\n",
       "<text style=\"fill:#000000; fill-opacity:1; font-family:Arial,Helvetica Neue,Helvetica,sans-serif; font-size:95px; text-anchor:end;\" transform=\"rotate(0, 385.78, 999.416)\" x=\"385.78\" y=\"999.416\">0.1</text>\n",
       "</g>\n",
       "<g clip-path=\"url(#clip870)\">\n",
       "<text style=\"fill:#000000; fill-opacity:1; font-family:Arial,Helvetica Neue,Helvetica,sans-serif; font-size:95px; text-anchor:end;\" transform=\"rotate(0, 385.78, 713.526)\" x=\"385.78\" y=\"713.526\">0.2</text>\n",
       "</g>\n",
       "<g clip-path=\"url(#clip870)\">\n",
       "<text style=\"fill:#000000; fill-opacity:1; font-family:Arial,Helvetica Neue,Helvetica,sans-serif; font-size:95px; text-anchor:end;\" transform=\"rotate(0, 385.78, 427.637)\" x=\"385.78\" y=\"427.637\">0.3</text>\n",
       "</g>\n",
       "<path clip-path=\"url(#clip872)\" d=\"\n",
       "M491.174 1250.76 L503.468 1250.75 L515.761 1250.73 L528.055 1250.69 L540.349 1250.64 L552.643 1250.57 L564.936 1250.47 L577.23 1250.33 L589.524 1250.13 L601.818 1249.86 \n",
       "  L614.111 1249.49 L626.405 1249.01 L638.699 1248.37 L650.993 1247.54 L663.286 1246.47 L675.58 1245.11 L687.874 1243.41 L700.168 1241.3 L712.461 1238.71 L724.755 1235.57 \n",
       "  L737.049 1231.81 L749.343 1227.36 L761.636 1222.16 L773.93 1216.15 L786.224 1209.3 L798.518 1201.56 L810.811 1192.94 L823.105 1183.44 L835.399 1173.09 L847.693 1161.94 \n",
       "  L859.986 1150.06 L872.28 1137.53 L884.574 1124.45 L896.868 1110.91 L909.161 1097.02 L921.455 1082.88 L933.749 1068.56 L946.043 1054.12 L958.336 1039.6 L970.63 1025 \n",
       "  L982.924 1010.31 L995.218 995.455 L1007.51 980.362 L1019.81 964.91 L1032.1 948.959 L1044.39 932.347 L1056.69 914.899 L1068.98 896.432 L1081.27 876.76 L1093.57 855.707 \n",
       "  L1105.86 833.111 L1118.16 808.833 L1130.45 782.766 L1142.74 754.846 L1155.04 725.06 L1167.33 693.454 L1179.62 660.143 L1191.92 625.315 L1204.21 589.237 L1216.51 552.254 \n",
       "  L1228.8 514.786 L1241.09 477.32 L1253.39 440.401 L1265.68 404.608 L1277.97 370.543 L1290.27 338.801 L1302.56 309.948 L1314.86 284.497 L1327.15 262.885 L1339.44 245.451 \n",
       "  L1351.74 232.424 L1364.03 223.914 L1376.32 219.903 L1388.62 220.256 L1400.91 224.723 L1413.21 232.957 L1425.5 244.535 L1437.79 258.972 L1450.09 275.755 L1462.38 294.354 \n",
       "  L1474.67 314.253 L1486.97 334.968 L1499.26 356.059 L1511.56 377.147 L1523.85 397.919 L1536.14 418.134 L1548.44 437.624 L1560.73 456.289 L1573.02 474.089 L1585.32 491.042 \n",
       "  L1597.61 507.208 L1609.91 522.681 L1622.2 537.581 L1634.49 552.037 L1646.79 566.187 L1659.08 580.162 L1671.37 594.083 L1683.67 608.054 L1695.96 622.163 L1708.26 636.471 \n",
       "  L1720.55 651.019 L1732.84 665.822 L1745.14 680.873 L1757.43 696.142 L1769.72 711.578 L1782.02 727.114 L1794.31 742.668 L1806.61 758.147 L1818.9 773.455 L1831.19 788.492 \n",
       "  L1843.49 803.163 L1855.78 817.386 L1868.07 831.09 L1880.37 844.225 L1892.66 856.764 L1904.96 868.704 L1917.25 880.069 L1929.54 890.908 L1941.84 901.291 L1954.13 911.308 \n",
       "  L1966.42 921.061 L1978.72 930.659 L1991.01 940.209 L2003.31 949.814 L2015.6 959.561 L2027.89 969.518 L2040.19 979.73 L2052.48 990.218 L2064.77 1000.97 L2077.07 1011.97 \n",
       "  L2089.36 1023.15 L2101.66 1034.44 L2113.95 1045.76 L2126.24 1057.01 L2138.54 1068.09 L2150.83 1078.92 L2163.12 1089.4 L2175.42 1099.47 L2187.71 1109.04 L2200 1118.07 \n",
       "  L2212.3 1126.52 L2224.59 1134.36 L2236.89 1141.58 L2249.18 1148.17 L2261.47 1154.13 L2273.77 1159.47 L2286.06 1164.2 L2298.35 1168.34 L2310.65 1171.92 L2322.94 1174.97 \n",
       "  L2335.24 1177.53 L2347.53 1179.65 L2359.82 1181.38 L2372.12 1182.79 L2384.41 1183.96 L2396.7 1184.96 L2409 1185.87 L2421.29 1186.78 L2433.59 1187.76 L2445.88 1188.89 \n",
       "  L2458.17 1190.22 L2470.47 1191.8 L2482.76 1193.68 L2495.05 1195.85 L2507.35 1198.33 L2519.64 1201.09 L2531.94 1204.1 L2544.23 1207.31 L2556.52 1210.68 L2568.82 1214.14 \n",
       "  L2581.11 1217.63 L2593.4 1221.09 L2605.7 1224.46 L2617.99 1227.68 L2630.29 1230.73 L2642.58 1233.55 L2654.87 1236.14 L2667.17 1238.47 L2679.46 1240.54 L2691.75 1242.35 \n",
       "  L2704.05 1243.92 L2716.34 1245.26 L2728.64 1246.39 L2740.93 1247.33 L2753.22 1248.09 L2765.52 1248.71 L2777.81 1249.21 L2790.1 1249.6 L2802.4 1249.91 L2814.69 1250.14 \n",
       "  L2826.99 1250.32 L2839.28 1250.46 L2851.57 1250.55 L2863.87 1250.63 L2876.16 1250.68 L2888.45 1250.72 L2900.75 1250.74 L2913.04 1250.76 L2925.34 1250.77 L2937.63 1250.77 \n",
       "  L2937.63 1250.8 L2925.34 1250.8 L2913.04 1250.8 L2900.75 1250.8 L2888.45 1250.8 L2876.16 1250.8 L2863.87 1250.8 L2851.57 1250.8 L2839.28 1250.8 L2826.99 1250.8 \n",
       "  L2814.69 1250.8 L2802.4 1250.8 L2790.1 1250.8 L2777.81 1250.8 L2765.52 1250.8 L2753.22 1250.8 L2740.93 1250.8 L2728.64 1250.8 L2716.34 1250.8 L2704.05 1250.8 \n",
       "  L2691.75 1250.8 L2679.46 1250.8 L2667.17 1250.8 L2654.87 1250.8 L2642.58 1250.8 L2630.29 1250.8 L2617.99 1250.8 L2605.7 1250.8 L2593.4 1250.8 L2581.11 1250.8 \n",
       "  L2568.82 1250.8 L2556.52 1250.8 L2544.23 1250.8 L2531.94 1250.8 L2519.64 1250.8 L2507.35 1250.8 L2495.05 1250.8 L2482.76 1250.8 L2470.47 1250.8 L2458.17 1250.8 \n",
       "  L2445.88 1250.8 L2433.59 1250.8 L2421.29 1250.8 L2409 1250.8 L2396.7 1250.8 L2384.41 1250.8 L2372.12 1250.8 L2359.82 1250.8 L2347.53 1250.8 L2335.24 1250.8 \n",
       "  L2322.94 1250.8 L2310.65 1250.8 L2298.35 1250.8 L2286.06 1250.8 L2273.77 1250.8 L2261.47 1250.8 L2249.18 1250.8 L2236.89 1250.8 L2224.59 1250.8 L2212.3 1250.8 \n",
       "  L2200 1250.8 L2187.71 1250.8 L2175.42 1250.8 L2163.12 1250.8 L2150.83 1250.8 L2138.54 1250.8 L2126.24 1250.8 L2113.95 1250.8 L2101.66 1250.8 L2089.36 1250.8 \n",
       "  L2077.07 1250.8 L2064.77 1250.8 L2052.48 1250.8 L2040.19 1250.8 L2027.89 1250.8 L2015.6 1250.8 L2003.31 1250.8 L1991.01 1250.8 L1978.72 1250.8 L1966.42 1250.8 \n",
       "  L1954.13 1250.8 L1941.84 1250.8 L1929.54 1250.8 L1917.25 1250.8 L1904.96 1250.8 L1892.66 1250.8 L1880.37 1250.8 L1868.07 1250.8 L1855.78 1250.8 L1843.49 1250.8 \n",
       "  L1831.19 1250.8 L1818.9 1250.8 L1806.61 1250.8 L1794.31 1250.8 L1782.02 1250.8 L1769.72 1250.8 L1757.43 1250.8 L1745.14 1250.8 L1732.84 1250.8 L1720.55 1250.8 \n",
       "  L1708.26 1250.8 L1695.96 1250.8 L1683.67 1250.8 L1671.37 1250.8 L1659.08 1250.8 L1646.79 1250.8 L1634.49 1250.8 L1622.2 1250.8 L1609.91 1250.8 L1597.61 1250.8 \n",
       "  L1585.32 1250.8 L1573.02 1250.8 L1560.73 1250.8 L1548.44 1250.8 L1536.14 1250.8 L1523.85 1250.8 L1511.56 1250.8 L1499.26 1250.8 L1486.97 1250.8 L1474.67 1250.8 \n",
       "  L1462.38 1250.8 L1450.09 1250.8 L1437.79 1250.8 L1425.5 1250.8 L1413.21 1250.8 L1400.91 1250.8 L1388.62 1250.8 L1376.32 1250.8 L1364.03 1250.8 L1351.74 1250.8 \n",
       "  L1339.44 1250.8 L1327.15 1250.8 L1314.86 1250.8 L1302.56 1250.8 L1290.27 1250.8 L1277.97 1250.8 L1265.68 1250.8 L1253.39 1250.8 L1241.09 1250.8 L1228.8 1250.8 \n",
       "  L1216.51 1250.8 L1204.21 1250.8 L1191.92 1250.8 L1179.62 1250.8 L1167.33 1250.8 L1155.04 1250.8 L1142.74 1250.8 L1130.45 1250.8 L1118.16 1250.8 L1105.86 1250.8 \n",
       "  L1093.57 1250.8 L1081.27 1250.8 L1068.98 1250.8 L1056.69 1250.8 L1044.39 1250.8 L1032.1 1250.8 L1019.81 1250.8 L1007.51 1250.8 L995.218 1250.8 L982.924 1250.8 \n",
       "  L970.63 1250.8 L958.336 1250.8 L946.043 1250.8 L933.749 1250.8 L921.455 1250.8 L909.161 1250.8 L896.868 1250.8 L884.574 1250.8 L872.28 1250.8 L859.986 1250.8 \n",
       "  L847.693 1250.8 L835.399 1250.8 L823.105 1250.8 L810.811 1250.8 L798.518 1250.8 L786.224 1250.8 L773.93 1250.8 L761.636 1250.8 L749.343 1250.8 L737.049 1250.8 \n",
       "  L724.755 1250.8 L712.461 1250.8 L700.168 1250.8 L687.874 1250.8 L675.58 1250.8 L663.286 1250.8 L650.993 1250.8 L638.699 1250.8 L626.405 1250.8 L614.111 1250.8 \n",
       "  L601.818 1250.8 L589.524 1250.8 L577.23 1250.8 L564.936 1250.8 L552.643 1250.8 L540.349 1250.8 L528.055 1250.8 L515.761 1250.8 L503.468 1250.8 L491.174 1250.8 \n",
       "   Z\n",
       "  \" fill=\"#5cacee\" fill-rule=\"evenodd\" fill-opacity=\"0.5\"/>\n",
       "<polyline clip-path=\"url(#clip872)\" style=\"stroke:#009af9; stroke-width:16; stroke-opacity:1; fill:none\" points=\"\n",
       "  491.174,1250.76 503.468,1250.75 515.761,1250.73 528.055,1250.69 540.349,1250.64 552.643,1250.57 564.936,1250.47 577.23,1250.33 589.524,1250.13 601.818,1249.86 \n",
       "  614.111,1249.49 626.405,1249.01 638.699,1248.37 650.993,1247.54 663.286,1246.47 675.58,1245.11 687.874,1243.41 700.168,1241.3 712.461,1238.71 724.755,1235.57 \n",
       "  737.049,1231.81 749.343,1227.36 761.636,1222.16 773.93,1216.15 786.224,1209.3 798.518,1201.56 810.811,1192.94 823.105,1183.44 835.399,1173.09 847.693,1161.94 \n",
       "  859.986,1150.06 872.28,1137.53 884.574,1124.45 896.868,1110.91 909.161,1097.02 921.455,1082.88 933.749,1068.56 946.043,1054.12 958.336,1039.6 970.63,1025 \n",
       "  982.924,1010.31 995.218,995.455 1007.51,980.362 1019.81,964.91 1032.1,948.959 1044.39,932.347 1056.69,914.899 1068.98,896.432 1081.27,876.76 1093.57,855.707 \n",
       "  1105.86,833.111 1118.16,808.833 1130.45,782.766 1142.74,754.846 1155.04,725.06 1167.33,693.454 1179.62,660.143 1191.92,625.315 1204.21,589.237 1216.51,552.254 \n",
       "  1228.8,514.786 1241.09,477.32 1253.39,440.401 1265.68,404.608 1277.97,370.543 1290.27,338.801 1302.56,309.948 1314.86,284.497 1327.15,262.885 1339.44,245.451 \n",
       "  1351.74,232.424 1364.03,223.914 1376.32,219.903 1388.62,220.256 1400.91,224.723 1413.21,232.957 1425.5,244.535 1437.79,258.972 1450.09,275.755 1462.38,294.354 \n",
       "  1474.67,314.253 1486.97,334.968 1499.26,356.059 1511.56,377.147 1523.85,397.919 1536.14,418.134 1548.44,437.624 1560.73,456.289 1573.02,474.089 1585.32,491.042 \n",
       "  1597.61,507.208 1609.91,522.681 1622.2,537.581 1634.49,552.037 1646.79,566.187 1659.08,580.162 1671.37,594.083 1683.67,608.054 1695.96,622.163 1708.26,636.471 \n",
       "  1720.55,651.019 1732.84,665.822 1745.14,680.873 1757.43,696.142 1769.72,711.578 1782.02,727.114 1794.31,742.668 1806.61,758.147 1818.9,773.455 1831.19,788.492 \n",
       "  1843.49,803.163 1855.78,817.386 1868.07,831.09 1880.37,844.225 1892.66,856.764 1904.96,868.704 1917.25,880.069 1929.54,890.908 1941.84,901.291 1954.13,911.308 \n",
       "  1966.42,921.061 1978.72,930.659 1991.01,940.209 2003.31,949.814 2015.6,959.561 2027.89,969.518 2040.19,979.73 2052.48,990.218 2064.77,1000.97 2077.07,1011.97 \n",
       "  2089.36,1023.15 2101.66,1034.44 2113.95,1045.76 2126.24,1057.01 2138.54,1068.09 2150.83,1078.92 2163.12,1089.4 2175.42,1099.47 2187.71,1109.04 2200,1118.07 \n",
       "  2212.3,1126.52 2224.59,1134.36 2236.89,1141.58 2249.18,1148.17 2261.47,1154.13 2273.77,1159.47 2286.06,1164.2 2298.35,1168.34 2310.65,1171.92 2322.94,1174.97 \n",
       "  2335.24,1177.53 2347.53,1179.65 2359.82,1181.38 2372.12,1182.79 2384.41,1183.96 2396.7,1184.96 2409,1185.87 2421.29,1186.78 2433.59,1187.76 2445.88,1188.89 \n",
       "  2458.17,1190.22 2470.47,1191.8 2482.76,1193.68 2495.05,1195.85 2507.35,1198.33 2519.64,1201.09 2531.94,1204.1 2544.23,1207.31 2556.52,1210.68 2568.82,1214.14 \n",
       "  2581.11,1217.63 2593.4,1221.09 2605.7,1224.46 2617.99,1227.68 2630.29,1230.73 2642.58,1233.55 2654.87,1236.14 2667.17,1238.47 2679.46,1240.54 2691.75,1242.35 \n",
       "  2704.05,1243.92 2716.34,1245.26 2728.64,1246.39 2740.93,1247.33 2753.22,1248.09 2765.52,1248.71 2777.81,1249.21 2790.1,1249.6 2802.4,1249.91 2814.69,1250.14 \n",
       "  2826.99,1250.32 2839.28,1250.46 2851.57,1250.55 2863.87,1250.63 2876.16,1250.68 2888.45,1250.72 2900.75,1250.74 2913.04,1250.76 2925.34,1250.77 2937.63,1250.77 \n",
       "  \n",
       "  \"/>\n",
       "<polyline clip-path=\"url(#clip872)\" style=\"stroke:#e26f46; stroke-width:16; stroke-opacity:1; fill:none\" points=\"\n",
       "  1533.69,2374.49 1533.69,-903.779 \n",
       "  \"/>\n",
       "<polyline clip-path=\"url(#clip872)\" style=\"stroke:#3da44d; stroke-width:16; stroke-opacity:1; fill:none\" points=\"\n",
       "  1525.45,2374.49 1525.45,-903.779 \n",
       "  \"/>\n",
       "<path clip-path=\"url(#clip870)\" d=\"\n",
       "M1979.22 743.856 L2915.02 743.856 L2915.02 260.016 L1979.22 260.016  Z\n",
       "  \" fill=\"#000000\" fill-rule=\"evenodd\" fill-opacity=\"0\"/>\n",
       "<polyline clip-path=\"url(#clip870)\" style=\"stroke:#000000; stroke-width:16; stroke-opacity:0; fill:none\" points=\"\n",
       "  1979.22,743.856 2915.02,743.856 2915.02,260.016 1979.22,260.016 1979.22,743.856 \n",
       "  \"/>\n",
       "<path clip-path=\"url(#clip870)\" d=\"\n",
       "M2011.22 429.36 L2203.22 429.36 L2203.22 332.592 L2011.22 332.592 L2011.22 429.36  Z\n",
       "  \" fill=\"#5cacee\" fill-rule=\"evenodd\" fill-opacity=\"0.5\"/>\n",
       "<polyline clip-path=\"url(#clip870)\" style=\"stroke:#009af9; stroke-width:16; stroke-opacity:1; fill:none\" points=\"\n",
       "  2011.22,332.592 2203.22,332.592 \n",
       "  \"/>\n",
       "<g clip-path=\"url(#clip870)\">\n",
       "<text style=\"fill:#000000; fill-opacity:1; font-family:Symbol; font-size:103px; text-anchor:start;\" transform=\"rotate(0, 2235.22, 396.788)\" x=\"2235.22\" y=\"396.788\">δ</text>\n",
       "</g>\n",
       "<g clip-path=\"url(#clip870)\">\n",
       "<text style=\"fill:#000000; fill-opacity:1; font-family:Arial,Helvetica Neue,Helvetica,sans-serif; font-size:77px; text-anchor:start;\" transform=\"rotate(0, 2286.42, 424.047)\" x=\"2286.42\" y=\"424.047\">s</text>\n",
       "</g>\n",
       "<polyline clip-path=\"url(#clip870)\" style=\"stroke:#e26f46; stroke-width:16; stroke-opacity:1; fill:none\" points=\"\n",
       "  2011.22,501.936 2203.22,501.936 \n",
       "  \"/>\n",
       "<g clip-path=\"url(#clip870)\">\n",
       "<text style=\"fill:#000000; fill-opacity:1; font-family:Arial,Helvetica Neue,Helvetica,sans-serif; font-size:95px; text-anchor:start;\" transform=\"rotate(0, 2235.22, 529.239)\" x=\"2235.22\" y=\"529.239\">True </text>\n",
       "</g>\n",
       "<g clip-path=\"url(#clip870)\">\n",
       "<text style=\"fill:#000000; fill-opacity:1; font-family:Symbol; font-size:103px; text-anchor:start;\" transform=\"rotate(0, 2459.91, 529.239)\" x=\"2459.91\" y=\"529.239\">δ</text>\n",
       "</g>\n",
       "<g clip-path=\"url(#clip870)\">\n",
       "<text style=\"fill:#000000; fill-opacity:1; font-family:Arial,Helvetica Neue,Helvetica,sans-serif; font-size:95px; text-anchor:start;\" transform=\"rotate(0, 2511.1, 529.239)\" x=\"2511.1\" y=\"529.239\"> = 6</text>\n",
       "</g>\n",
       "<polyline clip-path=\"url(#clip870)\" style=\"stroke:#3da44d; stroke-width:16; stroke-opacity:1; fill:none\" points=\"\n",
       "  2011.22,622.896 2203.22,622.896 \n",
       "  \"/>\n",
       "<g clip-path=\"url(#clip870)\">\n",
       "<text style=\"fill:#000000; fill-opacity:1; font-family:Arial,Helvetica Neue,Helvetica,sans-serif; font-size:95px; text-anchor:start;\" transform=\"rotate(0, 2235.22, 650.199)\" x=\"2235.22\" y=\"650.199\">Mean </text>\n",
       "</g>\n",
       "<g clip-path=\"url(#clip870)\">\n",
       "<text style=\"fill:#000000; fill-opacity:1; font-family:Symbol; font-size:103px; text-anchor:start;\" transform=\"rotate(0, 2502.75, 650.199)\" x=\"2502.75\" y=\"650.199\">δ</text>\n",
       "</g>\n",
       "<g clip-path=\"url(#clip870)\">\n",
       "<text style=\"fill:#000000; fill-opacity:1; font-family:Arial,Helvetica Neue,Helvetica,sans-serif; font-size:95px; text-anchor:start;\" transform=\"rotate(0, 2553.94, 650.199)\" x=\"2553.94\" y=\"650.199\"> = 5.97</text>\n",
       "</g>\n",
       "</svg>\n"
      ]
     },
     "execution_count": 13,
     "metadata": {},
     "output_type": "execute_result"
    }
   ],
   "source": [
    "# δ\n",
    "fig = density(params_sim[:, :δ], fill=(0, .5,:steelblue2), lab=\"\\\\delta_s\",  \n",
    "        linecolor=:match, linewidth=1)\n",
    "plot!(collect(δ), seriestype=\"vline\", \n",
    "        lab=\"True \\\\delta = \" * string(δ), \n",
    "        linewidth=1)\n",
    "plot!(collect(mean(params_sim.δ)), seriestype=\"vline\", \n",
    "        lab=\"Mean \\\\delta = \" * string(round(mean(params_sim.δ), digits=2)),\n",
    "        linewidth=1, legendfont=font(4), xtickfont=font(4), ytickfont=font(4),\n",
    "        foreground_color_legend=nothing, background_color_legend=nothing, grid=false)\n",
    "plot!(size=(200,100))\n",
    "savefig(\"1_3_4sym_delta.png\");\n",
    "fig"
   ]
  },
  {
   "cell_type": "markdown",
   "metadata": {},
   "source": [
    "##### Estimating with random equilibria\n",
    "\n",
    "# EM-ALGORITHM?\n",
    "\n",
    "We consider mixture weights $\\omega_i$ as auxiliary parameters for $i \\in \\{1,2,3\\}$"
   ]
  },
  {
   "cell_type": "markdown",
   "metadata": {},
   "source": [
    "##### Functions for log-likelihood evaluation to determine convergence"
   ]
  },
  {
   "cell_type": "code",
   "execution_count": 14,
   "metadata": {},
   "outputs": [],
   "source": [
    "# Adjust weights to ensure bounds work\n",
    "ω_bound(ω,i) = exp(ω[i]) / (sum(exp.(ω)));"
   ]
  },
  {
   "cell_type": "code",
   "execution_count": 15,
   "metadata": {},
   "outputs": [],
   "source": [
    "# Likelihood individual term\n",
    "l_mix_i = function(; α, δ, x, p, y)\n",
    "    y1 = br_eq_vec(α=α, δ=δ, x=x, p=p).^y\n",
    "    y0 = (Ref(1.0) .- br_eq_vec(α=α, δ=δ, x=x, p=p)).^(Ref(1.0) .- y)\n",
    "    return y1 .* y0\n",
    "end\n",
    "\n",
    "# Log-Likelihood function for mixture\n",
    "ll_mix_all = function(; α, δ, ω=[1/3, 1/3, 1/3])\n",
    "    dt_temp = copy(dt_sim); \n",
    "    dt_temp.p̂1_1 = Ref(-1.0); dt_temp.p̂1_2 = Ref(-1.0); dt_temp.p̂1_3 = Ref(-1.0); \n",
    "    dt_temp.p̂2_1 = Ref(-1.0); dt_temp.p̂2_2 = Ref(-1.0); dt_temp.p̂2_3 = Ref(-1.0)\n",
    "    for r in 1:nrow(dt_temp)\n",
    "        row = dt_temp[r,:]\n",
    "        p̂_1 = fxp_eq(α=α, δ=δ, x=row.x, p=[1, 0])\n",
    "        p̂_2 = fxp_eq(α=α, δ=δ, x=row.x, p=[0.5, 0.5])\n",
    "        p̂_3 = fxp_eq(α=α, δ=δ, x=row.x, p=[0, 1])\n",
    "        dt_temp[r, :p̂1_1] = p̂_1[1]; dt_temp[r, :p̂1_2] = p̂_2[1]; dt_temp[r, :p̂1_3] = p̂_3[1]\n",
    "        dt_temp[r, :p̂2_1] = p̂_1[2]; dt_temp[r, :p̂2_2] = p̂_2[2]; dt_temp[r, :p̂2_3] = p̂_3[2]\n",
    "    end\n",
    "    prob_eq1 =  ω_bound(ω,1).*l_mix_i(α=α, δ=δ, x=dt_temp.x, p=dt_temp.p̂2_1, y=dt_temp.y_1) .*\n",
    "                    l_mix_i(α=α, δ=δ, x=dt_temp.x, p=dt_temp.p̂1_1, y=dt_temp.y_2)\n",
    "    prob_eq2 =  ω_bound(ω,2).*l_mix_i(α=α, δ=δ, x=dt_temp.x, p=dt_temp.p̂2_2, y=dt_temp.y_1) .*\n",
    "                    l_mix_i(α=α, δ=δ, x=dt_temp.x, p=dt_temp.p̂1_2, y=dt_temp.y_2)\n",
    "    prob_eq3 =  ω_bound(ω,3).*l_mix_i(α=α, δ=δ, x=dt_temp.x, p=dt_temp.p̂2_3, y=dt_temp.y_1) .*\n",
    "                    l_mix_i(α=α, δ=δ, x=dt_temp.x, p=dt_temp.p̂1_3, y=dt_temp.y_2)\n",
    "    prob = log.(prob_eq1 .+ prob_eq2 .+ prob_eq3)\n",
    "    return sum(prob)\n",
    "end\n",
    "\n",
    "# Adapt Log-Likelihood to pass to Optim\n",
    "ll_mix_optim = function(θ)\n",
    "    α=θ[1]; δ=θ[2]; ω=θ[3:5]\n",
    "    return -1.0 .* ll_mix_all(α=α, δ=δ, ω=ω)\n",
    "end;"
   ]
  },
  {
   "cell_type": "markdown",
   "metadata": {},
   "source": [
    "We now check to make sure this is working properly for some values of $\\theta$."
   ]
  },
  {
   "cell_type": "code",
   "execution_count": 16,
   "metadata": {},
   "outputs": [
    {
     "data": {
      "text/plain": [
       "1166.2915147615338"
      ]
     },
     "execution_count": 16,
     "metadata": {},
     "output_type": "execute_result"
    }
   ],
   "source": [
    "dt_sim = copy(dt[dt[:s].==1,:]);\n",
    "ll_mix_optim([3.0,6.0,1/3,1/3,1/3])"
   ]
  },
  {
   "cell_type": "code",
   "execution_count": 17,
   "metadata": {
    "scrolled": true
   },
   "outputs": [
    {
     "data": {
      "text/plain": [
       "1153.673567696966"
      ]
     },
     "execution_count": 17,
     "metadata": {},
     "output_type": "execute_result"
    }
   ],
   "source": [
    "ll_mix_optim([3.0,6.0,0.2,0.3,0.5])"
   ]
  },
  {
   "cell_type": "code",
   "execution_count": 18,
   "metadata": {},
   "outputs": [
    {
     "data": {
      "text/plain": [
       "1247.2589389340085"
      ]
     },
     "execution_count": 18,
     "metadata": {},
     "output_type": "execute_result"
    }
   ],
   "source": [
    "ll_mix_optim([1.0,1.0,0.2,0.3,0.5])"
   ]
  },
  {
   "cell_type": "markdown",
   "metadata": {},
   "source": [
    "##### Functions for EM algorithm to estimate the parameters"
   ]
  },
  {
   "cell_type": "code",
   "execution_count": 101,
   "metadata": {},
   "outputs": [],
   "source": [
    "# Expected log-likelihood function\n",
    "E_ll_mix_all = function(; α, δ, ω, z_weights)\n",
    "    dt_temp = copy(dt_sim); \n",
    "    dt_temp.p̂1_1 = Ref(-1.0); dt_temp.p̂1_2 = Ref(-1.0); dt_temp.p̂1_3 = Ref(-1.0); \n",
    "    dt_temp.p̂2_1 = Ref(-1.0); dt_temp.p̂2_2 = Ref(-1.0); dt_temp.p̂2_3 = Ref(-1.0)\n",
    "    for r in 1:nrow(dt_temp)\n",
    "        row = dt_temp[r,:]\n",
    "        p̂_1 = fxp_eq(α=α, δ=δ, x=row.x, p=[1, 0])\n",
    "        p̂_2 = fxp_eq(α=α, δ=δ, x=row.x, p=[0.5, 0.5])\n",
    "        p̂_3 = fxp_eq(α=α, δ=δ, x=row.x, p=[0, 1])\n",
    "        dt_temp[r, :p̂1_1] = p̂_1[1]; dt_temp[r, :p̂1_2] = p̂_2[1]; dt_temp[r, :p̂1_3] = p̂_3[1]\n",
    "        dt_temp[r, :p̂2_1] = p̂_1[2]; dt_temp[r, :p̂2_2] = p̂_2[2]; dt_temp[r, :p̂2_3] = p̂_3[2]\n",
    "    end\n",
    "    prob1 = z_weights[:,1].*(log.(ω_bound(ω,1)) .+ \n",
    "                ll_i(α=α, δ=δ, x=dt_temp.x, p=dt_temp.p̂2_1, y=dt_temp.y_1)) .+\n",
    "            z_weights[:,2].*(log.(ω_bound(ω,2)) .+ \n",
    "                ll_i(α=α, δ=δ, x=dt_temp.x, p=dt_temp.p̂2_2, y=dt_temp.y_1)) .+\n",
    "            z_weights[:,3].*(log.(ω_bound(ω,3)) .+ \n",
    "                ll_i(α=α, δ=δ, x=dt_temp.x, p=dt_temp.p̂2_3, y=dt_temp.y_1))\n",
    "    prob2 = z_weights[:,1].*(log.(ω_bound(ω,1)) .+ \n",
    "                ll_i(α=α, δ=δ, x=dt_temp.x, p=dt_temp.p̂1_1, y=dt_temp.y_2)) .+\n",
    "            z_weights[:,2].*(log.(ω_bound(ω,2)) .+ \n",
    "                ll_i(α=α, δ=δ, x=dt_temp.x, p=dt_temp.p̂1_2, y=dt_temp.y_2)) .+\n",
    "            z_weights[:,3].*(log.(ω_bound(ω,3)) .+ \n",
    "                ll_i(α=α, δ=δ, x=dt_temp.x, p=dt_temp.p̂1_3, y=dt_temp.y_2))\n",
    "    prob = prob1 .+ prob2\n",
    "    return sum(prob)\n",
    "end\n",
    "\n",
    "\n",
    "# EM iteration\n",
    "em_step = function(; θ, iters=100, trace_on=false)\n",
    "    α=θ[1]; δ=θ[2]; ω=θ[3:5];\n",
    "    dt_temp = copy(dt_sim); \n",
    "    \n",
    "    \n",
    "    # Likelihood of each observation's equilibrium given parameter values (E step)\n",
    "    dt_temp.p̂1_1 = Ref(-1.0); dt_temp.p̂1_2 = Ref(-1.0); dt_temp.p̂1_3 = Ref(-1.0); \n",
    "    dt_temp.p̂2_1 = Ref(-1.0); dt_temp.p̂2_2 = Ref(-1.0); dt_temp.p̂2_3 = Ref(-1.0)\n",
    "    for r in 1:nrow(dt_temp)\n",
    "        row = dt_temp[r,:]\n",
    "        p̂_1 = fxp_eq(α=α, δ=δ, x=row.x, p=[1, 0])\n",
    "        p̂_2 = fxp_eq(α=α, δ=δ, x=row.x, p=[0.5, 0.5])\n",
    "        p̂_3 = fxp_eq(α=α, δ=δ, x=row.x, p=[0, 1])\n",
    "        dt_temp[r, :p̂1_1] = p̂_1[1]; dt_temp[r, :p̂1_2] = p̂_2[1]; dt_temp[r, :p̂1_3] = p̂_3[1]\n",
    "        dt_temp[r, :p̂2_1] = p̂_1[2]; dt_temp[r, :p̂2_2] = p̂_2[2]; dt_temp[r, :p̂2_3] = p̂_3[2]\n",
    "    end\n",
    "    prob_eq1 =  ω_bound(ω,1).*l_mix_i(α=α, δ=δ, x=dt_temp.x, p=dt_temp.p̂2_1, y=dt_temp.y_1) .*\n",
    "                    l_mix_i(α=α, δ=δ, x=dt_temp.x, p=dt_temp.p̂1_1, y=dt_temp.y_2)\n",
    "    prob_eq2 =  ω_bound(ω,2).*l_mix_i(α=α, δ=δ, x=dt_temp.x, p=dt_temp.p̂2_2, y=dt_temp.y_1) .*\n",
    "                    l_mix_i(α=α, δ=δ, x=dt_temp.x, p=dt_temp.p̂1_2, y=dt_temp.y_2)\n",
    "    prob_eq3 =  ω_bound(ω,3).*l_mix_i(α=α, δ=δ, x=dt_temp.x, p=dt_temp.p̂2_3, y=dt_temp.y_1) .*\n",
    "                    l_mix_i(α=α, δ=δ, x=dt_temp.x, p=dt_temp.p̂1_3, y=dt_temp.y_2)\n",
    "    probs = hcat(prob_eq1, prob_eq2, prob_eq3)\n",
    "    p_rowsum = sum(probs, dims=2)\n",
    "    z_weights = probs ./ hcat(p_rowsum, p_rowsum, p_rowsum)\n",
    "    \n",
    "    # Maximize likelihood given weights (M step)\n",
    "    ω_mle = mean(z_weights, dims=1)\n",
    "    ω_mle ./ sum(ω_mle)\n",
    "        # Adapt E[Log-Likelihood] to pass to Optim\n",
    "        E_ll_mix_optim = function(θ)\n",
    "            α=θ[1]; δ=θ[2];\n",
    "            return -1.0 .* E_ll_mix_all(α=α, δ=δ, ω=ω_mle, z_weights=z_weights)\n",
    "        end;\n",
    "    optimum_g = optimize(E_ll_mix_optim, θ[1:2], Optim.Options(show_trace = trace_on, iterations=iters))\n",
    "    θ = optimum_g.minimizer\n",
    "    θ = vcat(θ, ω_mle')\n",
    "    return θ\n",
    "end\n",
    "\n",
    "\n",
    "# Implement EM algorithm\n",
    "em_alg = function(; θ_0, iters_step=10, lik_trace_on=false, em_trace_on=false, ϵ_conv=1e-6, maxiter=10000)\n",
    "    diff = 1; ll_0 = 0; iter = 1\n",
    "    while (diff > ϵ_conv) & (iter < maxiter)\n",
    "        θ_1 = em_step(θ=θ_0, iters=iters_step, trace_on=lik_trace_on)\n",
    "        ll_1 = ll_mix_optim(θ_1)\n",
    "        diff = abs(ll_1 - ll_0)\n",
    "        θ_0 = θ_1; ll_0 = ll_1; iter = iter + 1\n",
    "        if em_trace_on == true\n",
    "            println(\"Log-likelihood is \" * string(round(ll_1, digits=4)))\n",
    "            println(\"    θ is \" * string(round.(θ_0, digits=4)))\n",
    "        end\n",
    "    end\n",
    "    return θ_0\n",
    "end;"
   ]
  },
  {
   "cell_type": "markdown",
   "metadata": {},
   "source": [
    "First, test the EM algorithm function for reasonably far values of $\\theta$ (particularly $\\alpha$ and $\\delta$) and uniform prior on the equilibria:"
   ]
  },
  {
   "cell_type": "code",
   "execution_count": 102,
   "metadata": {
    "scrolled": true
   },
   "outputs": [
    {
     "name": "stdout",
     "output_type": "stream",
     "text": [
      "Log-likelihood is 1232.7262\n",
      "    θ is [1.5296; 2.6146; 0.3333; 0.3333; 0.3333]\n",
      "Log-likelihood is 1231.1085\n",
      "    θ is [2.114; 3.9603; 0.3333; 0.3333; 0.3333]\n",
      "Log-likelihood is 1231.1085\n",
      "    θ is [2.114; 3.9603; 0.3333; 0.3333; 0.3333]\n"
     ]
    },
    {
     "data": {
      "text/plain": [
       "5×1 Array{Float64,2}:\n",
       " 2.1139674082398403\n",
       " 3.960316739976405\n",
       " 0.3333333333335865\n",
       " 0.33333333333333315\n",
       " 0.3333333333330802"
      ]
     },
     "execution_count": 102,
     "metadata": {},
     "output_type": "execute_result"
    }
   ],
   "source": [
    "em_alg(θ_0 = [1.0,2.0, 1/3,1/3,1/3], iters_step=10, lik_trace_on=false, em_trace_on=true, ϵ_conv=1e-5,\n",
    "        maxiter=5)"
   ]
  },
  {
   "cell_type": "markdown",
   "metadata": {},
   "source": [
    "While the $\\alpha$ and $\\delta$ values start approaching their true value initially, they do not change much with the EM iterations, and the weights do not change much, either.  Testing a few parameter values and starting points reveals that this algorithm can be very slow to converge, and there are many relatively flat spots (so the algorithm gets stuck away from the true parameter values before fine-tuning the weights).  To work around this, we search for different starting points and then let the algorithm work from there."
   ]
  },
  {
   "cell_type": "markdown",
   "metadata": {},
   "source": [
    "##### Function to search starting points for EM algorithm"
   ]
  },
  {
   "cell_type": "code",
   "execution_count": 119,
   "metadata": {
    "scrolled": false
   },
   "outputs": [
    {
     "name": "stdout",
     "output_type": "stream",
     "text": [
      "Log-likelihood is 1078.7239\n",
      "    θ is [3.0471; 5.9932; 0.1759; 0.3181; 0.506]\n",
      "Log-likelihood is 1068.9008\n",
      "    θ is [3.1304; 6.1486; 0.1573; 0.2986; 0.544]\n",
      "Log-likelihood is 1066.4811\n",
      "    θ is [3.1304; 6.1486; 0.153; 0.2916; 0.5554]\n",
      "Log-likelihood is 1065.7942\n",
      "    θ is [3.1304; 6.1486; 0.1522; 0.2889; 0.5589]\n"
     ]
    },
    {
     "data": {
      "text/plain": [
       "5×1 Array{Float64,2}:\n",
       " 3.1303657735348676\n",
       " 6.148637120472267\n",
       " 0.15215747180890507\n",
       " 0.288906798642965\n",
       " 0.5589357295481302"
      ]
     },
     "execution_count": 119,
     "metadata": {},
     "output_type": "execute_result"
    }
   ],
   "source": [
    "em_alg(θ_0 = [3.0,6.0, 1/3,1/3,1/3], iters_step=10, lik_trace_on=false, em_trace_on=true, \n",
    "    ϵ_conv=1e-2, maxiter=5)"
   ]
  },
  {
   "cell_type": "code",
   "execution_count": 453,
   "metadata": {},
   "outputs": [],
   "source": [
    "em_alg_search = function(; α_low=2.0, α_high=5.0, δ_low=4.0, δ_high=7.0, α_step=1.0, δ_step=1.0,\n",
    "            ω_start=[1/3,1/3,1/3], trace=false)\n",
    "    # Set up search\n",
    "    αδ_grid = [[α,δ] for α in α_low:α_step:α_high for δ in δ_low:δ_step:δ_high]\n",
    "    for r in 1:length(αδ_grid)\n",
    "        αδ_grid[r] = vcat(αδ_grid[r], ω_start)\n",
    "    end\n",
    "    \n",
    "    # EM search for starting value\n",
    "    θ_grid = αδ_grid\n",
    "    ll_store = fill(Inf, length(θ_grid))\n",
    "    θ_store = θ_grid\n",
    "    for r in 1:length(θ_grid)\n",
    "#         θ_store[r] = vec(em_alg(θ_0 = θ_grid[r], iters_step=10, ϵ_conv=1e-3, maxiter=5))\n",
    "#         ll_store[r] = ll_mix_optim(vec(θ_store[r]))\n",
    "        ll_store[r] = ll_mix_optim(vec(θ_store[r]))\n",
    "        if trace==true\n",
    "            println(\"Likelihood \" * string(ll_store[r]) * \" and θ = \" * string(round.(θ_store[r], digits=4)))\n",
    "        end\n",
    "    end\n",
    "    start_index = findmin(ll_store)[2]\n",
    "    if trace==true\n",
    "        println(\" \")\n",
    "        println(\" New starting value is \" * string(θ_store[start_index]) * \n",
    "                \" with LL = \" * string(ll_store[start_index]))\n",
    "        println(\" \")\n",
    "    end\n",
    "        \n",
    "    # EM from best starting value\n",
    "    θ_opt = em_alg(θ_0 = θ_store[start_index], iters_step=10, ϵ_conv=1e-4)\n",
    "    return θ_opt\n",
    "end;"
   ]
  },
  {
   "cell_type": "code",
   "execution_count": 452,
   "metadata": {
    "scrolled": true
   },
   "outputs": [
    {
     "name": "stdout",
     "output_type": "stream",
     "text": [
      "Likelihood 1233.881609987576 and θ = [2.0, 4.0, 0.3333, 0.3333, 0.3333]\n",
      "Likelihood 1206.5778561458444 and θ = [2.0, 4.25, 0.3333, 0.3333, 0.3333]\n",
      "Likelihood 1192.4450771274512 and θ = [2.0, 4.5, 0.3333, 0.3333, 0.3333]\n",
      "Likelihood 1203.5415264625653 and θ = [2.0, 4.75, 0.3333, 0.3333, 0.3333]\n",
      "Likelihood 1249.7094855671305 and θ = [2.0, 5.0, 0.3333, 0.3333, 0.3333]\n",
      "Likelihood 1297.71486240587 and θ = [2.0, 5.25, 0.3333, 0.3333, 0.3333]\n",
      "Likelihood 1345.7053046734811 and θ = [2.0, 5.5, 0.3333, 0.3333, 0.3333]\n",
      "Likelihood 1392.5965155864885 and θ = [2.0, 5.75, 0.3333, 0.3333, 0.3333]\n",
      "Likelihood 1437.7150878263228 and θ = [2.0, 6.0, 0.3333, 0.3333, 0.3333]\n",
      "Likelihood 1480.6312381512182 and θ = [2.0, 6.25, 0.3333, 0.3333, 0.3333]\n",
      "Likelihood 1521.080623484389 and θ = [2.0, 6.5, 0.3333, 0.3333, 0.3333]\n",
      "Likelihood 1558.9261645483994 and θ = [2.0, 6.75, 0.3333, 0.3333, 0.3333]\n",
      "Likelihood 1594.13490886218 and θ = [2.0, 7.0, 0.3333, 0.3333, 0.3333]\n",
      "Likelihood 1233.1583113942365 and θ = [2.25, 4.0, 0.3333, 0.3333, 0.3333]\n",
      "Likelihood 1198.3502004480274 and θ = [2.25, 4.25, 0.3333, 0.3333, 0.3333]\n",
      "Likelihood 1176.434990137715 and θ = [2.25, 4.5, 0.3333, 0.3333, 0.3333]\n",
      "Likelihood 1164.6231669844694 and θ = [2.25, 4.75, 0.3333, 0.3333, 0.3333]\n",
      "Likelihood 1168.7913692878399 and θ = [2.25, 5.0, 0.3333, 0.3333, 0.3333]\n",
      "Likelihood 1214.2042599842919 and θ = [2.25, 5.25, 0.3333, 0.3333, 0.3333]\n",
      "Likelihood 1261.2665988640458 and θ = [2.25, 5.5, 0.3333, 0.3333, 0.3333]\n",
      "Likelihood 1308.2086782563745 and θ = [2.25, 5.75, 0.3333, 0.3333, 0.3333]\n",
      "Likelihood 1354.058426805036 and θ = [2.25, 6.0, 0.3333, 0.3333, 0.3333]\n",
      "Likelihood 1398.2349627993674 and θ = [2.25, 6.25, 0.3333, 0.3333, 0.3333]\n",
      "Likelihood 1440.3608520087068 and θ = [2.25, 6.5, 0.3333, 0.3333, 0.3333]\n",
      "Likelihood 1480.1833576508368 and θ = [2.25, 6.75, 0.3333, 0.3333, 0.3333]\n",
      "Likelihood 1517.5469089421879 and θ = [2.25, 7.0, 0.3333, 0.3333, 0.3333]\n",
      "Likelihood 1251.9832269332658 and θ = [2.5, 4.0, 0.3333, 0.3333, 0.3333]\n",
      "Likelihood 1211.9245085287662 and θ = [2.5, 4.25, 0.3333, 0.3333, 0.3333]\n",
      "Likelihood 1179.882618001059 and θ = [2.5, 4.5, 0.3333, 0.3333, 0.3333]\n",
      "Likelihood 1159.9686208974424 and θ = [2.5, 4.75, 0.3333, 0.3333, 0.3333]\n",
      "Likelihood 1148.4265680091573 and θ = [2.5, 5.0, 0.3333, 0.3333, 0.3333]\n",
      "Likelihood 1142.880564747524 and θ = [2.5, 5.25, 0.3333, 0.3333, 0.3333]\n",
      "Likelihood 1183.2272220775217 and θ = [2.5, 5.5, 0.3333, 0.3333, 0.3333]\n",
      "Likelihood 1228.7102409834235 and θ = [2.5, 5.75, 0.3333, 0.3333, 0.3333]\n",
      "Likelihood 1274.180983009493 and θ = [2.5, 6.0, 0.3333, 0.3333, 0.3333]\n",
      "Likelihood 1318.680061952835 and θ = [2.5, 6.25, 0.3333, 0.3333, 0.3333]\n",
      "Likelihood 1361.6912950978653 and θ = [2.5, 6.5, 0.3333, 0.3333, 0.3333]\n",
      "Likelihood 1402.889935224533 and θ = [2.5, 6.75, 0.3333, 0.3333, 0.3333]\n",
      "Likelihood 1442.0382119658768 and θ = [2.5, 7.0, 0.3333, 0.3333, 0.3333]\n",
      "Likelihood 1290.9135207995625 and θ = [2.75, 4.0, 0.3333, 0.3333, 0.3333]\n",
      "Likelihood 1248.497030460613 and θ = [2.75, 4.25, 0.3333, 0.3333, 0.3333]\n",
      "Likelihood 1203.6846376936649 and θ = [2.75, 4.5, 0.3333, 0.3333, 0.3333]\n",
      "Likelihood 1173.6357522183316 and θ = [2.75, 4.75, 0.3333, 0.3333, 0.3333]\n",
      "Likelihood 1153.7696592224843 and θ = [2.75, 5.0, 0.3333, 0.3333, 0.3333]\n",
      "Likelihood 1141.2502807649967 and θ = [2.75, 5.25, 0.3333, 0.3333, 0.3333]\n",
      "Likelihood 1134.185997893788 and θ = [2.75, 5.5, 0.3333, 0.3333, 0.3333]\n",
      "Likelihood 1156.2994024731806 and θ = [2.75, 5.75, 0.3333, 0.3333, 0.3333]\n",
      "Likelihood 1199.710509474771 and θ = [2.75, 6.0, 0.3333, 0.3333, 0.3333]\n",
      "Likelihood 1243.4167676718787 and θ = [2.75, 6.25, 0.3333, 0.3333, 0.3333]\n",
      "Likelihood 1286.3311128531948 and θ = [2.75, 6.5, 0.3333, 0.3333, 0.3333]\n",
      "Likelihood 1327.9634747336088 and θ = [2.75, 6.75, 0.3333, 0.3333, 0.3333]\n",
      "Likelihood 1368.053422956566 and θ = [2.75, 7.0, 0.3333, 0.3333, 0.3333]\n",
      "Likelihood 1350.1536282249326 and θ = [3.0, 4.0, 0.3333, 0.3333, 0.3333]\n",
      "Likelihood 1309.6945113777374 and θ = [3.0, 4.25, 0.3333, 0.3333, 0.3333]\n",
      "Likelihood 1249.1008179156454 and θ = [3.0, 4.5, 0.3333, 0.3333, 0.3333]\n",
      "Likelihood 1206.6865533291893 and θ = [3.0, 4.75, 0.3333, 0.3333, 0.3333]\n",
      "Likelihood 1176.6856550169791 and θ = [3.0, 5.0, 0.3333, 0.3333, 0.3333]\n",
      "Likelihood 1155.6595262887297 and θ = [3.0, 5.25, 0.3333, 0.3333, 0.3333]\n",
      "Likelihood 1141.3587448496653 and θ = [3.0, 5.5, 0.3333, 0.3333, 0.3333]\n",
      "Likelihood 1132.2134221699882 and θ = [3.0, 5.75, 0.3333, 0.3333, 0.3333]\n",
      "Likelihood 1133.2153557194436 and θ = [3.0, 6.0, 0.3333, 0.3333, 0.3333]\n",
      "Likelihood 1174.0358897544868 and θ = [3.0, 6.25, 0.3333, 0.3333, 0.3333]\n",
      "Likelihood 1215.7586914821536 and θ = [3.0, 6.5, 0.3333, 0.3333, 0.3333]\n",
      "Likelihood 1256.9346948977472 and θ = [3.0, 6.75, 0.3333, 0.3333, 0.3333]\n",
      "Likelihood 1297.0099393907851 and θ = [3.0, 7.0, 0.3333, 0.3333, 0.3333]\n",
      "Likelihood 1429.1953999469208 and θ = [3.25, 4.0, 0.3333, 0.3333, 0.3333]\n",
      "Likelihood 1387.4643490453393 and θ = [3.25, 4.25, 0.3333, 0.3333, 0.3333]\n",
      "Likelihood 1317.5331824841808 and θ = [3.25, 4.5, 0.3333, 0.3333, 0.3333]\n",
      "Likelihood 1260.346126072785 and θ = [3.25, 4.75, 0.3333, 0.3333, 0.3333]\n",
      "Likelihood 1218.3066994027092 and θ = [3.25, 5.0, 0.3333, 0.3333, 0.3333]\n",
      "Likelihood 1187.1472666798045 and θ = [3.25, 5.25, 0.3333, 0.3333, 0.3333]\n",
      "Likelihood 1164.1775035863936 and θ = [3.25, 5.5, 0.3333, 0.3333, 0.3333]\n",
      "Likelihood 1147.5534098715218 and θ = [3.25, 5.75, 0.3333, 0.3333, 0.3333]\n",
      "Likelihood 1135.934618342146 and θ = [3.25, 6.0, 0.3333, 0.3333, 0.3333]\n",
      "Likelihood 1128.3082028850224 and θ = [3.25, 6.25, 0.3333, 0.3333, 0.3333]\n",
      "Likelihood 1151.5524444453274 and θ = [3.25, 6.5, 0.3333, 0.3333, 0.3333]\n",
      "Likelihood 1191.0493850672074 and θ = [3.25, 6.75, 0.3333, 0.3333, 0.3333]\n",
      "Likelihood 1230.4079888184856 and θ = [3.25, 7.0, 0.3333, 0.3333, 0.3333]\n",
      "Likelihood 1526.6219347533324 and θ = [3.5, 4.0, 0.3333, 0.3333, 0.3333]\n",
      "Likelihood 1474.4359575036394 and θ = [3.5, 4.25, 0.3333, 0.3333, 0.3333]\n",
      "Likelihood 1410.3587366237412 and θ = [3.5, 4.5, 0.3333, 0.3333, 0.3333]\n",
      "Likelihood 1335.7411903966874 and θ = [3.5, 4.75, 0.3333, 0.3333, 0.3333]\n",
      "Likelihood 1279.7427699488226 and θ = [3.5, 5.0, 0.3333, 0.3333, 0.3333]\n",
      "Likelihood 1236.83643353453 and θ = [3.5, 5.25, 0.3333, 0.3333, 0.3333]\n",
      "Likelihood 1203.7455022804368 and θ = [3.5, 5.5, 0.3333, 0.3333, 0.3333]\n",
      "Likelihood 1178.3095741757757 and θ = [3.5, 5.75, 0.3333, 0.3333, 0.3333]\n",
      "Likelihood 1158.9858627858591 and θ = [3.5, 6.0, 0.3333, 0.3333, 0.3333]\n",
      "Likelihood 1144.6097368495853 and θ = [3.5, 6.25, 0.3333, 0.3333, 0.3333]\n",
      "Likelihood 1134.2707196047418 and θ = [3.5, 6.5, 0.3333, 0.3333, 0.3333]\n",
      "Likelihood 1132.326429181999 and θ = [3.5, 6.75, 0.3333, 0.3333, 0.3333]\n",
      "Likelihood 1169.1427342947732 and θ = [3.5, 7.0, 0.3333, 0.3333, 0.3333]\n",
      "Likelihood 1640.2453474875715 and θ = [3.75, 4.0, 0.3333, 0.3333, 0.3333]\n",
      "Likelihood 1578.4416879482658 and θ = [3.75, 4.25, 0.3333, 0.3333, 0.3333]\n",
      "Likelihood 1522.5834845496695 and θ = [3.75, 4.5, 0.3333, 0.3333, 0.3333]\n",
      "Likelihood 1433.7189022784216 and θ = [3.75, 4.75, 0.3333, 0.3333, 0.3333]\n",
      "Likelihood 1361.7973846872114 and θ = [3.75, 5.0, 0.3333, 0.3333, 0.3333]\n",
      "Likelihood 1305.6491482233598 and θ = [3.75, 5.25, 0.3333, 0.3333, 0.3333]\n",
      "Likelihood 1261.1023049382147 and θ = [3.75, 5.5, 0.3333, 0.3333, 0.3333]\n",
      "Likelihood 1225.5832004038455 and θ = [3.75, 5.75, 0.3333, 0.3333, 0.3333]\n",
      "Likelihood 1197.3318358690935 and θ = [3.75, 6.0, 0.3333, 0.3333, 0.3333]\n",
      "Likelihood 1175.0444170772946 and θ = [3.75, 6.25, 0.3333, 0.3333, 0.3333]\n",
      "Likelihood 1157.7007601482499 and θ = [3.75, 6.5, 0.3333, 0.3333, 0.3333]\n",
      "Likelihood 1144.4763182804297 and θ = [3.75, 6.75, 0.3333, 0.3333, 0.3333]\n",
      "Likelihood 1134.6936226067726 and θ = [3.75, 7.0, 0.3333, 0.3333, 0.3333]\n",
      "Likelihood 1767.5439817203062 and θ = [4.0, 4.0, 0.3333, 0.3333, 0.3333]\n",
      "Likelihood 1697.1660818455698 and θ = [4.0, 4.25, 0.3333, 0.3333, 0.3333]\n",
      "Likelihood 1632.4448025492322 and θ = [4.0, 4.5, 0.3333, 0.3333, 0.3333]\n",
      "Likelihood 1555.0081688891457 and θ = [4.0, 4.75, 0.3333, 0.3333, 0.3333]\n",
      "Likelihood 1464.8165853870269 and θ = [4.0, 5.0, 0.3333, 0.3333, 0.3333]\n",
      "Likelihood 1394.0260711759427 and θ = [4.0, 5.25, 0.3333, 0.3333, 0.3333]\n",
      "Likelihood 1336.9162873819064 and θ = [4.0, 5.5, 0.3333, 0.3333, 0.3333]\n",
      "Likelihood 1290.2585711096474 and θ = [4.0, 5.75, 0.3333, 0.3333, 0.3333]\n"
     ]
    },
    {
     "name": "stdout",
     "output_type": "stream",
     "text": [
      "Likelihood 1252.0047467640802 and θ = [4.0, 6.0, 0.3333, 0.3333, 0.3333]\n",
      "Likelihood 1220.7131262385706 and θ = [4.0, 6.25, 0.3333, 0.3333, 0.3333]\n",
      "Likelihood 1195.2804442806612 and θ = [4.0, 6.5, 0.3333, 0.3333, 0.3333]\n",
      "Likelihood 1174.8133708998673 and θ = [4.0, 6.75, 0.3333, 0.3333, 0.3333]\n",
      "Likelihood 1158.5655641960623 and θ = [4.0, 7.0, 0.3333, 0.3333, 0.3333]\n",
      "Likelihood 1906.1531964804208 and θ = [4.25, 4.0, 0.3333, 0.3333, 0.3333]\n",
      "Likelihood 1828.1610319552424 and θ = [4.25, 4.25, 0.3333, 0.3333, 0.3333]\n",
      "Likelihood 1755.6044684930553 and θ = [4.25, 4.5, 0.3333, 0.3333, 0.3333]\n",
      "Likelihood 1688.3289964279359 and θ = [4.25, 4.75, 0.3333, 0.3333, 0.3333]\n",
      "Likelihood 1588.9154200053115 and θ = [4.25, 5.0, 0.3333, 0.3333, 0.3333]\n",
      "Likelihood 1501.8462823780123 and θ = [4.25, 5.25, 0.3333, 0.3333, 0.3333]\n",
      "Likelihood 1431.2405438376948 and θ = [4.25, 5.5, 0.3333, 0.3333, 0.3333]\n",
      "Likelihood 1372.6947242581641 and θ = [4.25, 5.75, 0.3333, 0.3333, 0.3333]\n",
      "Likelihood 1323.665248329607 and θ = [4.25, 6.0, 0.3333, 0.3333, 0.3333]\n",
      "Likelihood 1282.510437820918 and θ = [4.25, 6.25, 0.3333, 0.3333, 0.3333]\n",
      "Likelihood 1248.0505011359735 and θ = [4.25, 6.5, 0.3333, 0.3333, 0.3333]\n",
      "Likelihood 1219.3574889396098 and θ = [4.25, 6.75, 0.3333, 0.3333, 0.3333]\n",
      "Likelihood 1195.6555471916276 and θ = [4.25, 7.0, 0.3333, 0.3333, 0.3333]\n",
      "Likelihood 2054.177349691334 and θ = [4.5, 4.0, 0.3333, 0.3333, 0.3333]\n",
      "Likelihood 1969.2795345671298 and θ = [4.5, 4.25, 0.3333, 0.3333, 0.3333]\n",
      "Likelihood 1889.7463189137009 and θ = [4.5, 4.5, 0.3333, 0.3333, 0.3333]\n",
      "Likelihood 1815.316351683255 and θ = [4.5, 4.75, 0.3333, 0.3333, 0.3333]\n",
      "Likelihood 1734.7642765955516 and θ = [4.5, 5.0, 0.3333, 0.3333, 0.3333]\n",
      "Likelihood 1628.747393425497 and θ = [4.5, 5.25, 0.3333, 0.3333, 0.3333]\n",
      "Likelihood 1543.5365800672546 and θ = [4.5, 5.5, 0.3333, 0.3333, 0.3333]\n",
      "Likelihood 1472.553490876287 and θ = [4.5, 5.75, 0.3333, 0.3333, 0.3333]\n",
      "Likelihood 1412.3232560954557 and θ = [4.5, 6.0, 0.3333, 0.3333, 0.3333]\n",
      "Likelihood 1360.8127568137872 and θ = [4.5, 6.25, 0.3333, 0.3333, 0.3333]\n",
      "Likelihood 1316.7000344764817 and θ = [4.5, 6.5, 0.3333, 0.3333, 0.3333]\n",
      "Likelihood 1279.02426160249 and θ = [4.5, 6.75, 0.3333, 0.3333, 0.3333]\n",
      "Likelihood 1247.0142110376612 and θ = [4.5, 7.0, 0.3333, 0.3333, 0.3333]\n",
      "Likelihood 2210.2694127419154 and θ = [4.75, 4.0, 0.3333, 0.3333, 0.3333]\n",
      "Likelihood 2118.8906154789993 and θ = [4.75, 4.25, 0.3333, 0.3333, 0.3333]\n",
      "Likelihood 2032.961801668712 and θ = [4.75, 4.5, 0.3333, 0.3333, 0.3333]\n",
      "Likelihood 1952.1203147350195 and θ = [4.75, 4.75, 0.3333, 0.3333, 0.3333]\n",
      "Likelihood 1876.0865184764446 and θ = [4.75, 5.0, 0.3333, 0.3333, 0.3333]\n",
      "Likelihood 1774.9010844052177 and θ = [4.75, 5.25, 0.3333, 0.3333, 0.3333]\n",
      "Likelihood 1673.0911986880296 and θ = [4.75, 5.5, 0.3333, 0.3333, 0.3333]\n",
      "Likelihood 1588.9463225556033 and θ = [4.75, 5.75, 0.3333, 0.3333, 0.3333]\n",
      "Likelihood 1517.270522799016 and θ = [4.75, 6.0, 0.3333, 0.3333, 0.3333]\n",
      "Likelihood 1455.2626784260042 and θ = [4.75, 6.25, 0.3333, 0.3333, 0.3333]\n",
      "Likelihood 1401.2742261229023 and θ = [4.75, 6.5, 0.3333, 0.3333, 0.3333]\n",
      "Likelihood 1354.2346182969018 and θ = [4.75, 6.75, 0.3333, 0.3333, 0.3333]\n",
      "Likelihood 1313.365606358349 and θ = [4.75, 7.0, 0.3333, 0.3333, 0.3333]\n",
      "Likelihood 2373.5572773181148 and θ = [5.0, 4.0, 0.3333, 0.3333, 0.3333]\n",
      "Likelihood 2275.888160115508 and θ = [5.0, 4.25, 0.3333, 0.3333, 0.3333]\n",
      "Likelihood 2183.873349915166 and θ = [5.0, 4.5, 0.3333, 0.3333, 0.3333]\n",
      "Likelihood 2097.0787555270426 and θ = [5.0, 4.75, 0.3333, 0.3333, 0.3333]\n",
      "Likelihood 2015.1290239075402 and θ = [5.0, 5.0, 0.3333, 0.3333, 0.3333]\n",
      "Likelihood 1937.7268526641105 and θ = [5.0, 5.25, 0.3333, 0.3333, 0.3333]\n",
      "Likelihood 1819.7666500216521 and θ = [5.0, 5.5, 0.3333, 0.3333, 0.3333]\n",
      "Likelihood 1720.9287134682927 and θ = [5.0, 5.75, 0.3333, 0.3333, 0.3333]\n",
      "Likelihood 1637.351600089135 and θ = [5.0, 6.0, 0.3333, 0.3333, 0.3333]\n",
      "Likelihood 1564.8283845818758 and θ = [5.0, 6.25, 0.3333, 0.3333, 0.3333]\n",
      "Likelihood 1501.0560412739324 and θ = [5.0, 6.5, 0.3333, 0.3333, 0.3333]\n",
      "Likelihood 1444.6755474021252 and θ = [5.0, 6.75, 0.3333, 0.3333, 0.3333]\n",
      "Likelihood 1394.8110112755207 and θ = [5.0, 7.0, 0.3333, 0.3333, 0.3333]\n",
      " \n",
      " New starting value is [3.25, 6.25, 0.3333333333333333, 0.3333333333333333, 0.3333333333333333] with LL = 1128.3082028850224\n",
      " 58.818413 seconds (317.22 M allocations: 16.821 GiB, 7.95% gc time)\n"
     ]
    },
    {
     "data": {
      "text/plain": [
       "5×1 Array{Float64,2}:\n",
       " 3.1311141967773435\n",
       " 6.154446411132812\n",
       " 0.15190074796423897\n",
       " 0.2875434832523325\n",
       " 0.5605557687834289"
      ]
     },
     "execution_count": 452,
     "metadata": {},
     "output_type": "execute_result"
    }
   ],
   "source": [
    "dt_sim = copy(dt[dt[:s].==2,:]);\n",
    "@time em_alg_search(trace=true, α_step=0.25, δ_step=0.25)"
   ]
  },
  {
   "cell_type": "markdown",
   "metadata": {},
   "source": [
    "##### Test with simulation data"
   ]
  },
  {
   "cell_type": "code",
   "execution_count": 454,
   "metadata": {},
   "outputs": [
    {
     "name": "stdout",
     "output_type": "stream",
     "text": [
      "Iters:  1 2 3 4 5 6 7 8 9 10 11 12 13 14 15 16 17 18 19 20 21 22 23 24 25 26 27 28 29 30 31 32 33 34 35 36 37 38 39 40 41 42 43 44 45 46 47 48 49 50 \n",
      " \n",
      "Mean α is 3.457782960011215Var of α is 0.029599388346228127\n",
      "Mean δ is 6.628519550866496Var of δ is 0.06985554788946496\n"
     ]
    }
   ],
   "source": [
    "# Loop over simulation draws\n",
    "params_sim = DataFrame(α= fill(0.0, S), δ= fill(0.0, S))\n",
    "print(\"Iters: \")\n",
    "for s in 1:nrow(params_sim)\n",
    "    dt_sim = copy(dt[dt[:s].==s,:]);\n",
    "    # res = optimize(ll_optim, [1.0, 1.0])\n",
    "    res = em_alg_search(α_low=2.0, α_high=5.0, δ_low=4.0, δ_high=7.0, α_step=0.25, δ_step=0.25,\n",
    "                        ω_start=[1/3,1/3,1/3])\n",
    "    params_sim[s, [:α, :δ]] = res[1:2]\n",
    "    print(\" \" * string(s))\n",
    "end\n",
    "params_sim_1_4_asym = params_sim\n",
    "\n",
    "println(\" \"); println(\" \")\n",
    "println(\"Mean α is \" * string(mean(params_sim.α)) * \"Var of α is \" * string(std(params_sim.α)^2))\n",
    "println(\"Mean δ is \" * string(mean(params_sim.δ)) * \"Var of δ is \" * string(std(params_sim.δ)^2))"
   ]
  },
  {
   "cell_type": "code",
   "execution_count": 455,
   "metadata": {},
   "outputs": [
    {
     "data": {
      "image/svg+xml": [
       "<?xml version=\"1.0\" encoding=\"utf-8\"?>\n",
       "<svg xmlns=\"http://www.w3.org/2000/svg\" xmlns:xlink=\"http://www.w3.org/1999/xlink\" width=\"800\" height=\"400\" viewBox=\"0 0 3200 1600\">\n",
       "<defs>\n",
       "  <clipPath id=\"clip420\">\n",
       "    <rect x=\"0\" y=\"0\" width=\"3200\" height=\"1600\"/>\n",
       "  </clipPath>\n",
       "</defs>\n",
       "<path clip-path=\"url(#clip420)\" d=\"\n",
       "M0 1600 L3200 1600 L3200 0 L0 0  Z\n",
       "  \" fill=\"#ffffff\" fill-rule=\"evenodd\" fill-opacity=\"1\"/>\n",
       "<defs>\n",
       "  <clipPath id=\"clip421\">\n",
       "    <rect x=\"640\" y=\"0\" width=\"2241\" height=\"1600\"/>\n",
       "  </clipPath>\n",
       "</defs>\n",
       "<path clip-path=\"url(#clip420)\" d=\"\n",
       "M337.493 1281.73 L3011.02 1281.73 L3011.02 188.976 L337.493 188.976  Z\n",
       "  \" fill=\"#ffffff\" fill-rule=\"evenodd\" fill-opacity=\"1\"/>\n",
       "<defs>\n",
       "  <clipPath id=\"clip422\">\n",
       "    <rect x=\"337\" y=\"188\" width=\"2675\" height=\"1094\"/>\n",
       "  </clipPath>\n",
       "</defs>\n",
       "<polyline clip-path=\"url(#clip420)\" style=\"stroke:#000000; stroke-width:16; stroke-opacity:1; fill:none\" points=\"\n",
       "  337.493,1281.73 3011.02,1281.73 \n",
       "  \"/>\n",
       "<polyline clip-path=\"url(#clip420)\" style=\"stroke:#000000; stroke-width:16; stroke-opacity:1; fill:none\" points=\"\n",
       "  337.493,1281.73 337.493,188.976 \n",
       "  \"/>\n",
       "<polyline clip-path=\"url(#clip420)\" style=\"stroke:#000000; stroke-width:16; stroke-opacity:1; fill:none\" points=\"\n",
       "  443.826,1281.73 443.826,1268.62 \n",
       "  \"/>\n",
       "<polyline clip-path=\"url(#clip420)\" style=\"stroke:#000000; stroke-width:16; stroke-opacity:1; fill:none\" points=\"\n",
       "  1185.02,1281.73 1185.02,1268.62 \n",
       "  \"/>\n",
       "<polyline clip-path=\"url(#clip420)\" style=\"stroke:#000000; stroke-width:16; stroke-opacity:1; fill:none\" points=\"\n",
       "  1926.22,1281.73 1926.22,1268.62 \n",
       "  \"/>\n",
       "<polyline clip-path=\"url(#clip420)\" style=\"stroke:#000000; stroke-width:16; stroke-opacity:1; fill:none\" points=\"\n",
       "  2667.42,1281.73 2667.42,1268.62 \n",
       "  \"/>\n",
       "<polyline clip-path=\"url(#clip420)\" style=\"stroke:#000000; stroke-width:16; stroke-opacity:1; fill:none\" points=\"\n",
       "  337.493,1250.8 369.576,1250.8 \n",
       "  \"/>\n",
       "<polyline clip-path=\"url(#clip420)\" style=\"stroke:#000000; stroke-width:16; stroke-opacity:1; fill:none\" points=\"\n",
       "  337.493,1006.18 369.576,1006.18 \n",
       "  \"/>\n",
       "<polyline clip-path=\"url(#clip420)\" style=\"stroke:#000000; stroke-width:16; stroke-opacity:1; fill:none\" points=\"\n",
       "  337.493,761.558 369.576,761.558 \n",
       "  \"/>\n",
       "<polyline clip-path=\"url(#clip420)\" style=\"stroke:#000000; stroke-width:16; stroke-opacity:1; fill:none\" points=\"\n",
       "  337.493,516.935 369.576,516.935 \n",
       "  \"/>\n",
       "<polyline clip-path=\"url(#clip420)\" style=\"stroke:#000000; stroke-width:16; stroke-opacity:1; fill:none\" points=\"\n",
       "  337.493,272.311 369.576,272.311 \n",
       "  \"/>\n",
       "<g clip-path=\"url(#clip420)\">\n",
       "<text style=\"fill:#000000; fill-opacity:1; font-family:Arial,Helvetica Neue,Helvetica,sans-serif; font-size:95px; text-anchor:middle;\" transform=\"rotate(0, 443.826, 1380.53)\" x=\"443.826\" y=\"1380.53\">3.0</text>\n",
       "</g>\n",
       "<g clip-path=\"url(#clip420)\">\n",
       "<text style=\"fill:#000000; fill-opacity:1; font-family:Arial,Helvetica Neue,Helvetica,sans-serif; font-size:95px; text-anchor:middle;\" transform=\"rotate(0, 1185.02, 1380.53)\" x=\"1185.02\" y=\"1380.53\">3.3</text>\n",
       "</g>\n",
       "<g clip-path=\"url(#clip420)\">\n",
       "<text style=\"fill:#000000; fill-opacity:1; font-family:Arial,Helvetica Neue,Helvetica,sans-serif; font-size:95px; text-anchor:middle;\" transform=\"rotate(0, 1926.22, 1380.53)\" x=\"1926.22\" y=\"1380.53\">3.6</text>\n",
       "</g>\n",
       "<g clip-path=\"url(#clip420)\">\n",
       "<text style=\"fill:#000000; fill-opacity:1; font-family:Arial,Helvetica Neue,Helvetica,sans-serif; font-size:95px; text-anchor:middle;\" transform=\"rotate(0, 2667.42, 1380.53)\" x=\"2667.42\" y=\"1380.53\">3.9</text>\n",
       "</g>\n",
       "<g clip-path=\"url(#clip420)\">\n",
       "<text style=\"fill:#000000; fill-opacity:1; font-family:Arial,Helvetica Neue,Helvetica,sans-serif; font-size:95px; text-anchor:end;\" transform=\"rotate(0, 305.493, 1285.3)\" x=\"305.493\" y=\"1285.3\">0</text>\n",
       "</g>\n",
       "<g clip-path=\"url(#clip420)\">\n",
       "<text style=\"fill:#000000; fill-opacity:1; font-family:Arial,Helvetica Neue,Helvetica,sans-serif; font-size:95px; text-anchor:end;\" transform=\"rotate(0, 305.493, 1040.68)\" x=\"305.493\" y=\"1040.68\">1</text>\n",
       "</g>\n",
       "<g clip-path=\"url(#clip420)\">\n",
       "<text style=\"fill:#000000; fill-opacity:1; font-family:Arial,Helvetica Neue,Helvetica,sans-serif; font-size:95px; text-anchor:end;\" transform=\"rotate(0, 305.493, 796.058)\" x=\"305.493\" y=\"796.058\">2</text>\n",
       "</g>\n",
       "<g clip-path=\"url(#clip420)\">\n",
       "<text style=\"fill:#000000; fill-opacity:1; font-family:Arial,Helvetica Neue,Helvetica,sans-serif; font-size:95px; text-anchor:end;\" transform=\"rotate(0, 305.493, 551.435)\" x=\"305.493\" y=\"551.435\">3</text>\n",
       "</g>\n",
       "<g clip-path=\"url(#clip420)\">\n",
       "<text style=\"fill:#000000; fill-opacity:1; font-family:Arial,Helvetica Neue,Helvetica,sans-serif; font-size:95px; text-anchor:end;\" transform=\"rotate(0, 305.493, 306.811)\" x=\"305.493\" y=\"306.811\">4</text>\n",
       "</g>\n",
       "<path clip-path=\"url(#clip422)\" d=\"\n",
       "M413.159 1250.75 L425.834 1250.74 L438.508 1250.71 L451.182 1250.65 L463.857 1250.54 L476.531 1250.38 L489.205 1250.13 L501.88 1249.76 L514.554 1249.21 L527.228 1248.41 \n",
       "  L539.903 1247.29 L552.577 1245.76 L565.252 1243.69 L577.926 1240.98 L590.6 1237.51 L603.275 1233.18 L615.949 1227.9 L628.623 1221.65 L641.298 1214.44 L653.972 1206.36 \n",
       "  L666.646 1197.57 L679.321 1188.33 L691.995 1178.96 L704.67 1169.85 L717.344 1161.41 L730.018 1154.07 L742.693 1148.22 L755.367 1144.17 L768.041 1142.16 L780.716 1142.26 \n",
       "  L793.39 1144.41 L806.064 1148.43 L818.739 1153.97 L831.413 1160.58 L844.088 1167.74 L856.762 1174.83 L869.436 1181.27 L882.111 1186.44 L894.785 1189.79 L907.459 1190.8 \n",
       "  L920.134 1189.07 L932.808 1184.26 L945.482 1176.17 L958.157 1164.7 L970.831 1149.91 L983.506 1132.01 L996.18 1111.36 L1008.85 1088.46 L1021.53 1063.97 L1034.2 1038.62 \n",
       "  L1046.88 1013.27 L1059.55 988.746 L1072.23 965.862 L1084.9 945.313 L1097.57 927.619 L1110.25 913.057 L1122.92 901.606 L1135.6 892.914 L1148.27 886.272 L1160.95 880.632 \n",
       "  L1173.62 874.641 L1186.3 866.719 L1198.97 855.165 L1211.64 838.297 L1224.32 814.617 L1236.99 782.983 L1249.67 742.785 L1262.34 694.088 L1275.02 637.735 L1287.69 575.381 \n",
       "  L1300.36 509.445 L1313.04 442.981 L1325.71 379.46 L1338.39 322.496 L1351.06 275.526 L1363.74 241.492 L1376.41 222.56 L1389.09 219.903 L1401.76 233.587 L1414.43 262.555 \n",
       "  L1427.11 304.735 L1439.78 357.227 L1452.46 416.572 L1465.13 479.047 L1477.81 540.973 L1490.48 598.996 L1503.15 650.324 L1515.83 692.89 L1528.5 725.465 L1541.18 747.684 \n",
       "  L1553.85 760.019 L1566.53 763.687 L1579.2 760.518 L1591.88 752.771 L1604.55 742.942 L1617.22 733.545 L1629.9 726.901 L1642.57 724.952 L1655.25 729.109 L1667.92 740.149 \n",
       "  L1680.6 758.178 L1693.27 782.656 L1705.94 812.482 L1718.62 846.13 L1731.29 881.819 L1743.97 917.692 L1756.64 951.994 L1769.32 983.224 L1781.99 1010.25 L1794.66 1032.36 \n",
       "  L1807.34 1049.32 L1820.01 1061.3 L1832.69 1068.86 L1845.36 1072.82 L1858.04 1074.16 L1870.71 1073.91 L1883.39 1073.05 L1896.06 1072.39 L1908.73 1072.54 L1921.41 1073.83 \n",
       "  L1934.08 1076.32 L1946.76 1079.83 L1959.43 1083.96 L1972.11 1088.19 L1984.78 1091.95 L1997.45 1094.68 L2010.13 1095.94 L2022.8 1095.43 L2035.48 1093.07 L2048.15 1088.95 \n",
       "  L2060.83 1083.36 L2073.5 1076.7 L2086.18 1069.48 L2098.85 1062.19 L2111.52 1055.27 L2124.2 1049.06 L2136.87 1043.73 L2149.55 1039.33 L2162.22 1035.74 L2174.9 1032.77 \n",
       "  L2187.57 1030.16 L2200.24 1027.68 L2212.92 1025.19 L2225.59 1022.63 L2238.27 1020.11 L2250.94 1017.88 L2263.62 1016.3 L2276.29 1015.81 L2288.97 1016.86 L2301.64 1019.85 \n",
       "  L2314.31 1025.05 L2326.99 1032.59 L2339.66 1042.4 L2352.34 1054.21 L2365.01 1067.56 L2377.69 1081.86 L2390.36 1096.43 L2403.03 1110.53 L2415.71 1123.49 L2428.38 1134.71 \n",
       "  L2441.06 1143.76 L2453.73 1150.35 L2466.41 1154.41 L2479.08 1156.06 L2491.75 1155.62 L2504.43 1153.53 L2517.1 1150.36 L2529.78 1146.75 L2542.45 1143.31 L2555.13 1140.63 \n",
       "  L2567.8 1139.19 L2580.48 1139.36 L2593.15 1141.34 L2605.82 1145.17 L2618.5 1150.75 L2631.17 1157.84 L2643.85 1166.1 L2656.52 1175.15 L2669.2 1184.57 L2681.87 1193.98 \n",
       "  L2694.54 1203.04 L2707.22 1211.45 L2719.89 1219.04 L2732.57 1225.68 L2745.24 1231.34 L2757.92 1236.02 L2770.59 1239.81 L2783.27 1242.79 L2795.94 1245.08 L2808.61 1246.8 \n",
       "  L2821.29 1248.06 L2833.96 1248.96 L2846.64 1249.59 L2859.31 1250.02 L2871.99 1250.31 L2884.66 1250.5 L2897.33 1250.62 L2910.01 1250.69 L2922.68 1250.73 L2935.36 1250.75 \n",
       "  L2935.36 1250.8 L2922.68 1250.8 L2910.01 1250.8 L2897.33 1250.8 L2884.66 1250.8 L2871.99 1250.8 L2859.31 1250.8 L2846.64 1250.8 L2833.96 1250.8 L2821.29 1250.8 \n",
       "  L2808.61 1250.8 L2795.94 1250.8 L2783.27 1250.8 L2770.59 1250.8 L2757.92 1250.8 L2745.24 1250.8 L2732.57 1250.8 L2719.89 1250.8 L2707.22 1250.8 L2694.54 1250.8 \n",
       "  L2681.87 1250.8 L2669.2 1250.8 L2656.52 1250.8 L2643.85 1250.8 L2631.17 1250.8 L2618.5 1250.8 L2605.82 1250.8 L2593.15 1250.8 L2580.48 1250.8 L2567.8 1250.8 \n",
       "  L2555.13 1250.8 L2542.45 1250.8 L2529.78 1250.8 L2517.1 1250.8 L2504.43 1250.8 L2491.75 1250.8 L2479.08 1250.8 L2466.41 1250.8 L2453.73 1250.8 L2441.06 1250.8 \n",
       "  L2428.38 1250.8 L2415.71 1250.8 L2403.03 1250.8 L2390.36 1250.8 L2377.69 1250.8 L2365.01 1250.8 L2352.34 1250.8 L2339.66 1250.8 L2326.99 1250.8 L2314.31 1250.8 \n",
       "  L2301.64 1250.8 L2288.97 1250.8 L2276.29 1250.8 L2263.62 1250.8 L2250.94 1250.8 L2238.27 1250.8 L2225.59 1250.8 L2212.92 1250.8 L2200.24 1250.8 L2187.57 1250.8 \n",
       "  L2174.9 1250.8 L2162.22 1250.8 L2149.55 1250.8 L2136.87 1250.8 L2124.2 1250.8 L2111.52 1250.8 L2098.85 1250.8 L2086.18 1250.8 L2073.5 1250.8 L2060.83 1250.8 \n",
       "  L2048.15 1250.8 L2035.48 1250.8 L2022.8 1250.8 L2010.13 1250.8 L1997.45 1250.8 L1984.78 1250.8 L1972.11 1250.8 L1959.43 1250.8 L1946.76 1250.8 L1934.08 1250.8 \n",
       "  L1921.41 1250.8 L1908.73 1250.8 L1896.06 1250.8 L1883.39 1250.8 L1870.71 1250.8 L1858.04 1250.8 L1845.36 1250.8 L1832.69 1250.8 L1820.01 1250.8 L1807.34 1250.8 \n",
       "  L1794.66 1250.8 L1781.99 1250.8 L1769.32 1250.8 L1756.64 1250.8 L1743.97 1250.8 L1731.29 1250.8 L1718.62 1250.8 L1705.94 1250.8 L1693.27 1250.8 L1680.6 1250.8 \n",
       "  L1667.92 1250.8 L1655.25 1250.8 L1642.57 1250.8 L1629.9 1250.8 L1617.22 1250.8 L1604.55 1250.8 L1591.88 1250.8 L1579.2 1250.8 L1566.53 1250.8 L1553.85 1250.8 \n",
       "  L1541.18 1250.8 L1528.5 1250.8 L1515.83 1250.8 L1503.15 1250.8 L1490.48 1250.8 L1477.81 1250.8 L1465.13 1250.8 L1452.46 1250.8 L1439.78 1250.8 L1427.11 1250.8 \n",
       "  L1414.43 1250.8 L1401.76 1250.8 L1389.09 1250.8 L1376.41 1250.8 L1363.74 1250.8 L1351.06 1250.8 L1338.39 1250.8 L1325.71 1250.8 L1313.04 1250.8 L1300.36 1250.8 \n",
       "  L1287.69 1250.8 L1275.02 1250.8 L1262.34 1250.8 L1249.67 1250.8 L1236.99 1250.8 L1224.32 1250.8 L1211.64 1250.8 L1198.97 1250.8 L1186.3 1250.8 L1173.62 1250.8 \n",
       "  L1160.95 1250.8 L1148.27 1250.8 L1135.6 1250.8 L1122.92 1250.8 L1110.25 1250.8 L1097.57 1250.8 L1084.9 1250.8 L1072.23 1250.8 L1059.55 1250.8 L1046.88 1250.8 \n",
       "  L1034.2 1250.8 L1021.53 1250.8 L1008.85 1250.8 L996.18 1250.8 L983.506 1250.8 L970.831 1250.8 L958.157 1250.8 L945.482 1250.8 L932.808 1250.8 L920.134 1250.8 \n",
       "  L907.459 1250.8 L894.785 1250.8 L882.111 1250.8 L869.436 1250.8 L856.762 1250.8 L844.088 1250.8 L831.413 1250.8 L818.739 1250.8 L806.064 1250.8 L793.39 1250.8 \n",
       "  L780.716 1250.8 L768.041 1250.8 L755.367 1250.8 L742.693 1250.8 L730.018 1250.8 L717.344 1250.8 L704.67 1250.8 L691.995 1250.8 L679.321 1250.8 L666.646 1250.8 \n",
       "  L653.972 1250.8 L641.298 1250.8 L628.623 1250.8 L615.949 1250.8 L603.275 1250.8 L590.6 1250.8 L577.926 1250.8 L565.252 1250.8 L552.577 1250.8 L539.903 1250.8 \n",
       "  L527.228 1250.8 L514.554 1250.8 L501.88 1250.8 L489.205 1250.8 L476.531 1250.8 L463.857 1250.8 L451.182 1250.8 L438.508 1250.8 L425.834 1250.8 L413.159 1250.8 \n",
       "   Z\n",
       "  \" fill=\"#5cacee\" fill-rule=\"evenodd\" fill-opacity=\"0.5\"/>\n",
       "<polyline clip-path=\"url(#clip422)\" style=\"stroke:#009af9; stroke-width:16; stroke-opacity:1; fill:none\" points=\"\n",
       "  413.159,1250.75 425.834,1250.74 438.508,1250.71 451.182,1250.65 463.857,1250.54 476.531,1250.38 489.205,1250.13 501.88,1249.76 514.554,1249.21 527.228,1248.41 \n",
       "  539.903,1247.29 552.577,1245.76 565.252,1243.69 577.926,1240.98 590.6,1237.51 603.275,1233.18 615.949,1227.9 628.623,1221.65 641.298,1214.44 653.972,1206.36 \n",
       "  666.646,1197.57 679.321,1188.33 691.995,1178.96 704.67,1169.85 717.344,1161.41 730.018,1154.07 742.693,1148.22 755.367,1144.17 768.041,1142.16 780.716,1142.26 \n",
       "  793.39,1144.41 806.064,1148.43 818.739,1153.97 831.413,1160.58 844.088,1167.74 856.762,1174.83 869.436,1181.27 882.111,1186.44 894.785,1189.79 907.459,1190.8 \n",
       "  920.134,1189.07 932.808,1184.26 945.482,1176.17 958.157,1164.7 970.831,1149.91 983.506,1132.01 996.18,1111.36 1008.85,1088.46 1021.53,1063.97 1034.2,1038.62 \n",
       "  1046.88,1013.27 1059.55,988.746 1072.23,965.862 1084.9,945.313 1097.57,927.619 1110.25,913.057 1122.92,901.606 1135.6,892.914 1148.27,886.272 1160.95,880.632 \n",
       "  1173.62,874.641 1186.3,866.719 1198.97,855.165 1211.64,838.297 1224.32,814.617 1236.99,782.983 1249.67,742.785 1262.34,694.088 1275.02,637.735 1287.69,575.381 \n",
       "  1300.36,509.445 1313.04,442.981 1325.71,379.46 1338.39,322.496 1351.06,275.526 1363.74,241.492 1376.41,222.56 1389.09,219.903 1401.76,233.587 1414.43,262.555 \n",
       "  1427.11,304.735 1439.78,357.227 1452.46,416.572 1465.13,479.047 1477.81,540.973 1490.48,598.996 1503.15,650.324 1515.83,692.89 1528.5,725.465 1541.18,747.684 \n",
       "  1553.85,760.019 1566.53,763.687 1579.2,760.518 1591.88,752.771 1604.55,742.942 1617.22,733.545 1629.9,726.901 1642.57,724.952 1655.25,729.109 1667.92,740.149 \n",
       "  1680.6,758.178 1693.27,782.656 1705.94,812.482 1718.62,846.13 1731.29,881.819 1743.97,917.692 1756.64,951.994 1769.32,983.224 1781.99,1010.25 1794.66,1032.36 \n",
       "  1807.34,1049.32 1820.01,1061.3 1832.69,1068.86 1845.36,1072.82 1858.04,1074.16 1870.71,1073.91 1883.39,1073.05 1896.06,1072.39 1908.73,1072.54 1921.41,1073.83 \n",
       "  1934.08,1076.32 1946.76,1079.83 1959.43,1083.96 1972.11,1088.19 1984.78,1091.95 1997.45,1094.68 2010.13,1095.94 2022.8,1095.43 2035.48,1093.07 2048.15,1088.95 \n",
       "  2060.83,1083.36 2073.5,1076.7 2086.18,1069.48 2098.85,1062.19 2111.52,1055.27 2124.2,1049.06 2136.87,1043.73 2149.55,1039.33 2162.22,1035.74 2174.9,1032.77 \n",
       "  2187.57,1030.16 2200.24,1027.68 2212.92,1025.19 2225.59,1022.63 2238.27,1020.11 2250.94,1017.88 2263.62,1016.3 2276.29,1015.81 2288.97,1016.86 2301.64,1019.85 \n",
       "  2314.31,1025.05 2326.99,1032.59 2339.66,1042.4 2352.34,1054.21 2365.01,1067.56 2377.69,1081.86 2390.36,1096.43 2403.03,1110.53 2415.71,1123.49 2428.38,1134.71 \n",
       "  2441.06,1143.76 2453.73,1150.35 2466.41,1154.41 2479.08,1156.06 2491.75,1155.62 2504.43,1153.53 2517.1,1150.36 2529.78,1146.75 2542.45,1143.31 2555.13,1140.63 \n",
       "  2567.8,1139.19 2580.48,1139.36 2593.15,1141.34 2605.82,1145.17 2618.5,1150.75 2631.17,1157.84 2643.85,1166.1 2656.52,1175.15 2669.2,1184.57 2681.87,1193.98 \n",
       "  2694.54,1203.04 2707.22,1211.45 2719.89,1219.04 2732.57,1225.68 2745.24,1231.34 2757.92,1236.02 2770.59,1239.81 2783.27,1242.79 2795.94,1245.08 2808.61,1246.8 \n",
       "  2821.29,1248.06 2833.96,1248.96 2846.64,1249.59 2859.31,1250.02 2871.99,1250.31 2884.66,1250.5 2897.33,1250.62 2910.01,1250.69 2922.68,1250.73 2935.36,1250.75 \n",
       "  \n",
       "  \"/>\n",
       "<polyline clip-path=\"url(#clip422)\" style=\"stroke:#e26f46; stroke-width:16; stroke-opacity:1; fill:none\" points=\"\n",
       "  443.826,2374.49 443.826,-903.779 \n",
       "  \"/>\n",
       "<polyline clip-path=\"url(#clip422)\" style=\"stroke:#3da44d; stroke-width:16; stroke-opacity:1; fill:none\" points=\"\n",
       "  1574.85,2374.49 1574.85,-903.779 \n",
       "  \"/>\n",
       "<path clip-path=\"url(#clip420)\" d=\"\n",
       "M1965.03 743.856 L2915.02 743.856 L2915.02 260.016 L1965.03 260.016  Z\n",
       "  \" fill=\"#000000\" fill-rule=\"evenodd\" fill-opacity=\"0\"/>\n",
       "<polyline clip-path=\"url(#clip420)\" style=\"stroke:#000000; stroke-width:16; stroke-opacity:0; fill:none\" points=\"\n",
       "  1965.03,743.856 2915.02,743.856 2915.02,260.016 1965.03,260.016 1965.03,743.856 \n",
       "  \"/>\n",
       "<path clip-path=\"url(#clip420)\" d=\"\n",
       "M1997.03 429.36 L2189.03 429.36 L2189.03 332.592 L1997.03 332.592 L1997.03 429.36  Z\n",
       "  \" fill=\"#5cacee\" fill-rule=\"evenodd\" fill-opacity=\"0.5\"/>\n",
       "<polyline clip-path=\"url(#clip420)\" style=\"stroke:#009af9; stroke-width:16; stroke-opacity:1; fill:none\" points=\"\n",
       "  1997.03,332.592 2189.03,332.592 \n",
       "  \"/>\n",
       "<g clip-path=\"url(#clip420)\">\n",
       "<text style=\"fill:#000000; fill-opacity:1; font-family:Symbol; font-size:103px; text-anchor:start;\" transform=\"rotate(0, 2221.03, 396.788)\" x=\"2221.03\" y=\"396.788\">α</text>\n",
       "</g>\n",
       "<g clip-path=\"url(#clip420)\">\n",
       "<text style=\"fill:#000000; fill-opacity:1; font-family:Arial,Helvetica Neue,Helvetica,sans-serif; font-size:77px; text-anchor:start;\" transform=\"rotate(0, 2286.42, 424.047)\" x=\"2286.42\" y=\"424.047\">s</text>\n",
       "</g>\n",
       "<polyline clip-path=\"url(#clip420)\" style=\"stroke:#e26f46; stroke-width:16; stroke-opacity:1; fill:none\" points=\"\n",
       "  1997.03,501.936 2189.03,501.936 \n",
       "  \"/>\n",
       "<g clip-path=\"url(#clip420)\">\n",
       "<text style=\"fill:#000000; fill-opacity:1; font-family:Arial,Helvetica Neue,Helvetica,sans-serif; font-size:95px; text-anchor:start;\" transform=\"rotate(0, 2221.03, 529.239)\" x=\"2221.03\" y=\"529.239\">True </text>\n",
       "</g>\n",
       "<g clip-path=\"url(#clip420)\">\n",
       "<text style=\"fill:#000000; fill-opacity:1; font-family:Symbol; font-size:103px; text-anchor:start;\" transform=\"rotate(0, 2445.71, 529.239)\" x=\"2445.71\" y=\"529.239\">α</text>\n",
       "</g>\n",
       "<g clip-path=\"url(#clip420)\">\n",
       "<text style=\"fill:#000000; fill-opacity:1; font-family:Arial,Helvetica Neue,Helvetica,sans-serif; font-size:95px; text-anchor:start;\" transform=\"rotate(0, 2511.1, 529.239)\" x=\"2511.1\" y=\"529.239\"> = 3</text>\n",
       "</g>\n",
       "<polyline clip-path=\"url(#clip420)\" style=\"stroke:#3da44d; stroke-width:16; stroke-opacity:1; fill:none\" points=\"\n",
       "  1997.03,622.896 2189.03,622.896 \n",
       "  \"/>\n",
       "<g clip-path=\"url(#clip420)\">\n",
       "<text style=\"fill:#000000; fill-opacity:1; font-family:Arial,Helvetica Neue,Helvetica,sans-serif; font-size:95px; text-anchor:start;\" transform=\"rotate(0, 2221.03, 650.199)\" x=\"2221.03\" y=\"650.199\">Mean </text>\n",
       "</g>\n",
       "<g clip-path=\"url(#clip420)\">\n",
       "<text style=\"fill:#000000; fill-opacity:1; font-family:Symbol; font-size:103px; text-anchor:start;\" transform=\"rotate(0, 2488.55, 650.199)\" x=\"2488.55\" y=\"650.199\">α</text>\n",
       "</g>\n",
       "<g clip-path=\"url(#clip420)\">\n",
       "<text style=\"fill:#000000; fill-opacity:1; font-family:Arial,Helvetica Neue,Helvetica,sans-serif; font-size:95px; text-anchor:start;\" transform=\"rotate(0, 2553.94, 650.199)\" x=\"2553.94\" y=\"650.199\"> = 3.46</text>\n",
       "</g>\n",
       "</svg>\n"
      ]
     },
     "execution_count": 455,
     "metadata": {},
     "output_type": "execute_result"
    }
   ],
   "source": [
    "# α\n",
    "fig = density(params_sim[:, :α], fill=(0, .5,:steelblue2), lab=\"\\\\alpha_s\",  \n",
    "        linecolor=:match, linewidth=1)\n",
    "plot!(collect(α), seriestype=\"vline\", \n",
    "        lab=\"True \\\\alpha = \" * string(α), \n",
    "        linewidth=1)\n",
    "plot!(collect(mean(params_sim.α)), seriestype=\"vline\", \n",
    "        lab=\"Mean \\\\alpha = \" * string(round(mean(params_sim.α), digits=2)),\n",
    "        linewidth=1, legendfont=font(4), xtickfont=font(4), ytickfont=font(4),\n",
    "        foreground_color_legend=nothing, background_color_legend=nothing, grid=false)\n",
    "plot!(size=(200,100))\n",
    "savefig(\"1_3_4asym_alpha.png\")\n",
    "fig"
   ]
  },
  {
   "cell_type": "code",
   "execution_count": 456,
   "metadata": {
    "scrolled": false
   },
   "outputs": [
    {
     "data": {
      "image/svg+xml": [
       "<?xml version=\"1.0\" encoding=\"utf-8\"?>\n",
       "<svg xmlns=\"http://www.w3.org/2000/svg\" xmlns:xlink=\"http://www.w3.org/1999/xlink\" width=\"800\" height=\"400\" viewBox=\"0 0 3200 1600\">\n",
       "<defs>\n",
       "  <clipPath id=\"clip470\">\n",
       "    <rect x=\"0\" y=\"0\" width=\"3200\" height=\"1600\"/>\n",
       "  </clipPath>\n",
       "</defs>\n",
       "<path clip-path=\"url(#clip470)\" d=\"\n",
       "M0 1600 L3200 1600 L3200 0 L0 0  Z\n",
       "  \" fill=\"#ffffff\" fill-rule=\"evenodd\" fill-opacity=\"1\"/>\n",
       "<defs>\n",
       "  <clipPath id=\"clip471\">\n",
       "    <rect x=\"640\" y=\"0\" width=\"2241\" height=\"1600\"/>\n",
       "  </clipPath>\n",
       "</defs>\n",
       "<path clip-path=\"url(#clip470)\" d=\"\n",
       "M417.78 1281.73 L3011.02 1281.73 L3011.02 188.976 L417.78 188.976  Z\n",
       "  \" fill=\"#ffffff\" fill-rule=\"evenodd\" fill-opacity=\"1\"/>\n",
       "<defs>\n",
       "  <clipPath id=\"clip472\">\n",
       "    <rect x=\"417\" y=\"188\" width=\"2594\" height=\"1094\"/>\n",
       "  </clipPath>\n",
       "</defs>\n",
       "<polyline clip-path=\"url(#clip470)\" style=\"stroke:#000000; stroke-width:16; stroke-opacity:1; fill:none\" points=\"\n",
       "  417.78,1281.73 3011.02,1281.73 \n",
       "  \"/>\n",
       "<polyline clip-path=\"url(#clip470)\" style=\"stroke:#000000; stroke-width:16; stroke-opacity:1; fill:none\" points=\"\n",
       "  417.78,1281.73 417.78,188.976 \n",
       "  \"/>\n",
       "<polyline clip-path=\"url(#clip470)\" style=\"stroke:#000000; stroke-width:16; stroke-opacity:1; fill:none\" points=\"\n",
       "  588.629,1281.73 588.629,1268.62 \n",
       "  \"/>\n",
       "<polyline clip-path=\"url(#clip470)\" style=\"stroke:#000000; stroke-width:16; stroke-opacity:1; fill:none\" points=\"\n",
       "  1381.94,1281.73 1381.94,1268.62 \n",
       "  \"/>\n",
       "<polyline clip-path=\"url(#clip470)\" style=\"stroke:#000000; stroke-width:16; stroke-opacity:1; fill:none\" points=\"\n",
       "  2175.25,1281.73 2175.25,1268.62 \n",
       "  \"/>\n",
       "<polyline clip-path=\"url(#clip470)\" style=\"stroke:#000000; stroke-width:16; stroke-opacity:1; fill:none\" points=\"\n",
       "  2968.56,1281.73 2968.56,1268.62 \n",
       "  \"/>\n",
       "<polyline clip-path=\"url(#clip470)\" style=\"stroke:#000000; stroke-width:16; stroke-opacity:1; fill:none\" points=\"\n",
       "  417.78,1250.8 448.899,1250.8 \n",
       "  \"/>\n",
       "<polyline clip-path=\"url(#clip470)\" style=\"stroke:#000000; stroke-width:16; stroke-opacity:1; fill:none\" points=\"\n",
       "  417.78,1069.67 448.899,1069.67 \n",
       "  \"/>\n",
       "<polyline clip-path=\"url(#clip470)\" style=\"stroke:#000000; stroke-width:16; stroke-opacity:1; fill:none\" points=\"\n",
       "  417.78,888.529 448.899,888.529 \n",
       "  \"/>\n",
       "<polyline clip-path=\"url(#clip470)\" style=\"stroke:#000000; stroke-width:16; stroke-opacity:1; fill:none\" points=\"\n",
       "  417.78,707.391 448.899,707.391 \n",
       "  \"/>\n",
       "<polyline clip-path=\"url(#clip470)\" style=\"stroke:#000000; stroke-width:16; stroke-opacity:1; fill:none\" points=\"\n",
       "  417.78,526.253 448.899,526.253 \n",
       "  \"/>\n",
       "<polyline clip-path=\"url(#clip470)\" style=\"stroke:#000000; stroke-width:16; stroke-opacity:1; fill:none\" points=\"\n",
       "  417.78,345.116 448.899,345.116 \n",
       "  \"/>\n",
       "<g clip-path=\"url(#clip470)\">\n",
       "<text style=\"fill:#000000; fill-opacity:1; font-family:Arial,Helvetica Neue,Helvetica,sans-serif; font-size:95px; text-anchor:middle;\" transform=\"rotate(0, 588.629, 1380.53)\" x=\"588.629\" y=\"1380.53\">6.0</text>\n",
       "</g>\n",
       "<g clip-path=\"url(#clip470)\">\n",
       "<text style=\"fill:#000000; fill-opacity:1; font-family:Arial,Helvetica Neue,Helvetica,sans-serif; font-size:95px; text-anchor:middle;\" transform=\"rotate(0, 1381.94, 1380.53)\" x=\"1381.94\" y=\"1380.53\">6.5</text>\n",
       "</g>\n",
       "<g clip-path=\"url(#clip470)\">\n",
       "<text style=\"fill:#000000; fill-opacity:1; font-family:Arial,Helvetica Neue,Helvetica,sans-serif; font-size:95px; text-anchor:middle;\" transform=\"rotate(0, 2175.25, 1380.53)\" x=\"2175.25\" y=\"1380.53\">7.0</text>\n",
       "</g>\n",
       "<g clip-path=\"url(#clip470)\">\n",
       "<text style=\"fill:#000000; fill-opacity:1; font-family:Arial,Helvetica Neue,Helvetica,sans-serif; font-size:95px; text-anchor:middle;\" transform=\"rotate(0, 2968.56, 1380.53)\" x=\"2968.56\" y=\"1380.53\">7.5</text>\n",
       "</g>\n",
       "<g clip-path=\"url(#clip470)\">\n",
       "<text style=\"fill:#000000; fill-opacity:1; font-family:Arial,Helvetica Neue,Helvetica,sans-serif; font-size:95px; text-anchor:end;\" transform=\"rotate(0, 385.78, 1285.3)\" x=\"385.78\" y=\"1285.3\">0.0</text>\n",
       "</g>\n",
       "<g clip-path=\"url(#clip470)\">\n",
       "<text style=\"fill:#000000; fill-opacity:1; font-family:Arial,Helvetica Neue,Helvetica,sans-serif; font-size:95px; text-anchor:end;\" transform=\"rotate(0, 385.78, 1104.17)\" x=\"385.78\" y=\"1104.17\">0.5</text>\n",
       "</g>\n",
       "<g clip-path=\"url(#clip470)\">\n",
       "<text style=\"fill:#000000; fill-opacity:1; font-family:Arial,Helvetica Neue,Helvetica,sans-serif; font-size:95px; text-anchor:end;\" transform=\"rotate(0, 385.78, 923.029)\" x=\"385.78\" y=\"923.029\">1.0</text>\n",
       "</g>\n",
       "<g clip-path=\"url(#clip470)\">\n",
       "<text style=\"fill:#000000; fill-opacity:1; font-family:Arial,Helvetica Neue,Helvetica,sans-serif; font-size:95px; text-anchor:end;\" transform=\"rotate(0, 385.78, 741.891)\" x=\"385.78\" y=\"741.891\">1.5</text>\n",
       "</g>\n",
       "<g clip-path=\"url(#clip470)\">\n",
       "<text style=\"fill:#000000; fill-opacity:1; font-family:Arial,Helvetica Neue,Helvetica,sans-serif; font-size:95px; text-anchor:end;\" transform=\"rotate(0, 385.78, 560.753)\" x=\"385.78\" y=\"560.753\">2.0</text>\n",
       "</g>\n",
       "<g clip-path=\"url(#clip470)\">\n",
       "<text style=\"fill:#000000; fill-opacity:1; font-family:Arial,Helvetica Neue,Helvetica,sans-serif; font-size:95px; text-anchor:end;\" transform=\"rotate(0, 385.78, 379.616)\" x=\"385.78\" y=\"379.616\">2.5</text>\n",
       "</g>\n",
       "<path clip-path=\"url(#clip472)\" d=\"\n",
       "M491.174 1250.75 L503.468 1250.74 L515.761 1250.7 L528.055 1250.63 L540.349 1250.53 L552.643 1250.35 L564.936 1250.09 L577.23 1249.69 L589.524 1249.1 L601.818 1248.26 \n",
       "  L614.111 1247.08 L626.405 1245.46 L638.699 1243.29 L650.993 1240.46 L663.286 1236.84 L675.58 1232.35 L687.874 1226.91 L700.168 1220.5 L712.461 1213.14 L724.755 1204.94 \n",
       "  L737.049 1196.09 L749.343 1186.84 L761.636 1177.54 L773.93 1168.55 L786.224 1160.28 L798.518 1153.13 L810.811 1147.43 L823.105 1143.42 L835.399 1141.22 L847.693 1140.81 \n",
       "  L859.986 1141.98 L872.28 1144.41 L884.574 1147.62 L896.868 1151.03 L909.161 1154.01 L921.455 1155.93 L933.749 1156.21 L946.043 1154.32 L958.336 1149.92 L970.63 1142.79 \n",
       "  L982.924 1132.9 L995.218 1120.38 L1007.51 1105.56 L1019.81 1088.87 L1032.1 1070.87 L1044.39 1052.2 L1056.69 1033.47 L1068.98 1015.33 L1081.27 998.298 L1093.57 982.827 \n",
       "  L1105.86 969.211 L1118.16 957.577 L1130.45 947.863 L1142.74 939.798 L1155.04 932.888 L1167.33 926.416 L1179.62 919.438 L1191.92 910.811 L1204.21 899.236 L1216.51 883.328 \n",
       "  L1228.8 861.718 L1241.09 833.193 L1253.39 796.848 L1265.68 752.247 L1277.97 699.576 L1290.27 639.755 L1302.56 574.486 L1314.86 506.226 L1327.15 438.063 L1339.44 373.511 \n",
       "  L1351.74 316.227 L1364.03 269.686 L1376.32 236.857 L1388.62 219.903 L1400.91 219.966 L1413.21 237.039 L1425.5 269.969 L1437.79 316.558 L1450.09 373.771 L1462.38 438.005 \n",
       "  L1474.67 505.397 L1486.97 572.128 L1499.26 634.708 L1511.56 690.196 L1523.85 736.373 L1536.14 771.838 L1548.44 796.048 L1560.73 809.294 L1573.02 812.632 L1585.32 807.761 \n",
       "  L1597.61 796.874 L1609.91 782.474 L1622.2 767.17 L1634.49 753.472 L1646.79 743.591 L1659.08 739.27 L1671.37 741.656 L1683.67 751.232 L1695.96 767.818 L1708.26 790.628 \n",
       "  L1720.55 818.395 L1732.84 849.533 L1745.14 882.315 L1757.43 915.058 L1769.72 946.278 L1782.02 974.808 L1794.31 999.867 L1806.61 1021.07 L1818.9 1038.42 L1831.19 1052.19 \n",
       "  L1843.49 1062.91 L1855.78 1071.17 L1868.07 1077.61 L1880.37 1082.81 L1892.66 1087.21 L1904.96 1091.1 L1917.25 1094.62 L1929.54 1097.74 L1941.84 1100.33 L1954.13 1102.2 \n",
       "  L1966.42 1103.12 L1978.72 1102.9 L1991.01 1101.45 L2003.31 1098.75 L2015.6 1094.94 L2027.89 1090.3 L2040.19 1085.21 L2052.48 1080.14 L2064.77 1075.59 L2077.07 1072.05 \n",
       "  L2089.36 1069.91 L2101.66 1069.41 L2113.95 1070.62 L2126.24 1073.42 L2138.54 1077.45 L2150.83 1082.2 L2163.12 1087.04 L2175.42 1091.28 L2187.71 1094.26 L2200 1095.42 \n",
       "  L2212.3 1094.38 L2224.59 1090.99 L2236.89 1085.36 L2249.18 1077.84 L2261.47 1069.04 L2273.77 1059.73 L2286.06 1050.78 L2298.35 1043.08 L2310.65 1037.47 L2322.94 1034.61 \n",
       "  L2335.24 1034.96 L2347.53 1038.69 L2359.82 1045.73 L2372.12 1055.7 L2384.41 1068.02 L2396.7 1081.92 L2409 1096.56 L2421.29 1111.04 L2433.59 1124.55 L2445.88 1136.39 \n",
       "  L2458.17 1146.01 L2470.47 1153.1 L2482.76 1157.55 L2495.05 1159.46 L2507.35 1159.16 L2519.64 1157.09 L2531.94 1153.84 L2544.23 1150.06 L2556.52 1146.38 L2568.82 1143.4 \n",
       "  L2581.11 1141.64 L2593.4 1141.46 L2605.7 1143.09 L2617.99 1146.58 L2630.29 1151.84 L2642.58 1158.65 L2654.87 1166.67 L2667.17 1175.52 L2679.46 1184.79 L2691.75 1194.08 \n",
       "  L2704.05 1203.05 L2716.34 1211.42 L2728.64 1218.98 L2740.93 1225.61 L2753.22 1231.26 L2765.52 1235.96 L2777.81 1239.75 L2790.1 1242.75 L2802.4 1245.05 L2814.69 1246.78 \n",
       "  L2826.99 1248.04 L2839.28 1248.95 L2851.57 1249.58 L2863.87 1250.02 L2876.16 1250.31 L2888.45 1250.5 L2900.75 1250.62 L2913.04 1250.69 L2925.34 1250.73 L2937.63 1250.75 \n",
       "  L2937.63 1250.8 L2925.34 1250.8 L2913.04 1250.8 L2900.75 1250.8 L2888.45 1250.8 L2876.16 1250.8 L2863.87 1250.8 L2851.57 1250.8 L2839.28 1250.8 L2826.99 1250.8 \n",
       "  L2814.69 1250.8 L2802.4 1250.8 L2790.1 1250.8 L2777.81 1250.8 L2765.52 1250.8 L2753.22 1250.8 L2740.93 1250.8 L2728.64 1250.8 L2716.34 1250.8 L2704.05 1250.8 \n",
       "  L2691.75 1250.8 L2679.46 1250.8 L2667.17 1250.8 L2654.87 1250.8 L2642.58 1250.8 L2630.29 1250.8 L2617.99 1250.8 L2605.7 1250.8 L2593.4 1250.8 L2581.11 1250.8 \n",
       "  L2568.82 1250.8 L2556.52 1250.8 L2544.23 1250.8 L2531.94 1250.8 L2519.64 1250.8 L2507.35 1250.8 L2495.05 1250.8 L2482.76 1250.8 L2470.47 1250.8 L2458.17 1250.8 \n",
       "  L2445.88 1250.8 L2433.59 1250.8 L2421.29 1250.8 L2409 1250.8 L2396.7 1250.8 L2384.41 1250.8 L2372.12 1250.8 L2359.82 1250.8 L2347.53 1250.8 L2335.24 1250.8 \n",
       "  L2322.94 1250.8 L2310.65 1250.8 L2298.35 1250.8 L2286.06 1250.8 L2273.77 1250.8 L2261.47 1250.8 L2249.18 1250.8 L2236.89 1250.8 L2224.59 1250.8 L2212.3 1250.8 \n",
       "  L2200 1250.8 L2187.71 1250.8 L2175.42 1250.8 L2163.12 1250.8 L2150.83 1250.8 L2138.54 1250.8 L2126.24 1250.8 L2113.95 1250.8 L2101.66 1250.8 L2089.36 1250.8 \n",
       "  L2077.07 1250.8 L2064.77 1250.8 L2052.48 1250.8 L2040.19 1250.8 L2027.89 1250.8 L2015.6 1250.8 L2003.31 1250.8 L1991.01 1250.8 L1978.72 1250.8 L1966.42 1250.8 \n",
       "  L1954.13 1250.8 L1941.84 1250.8 L1929.54 1250.8 L1917.25 1250.8 L1904.96 1250.8 L1892.66 1250.8 L1880.37 1250.8 L1868.07 1250.8 L1855.78 1250.8 L1843.49 1250.8 \n",
       "  L1831.19 1250.8 L1818.9 1250.8 L1806.61 1250.8 L1794.31 1250.8 L1782.02 1250.8 L1769.72 1250.8 L1757.43 1250.8 L1745.14 1250.8 L1732.84 1250.8 L1720.55 1250.8 \n",
       "  L1708.26 1250.8 L1695.96 1250.8 L1683.67 1250.8 L1671.37 1250.8 L1659.08 1250.8 L1646.79 1250.8 L1634.49 1250.8 L1622.2 1250.8 L1609.91 1250.8 L1597.61 1250.8 \n",
       "  L1585.32 1250.8 L1573.02 1250.8 L1560.73 1250.8 L1548.44 1250.8 L1536.14 1250.8 L1523.85 1250.8 L1511.56 1250.8 L1499.26 1250.8 L1486.97 1250.8 L1474.67 1250.8 \n",
       "  L1462.38 1250.8 L1450.09 1250.8 L1437.79 1250.8 L1425.5 1250.8 L1413.21 1250.8 L1400.91 1250.8 L1388.62 1250.8 L1376.32 1250.8 L1364.03 1250.8 L1351.74 1250.8 \n",
       "  L1339.44 1250.8 L1327.15 1250.8 L1314.86 1250.8 L1302.56 1250.8 L1290.27 1250.8 L1277.97 1250.8 L1265.68 1250.8 L1253.39 1250.8 L1241.09 1250.8 L1228.8 1250.8 \n",
       "  L1216.51 1250.8 L1204.21 1250.8 L1191.92 1250.8 L1179.62 1250.8 L1167.33 1250.8 L1155.04 1250.8 L1142.74 1250.8 L1130.45 1250.8 L1118.16 1250.8 L1105.86 1250.8 \n",
       "  L1093.57 1250.8 L1081.27 1250.8 L1068.98 1250.8 L1056.69 1250.8 L1044.39 1250.8 L1032.1 1250.8 L1019.81 1250.8 L1007.51 1250.8 L995.218 1250.8 L982.924 1250.8 \n",
       "  L970.63 1250.8 L958.336 1250.8 L946.043 1250.8 L933.749 1250.8 L921.455 1250.8 L909.161 1250.8 L896.868 1250.8 L884.574 1250.8 L872.28 1250.8 L859.986 1250.8 \n",
       "  L847.693 1250.8 L835.399 1250.8 L823.105 1250.8 L810.811 1250.8 L798.518 1250.8 L786.224 1250.8 L773.93 1250.8 L761.636 1250.8 L749.343 1250.8 L737.049 1250.8 \n",
       "  L724.755 1250.8 L712.461 1250.8 L700.168 1250.8 L687.874 1250.8 L675.58 1250.8 L663.286 1250.8 L650.993 1250.8 L638.699 1250.8 L626.405 1250.8 L614.111 1250.8 \n",
       "  L601.818 1250.8 L589.524 1250.8 L577.23 1250.8 L564.936 1250.8 L552.643 1250.8 L540.349 1250.8 L528.055 1250.8 L515.761 1250.8 L503.468 1250.8 L491.174 1250.8 \n",
       "   Z\n",
       "  \" fill=\"#5cacee\" fill-rule=\"evenodd\" fill-opacity=\"0.5\"/>\n",
       "<polyline clip-path=\"url(#clip472)\" style=\"stroke:#009af9; stroke-width:16; stroke-opacity:1; fill:none\" points=\"\n",
       "  491.174,1250.75 503.468,1250.74 515.761,1250.7 528.055,1250.63 540.349,1250.53 552.643,1250.35 564.936,1250.09 577.23,1249.69 589.524,1249.1 601.818,1248.26 \n",
       "  614.111,1247.08 626.405,1245.46 638.699,1243.29 650.993,1240.46 663.286,1236.84 675.58,1232.35 687.874,1226.91 700.168,1220.5 712.461,1213.14 724.755,1204.94 \n",
       "  737.049,1196.09 749.343,1186.84 761.636,1177.54 773.93,1168.55 786.224,1160.28 798.518,1153.13 810.811,1147.43 823.105,1143.42 835.399,1141.22 847.693,1140.81 \n",
       "  859.986,1141.98 872.28,1144.41 884.574,1147.62 896.868,1151.03 909.161,1154.01 921.455,1155.93 933.749,1156.21 946.043,1154.32 958.336,1149.92 970.63,1142.79 \n",
       "  982.924,1132.9 995.218,1120.38 1007.51,1105.56 1019.81,1088.87 1032.1,1070.87 1044.39,1052.2 1056.69,1033.47 1068.98,1015.33 1081.27,998.298 1093.57,982.827 \n",
       "  1105.86,969.211 1118.16,957.577 1130.45,947.863 1142.74,939.798 1155.04,932.888 1167.33,926.416 1179.62,919.438 1191.92,910.811 1204.21,899.236 1216.51,883.328 \n",
       "  1228.8,861.718 1241.09,833.193 1253.39,796.848 1265.68,752.247 1277.97,699.576 1290.27,639.755 1302.56,574.486 1314.86,506.226 1327.15,438.063 1339.44,373.511 \n",
       "  1351.74,316.227 1364.03,269.686 1376.32,236.857 1388.62,219.903 1400.91,219.966 1413.21,237.039 1425.5,269.969 1437.79,316.558 1450.09,373.771 1462.38,438.005 \n",
       "  1474.67,505.397 1486.97,572.128 1499.26,634.708 1511.56,690.196 1523.85,736.373 1536.14,771.838 1548.44,796.048 1560.73,809.294 1573.02,812.632 1585.32,807.761 \n",
       "  1597.61,796.874 1609.91,782.474 1622.2,767.17 1634.49,753.472 1646.79,743.591 1659.08,739.27 1671.37,741.656 1683.67,751.232 1695.96,767.818 1708.26,790.628 \n",
       "  1720.55,818.395 1732.84,849.533 1745.14,882.315 1757.43,915.058 1769.72,946.278 1782.02,974.808 1794.31,999.867 1806.61,1021.07 1818.9,1038.42 1831.19,1052.19 \n",
       "  1843.49,1062.91 1855.78,1071.17 1868.07,1077.61 1880.37,1082.81 1892.66,1087.21 1904.96,1091.1 1917.25,1094.62 1929.54,1097.74 1941.84,1100.33 1954.13,1102.2 \n",
       "  1966.42,1103.12 1978.72,1102.9 1991.01,1101.45 2003.31,1098.75 2015.6,1094.94 2027.89,1090.3 2040.19,1085.21 2052.48,1080.14 2064.77,1075.59 2077.07,1072.05 \n",
       "  2089.36,1069.91 2101.66,1069.41 2113.95,1070.62 2126.24,1073.42 2138.54,1077.45 2150.83,1082.2 2163.12,1087.04 2175.42,1091.28 2187.71,1094.26 2200,1095.42 \n",
       "  2212.3,1094.38 2224.59,1090.99 2236.89,1085.36 2249.18,1077.84 2261.47,1069.04 2273.77,1059.73 2286.06,1050.78 2298.35,1043.08 2310.65,1037.47 2322.94,1034.61 \n",
       "  2335.24,1034.96 2347.53,1038.69 2359.82,1045.73 2372.12,1055.7 2384.41,1068.02 2396.7,1081.92 2409,1096.56 2421.29,1111.04 2433.59,1124.55 2445.88,1136.39 \n",
       "  2458.17,1146.01 2470.47,1153.1 2482.76,1157.55 2495.05,1159.46 2507.35,1159.16 2519.64,1157.09 2531.94,1153.84 2544.23,1150.06 2556.52,1146.38 2568.82,1143.4 \n",
       "  2581.11,1141.64 2593.4,1141.46 2605.7,1143.09 2617.99,1146.58 2630.29,1151.84 2642.58,1158.65 2654.87,1166.67 2667.17,1175.52 2679.46,1184.79 2691.75,1194.08 \n",
       "  2704.05,1203.05 2716.34,1211.42 2728.64,1218.98 2740.93,1225.61 2753.22,1231.26 2765.52,1235.96 2777.81,1239.75 2790.1,1242.75 2802.4,1245.05 2814.69,1246.78 \n",
       "  2826.99,1248.04 2839.28,1248.95 2851.57,1249.58 2863.87,1250.02 2876.16,1250.31 2888.45,1250.5 2900.75,1250.62 2913.04,1250.69 2925.34,1250.73 2937.63,1250.75 \n",
       "  \n",
       "  \"/>\n",
       "<polyline clip-path=\"url(#clip472)\" style=\"stroke:#e26f46; stroke-width:16; stroke-opacity:1; fill:none\" points=\"\n",
       "  588.629,2374.49 588.629,-903.779 \n",
       "  \"/>\n",
       "<polyline clip-path=\"url(#clip472)\" style=\"stroke:#3da44d; stroke-width:16; stroke-opacity:1; fill:none\" points=\"\n",
       "  1585.85,2374.49 1585.85,-903.779 \n",
       "  \"/>\n",
       "<path clip-path=\"url(#clip470)\" d=\"\n",
       "M1979.22 743.856 L2915.02 743.856 L2915.02 260.016 L1979.22 260.016  Z\n",
       "  \" fill=\"#000000\" fill-rule=\"evenodd\" fill-opacity=\"0\"/>\n",
       "<polyline clip-path=\"url(#clip470)\" style=\"stroke:#000000; stroke-width:16; stroke-opacity:0; fill:none\" points=\"\n",
       "  1979.22,743.856 2915.02,743.856 2915.02,260.016 1979.22,260.016 1979.22,743.856 \n",
       "  \"/>\n",
       "<path clip-path=\"url(#clip470)\" d=\"\n",
       "M2011.22 429.36 L2203.22 429.36 L2203.22 332.592 L2011.22 332.592 L2011.22 429.36  Z\n",
       "  \" fill=\"#5cacee\" fill-rule=\"evenodd\" fill-opacity=\"0.5\"/>\n",
       "<polyline clip-path=\"url(#clip470)\" style=\"stroke:#009af9; stroke-width:16; stroke-opacity:1; fill:none\" points=\"\n",
       "  2011.22,332.592 2203.22,332.592 \n",
       "  \"/>\n",
       "<g clip-path=\"url(#clip470)\">\n",
       "<text style=\"fill:#000000; fill-opacity:1; font-family:Symbol; font-size:103px; text-anchor:start;\" transform=\"rotate(0, 2235.22, 396.788)\" x=\"2235.22\" y=\"396.788\">δ</text>\n",
       "</g>\n",
       "<g clip-path=\"url(#clip470)\">\n",
       "<text style=\"fill:#000000; fill-opacity:1; font-family:Arial,Helvetica Neue,Helvetica,sans-serif; font-size:77px; text-anchor:start;\" transform=\"rotate(0, 2286.42, 424.047)\" x=\"2286.42\" y=\"424.047\">s</text>\n",
       "</g>\n",
       "<polyline clip-path=\"url(#clip470)\" style=\"stroke:#e26f46; stroke-width:16; stroke-opacity:1; fill:none\" points=\"\n",
       "  2011.22,501.936 2203.22,501.936 \n",
       "  \"/>\n",
       "<g clip-path=\"url(#clip470)\">\n",
       "<text style=\"fill:#000000; fill-opacity:1; font-family:Arial,Helvetica Neue,Helvetica,sans-serif; font-size:95px; text-anchor:start;\" transform=\"rotate(0, 2235.22, 529.239)\" x=\"2235.22\" y=\"529.239\">True </text>\n",
       "</g>\n",
       "<g clip-path=\"url(#clip470)\">\n",
       "<text style=\"fill:#000000; fill-opacity:1; font-family:Symbol; font-size:103px; text-anchor:start;\" transform=\"rotate(0, 2459.91, 529.239)\" x=\"2459.91\" y=\"529.239\">δ</text>\n",
       "</g>\n",
       "<g clip-path=\"url(#clip470)\">\n",
       "<text style=\"fill:#000000; fill-opacity:1; font-family:Arial,Helvetica Neue,Helvetica,sans-serif; font-size:95px; text-anchor:start;\" transform=\"rotate(0, 2511.1, 529.239)\" x=\"2511.1\" y=\"529.239\"> = 6</text>\n",
       "</g>\n",
       "<polyline clip-path=\"url(#clip470)\" style=\"stroke:#3da44d; stroke-width:16; stroke-opacity:1; fill:none\" points=\"\n",
       "  2011.22,622.896 2203.22,622.896 \n",
       "  \"/>\n",
       "<g clip-path=\"url(#clip470)\">\n",
       "<text style=\"fill:#000000; fill-opacity:1; font-family:Arial,Helvetica Neue,Helvetica,sans-serif; font-size:95px; text-anchor:start;\" transform=\"rotate(0, 2235.22, 650.199)\" x=\"2235.22\" y=\"650.199\">Mean </text>\n",
       "</g>\n",
       "<g clip-path=\"url(#clip470)\">\n",
       "<text style=\"fill:#000000; fill-opacity:1; font-family:Symbol; font-size:103px; text-anchor:start;\" transform=\"rotate(0, 2502.75, 650.199)\" x=\"2502.75\" y=\"650.199\">δ</text>\n",
       "</g>\n",
       "<g clip-path=\"url(#clip470)\">\n",
       "<text style=\"fill:#000000; fill-opacity:1; font-family:Arial,Helvetica Neue,Helvetica,sans-serif; font-size:95px; text-anchor:start;\" transform=\"rotate(0, 2553.94, 650.199)\" x=\"2553.94\" y=\"650.199\"> = 6.63</text>\n",
       "</g>\n",
       "</svg>\n"
      ]
     },
     "execution_count": 456,
     "metadata": {},
     "output_type": "execute_result"
    }
   ],
   "source": [
    "# δ\n",
    "fig = density(params_sim[:, :δ], fill=(0, .5,:steelblue2), lab=\"\\\\delta_s\",  \n",
    "        linecolor=:match, linewidth=1)\n",
    "plot!(collect(δ), seriestype=\"vline\", \n",
    "        lab=\"True \\\\delta = \" * string(δ), \n",
    "        linewidth=1)\n",
    "plot!(collect(mean(params_sim.δ)), seriestype=\"vline\", \n",
    "        lab=\"Mean \\\\delta = \" * string(round(mean(params_sim.δ), digits=2)),\n",
    "        linewidth=1, legendfont=font(4), xtickfont=font(4), ytickfont=font(4),\n",
    "        foreground_color_legend=nothing, background_color_legend=nothing, grid=false)\n",
    "plot!(size=(200,100))\n",
    "savefig(\"1_3_4asym_delta.png\");\n",
    "fig"
   ]
  },
  {
   "cell_type": "markdown",
   "metadata": {},
   "source": [
    "<br><br><br><br>\n",
    "\n",
    "### 1.3.5 More unobserved heterogeneity"
   ]
  },
  {
   "cell_type": "code",
   "execution_count": 33,
   "metadata": {},
   "outputs": [],
   "source": [
    "# Model k ∈ {1,...,K} with prob exp(k/2)\n",
    "eq_opts = eq_vec[:,2]\n",
    "\n",
    "# Function to map x, equilibrium, and player number to other player's strat\n",
    "eq_map = function(x, eq, player)\n",
    "    x = convert(Int64, x)\n",
    "    return eq_opts[x][eq,player]\n",
    "end\n",
    "\n",
    "# Set up parameters\n",
    "α=3; δ=6\n",
    "T=1000; S=50\n",
    "\n",
    "# Create simulation data\n",
    "dt = DataFrame(t = repeat(1:T, outer = S), s = repeat(1:S, inner = T))\n",
    "dt.x = repeat(rand(Binomial(1,0.5), T) .+ Ref(1.0), outer = S)\n",
    "dt.ϵ_1 = rand(Logistic(0,1), S*T)\n",
    "dt.ϵ_2 = rand(Logistic(0,1), S*T)\n",
    "dt.eq = Ref(0)\n",
    "for r in 1:nrow(dt)\n",
    "    u_p = 1.0 ./(1.0 .+ dt[r,:x])\n",
    "    num = [1.0, 2.0, 3.0] .+ repeat(1.0.* rand(Binomial(1, 0.5),1),3)\n",
    "    eq_probs = exp.(num./2) ./ sum(exp.(num./2))\n",
    "    dt.eq = rand(Categorical(eq_probs), 1)[1]\n",
    "end\n",
    "dt.y_1 = 1.0.*(α*dt.x .- δ*eq_map.(dt.x, dt.eq, 2) .+ dt.ϵ_1 .>= 0)\n",
    "dt.y_2 = 1.0.*(α*dt.x .- δ*eq_map.(dt.x, dt.eq, 1) .+ dt.ϵ_1 .>= 0);"
   ]
  },
  {
   "cell_type": "markdown",
   "metadata": {},
   "source": [
    "Now we estimate this with the same method as above:"
   ]
  },
  {
   "cell_type": "code",
   "execution_count": null,
   "metadata": {},
   "outputs": [],
   "source": []
  },
  {
   "cell_type": "markdown",
   "metadata": {},
   "source": [
    "For comparison, we estimate this with the method in question 1.3.3:"
   ]
  },
  {
   "cell_type": "code",
   "execution_count": null,
   "metadata": {},
   "outputs": [],
   "source": []
  },
  {
   "cell_type": "markdown",
   "metadata": {},
   "source": [
    "<br><br><br><br><br><br><br><br>\n",
    "\n",
    "## QUESTION 2.3\n",
    "\n",
    "##### Read in data"
   ]
  },
  {
   "cell_type": "code",
   "execution_count": 34,
   "metadata": {
    "scrolled": true
   },
   "outputs": [
    {
     "name": "stdout",
     "output_type": "stream",
     "text": [
      "[\"milage\"]\n"
     ]
    }
   ],
   "source": [
    "data = CSV.read(\"psetTwo.csv\", DataFrame);\n",
    "println(names(data))\n",
    "convert.(Float64, data.milage);"
   ]
  },
  {
   "cell_type": "markdown",
   "metadata": {},
   "source": [
    "##### Define utility function"
   ]
  },
  {
   "cell_type": "code",
   "execution_count": 35,
   "metadata": {},
   "outputs": [],
   "source": [
    "utility = function(; x, d, θ)\n",
    "    if d == 0\n",
    "        return -θ[1].*x .- θ[2].*(x./100).^2\n",
    "    else\n",
    "        return -θ[3]\n",
    "    end\n",
    "end;"
   ]
  },
  {
   "cell_type": "markdown",
   "metadata": {},
   "source": [
    "<br><br>\n",
    "### 1. Engine replacement\n",
    "\n",
    "Generate dummy variable."
   ]
  },
  {
   "cell_type": "code",
   "execution_count": 36,
   "metadata": {
    "scrolled": true
   },
   "outputs": [],
   "source": [
    "data.d = 1.0.*(data[:milage] .< lag(data[:milage]));\n",
    "data[ismissing.(data[:d]),:d] = Ref(0.0);"
   ]
  },
  {
   "cell_type": "markdown",
   "metadata": {},
   "source": [
    "<br><br>\n",
    "### 3. Discretize state space and estimate transition probabilities"
   ]
  },
  {
   "cell_type": "markdown",
   "metadata": {},
   "source": [
    "##### Discretize state space and generate state dummy variables"
   ]
  },
  {
   "cell_type": "code",
   "execution_count": 37,
   "metadata": {},
   "outputs": [
    {
     "name": "stdout",
     "output_type": "stream",
     "text": [
      "1\n",
      "221\n"
     ]
    }
   ],
   "source": [
    "# Get summary statistics of milage\n",
    "min_mile = minimum(data.milage)\n",
    "max_mile = maximum(data.milage)\n",
    "println(minimum(data.milage))\n",
    "println(maximum(data.milage))"
   ]
  },
  {
   "cell_type": "code",
   "execution_count": 38,
   "metadata": {},
   "outputs": [],
   "source": [
    "# Divide state space into K states\n",
    "K = 21;"
   ]
  },
  {
   "cell_type": "markdown",
   "metadata": {},
   "source": [
    "### Using constant step sizes"
   ]
  },
  {
   "cell_type": "code",
   "execution_count": 39,
   "metadata": {},
   "outputs": [],
   "source": [
    "# k_step = (max_mile - min_mile)/K\n",
    "\n",
    "# state_cols = fill(\" \", K)\n",
    "# for k in 1:K\n",
    "#     k_min = min_mile + (k-1)*k_step\n",
    "#     k_max = min_mile + k*k_step\n",
    "#     data[!, \"s_\" * string(k)] = 1.0.*(k_min .≤ data.milage .≤ k_max)\n",
    "#     state_cols[k] = \"s_\" * string(k)\n",
    "# end"
   ]
  },
  {
   "cell_type": "markdown",
   "metadata": {},
   "source": [
    "### Using (approximately) constant bin counts"
   ]
  },
  {
   "cell_type": "code",
   "execution_count": 40,
   "metadata": {},
   "outputs": [],
   "source": [
    "k_q = nquantile(data.milage, K);\n",
    "data.s_now = Ref(0)\n",
    "\n",
    "state_cols = fill(\" \", K)\n",
    "last_state_cols = fill(\" \", K)\n",
    "for k in 1:K\n",
    "    data[(k_q[k] .< data.milage .≤ k_q[k+1]) .| (data.milage .== 1), :s_now] = Ref(k)\n",
    "end"
   ]
  },
  {
   "cell_type": "code",
   "execution_count": 41,
   "metadata": {},
   "outputs": [],
   "source": [
    "data.s_prev = Ref(0)\n",
    "for r in 2:nrow(data)\n",
    "    data[r,:s_prev] = data[r-1,:s_now]\n",
    "end"
   ]
  },
  {
   "cell_type": "code",
   "execution_count": 387,
   "metadata": {},
   "outputs": [],
   "source": [
    "for k in 1:K\n",
    "    data[!, \"s_\" * string(k)] = 1.0.*(data.s_now .== k) # State\n",
    "    state_cols[k] = \"s_\" * string(k)\n",
    "end\n",
    "for k in 1:K\n",
    "    data[!, \"ls_\" * string(k)] = 1.0.*(data.s_prev .== k) # Last state\n",
    "    last_state_cols[k] = \"ls_\" * string(k)\n",
    "end"
   ]
  },
  {
   "cell_type": "code",
   "execution_count": 388,
   "metadata": {
    "scrolled": false
   },
   "outputs": [
    {
     "data": {
      "text/html": [
       "<table class=\"data-frame\"><thead><tr><th></th><th>milage</th><th>d</th><th>s_now</th><th>s_prev</th><th>s_1</th><th>s_2</th><th>s_3</th><th>s_4</th><th>s_5</th><th>s_6</th><th>s_7</th><th>s_8</th><th>s_9</th><th>s_10</th><th>s_11</th><th>s_12</th><th>s_13</th><th>s_14</th><th>s_15</th><th>s_16</th><th>s_17</th><th>s_18</th><th>s_19</th><th>s_20</th><th>s_21</th><th>ls_1</th><th>ls_2</th><th>ls_3</th><th>ls_4</th><th>ls_5</th><th>ls_6</th><th>ls_7</th><th>ls_8</th><th>ls_9</th><th>ls_10</th><th>ls_11</th><th>ls_12</th><th>ls_13</th><th>ls_14</th><th>ls_15</th><th>ls_16</th><th>ls_17</th><th>ls_18</th><th>ls_19</th><th>ls_20</th><th>ls_21</th></tr><tr><th></th><th>Int64</th><th>Float64?</th><th>Int64</th><th>Int64</th><th>Float64</th><th>Float64</th><th>Float64</th><th>Float64</th><th>Float64</th><th>Float64</th><th>Float64</th><th>Float64</th><th>Float64</th><th>Float64</th><th>Float64</th><th>Float64</th><th>Float64</th><th>Float64</th><th>Float64</th><th>Float64</th><th>Float64</th><th>Float64</th><th>Float64</th><th>Float64</th><th>Float64</th><th>Float64</th><th>Float64</th><th>Float64</th><th>Float64</th><th>Float64</th><th>Float64</th><th>Float64</th><th>Float64</th><th>Float64</th><th>Float64</th><th>Float64</th><th>Float64</th><th>Float64</th><th>Float64</th><th>Float64</th><th>Float64</th><th>Float64</th><th>Float64</th><th>Float64</th><th>Float64</th><th>Float64</th></tr></thead><tbody><p>16 rows × 46 columns</p><tr><th>1</th><td>23</td><td>0.0</td><td>4</td><td>0</td><td>0.0</td><td>0.0</td><td>0.0</td><td>1.0</td><td>0.0</td><td>0.0</td><td>0.0</td><td>0.0</td><td>0.0</td><td>0.0</td><td>0.0</td><td>0.0</td><td>0.0</td><td>0.0</td><td>0.0</td><td>0.0</td><td>0.0</td><td>0.0</td><td>0.0</td><td>0.0</td><td>0.0</td><td>0.0</td><td>0.0</td><td>0.0</td><td>0.0</td><td>0.0</td><td>0.0</td><td>0.0</td><td>0.0</td><td>0.0</td><td>0.0</td><td>0.0</td><td>0.0</td><td>0.0</td><td>0.0</td><td>0.0</td><td>0.0</td><td>0.0</td><td>0.0</td><td>0.0</td><td>0.0</td><td>0.0</td></tr><tr><th>2</th><td>31</td><td>0.0</td><td>5</td><td>4</td><td>0.0</td><td>0.0</td><td>0.0</td><td>0.0</td><td>1.0</td><td>0.0</td><td>0.0</td><td>0.0</td><td>0.0</td><td>0.0</td><td>0.0</td><td>0.0</td><td>0.0</td><td>0.0</td><td>0.0</td><td>0.0</td><td>0.0</td><td>0.0</td><td>0.0</td><td>0.0</td><td>0.0</td><td>0.0</td><td>0.0</td><td>0.0</td><td>1.0</td><td>0.0</td><td>0.0</td><td>0.0</td><td>0.0</td><td>0.0</td><td>0.0</td><td>0.0</td><td>0.0</td><td>0.0</td><td>0.0</td><td>0.0</td><td>0.0</td><td>0.0</td><td>0.0</td><td>0.0</td><td>0.0</td><td>0.0</td></tr><tr><th>3</th><td>36</td><td>0.0</td><td>6</td><td>5</td><td>0.0</td><td>0.0</td><td>0.0</td><td>0.0</td><td>0.0</td><td>1.0</td><td>0.0</td><td>0.0</td><td>0.0</td><td>0.0</td><td>0.0</td><td>0.0</td><td>0.0</td><td>0.0</td><td>0.0</td><td>0.0</td><td>0.0</td><td>0.0</td><td>0.0</td><td>0.0</td><td>0.0</td><td>0.0</td><td>0.0</td><td>0.0</td><td>0.0</td><td>1.0</td><td>0.0</td><td>0.0</td><td>0.0</td><td>0.0</td><td>0.0</td><td>0.0</td><td>0.0</td><td>0.0</td><td>0.0</td><td>0.0</td><td>0.0</td><td>0.0</td><td>0.0</td><td>0.0</td><td>0.0</td><td>0.0</td></tr><tr><th>4</th><td>46</td><td>0.0</td><td>8</td><td>6</td><td>0.0</td><td>0.0</td><td>0.0</td><td>0.0</td><td>0.0</td><td>0.0</td><td>0.0</td><td>1.0</td><td>0.0</td><td>0.0</td><td>0.0</td><td>0.0</td><td>0.0</td><td>0.0</td><td>0.0</td><td>0.0</td><td>0.0</td><td>0.0</td><td>0.0</td><td>0.0</td><td>0.0</td><td>0.0</td><td>0.0</td><td>0.0</td><td>0.0</td><td>0.0</td><td>1.0</td><td>0.0</td><td>0.0</td><td>0.0</td><td>0.0</td><td>0.0</td><td>0.0</td><td>0.0</td><td>0.0</td><td>0.0</td><td>0.0</td><td>0.0</td><td>0.0</td><td>0.0</td><td>0.0</td><td>0.0</td></tr><tr><th>5</th><td>56</td><td>0.0</td><td>9</td><td>8</td><td>0.0</td><td>0.0</td><td>0.0</td><td>0.0</td><td>0.0</td><td>0.0</td><td>0.0</td><td>0.0</td><td>1.0</td><td>0.0</td><td>0.0</td><td>0.0</td><td>0.0</td><td>0.0</td><td>0.0</td><td>0.0</td><td>0.0</td><td>0.0</td><td>0.0</td><td>0.0</td><td>0.0</td><td>0.0</td><td>0.0</td><td>0.0</td><td>0.0</td><td>0.0</td><td>0.0</td><td>0.0</td><td>1.0</td><td>0.0</td><td>0.0</td><td>0.0</td><td>0.0</td><td>0.0</td><td>0.0</td><td>0.0</td><td>0.0</td><td>0.0</td><td>0.0</td><td>0.0</td><td>0.0</td><td>0.0</td></tr><tr><th>6</th><td>66</td><td>0.0</td><td>11</td><td>9</td><td>0.0</td><td>0.0</td><td>0.0</td><td>0.0</td><td>0.0</td><td>0.0</td><td>0.0</td><td>0.0</td><td>0.0</td><td>0.0</td><td>1.0</td><td>0.0</td><td>0.0</td><td>0.0</td><td>0.0</td><td>0.0</td><td>0.0</td><td>0.0</td><td>0.0</td><td>0.0</td><td>0.0</td><td>0.0</td><td>0.0</td><td>0.0</td><td>0.0</td><td>0.0</td><td>0.0</td><td>0.0</td><td>0.0</td><td>1.0</td><td>0.0</td><td>0.0</td><td>0.0</td><td>0.0</td><td>0.0</td><td>0.0</td><td>0.0</td><td>0.0</td><td>0.0</td><td>0.0</td><td>0.0</td><td>0.0</td></tr><tr><th>7</th><td>75</td><td>0.0</td><td>13</td><td>11</td><td>0.0</td><td>0.0</td><td>0.0</td><td>0.0</td><td>0.0</td><td>0.0</td><td>0.0</td><td>0.0</td><td>0.0</td><td>0.0</td><td>0.0</td><td>0.0</td><td>1.0</td><td>0.0</td><td>0.0</td><td>0.0</td><td>0.0</td><td>0.0</td><td>0.0</td><td>0.0</td><td>0.0</td><td>0.0</td><td>0.0</td><td>0.0</td><td>0.0</td><td>0.0</td><td>0.0</td><td>0.0</td><td>0.0</td><td>0.0</td><td>0.0</td><td>1.0</td><td>0.0</td><td>0.0</td><td>0.0</td><td>0.0</td><td>0.0</td><td>0.0</td><td>0.0</td><td>0.0</td><td>0.0</td><td>0.0</td></tr><tr><th>8</th><td>85</td><td>0.0</td><td>14</td><td>13</td><td>0.0</td><td>0.0</td><td>0.0</td><td>0.0</td><td>0.0</td><td>0.0</td><td>0.0</td><td>0.0</td><td>0.0</td><td>0.0</td><td>0.0</td><td>0.0</td><td>0.0</td><td>1.0</td><td>0.0</td><td>0.0</td><td>0.0</td><td>0.0</td><td>0.0</td><td>0.0</td><td>0.0</td><td>0.0</td><td>0.0</td><td>0.0</td><td>0.0</td><td>0.0</td><td>0.0</td><td>0.0</td><td>0.0</td><td>0.0</td><td>0.0</td><td>0.0</td><td>0.0</td><td>1.0</td><td>0.0</td><td>0.0</td><td>0.0</td><td>0.0</td><td>0.0</td><td>0.0</td><td>0.0</td><td>0.0</td></tr><tr><th>9</th><td>86</td><td>0.0</td><td>14</td><td>14</td><td>0.0</td><td>0.0</td><td>0.0</td><td>0.0</td><td>0.0</td><td>0.0</td><td>0.0</td><td>0.0</td><td>0.0</td><td>0.0</td><td>0.0</td><td>0.0</td><td>0.0</td><td>1.0</td><td>0.0</td><td>0.0</td><td>0.0</td><td>0.0</td><td>0.0</td><td>0.0</td><td>0.0</td><td>0.0</td><td>0.0</td><td>0.0</td><td>0.0</td><td>0.0</td><td>0.0</td><td>0.0</td><td>0.0</td><td>0.0</td><td>0.0</td><td>0.0</td><td>0.0</td><td>0.0</td><td>1.0</td><td>0.0</td><td>0.0</td><td>0.0</td><td>0.0</td><td>0.0</td><td>0.0</td><td>0.0</td></tr><tr><th>10</th><td>95</td><td>0.0</td><td>16</td><td>14</td><td>0.0</td><td>0.0</td><td>0.0</td><td>0.0</td><td>0.0</td><td>0.0</td><td>0.0</td><td>0.0</td><td>0.0</td><td>0.0</td><td>0.0</td><td>0.0</td><td>0.0</td><td>0.0</td><td>0.0</td><td>1.0</td><td>0.0</td><td>0.0</td><td>0.0</td><td>0.0</td><td>0.0</td><td>0.0</td><td>0.0</td><td>0.0</td><td>0.0</td><td>0.0</td><td>0.0</td><td>0.0</td><td>0.0</td><td>0.0</td><td>0.0</td><td>0.0</td><td>0.0</td><td>0.0</td><td>1.0</td><td>0.0</td><td>0.0</td><td>0.0</td><td>0.0</td><td>0.0</td><td>0.0</td><td>0.0</td></tr><tr><th>11</th><td>106</td><td>0.0</td><td>17</td><td>16</td><td>0.0</td><td>0.0</td><td>0.0</td><td>0.0</td><td>0.0</td><td>0.0</td><td>0.0</td><td>0.0</td><td>0.0</td><td>0.0</td><td>0.0</td><td>0.0</td><td>0.0</td><td>0.0</td><td>0.0</td><td>0.0</td><td>1.0</td><td>0.0</td><td>0.0</td><td>0.0</td><td>0.0</td><td>0.0</td><td>0.0</td><td>0.0</td><td>0.0</td><td>0.0</td><td>0.0</td><td>0.0</td><td>0.0</td><td>0.0</td><td>0.0</td><td>0.0</td><td>0.0</td><td>0.0</td><td>0.0</td><td>0.0</td><td>1.0</td><td>0.0</td><td>0.0</td><td>0.0</td><td>0.0</td><td>0.0</td></tr><tr><th>12</th><td>124</td><td>0.0</td><td>19</td><td>17</td><td>0.0</td><td>0.0</td><td>0.0</td><td>0.0</td><td>0.0</td><td>0.0</td><td>0.0</td><td>0.0</td><td>0.0</td><td>0.0</td><td>0.0</td><td>0.0</td><td>0.0</td><td>0.0</td><td>0.0</td><td>0.0</td><td>0.0</td><td>0.0</td><td>1.0</td><td>0.0</td><td>0.0</td><td>0.0</td><td>0.0</td><td>0.0</td><td>0.0</td><td>0.0</td><td>0.0</td><td>0.0</td><td>0.0</td><td>0.0</td><td>0.0</td><td>0.0</td><td>0.0</td><td>0.0</td><td>0.0</td><td>0.0</td><td>0.0</td><td>1.0</td><td>0.0</td><td>0.0</td><td>0.0</td><td>0.0</td></tr><tr><th>13</th><td>135</td><td>0.0</td><td>20</td><td>19</td><td>0.0</td><td>0.0</td><td>0.0</td><td>0.0</td><td>0.0</td><td>0.0</td><td>0.0</td><td>0.0</td><td>0.0</td><td>0.0</td><td>0.0</td><td>0.0</td><td>0.0</td><td>0.0</td><td>0.0</td><td>0.0</td><td>0.0</td><td>0.0</td><td>0.0</td><td>1.0</td><td>0.0</td><td>0.0</td><td>0.0</td><td>0.0</td><td>0.0</td><td>0.0</td><td>0.0</td><td>0.0</td><td>0.0</td><td>0.0</td><td>0.0</td><td>0.0</td><td>0.0</td><td>0.0</td><td>0.0</td><td>0.0</td><td>0.0</td><td>0.0</td><td>0.0</td><td>1.0</td><td>0.0</td><td>0.0</td></tr><tr><th>14</th><td>142</td><td>0.0</td><td>20</td><td>20</td><td>0.0</td><td>0.0</td><td>0.0</td><td>0.0</td><td>0.0</td><td>0.0</td><td>0.0</td><td>0.0</td><td>0.0</td><td>0.0</td><td>0.0</td><td>0.0</td><td>0.0</td><td>0.0</td><td>0.0</td><td>0.0</td><td>0.0</td><td>0.0</td><td>0.0</td><td>1.0</td><td>0.0</td><td>0.0</td><td>0.0</td><td>0.0</td><td>0.0</td><td>0.0</td><td>0.0</td><td>0.0</td><td>0.0</td><td>0.0</td><td>0.0</td><td>0.0</td><td>0.0</td><td>0.0</td><td>0.0</td><td>0.0</td><td>0.0</td><td>0.0</td><td>0.0</td><td>0.0</td><td>1.0</td><td>0.0</td></tr><tr><th>15</th><td>9</td><td>1.0</td><td>1</td><td>20</td><td>1.0</td><td>0.0</td><td>0.0</td><td>0.0</td><td>0.0</td><td>0.0</td><td>0.0</td><td>0.0</td><td>0.0</td><td>0.0</td><td>0.0</td><td>0.0</td><td>0.0</td><td>0.0</td><td>0.0</td><td>0.0</td><td>0.0</td><td>0.0</td><td>0.0</td><td>0.0</td><td>0.0</td><td>0.0</td><td>0.0</td><td>0.0</td><td>0.0</td><td>0.0</td><td>0.0</td><td>0.0</td><td>0.0</td><td>0.0</td><td>0.0</td><td>0.0</td><td>0.0</td><td>0.0</td><td>0.0</td><td>0.0</td><td>0.0</td><td>0.0</td><td>0.0</td><td>0.0</td><td>1.0</td><td>0.0</td></tr><tr><th>16</th><td>18</td><td>0.0</td><td>3</td><td>1</td><td>0.0</td><td>0.0</td><td>1.0</td><td>0.0</td><td>0.0</td><td>0.0</td><td>0.0</td><td>0.0</td><td>0.0</td><td>0.0</td><td>0.0</td><td>0.0</td><td>0.0</td><td>0.0</td><td>0.0</td><td>0.0</td><td>0.0</td><td>0.0</td><td>0.0</td><td>0.0</td><td>0.0</td><td>1.0</td><td>0.0</td><td>0.0</td><td>0.0</td><td>0.0</td><td>0.0</td><td>0.0</td><td>0.0</td><td>0.0</td><td>0.0</td><td>0.0</td><td>0.0</td><td>0.0</td><td>0.0</td><td>0.0</td><td>0.0</td><td>0.0</td><td>0.0</td><td>0.0</td><td>0.0</td><td>0.0</td></tr></tbody></table>"
      ],
      "text/latex": [
       "\\begin{tabular}{r|cccccccccccccccccccccccccccccccccccccccccccccc}\n",
       "\t& milage & d & s\\_now & s\\_prev & s\\_1 & s\\_2 & s\\_3 & s\\_4 & s\\_5 & s\\_6 & s\\_7 & s\\_8 & s\\_9 & s\\_10 & s\\_11 & s\\_12 & s\\_13 & s\\_14 & s\\_15 & s\\_16 & s\\_17 & s\\_18 & s\\_19 & s\\_20 & s\\_21 & ls\\_1 & ls\\_2 & ls\\_3 & ls\\_4 & ls\\_5 & ls\\_6 & ls\\_7 & ls\\_8 & ls\\_9 & ls\\_10 & ls\\_11 & ls\\_12 & ls\\_13 & ls\\_14 & ls\\_15 & ls\\_16 & ls\\_17 & ls\\_18 & ls\\_19 & ls\\_20 & ls\\_21\\\\\n",
       "\t\\hline\n",
       "\t& Int64 & Float64? & Int64 & Int64 & Float64 & Float64 & Float64 & Float64 & Float64 & Float64 & Float64 & Float64 & Float64 & Float64 & Float64 & Float64 & Float64 & Float64 & Float64 & Float64 & Float64 & Float64 & Float64 & Float64 & Float64 & Float64 & Float64 & Float64 & Float64 & Float64 & Float64 & Float64 & Float64 & Float64 & Float64 & Float64 & Float64 & Float64 & Float64 & Float64 & Float64 & Float64 & Float64 & Float64 & Float64 & Float64\\\\\n",
       "\t\\hline\n",
       "\t1 & 23 & 0.0 & 4 & 0 & 0.0 & 0.0 & 0.0 & 1.0 & 0.0 & 0.0 & 0.0 & 0.0 & 0.0 & 0.0 & 0.0 & 0.0 & 0.0 & 0.0 & 0.0 & 0.0 & 0.0 & 0.0 & 0.0 & 0.0 & 0.0 & 0.0 & 0.0 & 0.0 & 0.0 & 0.0 & 0.0 & 0.0 & 0.0 & 0.0 & 0.0 & 0.0 & 0.0 & 0.0 & 0.0 & 0.0 & 0.0 & 0.0 & 0.0 & 0.0 & 0.0 & 0.0 \\\\\n",
       "\t2 & 31 & 0.0 & 5 & 4 & 0.0 & 0.0 & 0.0 & 0.0 & 1.0 & 0.0 & 0.0 & 0.0 & 0.0 & 0.0 & 0.0 & 0.0 & 0.0 & 0.0 & 0.0 & 0.0 & 0.0 & 0.0 & 0.0 & 0.0 & 0.0 & 0.0 & 0.0 & 0.0 & 1.0 & 0.0 & 0.0 & 0.0 & 0.0 & 0.0 & 0.0 & 0.0 & 0.0 & 0.0 & 0.0 & 0.0 & 0.0 & 0.0 & 0.0 & 0.0 & 0.0 & 0.0 \\\\\n",
       "\t3 & 36 & 0.0 & 6 & 5 & 0.0 & 0.0 & 0.0 & 0.0 & 0.0 & 1.0 & 0.0 & 0.0 & 0.0 & 0.0 & 0.0 & 0.0 & 0.0 & 0.0 & 0.0 & 0.0 & 0.0 & 0.0 & 0.0 & 0.0 & 0.0 & 0.0 & 0.0 & 0.0 & 0.0 & 1.0 & 0.0 & 0.0 & 0.0 & 0.0 & 0.0 & 0.0 & 0.0 & 0.0 & 0.0 & 0.0 & 0.0 & 0.0 & 0.0 & 0.0 & 0.0 & 0.0 \\\\\n",
       "\t4 & 46 & 0.0 & 8 & 6 & 0.0 & 0.0 & 0.0 & 0.0 & 0.0 & 0.0 & 0.0 & 1.0 & 0.0 & 0.0 & 0.0 & 0.0 & 0.0 & 0.0 & 0.0 & 0.0 & 0.0 & 0.0 & 0.0 & 0.0 & 0.0 & 0.0 & 0.0 & 0.0 & 0.0 & 0.0 & 1.0 & 0.0 & 0.0 & 0.0 & 0.0 & 0.0 & 0.0 & 0.0 & 0.0 & 0.0 & 0.0 & 0.0 & 0.0 & 0.0 & 0.0 & 0.0 \\\\\n",
       "\t5 & 56 & 0.0 & 9 & 8 & 0.0 & 0.0 & 0.0 & 0.0 & 0.0 & 0.0 & 0.0 & 0.0 & 1.0 & 0.0 & 0.0 & 0.0 & 0.0 & 0.0 & 0.0 & 0.0 & 0.0 & 0.0 & 0.0 & 0.0 & 0.0 & 0.0 & 0.0 & 0.0 & 0.0 & 0.0 & 0.0 & 0.0 & 1.0 & 0.0 & 0.0 & 0.0 & 0.0 & 0.0 & 0.0 & 0.0 & 0.0 & 0.0 & 0.0 & 0.0 & 0.0 & 0.0 \\\\\n",
       "\t6 & 66 & 0.0 & 11 & 9 & 0.0 & 0.0 & 0.0 & 0.0 & 0.0 & 0.0 & 0.0 & 0.0 & 0.0 & 0.0 & 1.0 & 0.0 & 0.0 & 0.0 & 0.0 & 0.0 & 0.0 & 0.0 & 0.0 & 0.0 & 0.0 & 0.0 & 0.0 & 0.0 & 0.0 & 0.0 & 0.0 & 0.0 & 0.0 & 1.0 & 0.0 & 0.0 & 0.0 & 0.0 & 0.0 & 0.0 & 0.0 & 0.0 & 0.0 & 0.0 & 0.0 & 0.0 \\\\\n",
       "\t7 & 75 & 0.0 & 13 & 11 & 0.0 & 0.0 & 0.0 & 0.0 & 0.0 & 0.0 & 0.0 & 0.0 & 0.0 & 0.0 & 0.0 & 0.0 & 1.0 & 0.0 & 0.0 & 0.0 & 0.0 & 0.0 & 0.0 & 0.0 & 0.0 & 0.0 & 0.0 & 0.0 & 0.0 & 0.0 & 0.0 & 0.0 & 0.0 & 0.0 & 0.0 & 1.0 & 0.0 & 0.0 & 0.0 & 0.0 & 0.0 & 0.0 & 0.0 & 0.0 & 0.0 & 0.0 \\\\\n",
       "\t8 & 85 & 0.0 & 14 & 13 & 0.0 & 0.0 & 0.0 & 0.0 & 0.0 & 0.0 & 0.0 & 0.0 & 0.0 & 0.0 & 0.0 & 0.0 & 0.0 & 1.0 & 0.0 & 0.0 & 0.0 & 0.0 & 0.0 & 0.0 & 0.0 & 0.0 & 0.0 & 0.0 & 0.0 & 0.0 & 0.0 & 0.0 & 0.0 & 0.0 & 0.0 & 0.0 & 0.0 & 1.0 & 0.0 & 0.0 & 0.0 & 0.0 & 0.0 & 0.0 & 0.0 & 0.0 \\\\\n",
       "\t9 & 86 & 0.0 & 14 & 14 & 0.0 & 0.0 & 0.0 & 0.0 & 0.0 & 0.0 & 0.0 & 0.0 & 0.0 & 0.0 & 0.0 & 0.0 & 0.0 & 1.0 & 0.0 & 0.0 & 0.0 & 0.0 & 0.0 & 0.0 & 0.0 & 0.0 & 0.0 & 0.0 & 0.0 & 0.0 & 0.0 & 0.0 & 0.0 & 0.0 & 0.0 & 0.0 & 0.0 & 0.0 & 1.0 & 0.0 & 0.0 & 0.0 & 0.0 & 0.0 & 0.0 & 0.0 \\\\\n",
       "\t10 & 95 & 0.0 & 16 & 14 & 0.0 & 0.0 & 0.0 & 0.0 & 0.0 & 0.0 & 0.0 & 0.0 & 0.0 & 0.0 & 0.0 & 0.0 & 0.0 & 0.0 & 0.0 & 1.0 & 0.0 & 0.0 & 0.0 & 0.0 & 0.0 & 0.0 & 0.0 & 0.0 & 0.0 & 0.0 & 0.0 & 0.0 & 0.0 & 0.0 & 0.0 & 0.0 & 0.0 & 0.0 & 1.0 & 0.0 & 0.0 & 0.0 & 0.0 & 0.0 & 0.0 & 0.0 \\\\\n",
       "\t11 & 106 & 0.0 & 17 & 16 & 0.0 & 0.0 & 0.0 & 0.0 & 0.0 & 0.0 & 0.0 & 0.0 & 0.0 & 0.0 & 0.0 & 0.0 & 0.0 & 0.0 & 0.0 & 0.0 & 1.0 & 0.0 & 0.0 & 0.0 & 0.0 & 0.0 & 0.0 & 0.0 & 0.0 & 0.0 & 0.0 & 0.0 & 0.0 & 0.0 & 0.0 & 0.0 & 0.0 & 0.0 & 0.0 & 0.0 & 1.0 & 0.0 & 0.0 & 0.0 & 0.0 & 0.0 \\\\\n",
       "\t12 & 124 & 0.0 & 19 & 17 & 0.0 & 0.0 & 0.0 & 0.0 & 0.0 & 0.0 & 0.0 & 0.0 & 0.0 & 0.0 & 0.0 & 0.0 & 0.0 & 0.0 & 0.0 & 0.0 & 0.0 & 0.0 & 1.0 & 0.0 & 0.0 & 0.0 & 0.0 & 0.0 & 0.0 & 0.0 & 0.0 & 0.0 & 0.0 & 0.0 & 0.0 & 0.0 & 0.0 & 0.0 & 0.0 & 0.0 & 0.0 & 1.0 & 0.0 & 0.0 & 0.0 & 0.0 \\\\\n",
       "\t13 & 135 & 0.0 & 20 & 19 & 0.0 & 0.0 & 0.0 & 0.0 & 0.0 & 0.0 & 0.0 & 0.0 & 0.0 & 0.0 & 0.0 & 0.0 & 0.0 & 0.0 & 0.0 & 0.0 & 0.0 & 0.0 & 0.0 & 1.0 & 0.0 & 0.0 & 0.0 & 0.0 & 0.0 & 0.0 & 0.0 & 0.0 & 0.0 & 0.0 & 0.0 & 0.0 & 0.0 & 0.0 & 0.0 & 0.0 & 0.0 & 0.0 & 0.0 & 1.0 & 0.0 & 0.0 \\\\\n",
       "\t14 & 142 & 0.0 & 20 & 20 & 0.0 & 0.0 & 0.0 & 0.0 & 0.0 & 0.0 & 0.0 & 0.0 & 0.0 & 0.0 & 0.0 & 0.0 & 0.0 & 0.0 & 0.0 & 0.0 & 0.0 & 0.0 & 0.0 & 1.0 & 0.0 & 0.0 & 0.0 & 0.0 & 0.0 & 0.0 & 0.0 & 0.0 & 0.0 & 0.0 & 0.0 & 0.0 & 0.0 & 0.0 & 0.0 & 0.0 & 0.0 & 0.0 & 0.0 & 0.0 & 1.0 & 0.0 \\\\\n",
       "\t15 & 9 & 1.0 & 1 & 20 & 1.0 & 0.0 & 0.0 & 0.0 & 0.0 & 0.0 & 0.0 & 0.0 & 0.0 & 0.0 & 0.0 & 0.0 & 0.0 & 0.0 & 0.0 & 0.0 & 0.0 & 0.0 & 0.0 & 0.0 & 0.0 & 0.0 & 0.0 & 0.0 & 0.0 & 0.0 & 0.0 & 0.0 & 0.0 & 0.0 & 0.0 & 0.0 & 0.0 & 0.0 & 0.0 & 0.0 & 0.0 & 0.0 & 0.0 & 0.0 & 1.0 & 0.0 \\\\\n",
       "\t16 & 18 & 0.0 & 3 & 1 & 0.0 & 0.0 & 1.0 & 0.0 & 0.0 & 0.0 & 0.0 & 0.0 & 0.0 & 0.0 & 0.0 & 0.0 & 0.0 & 0.0 & 0.0 & 0.0 & 0.0 & 0.0 & 0.0 & 0.0 & 0.0 & 1.0 & 0.0 & 0.0 & 0.0 & 0.0 & 0.0 & 0.0 & 0.0 & 0.0 & 0.0 & 0.0 & 0.0 & 0.0 & 0.0 & 0.0 & 0.0 & 0.0 & 0.0 & 0.0 & 0.0 & 0.0 \\\\\n",
       "\\end{tabular}\n"
      ],
      "text/plain": [
       "16×46 DataFrame\n",
       "│ Row │ milage │ d        │ s_now │ s_prev │ s_1     │ s_2     │ s_3     │ s_4     │ s_5     │ s_6     │ s_7     │ s_8     │ s_9     │ s_10    │ s_11    │ s_12    │ s_13    │ s_14    │ s_15    │ s_16    │ s_17    │ s_18    │ s_19    │ s_20    │ s_21    │ ls_1    │ ls_2    │ ls_3    │ ls_4    │ ls_5    │ ls_6    │ ls_7    │ ls_8    │ ls_9    │ ls_10   │ ls_11   │ ls_12   │ ls_13   │ ls_14   │ ls_15   │ ls_16   │ ls_17   │ ls_18   │ ls_19   │ ls_20   │ ls_21   │\n",
       "│     │ \u001b[90mInt64\u001b[39m  │ \u001b[90mFloat64?\u001b[39m │ \u001b[90mInt64\u001b[39m │ \u001b[90mInt64\u001b[39m  │ \u001b[90mFloat64\u001b[39m │ \u001b[90mFloat64\u001b[39m │ \u001b[90mFloat64\u001b[39m │ \u001b[90mFloat64\u001b[39m │ \u001b[90mFloat64\u001b[39m │ \u001b[90mFloat64\u001b[39m │ \u001b[90mFloat64\u001b[39m │ \u001b[90mFloat64\u001b[39m │ \u001b[90mFloat64\u001b[39m │ \u001b[90mFloat64\u001b[39m │ \u001b[90mFloat64\u001b[39m │ \u001b[90mFloat64\u001b[39m │ \u001b[90mFloat64\u001b[39m │ \u001b[90mFloat64\u001b[39m │ \u001b[90mFloat64\u001b[39m │ \u001b[90mFloat64\u001b[39m │ \u001b[90mFloat64\u001b[39m │ \u001b[90mFloat64\u001b[39m │ \u001b[90mFloat64\u001b[39m │ \u001b[90mFloat64\u001b[39m │ \u001b[90mFloat64\u001b[39m │ \u001b[90mFloat64\u001b[39m │ \u001b[90mFloat64\u001b[39m │ \u001b[90mFloat64\u001b[39m │ \u001b[90mFloat64\u001b[39m │ \u001b[90mFloat64\u001b[39m │ \u001b[90mFloat64\u001b[39m │ \u001b[90mFloat64\u001b[39m │ \u001b[90mFloat64\u001b[39m │ \u001b[90mFloat64\u001b[39m │ \u001b[90mFloat64\u001b[39m │ \u001b[90mFloat64\u001b[39m │ \u001b[90mFloat64\u001b[39m │ \u001b[90mFloat64\u001b[39m │ \u001b[90mFloat64\u001b[39m │ \u001b[90mFloat64\u001b[39m │ \u001b[90mFloat64\u001b[39m │ \u001b[90mFloat64\u001b[39m │ \u001b[90mFloat64\u001b[39m │ \u001b[90mFloat64\u001b[39m │ \u001b[90mFloat64\u001b[39m │ \u001b[90mFloat64\u001b[39m │\n",
       "├─────┼────────┼──────────┼───────┼────────┼─────────┼─────────┼─────────┼─────────┼─────────┼─────────┼─────────┼─────────┼─────────┼─────────┼─────────┼─────────┼─────────┼─────────┼─────────┼─────────┼─────────┼─────────┼─────────┼─────────┼─────────┼─────────┼─────────┼─────────┼─────────┼─────────┼─────────┼─────────┼─────────┼─────────┼─────────┼─────────┼─────────┼─────────┼─────────┼─────────┼─────────┼─────────┼─────────┼─────────┼─────────┼─────────┤\n",
       "│ 1   │ 23     │ 0.0      │ 4     │ 0      │ 0.0     │ 0.0     │ 0.0     │ 1.0     │ 0.0     │ 0.0     │ 0.0     │ 0.0     │ 0.0     │ 0.0     │ 0.0     │ 0.0     │ 0.0     │ 0.0     │ 0.0     │ 0.0     │ 0.0     │ 0.0     │ 0.0     │ 0.0     │ 0.0     │ 0.0     │ 0.0     │ 0.0     │ 0.0     │ 0.0     │ 0.0     │ 0.0     │ 0.0     │ 0.0     │ 0.0     │ 0.0     │ 0.0     │ 0.0     │ 0.0     │ 0.0     │ 0.0     │ 0.0     │ 0.0     │ 0.0     │ 0.0     │ 0.0     │\n",
       "│ 2   │ 31     │ 0.0      │ 5     │ 4      │ 0.0     │ 0.0     │ 0.0     │ 0.0     │ 1.0     │ 0.0     │ 0.0     │ 0.0     │ 0.0     │ 0.0     │ 0.0     │ 0.0     │ 0.0     │ 0.0     │ 0.0     │ 0.0     │ 0.0     │ 0.0     │ 0.0     │ 0.0     │ 0.0     │ 0.0     │ 0.0     │ 0.0     │ 1.0     │ 0.0     │ 0.0     │ 0.0     │ 0.0     │ 0.0     │ 0.0     │ 0.0     │ 0.0     │ 0.0     │ 0.0     │ 0.0     │ 0.0     │ 0.0     │ 0.0     │ 0.0     │ 0.0     │ 0.0     │\n",
       "│ 3   │ 36     │ 0.0      │ 6     │ 5      │ 0.0     │ 0.0     │ 0.0     │ 0.0     │ 0.0     │ 1.0     │ 0.0     │ 0.0     │ 0.0     │ 0.0     │ 0.0     │ 0.0     │ 0.0     │ 0.0     │ 0.0     │ 0.0     │ 0.0     │ 0.0     │ 0.0     │ 0.0     │ 0.0     │ 0.0     │ 0.0     │ 0.0     │ 0.0     │ 1.0     │ 0.0     │ 0.0     │ 0.0     │ 0.0     │ 0.0     │ 0.0     │ 0.0     │ 0.0     │ 0.0     │ 0.0     │ 0.0     │ 0.0     │ 0.0     │ 0.0     │ 0.0     │ 0.0     │\n",
       "│ 4   │ 46     │ 0.0      │ 8     │ 6      │ 0.0     │ 0.0     │ 0.0     │ 0.0     │ 0.0     │ 0.0     │ 0.0     │ 1.0     │ 0.0     │ 0.0     │ 0.0     │ 0.0     │ 0.0     │ 0.0     │ 0.0     │ 0.0     │ 0.0     │ 0.0     │ 0.0     │ 0.0     │ 0.0     │ 0.0     │ 0.0     │ 0.0     │ 0.0     │ 0.0     │ 1.0     │ 0.0     │ 0.0     │ 0.0     │ 0.0     │ 0.0     │ 0.0     │ 0.0     │ 0.0     │ 0.0     │ 0.0     │ 0.0     │ 0.0     │ 0.0     │ 0.0     │ 0.0     │\n",
       "│ 5   │ 56     │ 0.0      │ 9     │ 8      │ 0.0     │ 0.0     │ 0.0     │ 0.0     │ 0.0     │ 0.0     │ 0.0     │ 0.0     │ 1.0     │ 0.0     │ 0.0     │ 0.0     │ 0.0     │ 0.0     │ 0.0     │ 0.0     │ 0.0     │ 0.0     │ 0.0     │ 0.0     │ 0.0     │ 0.0     │ 0.0     │ 0.0     │ 0.0     │ 0.0     │ 0.0     │ 0.0     │ 1.0     │ 0.0     │ 0.0     │ 0.0     │ 0.0     │ 0.0     │ 0.0     │ 0.0     │ 0.0     │ 0.0     │ 0.0     │ 0.0     │ 0.0     │ 0.0     │\n",
       "│ 6   │ 66     │ 0.0      │ 11    │ 9      │ 0.0     │ 0.0     │ 0.0     │ 0.0     │ 0.0     │ 0.0     │ 0.0     │ 0.0     │ 0.0     │ 0.0     │ 1.0     │ 0.0     │ 0.0     │ 0.0     │ 0.0     │ 0.0     │ 0.0     │ 0.0     │ 0.0     │ 0.0     │ 0.0     │ 0.0     │ 0.0     │ 0.0     │ 0.0     │ 0.0     │ 0.0     │ 0.0     │ 0.0     │ 1.0     │ 0.0     │ 0.0     │ 0.0     │ 0.0     │ 0.0     │ 0.0     │ 0.0     │ 0.0     │ 0.0     │ 0.0     │ 0.0     │ 0.0     │\n",
       "│ 7   │ 75     │ 0.0      │ 13    │ 11     │ 0.0     │ 0.0     │ 0.0     │ 0.0     │ 0.0     │ 0.0     │ 0.0     │ 0.0     │ 0.0     │ 0.0     │ 0.0     │ 0.0     │ 1.0     │ 0.0     │ 0.0     │ 0.0     │ 0.0     │ 0.0     │ 0.0     │ 0.0     │ 0.0     │ 0.0     │ 0.0     │ 0.0     │ 0.0     │ 0.0     │ 0.0     │ 0.0     │ 0.0     │ 0.0     │ 0.0     │ 1.0     │ 0.0     │ 0.0     │ 0.0     │ 0.0     │ 0.0     │ 0.0     │ 0.0     │ 0.0     │ 0.0     │ 0.0     │\n",
       "│ 8   │ 85     │ 0.0      │ 14    │ 13     │ 0.0     │ 0.0     │ 0.0     │ 0.0     │ 0.0     │ 0.0     │ 0.0     │ 0.0     │ 0.0     │ 0.0     │ 0.0     │ 0.0     │ 0.0     │ 1.0     │ 0.0     │ 0.0     │ 0.0     │ 0.0     │ 0.0     │ 0.0     │ 0.0     │ 0.0     │ 0.0     │ 0.0     │ 0.0     │ 0.0     │ 0.0     │ 0.0     │ 0.0     │ 0.0     │ 0.0     │ 0.0     │ 0.0     │ 1.0     │ 0.0     │ 0.0     │ 0.0     │ 0.0     │ 0.0     │ 0.0     │ 0.0     │ 0.0     │\n",
       "│ 9   │ 86     │ 0.0      │ 14    │ 14     │ 0.0     │ 0.0     │ 0.0     │ 0.0     │ 0.0     │ 0.0     │ 0.0     │ 0.0     │ 0.0     │ 0.0     │ 0.0     │ 0.0     │ 0.0     │ 1.0     │ 0.0     │ 0.0     │ 0.0     │ 0.0     │ 0.0     │ 0.0     │ 0.0     │ 0.0     │ 0.0     │ 0.0     │ 0.0     │ 0.0     │ 0.0     │ 0.0     │ 0.0     │ 0.0     │ 0.0     │ 0.0     │ 0.0     │ 0.0     │ 1.0     │ 0.0     │ 0.0     │ 0.0     │ 0.0     │ 0.0     │ 0.0     │ 0.0     │\n",
       "│ 10  │ 95     │ 0.0      │ 16    │ 14     │ 0.0     │ 0.0     │ 0.0     │ 0.0     │ 0.0     │ 0.0     │ 0.0     │ 0.0     │ 0.0     │ 0.0     │ 0.0     │ 0.0     │ 0.0     │ 0.0     │ 0.0     │ 1.0     │ 0.0     │ 0.0     │ 0.0     │ 0.0     │ 0.0     │ 0.0     │ 0.0     │ 0.0     │ 0.0     │ 0.0     │ 0.0     │ 0.0     │ 0.0     │ 0.0     │ 0.0     │ 0.0     │ 0.0     │ 0.0     │ 1.0     │ 0.0     │ 0.0     │ 0.0     │ 0.0     │ 0.0     │ 0.0     │ 0.0     │\n",
       "│ 11  │ 106    │ 0.0      │ 17    │ 16     │ 0.0     │ 0.0     │ 0.0     │ 0.0     │ 0.0     │ 0.0     │ 0.0     │ 0.0     │ 0.0     │ 0.0     │ 0.0     │ 0.0     │ 0.0     │ 0.0     │ 0.0     │ 0.0     │ 1.0     │ 0.0     │ 0.0     │ 0.0     │ 0.0     │ 0.0     │ 0.0     │ 0.0     │ 0.0     │ 0.0     │ 0.0     │ 0.0     │ 0.0     │ 0.0     │ 0.0     │ 0.0     │ 0.0     │ 0.0     │ 0.0     │ 0.0     │ 1.0     │ 0.0     │ 0.0     │ 0.0     │ 0.0     │ 0.0     │\n",
       "│ 12  │ 124    │ 0.0      │ 19    │ 17     │ 0.0     │ 0.0     │ 0.0     │ 0.0     │ 0.0     │ 0.0     │ 0.0     │ 0.0     │ 0.0     │ 0.0     │ 0.0     │ 0.0     │ 0.0     │ 0.0     │ 0.0     │ 0.0     │ 0.0     │ 0.0     │ 1.0     │ 0.0     │ 0.0     │ 0.0     │ 0.0     │ 0.0     │ 0.0     │ 0.0     │ 0.0     │ 0.0     │ 0.0     │ 0.0     │ 0.0     │ 0.0     │ 0.0     │ 0.0     │ 0.0     │ 0.0     │ 0.0     │ 1.0     │ 0.0     │ 0.0     │ 0.0     │ 0.0     │\n",
       "│ 13  │ 135    │ 0.0      │ 20    │ 19     │ 0.0     │ 0.0     │ 0.0     │ 0.0     │ 0.0     │ 0.0     │ 0.0     │ 0.0     │ 0.0     │ 0.0     │ 0.0     │ 0.0     │ 0.0     │ 0.0     │ 0.0     │ 0.0     │ 0.0     │ 0.0     │ 0.0     │ 1.0     │ 0.0     │ 0.0     │ 0.0     │ 0.0     │ 0.0     │ 0.0     │ 0.0     │ 0.0     │ 0.0     │ 0.0     │ 0.0     │ 0.0     │ 0.0     │ 0.0     │ 0.0     │ 0.0     │ 0.0     │ 0.0     │ 0.0     │ 1.0     │ 0.0     │ 0.0     │\n",
       "│ 14  │ 142    │ 0.0      │ 20    │ 20     │ 0.0     │ 0.0     │ 0.0     │ 0.0     │ 0.0     │ 0.0     │ 0.0     │ 0.0     │ 0.0     │ 0.0     │ 0.0     │ 0.0     │ 0.0     │ 0.0     │ 0.0     │ 0.0     │ 0.0     │ 0.0     │ 0.0     │ 1.0     │ 0.0     │ 0.0     │ 0.0     │ 0.0     │ 0.0     │ 0.0     │ 0.0     │ 0.0     │ 0.0     │ 0.0     │ 0.0     │ 0.0     │ 0.0     │ 0.0     │ 0.0     │ 0.0     │ 0.0     │ 0.0     │ 0.0     │ 0.0     │ 1.0     │ 0.0     │\n",
       "│ 15  │ 9      │ 1.0      │ 1     │ 20     │ 1.0     │ 0.0     │ 0.0     │ 0.0     │ 0.0     │ 0.0     │ 0.0     │ 0.0     │ 0.0     │ 0.0     │ 0.0     │ 0.0     │ 0.0     │ 0.0     │ 0.0     │ 0.0     │ 0.0     │ 0.0     │ 0.0     │ 0.0     │ 0.0     │ 0.0     │ 0.0     │ 0.0     │ 0.0     │ 0.0     │ 0.0     │ 0.0     │ 0.0     │ 0.0     │ 0.0     │ 0.0     │ 0.0     │ 0.0     │ 0.0     │ 0.0     │ 0.0     │ 0.0     │ 0.0     │ 0.0     │ 1.0     │ 0.0     │\n",
       "│ 16  │ 18     │ 0.0      │ 3     │ 1      │ 0.0     │ 0.0     │ 1.0     │ 0.0     │ 0.0     │ 0.0     │ 0.0     │ 0.0     │ 0.0     │ 0.0     │ 0.0     │ 0.0     │ 0.0     │ 0.0     │ 0.0     │ 0.0     │ 0.0     │ 0.0     │ 0.0     │ 0.0     │ 0.0     │ 1.0     │ 0.0     │ 0.0     │ 0.0     │ 0.0     │ 0.0     │ 0.0     │ 0.0     │ 0.0     │ 0.0     │ 0.0     │ 0.0     │ 0.0     │ 0.0     │ 0.0     │ 0.0     │ 0.0     │ 0.0     │ 0.0     │ 0.0     │ 0.0     │"
      ]
     },
     "execution_count": 388,
     "metadata": {},
     "output_type": "execute_result"
    }
   ],
   "source": [
    "first(data,16)"
   ]
  },
  {
   "cell_type": "markdown",
   "metadata": {},
   "source": [
    "##### Estimate conditional transition probabilities\n",
    "\n",
    "Start with transition probability conditional on $d=1$."
   ]
  },
  {
   "cell_type": "code",
   "execution_count": 240,
   "metadata": {},
   "outputs": [],
   "source": [
    "# Estimate P_d1\n",
    "P_d1 = reshape(fill(0.0,K*K), K, K);\n",
    "for k in 1:K\n",
    "    if nrow(data[(data[:d] .== 1) .& (data[:s_prev] .== k),:]) > 0\n",
    "        row_k = mean(Matrix(data[(data.d .== 1) .& (data.s_prev .== k), state_cols]), dims=1)\n",
    "        P_d1[k,:] = row_k\n",
    "    end\n",
    "end"
   ]
  },
  {
   "cell_type": "markdown",
   "metadata": {},
   "source": [
    "Print out the transition matrix (this will be transposed in the implementation):"
   ]
  },
  {
   "cell_type": "code",
   "execution_count": 241,
   "metadata": {
    "scrolled": false
   },
   "outputs": [
    {
     "data": {
      "text/plain": [
       "21×21 Array{Float64,2}:\n",
       " 0.0  0.0  0.0  0.0  0.0  0.0  0.0  0.0  0.0  0.0  0.0  0.0  0.0  0.0  0.0  0.0  0.0  0.0  0.0  0.0  0.0\n",
       " 0.0  0.0  0.0  0.0  0.0  0.0  0.0  0.0  0.0  0.0  0.0  0.0  0.0  0.0  0.0  0.0  0.0  0.0  0.0  0.0  0.0\n",
       " 0.0  0.0  0.0  0.0  0.0  0.0  0.0  0.0  0.0  0.0  0.0  0.0  0.0  0.0  0.0  0.0  0.0  0.0  0.0  0.0  0.0\n",
       " 0.0  0.0  0.0  0.0  0.0  0.0  0.0  0.0  0.0  0.0  0.0  0.0  0.0  0.0  0.0  0.0  0.0  0.0  0.0  0.0  0.0\n",
       " 0.0  0.0  0.0  0.0  0.0  0.0  0.0  0.0  0.0  0.0  0.0  0.0  0.0  0.0  0.0  0.0  0.0  0.0  0.0  0.0  0.0\n",
       " 0.0  0.0  0.0  0.0  0.0  0.0  0.0  0.0  0.0  0.0  0.0  0.0  0.0  0.0  0.0  0.0  0.0  0.0  0.0  0.0  0.0\n",
       " 1.0  0.0  0.0  0.0  0.0  0.0  0.0  0.0  0.0  0.0  0.0  0.0  0.0  0.0  0.0  0.0  0.0  0.0  0.0  0.0  0.0\n",
       " 0.3  0.3  0.3  0.0  0.0  0.0  0.0  0.0  0.0  0.0  0.0  0.0  0.0  0.0  0.0  0.0  0.0  0.0  0.0  0.0  0.0\n",
       " 0.3  0.3  0.3  0.0  0.0  0.0  0.0  0.0  0.0  0.0  0.0  0.0  0.0  0.0  0.0  0.0  0.0  0.0  0.0  0.0  0.0\n",
       " 0.5  0.5  0.0  0.0  0.0  0.0  0.0  0.0  0.0  0.0  0.0  0.0  0.0  0.0  0.0  0.0  0.0  0.0  0.0  0.0  0.0\n",
       " 0.4  0.4  0.1  0.0  0.0  0.0  0.0  0.0  0.0  0.0  0.0  0.0  0.0  0.0  0.0  0.0  0.0  0.0  0.0  0.0  0.0\n",
       " 0.5  0.4  0.1  0.0  0.0  0.0  0.0  0.0  0.0  0.0  0.0  0.0  0.0  0.0  0.0  0.0  0.0  0.0  0.0  0.0  0.0\n",
       " 0.6  0.4  0.0  0.0  0.0  0.0  0.0  0.0  0.0  0.0  0.0  0.0  0.0  0.0  0.0  0.0  0.0  0.0  0.0  0.0  0.0\n",
       " 0.6  0.4  0.0  0.0  0.0  0.0  0.0  0.0  0.0  0.0  0.0  0.0  0.0  0.0  0.0  0.0  0.0  0.0  0.0  0.0  0.0\n",
       " 0.6  0.4  0.1  0.0  0.0  0.0  0.0  0.0  0.0  0.0  0.0  0.0  0.0  0.0  0.0  0.0  0.0  0.0  0.0  0.0  0.0\n",
       " 0.5  0.4  0.0  0.0  0.0  0.0  0.0  0.0  0.0  0.0  0.0  0.0  0.0  0.0  0.0  0.0  0.0  0.0  0.0  0.0  0.0\n",
       " 0.7  0.1  0.2  0.0  0.0  0.0  0.0  0.0  0.0  0.0  0.0  0.0  0.0  0.0  0.0  0.0  0.0  0.0  0.0  0.0  0.0\n",
       " 0.7  0.3  0.0  0.0  0.0  0.0  0.0  0.0  0.0  0.0  0.0  0.0  0.0  0.0  0.0  0.0  0.0  0.0  0.0  0.0  0.0\n",
       " 0.6  0.3  0.1  0.0  0.0  0.0  0.0  0.0  0.0  0.0  0.0  0.0  0.0  0.0  0.0  0.0  0.0  0.0  0.0  0.0  0.0\n",
       " 0.4  0.4  0.1  0.0  0.0  0.0  0.0  0.0  0.0  0.0  0.0  0.0  0.0  0.0  0.0  0.0  0.0  0.0  0.0  0.0  0.0\n",
       " 0.6  0.3  0.0  0.0  0.0  0.0  0.0  0.0  0.0  0.0  0.0  0.0  0.0  0.0  0.0  0.0  0.0  0.0  0.0  0.0  0.0"
      ]
     },
     "execution_count": 241,
     "metadata": {},
     "output_type": "execute_result"
    }
   ],
   "source": [
    "round.(P_d1,digits=1)"
   ]
  },
  {
   "cell_type": "markdown",
   "metadata": {},
   "source": [
    "Now estimate transition probability conditional on $d=0$."
   ]
  },
  {
   "cell_type": "code",
   "execution_count": 242,
   "metadata": {},
   "outputs": [],
   "source": [
    "# Estimate P_d1\n",
    "P_d0 = reshape(fill(0.0,K*K), K, K);\n",
    "for k in 1:K\n",
    "    if nrow(data[(data[:d] .== 0) .& (data[:s_prev] .== k),:]) > 0\n",
    "        row_k = mean(Matrix(data[(data.d .== 0) .& (data.s_prev .== k), state_cols]), dims=1)\n",
    "        P_d0[k,:] = row_k\n",
    "    end\n",
    "end"
   ]
  },
  {
   "cell_type": "markdown",
   "metadata": {},
   "source": [
    "Print out the matrix (this will be transposed in the implementation):"
   ]
  },
  {
   "cell_type": "code",
   "execution_count": 245,
   "metadata": {
    "scrolled": false
   },
   "outputs": [
    {
     "data": {
      "text/plain": [
       "21×21 Array{Float64,2}:\n",
       " 0.1  0.5  0.3  0.2  0.0  0.0  0.0  0.0  0.0  0.0  0.0  0.0  0.0  0.0  0.0  0.0  0.0  0.0  0.0  0.0  0.0\n",
       " 0.0  0.0  0.3  0.5  0.1  0.0  0.0  0.0  0.0  0.0  0.0  0.0  0.0  0.0  0.0  0.0  0.0  0.0  0.0  0.0  0.0\n",
       " 0.0  0.0  0.0  0.4  0.4  0.1  0.0  0.0  0.0  0.0  0.0  0.0  0.0  0.0  0.0  0.0  0.0  0.0  0.0  0.0  0.0\n",
       " 0.0  0.0  0.0  0.1  0.4  0.3  0.2  0.0  0.0  0.0  0.0  0.0  0.0  0.0  0.0  0.0  0.0  0.0  0.0  0.0  0.0\n",
       " 0.0  0.0  0.0  0.0  0.1  0.3  0.4  0.1  0.0  0.0  0.0  0.0  0.0  0.0  0.0  0.0  0.0  0.0  0.0  0.0  0.0\n",
       " 0.0  0.0  0.0  0.0  0.0  0.0  0.3  0.5  0.1  0.0  0.0  0.0  0.0  0.0  0.0  0.0  0.0  0.0  0.0  0.0  0.0\n",
       " 0.0  0.0  0.0  0.0  0.0  0.0  0.1  0.3  0.5  0.1  0.0  0.0  0.0  0.0  0.0  0.0  0.0  0.0  0.0  0.0  0.0\n",
       " 0.0  0.0  0.0  0.0  0.0  0.0  0.0  0.0  0.4  0.4  0.1  0.0  0.0  0.0  0.0  0.0  0.0  0.0  0.0  0.0  0.0\n",
       " 0.0  0.0  0.0  0.0  0.0  0.0  0.0  0.0  0.1  0.4  0.4  0.2  0.0  0.0  0.0  0.0  0.0  0.0  0.0  0.0  0.0\n",
       " 0.0  0.0  0.0  0.0  0.0  0.0  0.0  0.0  0.0  0.1  0.4  0.4  0.1  0.0  0.0  0.0  0.0  0.0  0.0  0.0  0.0\n",
       " 0.0  0.0  0.0  0.0  0.0  0.0  0.0  0.0  0.0  0.0  0.0  0.4  0.5  0.1  0.0  0.0  0.0  0.0  0.0  0.0  0.0\n",
       " 0.0  0.0  0.0  0.0  0.0  0.0  0.0  0.0  0.0  0.0  0.0  0.1  0.4  0.4  0.1  0.0  0.0  0.0  0.0  0.0  0.0\n",
       " 0.0  0.0  0.0  0.0  0.0  0.0  0.0  0.0  0.0  0.0  0.0  0.0  0.1  0.4  0.4  0.1  0.0  0.0  0.0  0.0  0.0\n",
       " 0.0  0.0  0.0  0.0  0.0  0.0  0.0  0.0  0.0  0.0  0.0  0.0  0.0  0.1  0.5  0.4  0.1  0.0  0.0  0.0  0.0\n",
       " 0.0  0.0  0.0  0.0  0.0  0.0  0.0  0.0  0.0  0.0  0.0  0.0  0.0  0.0  0.1  0.5  0.4  0.1  0.0  0.0  0.0\n",
       " 0.0  0.0  0.0  0.0  0.0  0.0  0.0  0.0  0.0  0.0  0.0  0.0  0.0  0.0  0.0  0.1  0.5  0.3  0.0  0.0  0.0\n",
       " 0.0  0.0  0.0  0.0  0.0  0.0  0.0  0.0  0.0  0.0  0.0  0.0  0.0  0.0  0.0  0.0  0.1  0.6  0.2  0.0  0.0\n",
       " 0.0  0.0  0.0  0.0  0.0  0.0  0.0  0.0  0.0  0.0  0.0  0.0  0.0  0.0  0.0  0.0  0.0  0.2  0.7  0.2  0.0\n",
       " 0.0  0.0  0.0  0.0  0.0  0.0  0.0  0.0  0.0  0.0  0.0  0.0  0.0  0.0  0.0  0.0  0.0  0.0  0.3  0.7  0.0\n",
       " 0.0  0.0  0.0  0.0  0.0  0.0  0.0  0.0  0.0  0.0  0.0  0.0  0.0  0.0  0.0  0.0  0.0  0.0  0.0  0.4  0.6\n",
       " 0.0  0.0  0.0  0.0  0.0  0.0  0.0  0.0  0.0  0.0  0.0  0.0  0.0  0.0  0.0  0.0  0.0  0.0  0.0  0.0  1.0"
      ]
     },
     "execution_count": 245,
     "metadata": {},
     "output_type": "execute_result"
    }
   ],
   "source": [
    "round.(P_d0,digits=1)"
   ]
  },
  {
   "cell_type": "markdown",
   "metadata": {},
   "source": [
    "<br><br>\n",
    "### 3. Fixed-point solver with Rust's poly-algorithm"
   ]
  },
  {
   "cell_type": "markdown",
   "metadata": {},
   "source": [
    "First define a vector of states."
   ]
  },
  {
   "cell_type": "code",
   "execution_count": 246,
   "metadata": {},
   "outputs": [],
   "source": [
    "X=[k for k in 1:K];"
   ]
  },
  {
   "cell_type": "markdown",
   "metadata": {},
   "source": [
    "##### Compute $\\Gamma$\n",
    "\n",
    "Slide 45"
   ]
  },
  {
   "cell_type": "code",
   "execution_count": 250,
   "metadata": {},
   "outputs": [],
   "source": [
    "Γ_EV = function(; EV, P_0, β, x, θ)\n",
    "   return P_0' * log.(exp.(utility(x=x,d=0,θ=θ) .+ β*EV) .+ exp.(utility(x=x,d=1,θ=θ) .+ β*EV[1]))\n",
    "end;"
   ]
  },
  {
   "cell_type": "code",
   "execution_count": 251,
   "metadata": {},
   "outputs": [
    {
     "data": {
      "text/plain": [
       "21-element Array{Float64,1}:\n",
       " -0.0868046784873855\n",
       " -0.46849294396106744\n",
       " -0.9095641356169117\n",
       " -1.9274546790075076\n",
       " -2.6732169084262143\n",
       " -2.110821396300191\n",
       " -2.9711784452872676\n",
       " -2.929821378269702\n",
       " -3.4200249353555416\n",
       " -3.069517330436306\n",
       " -2.686918473040144\n",
       " -2.9511200966199125\n",
       " -3.279365470395636\n",
       " -3.12634185203278\n",
       " -3.2539116044005283\n",
       " -3.302771975918529\n",
       " -3.3386004999577548\n",
       " -3.498288963270954\n",
       " -3.6866455574275907\n",
       " -3.807138032351581\n",
       " -4.854891264069462"
      ]
     },
     "execution_count": 251,
     "metadata": {},
     "output_type": "execute_result"
    }
   ],
   "source": [
    "Γ_EV(EV=fill(0.0,K), P_0=P_d0, β=0.999, x=X, θ=[1,2,3])"
   ]
  },
  {
   "cell_type": "markdown",
   "metadata": {},
   "source": [
    "##### Compute Jacobians of $\\Gamma$ (with respect to $EV$)\n",
    "\n",
    "Conditional choice probability evaluation function:\n",
    "\n",
    "# Double check - $EV[1]$ for u1?"
   ]
  },
  {
   "cell_type": "code",
   "execution_count": 431,
   "metadata": {},
   "outputs": [],
   "source": [
    "ccp = function(; EV, β, x, θ)\n",
    "    u1 = utility(x=x,d=1,θ=θ) .+ β.*Ref(EV[1]); u0 = utility(x=x,d=0,θ=θ) .+ β*EV\n",
    "        # Overflow fix\n",
    "        #u1_max = maximum(u1); u0_max = maximum(u0)\n",
    "        u_max = maximum([u1, maximum(u0)])\n",
    "        p1_num = exp.(u1 .- u_max); p0_num = exp.(u0 .- u_max)\n",
    "    denom = p1_num .+ p0_num\n",
    "    ccp_0 = p0_num ./ denom\n",
    "    ccp_1 = 1.0 .- ccp_0\n",
    "    return [ccp_0, ccp_1]\n",
    "end;"
   ]
  },
  {
   "cell_type": "markdown",
   "metadata": {},
   "source": [
    "Test function:"
   ]
  },
  {
   "cell_type": "code",
   "execution_count": 433,
   "metadata": {},
   "outputs": [
    {
     "data": {
      "text/plain": [
       "2-element Array{Array{Float64,1},1}:\n",
       " [0.8807760776614999, 0.730901260011949, 0.4995500001215, 0.26831272856767585, 0.11867895281641457, 0.0471016590906404, 0.017813930621981253, 0.00660829089348866, 0.0024329860458481988, 0.0008930272822981655  …  0.00011989191863162305, 4.388912941412426e-5, 1.605940241714159e-5, 5.873817035700364e-6, 2.1475086664191514e-6, 7.848283662191237e-7, 2.867083652679037e-7, 1.0469650458324479e-7, 3.821644035183555e-8, 1.394423028405605e-8]\n",
       " [0.1192239223385001, 0.269098739988051, 0.5004499998784999, 0.7316872714323241, 0.8813210471835854, 0.9528983409093597, 0.9821860693780188, 0.9933917091065113, 0.9975670139541518, 0.9991069727177019  …  0.9998801080813684, 0.9999561108705859, 0.9999839405975829, 0.9999941261829643, 0.9999978524913335, 0.9999992151716338, 0.9999997132916347, 0.9999998953034954, 0.9999999617835597, 0.9999999860557697]"
      ]
     },
     "execution_count": 433,
     "metadata": {},
     "output_type": "execute_result"
    }
   ],
   "source": [
    "ccp(EV=fill(0.0,K), β=0.999, x=X, θ=[1,2,3])"
   ]
  },
  {
   "cell_type": "markdown",
   "metadata": {},
   "source": [
    "Jacobian of $\\Gamma$ with respect to $EV$:"
   ]
  },
  {
   "cell_type": "code",
   "execution_count": 434,
   "metadata": {},
   "outputs": [],
   "source": [
    "Γ_EV_jac = function(; EV, P_0, β, x, θ)\n",
    "    p_k = ccp(EV=EV, β=β, x=x, θ=θ)[1]\n",
    "    ev0_term = zeros((length(p_k),length(p_k)))\n",
    "    ev0_term[:,1] = P_0' * (1 .- p_k) * β\n",
    "    J_Γ = P_0' * diagm(vec(p_k)) * β .+ ev0_term\n",
    "    return J_Γ\n",
    "end;"
   ]
  },
  {
   "cell_type": "markdown",
   "metadata": {},
   "source": [
    "Test function:"
   ]
  },
  {
   "cell_type": "code",
   "execution_count": 435,
   "metadata": {
    "scrolled": false
   },
   "outputs": [
    {
     "data": {
      "text/plain": [
       "21×21 Array{Float64,2}:\n",
       " 0.08  0.0   0.0   0.0   0.0   0.0   0.0   0.0  0.0  0.0  0.0  0.0  0.0  0.0  0.0  0.0  0.0  0.0  0.0  0.0  0.0\n",
       " 0.47  0.03  0.0   0.0   0.0   0.0   0.0   0.0  0.0  0.0  0.0  0.0  0.0  0.0  0.0  0.0  0.0  0.0  0.0  0.0  0.0\n",
       " 0.39  0.25  0.02  0.0   0.0   0.0   0.0   0.0  0.0  0.0  0.0  0.0  0.0  0.0  0.0  0.0  0.0  0.0  0.0  0.0  0.0\n",
       " 0.51  0.33  0.18  0.02  0.0   0.0   0.0   0.0  0.0  0.0  0.0  0.0  0.0  0.0  0.0  0.0  0.0  0.0  0.0  0.0  0.0\n",
       " 0.67  0.1   0.22  0.12  0.01  0.0   0.0   0.0  0.0  0.0  0.0  0.0  0.0  0.0  0.0  0.0  0.0  0.0  0.0  0.0  0.0\n",
       " 0.59  0.01  0.06  0.08  0.04  0.0   0.0   0.0  0.0  0.0  0.0  0.0  0.0  0.0  0.0  0.0  0.0  0.0  0.0  0.0  0.0\n",
       " 0.91  0.01  0.02  0.05  0.05  0.02  0.0   0.0  0.0  0.0  0.0  0.0  0.0  0.0  0.0  0.0  0.0  0.0  0.0  0.0  0.0\n",
       " 0.94  0.0   0.0   0.0   0.02  0.02  0.01  0.0  0.0  0.0  0.0  0.0  0.0  0.0  0.0  0.0  0.0  0.0  0.0  0.0  0.0\n",
       " 1.13  0.0   0.0   0.0   0.0   0.01  0.01  0.0  0.0  0.0  0.0  0.0  0.0  0.0  0.0  0.0  0.0  0.0  0.0  0.0  0.0\n",
       " 1.02  0.0   0.0   0.0   0.0   0.0   0.0   0.0  0.0  0.0  0.0  0.0  0.0  0.0  0.0  0.0  0.0  0.0  0.0  0.0  0.0\n",
       " 0.89  0.0   0.0   0.0   0.0   0.0   0.0   0.0  0.0  0.0  0.0  0.0  0.0  0.0  0.0  0.0  0.0  0.0  0.0  0.0  0.0\n",
       " 0.98  0.0   0.0   0.0   0.0   0.0   0.0   0.0  0.0  0.0  0.0  0.0  0.0  0.0  0.0  0.0  0.0  0.0  0.0  0.0  0.0\n",
       " 1.09  0.0   0.0   0.0   0.0   0.0   0.0   0.0  0.0  0.0  0.0  0.0  0.0  0.0  0.0  0.0  0.0  0.0  0.0  0.0  0.0\n",
       " 1.04  0.0   0.0   0.0   0.0   0.0   0.0   0.0  0.0  0.0  0.0  0.0  0.0  0.0  0.0  0.0  0.0  0.0  0.0  0.0  0.0\n",
       " 1.08  0.0   0.0   0.0   0.0   0.0   0.0   0.0  0.0  0.0  0.0  0.0  0.0  0.0  0.0  0.0  0.0  0.0  0.0  0.0  0.0\n",
       " 1.1   0.0   0.0   0.0   0.0   0.0   0.0   0.0  0.0  0.0  0.0  0.0  0.0  0.0  0.0  0.0  0.0  0.0  0.0  0.0  0.0\n",
       " 1.11  0.0   0.0   0.0   0.0   0.0   0.0   0.0  0.0  0.0  0.0  0.0  0.0  0.0  0.0  0.0  0.0  0.0  0.0  0.0  0.0\n",
       " 1.16  0.0   0.0   0.0   0.0   0.0   0.0   0.0  0.0  0.0  0.0  0.0  0.0  0.0  0.0  0.0  0.0  0.0  0.0  0.0  0.0\n",
       " 1.23  0.0   0.0   0.0   0.0   0.0   0.0   0.0  0.0  0.0  0.0  0.0  0.0  0.0  0.0  0.0  0.0  0.0  0.0  0.0  0.0\n",
       " 1.27  0.0   0.0   0.0   0.0   0.0   0.0   0.0  0.0  0.0  0.0  0.0  0.0  0.0  0.0  0.0  0.0  0.0  0.0  0.0  0.0\n",
       " 1.62  0.0   0.0   0.0   0.0   0.0   0.0   0.0  0.0  0.0  0.0  0.0  0.0  0.0  0.0  0.0  0.0  0.0  0.0  0.0  0.0"
      ]
     },
     "execution_count": 435,
     "metadata": {},
     "output_type": "execute_result"
    }
   ],
   "source": [
    "round.(Γ_EV_jac(EV=fill(0.0,K), P_0=P_d0, β=0.999, x=X, θ=[1,2,3]),digits=2)"
   ]
  },
  {
   "cell_type": "markdown",
   "metadata": {},
   "source": [
    "##### Solve for EV using fixed point equation  (first contraction mapping, then Newton's method)\n",
    "\n",
    "First, using a contraction mapping:"
   ]
  },
  {
   "cell_type": "code",
   "execution_count": 436,
   "metadata": {},
   "outputs": [],
   "source": [
    "contract_EV = function(; EV_0, P_0, β, x, θ, ϵ_conv=1e-2, output=false)\n",
    "    diff=1; iter=1\n",
    "    while (diff > ϵ_conv)\n",
    "        # Numerical inversion\n",
    "        EV_1 = Γ_EV(EV=EV_0, P_0=P_0, β=β, x=x, θ=θ)\n",
    "\n",
    "        # Max distance\n",
    "        diff = maximum(abs.(EV_1 .- EV_0))\n",
    "        if (iter % 50) == 0 && output==true\n",
    "            println(\"Iteration  \" * string(iter) * \"    Difference is \" * string(diff))\n",
    "        end\n",
    "        EV_0=EV_1; iter=iter+1\n",
    "    end\n",
    "    return EV_0\n",
    "end;"
   ]
  },
  {
   "cell_type": "markdown",
   "metadata": {},
   "source": [
    "Test function:"
   ]
  },
  {
   "cell_type": "code",
   "execution_count": 437,
   "metadata": {
    "scrolled": false
   },
   "outputs": [
    {
     "data": {
      "text/plain": [
       "21-element Array{Float64,1}:\n",
       " -0.09452074323049715\n",
       " -0.5270700997180618\n",
       " -1.0878837888608703\n",
       " -2.3155477935550177\n",
       " -3.115432870066247\n",
       " -2.3582492715969323\n",
       " -3.1993588266792576\n",
       " -3.073120233542112\n",
       " -3.5482034062064876\n",
       " -3.1732220804508118\n",
       " -2.7737233441424154\n",
       " -3.0448702721370084\n",
       " -3.3829694871382943\n",
       " -3.224822422066168\n",
       " -3.3563213124193907\n",
       " -3.406690162413997\n",
       " -3.4436366463278794\n",
       " -3.608345502384052\n",
       " -3.8026266578114054\n",
       " -3.9269094360338186\n",
       " -5.007624527423554"
      ]
     },
     "execution_count": 437,
     "metadata": {},
     "output_type": "execute_result"
    }
   ],
   "source": [
    "EV_0 = contract_EV(EV_0=fill(0.0,K), P_0=P_d0, β=0.999, x=X, θ=[1,2,3])"
   ]
  },
  {
   "cell_type": "markdown",
   "metadata": {},
   "source": [
    "Now, using Newton's method:"
   ]
  },
  {
   "cell_type": "code",
   "execution_count": 438,
   "metadata": {},
   "outputs": [],
   "source": [
    "newton_EV = function(; EV_0, P_0, β, x, θ, ϵ_conv=1e-8, output=false, maxiter=1000)\n",
    "    diff = 1.0; iter = 1 # Initialize iteration count\n",
    "    while (diff > ϵ_conv) & (iter < maxiter)\n",
    "        # Compute\n",
    "        Γ = Γ_EV(EV=EV_0, P_0=P_0, β=β, x=x, θ=θ)\n",
    "        JΓ = Γ_EV_jac(EV=EV_0, P_0=P_0, β=β, x=x, θ=θ)\n",
    "        EV_1 = EV_0 .- (I - JΓ) \\ (EV_0 .- Γ)\n",
    "\n",
    "        # Max distance\n",
    "        diff = maximum(abs.(EV_1 .- EV_0))\n",
    "        if (iter % 50) == 0 && output==true\n",
    "            println(\"Iteration  \" * string(iter) * \"    Difference is \" * string(diff))\n",
    "        end\n",
    "        EV_0=EV_1; iter=iter+1\n",
    "    end\n",
    "    return EV_0\n",
    "end;"
   ]
  },
  {
   "cell_type": "markdown",
   "metadata": {},
   "source": [
    "Test function:"
   ]
  },
  {
   "cell_type": "code",
   "execution_count": 439,
   "metadata": {
    "scrolled": false
   },
   "outputs": [
    {
     "data": {
      "text/plain": [
       "21-element Array{Float64,1}:\n",
       " -0.0945249494389589\n",
       " -0.5271049507824026\n",
       " -1.0880147269301002\n",
       " -2.315868146525987\n",
       " -3.115769363001769\n",
       " -2.3583962963689036\n",
       " -3.199466875649628\n",
       " -3.0731836684316653\n",
       " -3.5482647996937287\n",
       " -3.1732753137671192\n",
       " -2.773769571842795\n",
       " -3.0449209226799048\n",
       " -3.383025747814861\n",
       " -3.224876043021406\n",
       " -3.356377116975411\n",
       " -3.4067468035737427\n",
       " -3.4436939015312573\n",
       " -3.6084054960061653\n",
       " -3.8026898815916006\n",
       " -3.9269747261737127\n",
       " -5.007707785899466"
      ]
     },
     "execution_count": 439,
     "metadata": {},
     "output_type": "execute_result"
    }
   ],
   "source": [
    "newton_EV(EV_0=EV_0, P_0=P_d0, β=0.999, x=X, θ=[1,2,3], maxiter=100)"
   ]
  },
  {
   "cell_type": "markdown",
   "metadata": {},
   "source": [
    "One function to implement both methods at once:"
   ]
  },
  {
   "cell_type": "code",
   "execution_count": 440,
   "metadata": {},
   "outputs": [],
   "source": [
    "fxp_EV = function(; EV_0=0, P_0, β, x, θ, max_newt_iter=1000)\n",
    "    if EV_0 == 0\n",
    "        EV_0 = fill(0.0,length(x))\n",
    "    end\n",
    "    EV_contract = contract_EV(EV_0=EV_0, P_0=P_0, β=β, x=X, θ=θ)\n",
    "    EV_newton = newton_EV(EV_0=EV_contract, P_0=P_0, β=β, x=X, θ=θ, maxiter=max_newt_iter)\n",
    "    return EV_newton\n",
    "end;"
   ]
  },
  {
   "cell_type": "markdown",
   "metadata": {},
   "source": [
    "Test function:"
   ]
  },
  {
   "cell_type": "code",
   "execution_count": 441,
   "metadata": {},
   "outputs": [
    {
     "data": {
      "text/plain": [
       "21-element Array{Float64,1}:\n",
       " -0.0945249494389589\n",
       " -0.5271049507824026\n",
       " -1.0880147269301002\n",
       " -2.315868146525987\n",
       " -3.115769363001769\n",
       " -2.3583962963689036\n",
       " -3.199466875649628\n",
       " -3.0731836684316653\n",
       " -3.5482647996937287\n",
       " -3.1732753137671192\n",
       " -2.773769571842795\n",
       " -3.0449209226799048\n",
       " -3.383025747814861\n",
       " -3.224876043021406\n",
       " -3.356377116975411\n",
       " -3.4067468035737427\n",
       " -3.4436939015312573\n",
       " -3.6084054960061653\n",
       " -3.8026898815916006\n",
       " -3.9269747261737127\n",
       " -5.007707785899466"
      ]
     },
     "execution_count": 441,
     "metadata": {},
     "output_type": "execute_result"
    }
   ],
   "source": [
    "fxp_EV(EV_0=fill(0.0,K), P_0=P_d0, β=0.999, x=X, θ=[1.0,2.0,3.0])"
   ]
  },
  {
   "cell_type": "markdown",
   "metadata": {},
   "source": [
    "<br><br>\n",
    "### 4. Compute Likelihood"
   ]
  },
  {
   "cell_type": "markdown",
   "metadata": {},
   "source": [
    "Slide 48"
   ]
  },
  {
   "cell_type": "code",
   "execution_count": 442,
   "metadata": {},
   "outputs": [],
   "source": [
    "ll_dc = function(; θ, β, P_0)\n",
    "    d = data.d; states = data.s_now; n = nrow(data)\n",
    "    \n",
    "    # Compute necessary values\n",
    "    EV = fxp_EV(EV_0=fill(0.0,K), P_0=P_0, β=β, x=X, θ=θ)\n",
    "    prob0_x = ccp(EV=EV, β=β, x=X, θ=θ)[1]\n",
    "    p_x = fill(0.0, n)\n",
    "    \n",
    "    # Map computed probabilities to observed states\n",
    "    for r in 1:n\n",
    "        p_x[r] = prob0_x[states[r]]\n",
    "    end\n",
    "    \n",
    "    # Compute log-likelihood\n",
    "    sum_term = d .* log.(1 .- p_x) .+ (1 .- d) .* log.(p_x)\n",
    "    return sum(sum_term)\n",
    "end;"
   ]
  },
  {
   "cell_type": "code",
   "execution_count": 443,
   "metadata": {
    "scrolled": true
   },
   "outputs": [
    {
     "data": {
      "text/plain": [
       "-55308.89546747679"
      ]
     },
     "execution_count": 443,
     "metadata": {},
     "output_type": "execute_result"
    }
   ],
   "source": [
    "ll_dc(θ=[1,2,3], β=0.999, P_0=P_d0)"
   ]
  },
  {
   "cell_type": "markdown",
   "metadata": {},
   "source": [
    "<br><br>\n",
    "### 5. Compute Likelihood gradient"
   ]
  },
  {
   "cell_type": "markdown",
   "metadata": {},
   "source": [
    "Slide 48 (use Jacobian of EV with respect to $\\theta$)"
   ]
  },
  {
   "cell_type": "markdown",
   "metadata": {},
   "source": [
    "Derivative of $u$ with respect to $\\theta$"
   ]
  },
  {
   "cell_type": "code",
   "execution_count": 446,
   "metadata": {},
   "outputs": [],
   "source": [
    "d_utility = function(; θ, x, d)\n",
    "    if d == 1\n",
    "        return hcat(fill(0.0, length(x)), fill(0.0, length(x)), fill(-1.0, length(x)))\n",
    "    else\n",
    "        return hcat(-x, -(x./100).^2, fill(0.0, length(x)))\n",
    "    end\n",
    "end;"
   ]
  },
  {
   "cell_type": "markdown",
   "metadata": {},
   "source": [
    "Derivative of $\\Gamma$ with respect to $\\theta$"
   ]
  },
  {
   "cell_type": "code",
   "execution_count": 445,
   "metadata": {},
   "outputs": [],
   "source": [
    "Γ_θ_jac = function(; θ, x, EV, β, P_0)\n",
    "    u1 = utility(x=x,d=1,θ=θ) .+ β*EV[1]; u0 = utility(x=x,d=0,θ=θ) .+ β*EV\n",
    "        # Overflow fix\n",
    "        u_max = maximum([u1, maximum(u0)])\n",
    "        p1_num = exp.(u1 .- u_max); p0_num = exp.(u0 .- u_max)\n",
    "    denom = p1_num .+ p0_num\n",
    "    \n",
    "    return P_0' * (p1_num .* d_utility(θ=θ, x=x, d=1) .+ p_0_num .* d_utility(θ=θ, x=x, d=0)) ./ denom\n",
    "end;"
   ]
  },
  {
   "cell_type": "markdown",
   "metadata": {},
   "source": [
    "Derivative of $EV$ with respect to $\\theta$"
   ]
  },
  {
   "cell_type": "code",
   "execution_count": 448,
   "metadata": {},
   "outputs": [],
   "source": [
    "dEV_dθ = function(; θ, β, EV, P_0, x)\n",
    "    dΓ_dEV = Γ_EV_jac(EV=EV, P_0=P_0, β=β, x=x, θ=θ)\n",
    "    dΓ_dθ = Γ_θ_jac(θ=θ, x=x, EV=EV, β=β, P_0=P_0)\n",
    "    \n",
    "    return (I - dΓ_dEV) \\ dΓ_dθ\n",
    "end;"
   ]
  },
  {
   "cell_type": "markdown",
   "metadata": {},
   "source": [
    "##### Likelihood gradient\n",
    "\n",
    "### Careful - 3d gradient (get the chain rule right!)"
   ]
  },
  {
   "cell_type": "code",
   "execution_count": null,
   "metadata": {},
   "outputs": [],
   "source": [
    "ll_dc_grad = function(; θ, β, P_0, x)\n",
    "    exp_term = utility(x=x,d=1,θ=θ) .+ β.*Ref(EV[1]) .- utility(x=x,d=0,θ=θ) .- β*EV\n",
    "    prob0_x = 1 ./ (1 .+ exp.(exp_term))\n",
    "    dEVdθ = dEV_dθ(θ=θ, β=β, P_0=P_0, x=x)\n",
    "    \n",
    "    dprob0_x = prob0_x.^2 .* exp.(exp_term) .* \n",
    "        (dutility(x=x,d=1,θ=θ) .+ β.*Ref(dEVdθ[1,:]) .- \n",
    "        dutility(x=x,d=0,θ=θ) .- β*dEVdθ)\n",
    "end;"
   ]
  },
  {
   "cell_type": "markdown",
   "metadata": {},
   "source": [
    "##### Comparison with AutoDiff"
   ]
  },
  {
   "cell_type": "markdown",
   "metadata": {},
   "source": [
    "<br><br>\n",
    "### 6. Estimation"
   ]
  },
  {
   "cell_type": "markdown",
   "metadata": {},
   "source": [
    "##### Estimate via optimization MLE"
   ]
  },
  {
   "cell_type": "code",
   "execution_count": null,
   "metadata": {},
   "outputs": [],
   "source": []
  },
  {
   "cell_type": "markdown",
   "metadata": {},
   "source": [
    "##### Hessian to get standard errors"
   ]
  },
  {
   "cell_type": "markdown",
   "metadata": {},
   "source": [
    "<br><br><br><br>\n",
    "\n",
    "## QUESTION 2.3.2"
   ]
  },
  {
   "cell_type": "markdown",
   "metadata": {},
   "source": [
    "### 3. Non-parametric estimation of CCPs"
   ]
  },
  {
   "cell_type": "code",
   "execution_count": null,
   "metadata": {},
   "outputs": [],
   "source": []
  },
  {
   "cell_type": "markdown",
   "metadata": {},
   "source": [
    "### 4. Sequential policy estimation"
   ]
  },
  {
   "cell_type": "code",
   "execution_count": null,
   "metadata": {},
   "outputs": [],
   "source": []
  },
  {
   "cell_type": "markdown",
   "metadata": {},
   "source": [
    "### 5. Solving estimator once"
   ]
  },
  {
   "cell_type": "code",
   "execution_count": null,
   "metadata": {},
   "outputs": [],
   "source": []
  },
  {
   "cell_type": "markdown",
   "metadata": {},
   "source": [
    "### 6. Solving estimator 10 times"
   ]
  },
  {
   "cell_type": "code",
   "execution_count": null,
   "metadata": {},
   "outputs": [],
   "source": []
  },
  {
   "cell_type": "markdown",
   "metadata": {},
   "source": [
    "<br><br><br><br>\n",
    "\n",
    "## QUESTION 2.3.3"
   ]
  },
  {
   "cell_type": "markdown",
   "metadata": {},
   "source": [
    "### 1. Forward simulation for value function"
   ]
  },
  {
   "cell_type": "code",
   "execution_count": null,
   "metadata": {},
   "outputs": [],
   "source": []
  },
  {
   "cell_type": "markdown",
   "metadata": {},
   "source": [
    "### 2. Hotz-Miller inversion"
   ]
  },
  {
   "cell_type": "code",
   "execution_count": null,
   "metadata": {},
   "outputs": [],
   "source": []
  },
  {
   "cell_type": "markdown",
   "metadata": {},
   "source": [
    "### 3. BBL loss function"
   ]
  },
  {
   "cell_type": "code",
   "execution_count": null,
   "metadata": {},
   "outputs": [],
   "source": []
  },
  {
   "cell_type": "markdown",
   "metadata": {},
   "source": [
    "### 4. Frequency estimator"
   ]
  },
  {
   "cell_type": "code",
   "execution_count": null,
   "metadata": {},
   "outputs": [],
   "source": []
  },
  {
   "cell_type": "markdown",
   "metadata": {},
   "source": [
    "### 5. Estimation"
   ]
  },
  {
   "cell_type": "code",
   "execution_count": null,
   "metadata": {},
   "outputs": [],
   "source": []
  }
 ],
 "metadata": {
  "kernelspec": {
   "display_name": "Julia 1.5.3",
   "language": "julia",
   "name": "julia-1.5"
  },
  "language_info": {
   "file_extension": ".jl",
   "mimetype": "application/julia",
   "name": "julia",
   "version": "1.5.3"
  }
 },
 "nbformat": 4,
 "nbformat_minor": 4
}
