{
 "cells": [
  {
   "cell_type": "markdown",
   "metadata": {},
   "source": [
    "# Problem Set 2\n",
    "\n",
    "#### Abram and Higbee - IO 2, 2021"
   ]
  },
  {
   "cell_type": "markdown",
   "metadata": {},
   "source": [
    "### Set up environment"
   ]
  },
  {
   "cell_type": "code",
   "execution_count": 293,
   "metadata": {},
   "outputs": [],
   "source": [
    "# Set wd\n",
    "pwd()\n",
    "dir = \"/Users/JoshuaHigbee/Box/2. Second Year/2. Winter Quarter - 2021/\" *\n",
    "      \"Industrial Organization II - Hortacsu/Problem Sets/Problem Set 2/\";\n",
    "cd(dir);\n",
    "\n",
    "# Set up packages (must have pre-loaded)\n",
    "using CSV, DataFrames, Random, Distributions, LinearAlgebra,\n",
    "      LatexPrint, StatsBase, Plots, SpecialFunctions\n",
    "using Optim, ForwardDiff, PyCall, ShiftedArrays, StatsPlots\n",
    "\n",
    "# Set seed\n",
    "Random.seed!(12345);\n",
    "\n",
    "# Set column view\n",
    "ENV[\"COLUMNS\"]=500;"
   ]
  },
  {
   "cell_type": "markdown",
   "metadata": {},
   "source": [
    "<br><br><br><br>\n",
    "\n",
    "## QUESTION 1.3\n",
    "\n",
    "### 1.3.2 - Bayes-Nash Equilibria\n",
    "\n",
    "Given the shape of the best response functions, and the fact that there are two players, there are at most 3 equilibria for any value of $x$.  First, we verify this using a grid search over parameters, then we use Newton's method to speed up the process and achieve more precision.\n",
    "\n",
    "##### Grid search for intersections"
   ]
  },
  {
   "cell_type": "code",
   "execution_count": 3,
   "metadata": {},
   "outputs": [
    {
     "name": "stdout",
     "output_type": "stream",
     "text": [
      "[0.599 0.599]\n",
      "[0.773 0.773]\n",
      "[0.071 0.929; 0.5 0.5; 0.929 0.071]\n",
      "[0.712 0.849; 0.785 0.784; 0.849 0.712]\n"
     ]
    }
   ],
   "source": [
    "# Search grid of starting values for equilibria\n",
    "fxp_eq_grid = (0:1e7) / 1e7\n",
    "\n",
    "# BR function (vector)\n",
    "br_eq_vec = function(; α, δ, x, p)\n",
    "    return exp.(Ref(α*x) .- δ*p) ./ (Ref(1) .+ exp.(Ref(α*x) .- δ*p))\n",
    "end\n",
    "\n",
    "# Check equilibria\n",
    "check_eq_vec = function(; α, δ, x)\n",
    "    eq_check = DataFrame(p = fxp_eq_grid)\n",
    "    eq_check.p1 = br_eq_vec(α=α, δ=δ, x=x, p=br_eq_vec(α=α, δ=δ, x=x, p=eq_check.p))\n",
    "    eq_check.diff = (abs.(eq_check.p .- eq_check.p1) .> 1e-7)\n",
    "    p1_eq = unique(round.(eq_check[eq_check.diff .== 0, :p], digits=3))\n",
    "    return hcat(round.(p1_eq, digits=3), round.(br_eq_vec(α=α, δ=δ, x=x, p=p1_eq), digits=3))\n",
    "end\n",
    "\n",
    "# Check equilibria for each combination of parameters and x values\n",
    "println(check_eq_vec(α=1, δ=1, x=1))\n",
    "println(check_eq_vec(α=1, δ=1, x=2))\n",
    "println(check_eq_vec(α=3, δ=6, x=1))\n",
    "println(check_eq_vec(α=3, δ=6, x=2))"
   ]
  },
  {
   "cell_type": "markdown",
   "metadata": {},
   "source": [
    "##### Newton's method"
   ]
  },
  {
   "cell_type": "code",
   "execution_count": 9,
   "metadata": {},
   "outputs": [
    {
     "name": "stdout",
     "output_type": "stream",
     "text": [
      "[0.599 0.599; 0.599 0.599; 0.599 0.599]\n",
      "[0.929 0.071; 0.5 0.5; 0.071 0.929]\n",
      "[0.773 0.773; 0.773 0.773; 0.773 0.773]\n",
      "[0.849 0.712; 0.785 0.785; 0.712 0.849]\n"
     ]
    }
   ],
   "source": [
    "# BR function (vector)\n",
    "br_eq_vec = function(; α, δ, x, p)\n",
    "    return (exp.(α*x .- δ*p) ./ (Ref(1) .+ exp.(α*x .- δ*p)))\n",
    "end\n",
    "\n",
    "# FXP function\n",
    "fxp_eq_f = function(; α, δ, x, p)\n",
    "    return p .- reverse(br_eq_vec(α=α, δ=δ, x=x, p=p))\n",
    "end\n",
    "\n",
    "# dFXP function\n",
    "fxp_eq_df = function(; α, δ, x, p)\n",
    "    dp1dp2 = -(δ*exp.(δ*p[2] .+ α*x))./(exp.(δ*p[2]) .+ exp.(α*x))^2\n",
    "    dp2dp1 = -(δ*exp.(δ*p[1] .+ α*x))./(exp.(δ*p[1]) .+ exp.(α*x))^2\n",
    "    return I - [0 dp1dp2; dp2dp1 0]\n",
    "end\n",
    "\n",
    "# Newton function\n",
    "fxp_eq = function(; α, δ, x, p)\n",
    "    diff = 1; p0=p; p1=p; iter=1\n",
    "    while diff > 1e-6 && iter < 20\n",
    "        p1 = p0 .- fxp_eq_df.(α=α, δ=δ, x=x, p=p0)\\fxp_eq_f.(α=α, δ=δ, x=x, p=p0)\n",
    "        diff = maximum(abs.(p1 .- p0))\n",
    "        p0 = p1; iter=iter+1\n",
    "    end\n",
    "    return p1\n",
    "end\n",
    "\n",
    "\n",
    "# Save strategy values for use later\n",
    "θ_vec = [[1,1], [3,6]]\n",
    "eq_vec = Array{Array{Float64}}(undef, 2, 2)\n",
    "for x in 1:2\n",
    "    for i in 1:2\n",
    "        h_1 = fxp_eq(α=θ_vec[i][1], δ=θ_vec[i][2], x=x, p=[1; 0]) # 1 plays high prob\n",
    "        sym = fxp_eq(α=θ_vec[i][1], δ=θ_vec[i][2], x=x, p=[0.5; 0.5]) # Symmetric\n",
    "        l_1 = fxp_eq(α=θ_vec[i][1], δ=θ_vec[i][2], x=x, p=[0; 1]) # 2 plays low prob\n",
    "        eq_vec[x,i] = [h_1 sym l_1]'\n",
    "    end\n",
    "end\n",
    "\n",
    "# x=1\n",
    "println(round.(eq_vec[1,1], digits=3)) # α=1, δ=1\n",
    "println(round.(eq_vec[1,2], digits=3)) # α=3, δ=6\n",
    "\n",
    "# x=2\n",
    "println(round.(eq_vec[2,1], digits=3)) # α=1, δ=1\n",
    "println(round.(eq_vec[2,2], digits=3)) # α=3, δ=6"
   ]
  },
  {
   "cell_type": "markdown",
   "metadata": {},
   "source": [
    "<br><br><br><br><br>\n",
    "\n",
    "### 1.3.3 - Symetric Strategy Estimation\n",
    "\n",
    "We now use the Newton's method approach to estimate the strategies within the maximum likelihood estimation."
   ]
  },
  {
   "cell_type": "markdown",
   "metadata": {},
   "source": [
    "##### Set up simulation data\n",
    "\n",
    "# DO WE GENERATE DATA ASSUMING THEY ONLY CHOOSE SYMMETRIC EQUILIBRIA?"
   ]
  },
  {
   "cell_type": "code",
   "execution_count": 10,
   "metadata": {},
   "outputs": [],
   "source": [
    "# Set up parameters\n",
    "α=3; δ=6;\n",
    "T=1000; S=50;\n",
    "\n",
    "# Create simulation data\n",
    "dt = DataFrame(t = repeat(1:T, outer = S), s = repeat(1:S, inner = T))\n",
    "dt.x = repeat(rand(Binomial(1,0.5), T) .+ Ref(1.0), outer = S)\n",
    "dt.ϵ_1 = rand(Logistic(0,1),S*T)\n",
    "dt.ϵ_2 = rand(Logistic(0,1),S*T)\n",
    "dt.y_1 = 1.0*(dt.x .== 1.0).*(α*dt.x .- δ*0.5 .+ dt.ϵ_1 .>= 0) .+ \n",
    "            1.0*(dt.x .== 2.0).*(α*dt.x .- δ*0.785 .+ dt.ϵ_1 .>= 0)\n",
    "dt.y_2 = 1.0*(dt.x .== 1.0).*(α*dt.x .- δ*0.5 .+ dt.ϵ_2 .>= 0) .+ \n",
    "            1.0*(dt.x .== 2.0).*(α*dt.x .- δ*0.785 .+ dt.ϵ_2 .>= 0);"
   ]
  },
  {
   "cell_type": "markdown",
   "metadata": {},
   "source": [
    "##### Write functions for MLE"
   ]
  },
  {
   "cell_type": "code",
   "execution_count": 390,
   "metadata": {},
   "outputs": [],
   "source": [
    "# Log-Likelihood individual term - function of the other player's strategy p\n",
    "ll_i = function(; α, δ, x, p, y)\n",
    "    y1 = y.*(α.*x .- δ.*p .- log.(Ref(1.0) .+ exp.(α.*x .- δ.*p)))\n",
    "    y0 = (Ref(1.0).-y) .* log.(Ref(1.0) .- exp.(α.*x .- δ.*p)./\n",
    "            (Ref(1.0) .+ exp.(α.*x .- δ.*p)))\n",
    "    return y1 + y0\n",
    "end\n",
    "\n",
    "# Log-Likelihood\n",
    "ll_all = function(; α, δ, p0=[0.5, 0.5])\n",
    "    dt_temp = copy(dt_sim); dt_temp.p̂1 = Ref(-1.0); dt_temp.p̂2 = Ref(-1.0)\n",
    "    for r in 1:nrow(dt_temp)\n",
    "        row = dt_temp[r,:]\n",
    "        p̂ = fxp_eq(α=α, δ=δ, x=row.x, p=p0)\n",
    "        dt_temp[r, :p̂1] = p̂[1]\n",
    "        dt_temp[r, :p̂2] = p̂[2]\n",
    "    end\n",
    "    prob1 = ll_i(α=α, δ=δ, x=dt_temp.x, p=dt_temp.p̂2, y=dt_temp.y_1)\n",
    "    prob2 = ll_i(α=α, δ=δ, x=dt_temp.x, p=dt_temp.p̂1, y=dt_temp.y_2)\n",
    "    prob = prob1 .+ prob2\n",
    "    return sum(prob)\n",
    "end\n",
    "\n",
    "# Log-Likelihood to pass to Optim\n",
    "ll_optim = function(θ)\n",
    "    α=θ[1];δ=θ[2]\n",
    "    return -1.0 .* ll_all(α=α, δ=δ, p0=[0.5, 0.5])\n",
    "end\n",
    "\n",
    "# Log-Likelihood individual term - gradient\n",
    "ll_grad_i = function(; α, δ, x, p, y)\n",
    "    dll_α1 = y .* x .* exp.(δ.*p) ./ (exp.(α.*x) .+ exp.(δ.*p))\n",
    "    dll_δ1 = -y .* p .* exp.(δ.*p) ./ (exp.(α.*x) .+ exp.(δ.*p))\n",
    "    dll_α0 = (y .- Ref(1.0)) .* x .* exp.(α.*x) ./ (exp.(α.*x) .+ exp.(δ.*p))\n",
    "    dll_δ0 = -(y .- Ref(1.0)) .* p .* exp.(α.*x) ./ (exp.(α.*x) .+ exp.(δ.*p))\n",
    "    return [(dll_α1 .+ dll_α0) (dll_δ1 .+ dll_δ0)]\n",
    "end\n",
    "\n",
    "# Log-Likelihood - gradient\n",
    "ll_grad_all = function(; α, δ, p0=[0.5, 0.5])\n",
    "    dt_temp = copy(dt_sim); dt_temp.p̂1 = Ref(-1.0); dt_temp.p̂2 = Ref(-1.0)\n",
    "    for r in 1:nrow(dt_temp)\n",
    "        row = dt_temp[r,:]\n",
    "        p̂ = fxp_eq(α=α, δ=δ, x=row.x, p=p0)\n",
    "        dt_temp[r, :p̂1] = p̂[1]\n",
    "        dt_temp[r, :p̂2] = p̂[2]\n",
    "    end\n",
    "    dll_1 = ll_grad_i(α=α, δ=δ, x=dt_temp.x, p=dt_temp.p̂1, y=dt_temp.y_1)\n",
    "    dll_2 = ll_grad_i(α=α, δ=δ, x=dt_temp.x, p=dt_temp.p̂2, y=dt_temp.y_2)\n",
    "    dll_t = dll_1 .+ dll_2\n",
    "    dll = mean(dll_t, dims=1)\n",
    "    return dll\n",
    "end\n",
    "\n",
    "# Log-Likelihood gradient to pass to Optim\n",
    "ll_grad_optim = function(G, θ)\n",
    "    α=θ[1];δ=θ[2]\n",
    "    ll_g = -1.0 .* ll_grad_all(α=α, δ=δ, p0=[0.5, 0.5])\n",
    "    G[1] = ll_g[1]\n",
    "    G[2] = ll_g[2]\n",
    "end;"
   ]
  },
  {
   "cell_type": "markdown",
   "metadata": {},
   "source": [
    "##### Test optimization (with and without gradient)"
   ]
  },
  {
   "cell_type": "code",
   "execution_count": 391,
   "metadata": {},
   "outputs": [
    {
     "name": "stdout",
     "output_type": "stream",
     "text": [
      "  3.453759 seconds (18.01 M allocations: 959.353 MiB, 7.54% gc time)\n",
      "[3.18119842443958, 6.342325724594184]\n",
      "  2.497600 seconds (9.54 M allocations: 504.659 MiB, 5.38% gc time)\n",
      "[3.1810950194260643, 6.3420692716961735]\n"
     ]
    }
   ],
   "source": [
    "dt_sim = copy(dt[dt[:s].==1,:]);\n",
    "\n",
    "@time optimum = optimize(ll_optim,[1.0,1.0])\n",
    "println(optimum.minimizer)\n",
    "\n",
    "@time optimum_g = optimize(ll_optim, ll_grad_optim, [1.0, 1.0], BFGS())\n",
    "println(optimum_g.minimizer)"
   ]
  },
  {
   "cell_type": "markdown",
   "metadata": {},
   "source": [
    "##### Estimate maximum likelihood"
   ]
  },
  {
   "cell_type": "code",
   "execution_count": 392,
   "metadata": {},
   "outputs": [
    {
     "name": "stdout",
     "output_type": "stream",
     "text": [
      "Iters:  1 2 3 4 5 6 7 8 9 10 11 12 13 14 15 16 17 18 19 20 21 22 23 24 25 26 27 28 29 30 31 32 33 34 35 36 37 38 39 40 41 42 43 44 45 46 47 48 49 50 \n",
      " \n",
      "Mean α is 2.978342959908431\n",
      "Mean δ is 5.920328948417473\n"
     ]
    }
   ],
   "source": [
    "# Loop over simulation draws\n",
    "params_sim = DataFrame(α= fill(0.0, S), δ= fill(0.0, S))\n",
    "print(\"Iters: \")\n",
    "for s in 1:nrow(params_sim)\n",
    "    dt_sim = copy(dt[dt[:s].==s,:]);\n",
    "    # res = optimize(ll_optim, [1.0, 1.0])\n",
    "    res = optimize(ll_optim, ll_grad_optim, [1.0,1.0], BFGS())\n",
    "    params_sim[s, [:α, :δ]] = res.minimizer\n",
    "    print(\" \" * string(s))\n",
    "end\n",
    "params_sim\n",
    "\n",
    "println(\" \"); println(\" \")\n",
    "println(\"Mean α is \" * string(mean(params_sim.α)))\n",
    "println(\"Mean δ is \" * string(mean(params_sim.δ)))"
   ]
  },
  {
   "cell_type": "markdown",
   "metadata": {},
   "source": [
    "##### Plot histograms for analysis"
   ]
  },
  {
   "cell_type": "code",
   "execution_count": 329,
   "metadata": {},
   "outputs": [
    {
     "data": {
      "image/svg+xml": [
       "<?xml version=\"1.0\" encoding=\"utf-8\"?>\n",
       "<svg xmlns=\"http://www.w3.org/2000/svg\" xmlns:xlink=\"http://www.w3.org/1999/xlink\" width=\"800\" height=\"400\" viewBox=\"0 0 3200 1600\">\n",
       "<defs>\n",
       "  <clipPath id=\"clip330\">\n",
       "    <rect x=\"0\" y=\"0\" width=\"3200\" height=\"1600\"/>\n",
       "  </clipPath>\n",
       "</defs>\n",
       "<path clip-path=\"url(#clip330)\" d=\"\n",
       "M0 1600 L3200 1600 L3200 0 L0 0  Z\n",
       "  \" fill=\"#ffffff\" fill-rule=\"evenodd\" fill-opacity=\"1\"/>\n",
       "<defs>\n",
       "  <clipPath id=\"clip331\">\n",
       "    <rect x=\"640\" y=\"0\" width=\"2241\" height=\"1600\"/>\n",
       "  </clipPath>\n",
       "</defs>\n",
       "<path clip-path=\"url(#clip330)\" d=\"\n",
       "M417.78 1281.73 L3011.02 1281.73 L3011.02 188.976 L417.78 188.976  Z\n",
       "  \" fill=\"#ffffff\" fill-rule=\"evenodd\" fill-opacity=\"1\"/>\n",
       "<defs>\n",
       "  <clipPath id=\"clip332\">\n",
       "    <rect x=\"417\" y=\"188\" width=\"2594\" height=\"1094\"/>\n",
       "  </clipPath>\n",
       "</defs>\n",
       "<polyline clip-path=\"url(#clip330)\" style=\"stroke:#000000; stroke-width:16; stroke-opacity:1; fill:none\" points=\"\n",
       "  417.78,1281.73 3011.02,1281.73 \n",
       "  \"/>\n",
       "<polyline clip-path=\"url(#clip330)\" style=\"stroke:#000000; stroke-width:16; stroke-opacity:1; fill:none\" points=\"\n",
       "  417.78,1281.73 417.78,188.976 \n",
       "  \"/>\n",
       "<polyline clip-path=\"url(#clip330)\" style=\"stroke:#000000; stroke-width:16; stroke-opacity:1; fill:none\" points=\"\n",
       "  672.987,1281.73 672.987,1268.62 \n",
       "  \"/>\n",
       "<polyline clip-path=\"url(#clip330)\" style=\"stroke:#000000; stroke-width:16; stroke-opacity:1; fill:none\" points=\"\n",
       "  1062.56,1281.73 1062.56,1268.62 \n",
       "  \"/>\n",
       "<polyline clip-path=\"url(#clip330)\" style=\"stroke:#000000; stroke-width:16; stroke-opacity:1; fill:none\" points=\"\n",
       "  1452.13,1281.73 1452.13,1268.62 \n",
       "  \"/>\n",
       "<polyline clip-path=\"url(#clip330)\" style=\"stroke:#000000; stroke-width:16; stroke-opacity:1; fill:none\" points=\"\n",
       "  1841.7,1281.73 1841.7,1268.62 \n",
       "  \"/>\n",
       "<polyline clip-path=\"url(#clip330)\" style=\"stroke:#000000; stroke-width:16; stroke-opacity:1; fill:none\" points=\"\n",
       "  2231.27,1281.73 2231.27,1268.62 \n",
       "  \"/>\n",
       "<polyline clip-path=\"url(#clip330)\" style=\"stroke:#000000; stroke-width:16; stroke-opacity:1; fill:none\" points=\"\n",
       "  2620.84,1281.73 2620.84,1268.62 \n",
       "  \"/>\n",
       "<polyline clip-path=\"url(#clip330)\" style=\"stroke:#000000; stroke-width:16; stroke-opacity:1; fill:none\" points=\"\n",
       "  3010.41,1281.73 3010.41,1268.62 \n",
       "  \"/>\n",
       "<polyline clip-path=\"url(#clip330)\" style=\"stroke:#000000; stroke-width:16; stroke-opacity:1; fill:none\" points=\"\n",
       "  417.78,1250.8 448.899,1250.8 \n",
       "  \"/>\n",
       "<polyline clip-path=\"url(#clip330)\" style=\"stroke:#000000; stroke-width:16; stroke-opacity:1; fill:none\" points=\"\n",
       "  417.78,1068.83 448.899,1068.83 \n",
       "  \"/>\n",
       "<polyline clip-path=\"url(#clip330)\" style=\"stroke:#000000; stroke-width:16; stroke-opacity:1; fill:none\" points=\"\n",
       "  417.78,886.849 448.899,886.849 \n",
       "  \"/>\n",
       "<polyline clip-path=\"url(#clip330)\" style=\"stroke:#000000; stroke-width:16; stroke-opacity:1; fill:none\" points=\"\n",
       "  417.78,704.871 448.899,704.871 \n",
       "  \"/>\n",
       "<polyline clip-path=\"url(#clip330)\" style=\"stroke:#000000; stroke-width:16; stroke-opacity:1; fill:none\" points=\"\n",
       "  417.78,522.893 448.899,522.893 \n",
       "  \"/>\n",
       "<polyline clip-path=\"url(#clip330)\" style=\"stroke:#000000; stroke-width:16; stroke-opacity:1; fill:none\" points=\"\n",
       "  417.78,340.916 448.899,340.916 \n",
       "  \"/>\n",
       "<g clip-path=\"url(#clip330)\">\n",
       "<text style=\"fill:#000000; fill-opacity:1; font-family:Arial,Helvetica Neue,Helvetica,sans-serif; font-size:95px; text-anchor:middle;\" transform=\"rotate(0, 672.987, 1380.53)\" x=\"672.987\" y=\"1380.53\">1</text>\n",
       "</g>\n",
       "<g clip-path=\"url(#clip330)\">\n",
       "<text style=\"fill:#000000; fill-opacity:1; font-family:Arial,Helvetica Neue,Helvetica,sans-serif; font-size:95px; text-anchor:middle;\" transform=\"rotate(0, 1062.56, 1380.53)\" x=\"1062.56\" y=\"1380.53\">2</text>\n",
       "</g>\n",
       "<g clip-path=\"url(#clip330)\">\n",
       "<text style=\"fill:#000000; fill-opacity:1; font-family:Arial,Helvetica Neue,Helvetica,sans-serif; font-size:95px; text-anchor:middle;\" transform=\"rotate(0, 1452.13, 1380.53)\" x=\"1452.13\" y=\"1380.53\">3</text>\n",
       "</g>\n",
       "<g clip-path=\"url(#clip330)\">\n",
       "<text style=\"fill:#000000; fill-opacity:1; font-family:Arial,Helvetica Neue,Helvetica,sans-serif; font-size:95px; text-anchor:middle;\" transform=\"rotate(0, 1841.7, 1380.53)\" x=\"1841.7\" y=\"1380.53\">4</text>\n",
       "</g>\n",
       "<g clip-path=\"url(#clip330)\">\n",
       "<text style=\"fill:#000000; fill-opacity:1; font-family:Arial,Helvetica Neue,Helvetica,sans-serif; font-size:95px; text-anchor:middle;\" transform=\"rotate(0, 2231.27, 1380.53)\" x=\"2231.27\" y=\"1380.53\">5</text>\n",
       "</g>\n",
       "<g clip-path=\"url(#clip330)\">\n",
       "<text style=\"fill:#000000; fill-opacity:1; font-family:Arial,Helvetica Neue,Helvetica,sans-serif; font-size:95px; text-anchor:middle;\" transform=\"rotate(0, 2620.84, 1380.53)\" x=\"2620.84\" y=\"1380.53\">6</text>\n",
       "</g>\n",
       "<g clip-path=\"url(#clip330)\">\n",
       "<text style=\"fill:#000000; fill-opacity:1; font-family:Arial,Helvetica Neue,Helvetica,sans-serif; font-size:95px; text-anchor:middle;\" transform=\"rotate(0, 3010.41, 1380.53)\" x=\"3010.41\" y=\"1380.53\">7</text>\n",
       "</g>\n",
       "<g clip-path=\"url(#clip330)\">\n",
       "<text style=\"fill:#000000; fill-opacity:1; font-family:Arial,Helvetica Neue,Helvetica,sans-serif; font-size:95px; text-anchor:end;\" transform=\"rotate(0, 385.78, 1285.3)\" x=\"385.78\" y=\"1285.3\">0.0</text>\n",
       "</g>\n",
       "<g clip-path=\"url(#clip330)\">\n",
       "<text style=\"fill:#000000; fill-opacity:1; font-family:Arial,Helvetica Neue,Helvetica,sans-serif; font-size:95px; text-anchor:end;\" transform=\"rotate(0, 385.78, 1103.33)\" x=\"385.78\" y=\"1103.33\">0.1</text>\n",
       "</g>\n",
       "<g clip-path=\"url(#clip330)\">\n",
       "<text style=\"fill:#000000; fill-opacity:1; font-family:Arial,Helvetica Neue,Helvetica,sans-serif; font-size:95px; text-anchor:end;\" transform=\"rotate(0, 385.78, 921.349)\" x=\"385.78\" y=\"921.349\">0.2</text>\n",
       "</g>\n",
       "<g clip-path=\"url(#clip330)\">\n",
       "<text style=\"fill:#000000; fill-opacity:1; font-family:Arial,Helvetica Neue,Helvetica,sans-serif; font-size:95px; text-anchor:end;\" transform=\"rotate(0, 385.78, 739.371)\" x=\"385.78\" y=\"739.371\">0.3</text>\n",
       "</g>\n",
       "<g clip-path=\"url(#clip330)\">\n",
       "<text style=\"fill:#000000; fill-opacity:1; font-family:Arial,Helvetica Neue,Helvetica,sans-serif; font-size:95px; text-anchor:end;\" transform=\"rotate(0, 385.78, 557.393)\" x=\"385.78\" y=\"557.393\">0.4</text>\n",
       "</g>\n",
       "<g clip-path=\"url(#clip330)\">\n",
       "<text style=\"fill:#000000; fill-opacity:1; font-family:Arial,Helvetica Neue,Helvetica,sans-serif; font-size:95px; text-anchor:end;\" transform=\"rotate(0, 385.78, 375.416)\" x=\"385.78\" y=\"375.416\">0.5</text>\n",
       "</g>\n",
       "<path clip-path=\"url(#clip332)\" d=\"\n",
       "M491.174 1250.77 L503.468 1250.77 L515.761 1250.75 L528.055 1250.73 L540.349 1250.7 L552.643 1250.65 L564.936 1250.58 L577.23 1250.48 L589.524 1250.34 L601.818 1250.15 \n",
       "  L614.111 1249.89 L626.405 1249.55 L638.699 1249.08 L650.993 1248.48 L663.286 1247.69 L675.58 1246.66 L687.874 1245.36 L700.168 1243.71 L712.461 1241.64 L724.755 1239.09 \n",
       "  L737.049 1235.95 L749.343 1232.14 L761.636 1227.56 L773.93 1222.11 L786.224 1215.67 L798.518 1208.15 L810.811 1199.44 L823.105 1189.45 L835.399 1178.08 L847.693 1165.26 \n",
       "  L859.986 1150.92 L872.28 1135.01 L884.574 1117.5 L896.868 1098.36 L909.161 1077.59 L921.455 1055.21 L933.749 1031.25 L946.043 1005.74 L958.336 978.736 L970.63 950.308 \n",
       "  L982.924 920.53 L995.218 889.487 L1007.51 857.275 L1019.81 823.999 L1032.1 789.775 L1044.39 754.736 L1056.69 719.025 L1068.98 682.807 L1081.27 646.265 L1093.57 609.6 \n",
       "  L1105.86 573.039 L1118.16 536.827 L1130.45 501.231 L1142.74 466.532 L1155.04 433.027 L1167.33 401.019 L1179.62 370.813 L1191.92 342.707 L1204.21 316.985 L1216.51 293.907 \n",
       "  L1228.8 273.702 L1241.09 256.561 L1253.39 242.626 L1265.68 231.988 L1277.97 224.682 L1290.27 220.682 L1302.56 219.903 L1314.86 222.202 L1327.15 227.379 L1339.44 235.188 \n",
       "  L1351.74 245.339 L1364.03 257.51 L1376.32 271.357 L1388.62 286.523 L1400.91 302.655 L1413.21 319.412 L1425.5 336.478 L1437.79 353.572 L1450.09 370.463 L1462.38 386.97 \n",
       "  L1474.67 402.979 L1486.97 418.437 L1499.26 433.358 L1511.56 447.82 L1523.85 461.961 L1536.14 475.966 L1548.44 490.061 L1560.73 504.494 L1573.02 519.524 L1585.32 535.401 \n",
       "  L1597.61 552.353 L1609.91 570.569 L1622.2 590.186 L1634.49 611.281 L1646.79 633.864 L1659.08 657.875 L1671.37 683.185 L1683.67 709.604 L1695.96 736.887 L1708.26 764.75 \n",
       "  L1720.55 792.876 L1732.84 820.937 L1745.14 848.602 L1757.43 875.555 L1769.72 901.509 L1782.02 926.208 L1794.31 949.445 L1806.61 971.062 L1818.9 990.956 L1831.19 1009.08 \n",
       "  L1843.49 1025.43 L1855.78 1040.05 L1868.07 1053.06 L1880.37 1064.56 L1892.66 1074.73 L1904.96 1083.72 L1917.25 1091.73 L1929.54 1098.94 L1941.84 1105.51 L1954.13 1111.6 \n",
       "  L1966.42 1117.34 L1978.72 1122.84 L1991.01 1128.16 L2003.31 1133.36 L2015.6 1138.46 L2027.89 1143.44 L2040.19 1148.27 L2052.48 1152.93 L2064.77 1157.37 L2077.07 1161.54 \n",
       "  L2089.36 1165.4 L2101.66 1168.91 L2113.95 1172.07 L2126.24 1174.87 L2138.54 1177.31 L2150.83 1179.43 L2163.12 1181.26 L2175.42 1182.84 L2187.71 1184.22 L2200 1185.44 \n",
       "  L2212.3 1186.55 L2224.59 1187.58 L2236.89 1188.56 L2249.18 1189.48 L2261.47 1190.36 L2273.77 1191.19 L2286.06 1191.96 L2298.35 1192.64 L2310.65 1193.22 L2322.94 1193.69 \n",
       "  L2335.24 1194.04 L2347.53 1194.27 L2359.82 1194.4 L2372.12 1194.46 L2384.41 1194.48 L2396.7 1194.52 L2409 1194.61 L2421.29 1194.83 L2433.59 1195.21 L2445.88 1195.83 \n",
       "  L2458.17 1196.71 L2470.47 1197.9 L2482.76 1199.41 L2495.05 1201.24 L2507.35 1203.38 L2519.64 1205.82 L2531.94 1208.5 L2544.23 1211.4 L2556.52 1214.44 L2568.82 1217.57 \n",
       "  L2581.11 1220.74 L2593.4 1223.87 L2605.7 1226.93 L2617.99 1229.86 L2630.29 1232.61 L2642.58 1235.18 L2654.87 1237.52 L2667.17 1239.63 L2679.46 1241.5 L2691.75 1243.14 \n",
       "  L2704.05 1244.56 L2716.34 1245.77 L2728.64 1246.79 L2740.93 1247.64 L2753.22 1248.34 L2765.52 1248.9 L2777.81 1249.35 L2790.1 1249.7 L2802.4 1249.98 L2814.69 1250.2 \n",
       "  L2826.99 1250.36 L2839.28 1250.48 L2851.57 1250.57 L2863.87 1250.64 L2876.16 1250.69 L2888.45 1250.72 L2900.75 1250.75 L2913.04 1250.76 L2925.34 1250.77 L2937.63 1250.77 \n",
       "  L2937.63 1250.8 L2925.34 1250.8 L2913.04 1250.8 L2900.75 1250.8 L2888.45 1250.8 L2876.16 1250.8 L2863.87 1250.8 L2851.57 1250.8 L2839.28 1250.8 L2826.99 1250.8 \n",
       "  L2814.69 1250.8 L2802.4 1250.8 L2790.1 1250.8 L2777.81 1250.8 L2765.52 1250.8 L2753.22 1250.8 L2740.93 1250.8 L2728.64 1250.8 L2716.34 1250.8 L2704.05 1250.8 \n",
       "  L2691.75 1250.8 L2679.46 1250.8 L2667.17 1250.8 L2654.87 1250.8 L2642.58 1250.8 L2630.29 1250.8 L2617.99 1250.8 L2605.7 1250.8 L2593.4 1250.8 L2581.11 1250.8 \n",
       "  L2568.82 1250.8 L2556.52 1250.8 L2544.23 1250.8 L2531.94 1250.8 L2519.64 1250.8 L2507.35 1250.8 L2495.05 1250.8 L2482.76 1250.8 L2470.47 1250.8 L2458.17 1250.8 \n",
       "  L2445.88 1250.8 L2433.59 1250.8 L2421.29 1250.8 L2409 1250.8 L2396.7 1250.8 L2384.41 1250.8 L2372.12 1250.8 L2359.82 1250.8 L2347.53 1250.8 L2335.24 1250.8 \n",
       "  L2322.94 1250.8 L2310.65 1250.8 L2298.35 1250.8 L2286.06 1250.8 L2273.77 1250.8 L2261.47 1250.8 L2249.18 1250.8 L2236.89 1250.8 L2224.59 1250.8 L2212.3 1250.8 \n",
       "  L2200 1250.8 L2187.71 1250.8 L2175.42 1250.8 L2163.12 1250.8 L2150.83 1250.8 L2138.54 1250.8 L2126.24 1250.8 L2113.95 1250.8 L2101.66 1250.8 L2089.36 1250.8 \n",
       "  L2077.07 1250.8 L2064.77 1250.8 L2052.48 1250.8 L2040.19 1250.8 L2027.89 1250.8 L2015.6 1250.8 L2003.31 1250.8 L1991.01 1250.8 L1978.72 1250.8 L1966.42 1250.8 \n",
       "  L1954.13 1250.8 L1941.84 1250.8 L1929.54 1250.8 L1917.25 1250.8 L1904.96 1250.8 L1892.66 1250.8 L1880.37 1250.8 L1868.07 1250.8 L1855.78 1250.8 L1843.49 1250.8 \n",
       "  L1831.19 1250.8 L1818.9 1250.8 L1806.61 1250.8 L1794.31 1250.8 L1782.02 1250.8 L1769.72 1250.8 L1757.43 1250.8 L1745.14 1250.8 L1732.84 1250.8 L1720.55 1250.8 \n",
       "  L1708.26 1250.8 L1695.96 1250.8 L1683.67 1250.8 L1671.37 1250.8 L1659.08 1250.8 L1646.79 1250.8 L1634.49 1250.8 L1622.2 1250.8 L1609.91 1250.8 L1597.61 1250.8 \n",
       "  L1585.32 1250.8 L1573.02 1250.8 L1560.73 1250.8 L1548.44 1250.8 L1536.14 1250.8 L1523.85 1250.8 L1511.56 1250.8 L1499.26 1250.8 L1486.97 1250.8 L1474.67 1250.8 \n",
       "  L1462.38 1250.8 L1450.09 1250.8 L1437.79 1250.8 L1425.5 1250.8 L1413.21 1250.8 L1400.91 1250.8 L1388.62 1250.8 L1376.32 1250.8 L1364.03 1250.8 L1351.74 1250.8 \n",
       "  L1339.44 1250.8 L1327.15 1250.8 L1314.86 1250.8 L1302.56 1250.8 L1290.27 1250.8 L1277.97 1250.8 L1265.68 1250.8 L1253.39 1250.8 L1241.09 1250.8 L1228.8 1250.8 \n",
       "  L1216.51 1250.8 L1204.21 1250.8 L1191.92 1250.8 L1179.62 1250.8 L1167.33 1250.8 L1155.04 1250.8 L1142.74 1250.8 L1130.45 1250.8 L1118.16 1250.8 L1105.86 1250.8 \n",
       "  L1093.57 1250.8 L1081.27 1250.8 L1068.98 1250.8 L1056.69 1250.8 L1044.39 1250.8 L1032.1 1250.8 L1019.81 1250.8 L1007.51 1250.8 L995.218 1250.8 L982.924 1250.8 \n",
       "  L970.63 1250.8 L958.336 1250.8 L946.043 1250.8 L933.749 1250.8 L921.455 1250.8 L909.161 1250.8 L896.868 1250.8 L884.574 1250.8 L872.28 1250.8 L859.986 1250.8 \n",
       "  L847.693 1250.8 L835.399 1250.8 L823.105 1250.8 L810.811 1250.8 L798.518 1250.8 L786.224 1250.8 L773.93 1250.8 L761.636 1250.8 L749.343 1250.8 L737.049 1250.8 \n",
       "  L724.755 1250.8 L712.461 1250.8 L700.168 1250.8 L687.874 1250.8 L675.58 1250.8 L663.286 1250.8 L650.993 1250.8 L638.699 1250.8 L626.405 1250.8 L614.111 1250.8 \n",
       "  L601.818 1250.8 L589.524 1250.8 L577.23 1250.8 L564.936 1250.8 L552.643 1250.8 L540.349 1250.8 L528.055 1250.8 L515.761 1250.8 L503.468 1250.8 L491.174 1250.8 \n",
       "   Z\n",
       "  \" fill=\"#5cacee\" fill-rule=\"evenodd\" fill-opacity=\"0.5\"/>\n",
       "<polyline clip-path=\"url(#clip332)\" style=\"stroke:#009af9; stroke-width:16; stroke-opacity:1; fill:none\" points=\"\n",
       "  491.174,1250.77 503.468,1250.77 515.761,1250.75 528.055,1250.73 540.349,1250.7 552.643,1250.65 564.936,1250.58 577.23,1250.48 589.524,1250.34 601.818,1250.15 \n",
       "  614.111,1249.89 626.405,1249.55 638.699,1249.08 650.993,1248.48 663.286,1247.69 675.58,1246.66 687.874,1245.36 700.168,1243.71 712.461,1241.64 724.755,1239.09 \n",
       "  737.049,1235.95 749.343,1232.14 761.636,1227.56 773.93,1222.11 786.224,1215.67 798.518,1208.15 810.811,1199.44 823.105,1189.45 835.399,1178.08 847.693,1165.26 \n",
       "  859.986,1150.92 872.28,1135.01 884.574,1117.5 896.868,1098.36 909.161,1077.59 921.455,1055.21 933.749,1031.25 946.043,1005.74 958.336,978.736 970.63,950.308 \n",
       "  982.924,920.53 995.218,889.487 1007.51,857.275 1019.81,823.999 1032.1,789.775 1044.39,754.736 1056.69,719.025 1068.98,682.807 1081.27,646.265 1093.57,609.6 \n",
       "  1105.86,573.039 1118.16,536.827 1130.45,501.231 1142.74,466.532 1155.04,433.027 1167.33,401.019 1179.62,370.813 1191.92,342.707 1204.21,316.985 1216.51,293.907 \n",
       "  1228.8,273.702 1241.09,256.561 1253.39,242.626 1265.68,231.988 1277.97,224.682 1290.27,220.682 1302.56,219.903 1314.86,222.202 1327.15,227.379 1339.44,235.188 \n",
       "  1351.74,245.339 1364.03,257.51 1376.32,271.357 1388.62,286.523 1400.91,302.655 1413.21,319.412 1425.5,336.478 1437.79,353.572 1450.09,370.463 1462.38,386.97 \n",
       "  1474.67,402.979 1486.97,418.437 1499.26,433.358 1511.56,447.82 1523.85,461.961 1536.14,475.966 1548.44,490.061 1560.73,504.494 1573.02,519.524 1585.32,535.401 \n",
       "  1597.61,552.353 1609.91,570.569 1622.2,590.186 1634.49,611.281 1646.79,633.864 1659.08,657.875 1671.37,683.185 1683.67,709.604 1695.96,736.887 1708.26,764.75 \n",
       "  1720.55,792.876 1732.84,820.937 1745.14,848.602 1757.43,875.555 1769.72,901.509 1782.02,926.208 1794.31,949.445 1806.61,971.062 1818.9,990.956 1831.19,1009.08 \n",
       "  1843.49,1025.43 1855.78,1040.05 1868.07,1053.06 1880.37,1064.56 1892.66,1074.73 1904.96,1083.72 1917.25,1091.73 1929.54,1098.94 1941.84,1105.51 1954.13,1111.6 \n",
       "  1966.42,1117.34 1978.72,1122.84 1991.01,1128.16 2003.31,1133.36 2015.6,1138.46 2027.89,1143.44 2040.19,1148.27 2052.48,1152.93 2064.77,1157.37 2077.07,1161.54 \n",
       "  2089.36,1165.4 2101.66,1168.91 2113.95,1172.07 2126.24,1174.87 2138.54,1177.31 2150.83,1179.43 2163.12,1181.26 2175.42,1182.84 2187.71,1184.22 2200,1185.44 \n",
       "  2212.3,1186.55 2224.59,1187.58 2236.89,1188.56 2249.18,1189.48 2261.47,1190.36 2273.77,1191.19 2286.06,1191.96 2298.35,1192.64 2310.65,1193.22 2322.94,1193.69 \n",
       "  2335.24,1194.04 2347.53,1194.27 2359.82,1194.4 2372.12,1194.46 2384.41,1194.48 2396.7,1194.52 2409,1194.61 2421.29,1194.83 2433.59,1195.21 2445.88,1195.83 \n",
       "  2458.17,1196.71 2470.47,1197.9 2482.76,1199.41 2495.05,1201.24 2507.35,1203.38 2519.64,1205.82 2531.94,1208.5 2544.23,1211.4 2556.52,1214.44 2568.82,1217.57 \n",
       "  2581.11,1220.74 2593.4,1223.87 2605.7,1226.93 2617.99,1229.86 2630.29,1232.61 2642.58,1235.18 2654.87,1237.52 2667.17,1239.63 2679.46,1241.5 2691.75,1243.14 \n",
       "  2704.05,1244.56 2716.34,1245.77 2728.64,1246.79 2740.93,1247.64 2753.22,1248.34 2765.52,1248.9 2777.81,1249.35 2790.1,1249.7 2802.4,1249.98 2814.69,1250.2 \n",
       "  2826.99,1250.36 2839.28,1250.48 2851.57,1250.57 2863.87,1250.64 2876.16,1250.69 2888.45,1250.72 2900.75,1250.75 2913.04,1250.76 2925.34,1250.77 2937.63,1250.77 \n",
       "  \n",
       "  \"/>\n",
       "<polyline clip-path=\"url(#clip332)\" style=\"stroke:#e26f46; stroke-width:16; stroke-opacity:1; fill:none\" points=\"\n",
       "  1452.13,2374.49 1452.13,-903.779 \n",
       "  \"/>\n",
       "<polyline clip-path=\"url(#clip332)\" style=\"stroke:#3da44d; stroke-width:16; stroke-opacity:1; fill:none\" points=\"\n",
       "  1429.81,2374.49 1429.81,-903.779 \n",
       "  \"/>\n",
       "<path clip-path=\"url(#clip330)\" d=\"\n",
       "M1965.03 743.856 L2915.02 743.856 L2915.02 260.016 L1965.03 260.016  Z\n",
       "  \" fill=\"#000000\" fill-rule=\"evenodd\" fill-opacity=\"0\"/>\n",
       "<polyline clip-path=\"url(#clip330)\" style=\"stroke:#000000; stroke-width:16; stroke-opacity:0; fill:none\" points=\"\n",
       "  1965.03,743.856 2915.02,743.856 2915.02,260.016 1965.03,260.016 1965.03,743.856 \n",
       "  \"/>\n",
       "<path clip-path=\"url(#clip330)\" d=\"\n",
       "M1997.03 429.36 L2189.03 429.36 L2189.03 332.592 L1997.03 332.592 L1997.03 429.36  Z\n",
       "  \" fill=\"#5cacee\" fill-rule=\"evenodd\" fill-opacity=\"0.5\"/>\n",
       "<polyline clip-path=\"url(#clip330)\" style=\"stroke:#009af9; stroke-width:16; stroke-opacity:1; fill:none\" points=\"\n",
       "  1997.03,332.592 2189.03,332.592 \n",
       "  \"/>\n",
       "<g clip-path=\"url(#clip330)\">\n",
       "<text style=\"fill:#000000; fill-opacity:1; font-family:Symbol; font-size:103px; text-anchor:start;\" transform=\"rotate(0, 2221.03, 396.788)\" x=\"2221.03\" y=\"396.788\">α</text>\n",
       "</g>\n",
       "<g clip-path=\"url(#clip330)\">\n",
       "<text style=\"fill:#000000; fill-opacity:1; font-family:Arial,Helvetica Neue,Helvetica,sans-serif; font-size:77px; text-anchor:start;\" transform=\"rotate(0, 2286.42, 424.047)\" x=\"2286.42\" y=\"424.047\">s</text>\n",
       "</g>\n",
       "<polyline clip-path=\"url(#clip330)\" style=\"stroke:#e26f46; stroke-width:16; stroke-opacity:1; fill:none\" points=\"\n",
       "  1997.03,501.936 2189.03,501.936 \n",
       "  \"/>\n",
       "<g clip-path=\"url(#clip330)\">\n",
       "<text style=\"fill:#000000; fill-opacity:1; font-family:Arial,Helvetica Neue,Helvetica,sans-serif; font-size:95px; text-anchor:start;\" transform=\"rotate(0, 2221.03, 529.239)\" x=\"2221.03\" y=\"529.239\">True </text>\n",
       "</g>\n",
       "<g clip-path=\"url(#clip330)\">\n",
       "<text style=\"fill:#000000; fill-opacity:1; font-family:Symbol; font-size:103px; text-anchor:start;\" transform=\"rotate(0, 2445.71, 529.239)\" x=\"2445.71\" y=\"529.239\">α</text>\n",
       "</g>\n",
       "<g clip-path=\"url(#clip330)\">\n",
       "<text style=\"fill:#000000; fill-opacity:1; font-family:Arial,Helvetica Neue,Helvetica,sans-serif; font-size:95px; text-anchor:start;\" transform=\"rotate(0, 2511.1, 529.239)\" x=\"2511.1\" y=\"529.239\"> = 3</text>\n",
       "</g>\n",
       "<polyline clip-path=\"url(#clip330)\" style=\"stroke:#3da44d; stroke-width:16; stroke-opacity:1; fill:none\" points=\"\n",
       "  1997.03,622.896 2189.03,622.896 \n",
       "  \"/>\n",
       "<g clip-path=\"url(#clip330)\">\n",
       "<text style=\"fill:#000000; fill-opacity:1; font-family:Arial,Helvetica Neue,Helvetica,sans-serif; font-size:95px; text-anchor:start;\" transform=\"rotate(0, 2221.03, 650.199)\" x=\"2221.03\" y=\"650.199\">Mean </text>\n",
       "</g>\n",
       "<g clip-path=\"url(#clip330)\">\n",
       "<text style=\"fill:#000000; fill-opacity:1; font-family:Symbol; font-size:103px; text-anchor:start;\" transform=\"rotate(0, 2488.55, 650.199)\" x=\"2488.55\" y=\"650.199\">α</text>\n",
       "</g>\n",
       "<g clip-path=\"url(#clip330)\">\n",
       "<text style=\"fill:#000000; fill-opacity:1; font-family:Arial,Helvetica Neue,Helvetica,sans-serif; font-size:95px; text-anchor:start;\" transform=\"rotate(0, 2553.94, 650.199)\" x=\"2553.94\" y=\"650.199\"> = 2.94</text>\n",
       "</g>\n",
       "</svg>\n"
      ]
     },
     "execution_count": 329,
     "metadata": {},
     "output_type": "execute_result"
    }
   ],
   "source": [
    "# α\n",
    "fig = density(params_sim[:, :α], fill=(0, .5,:steelblue2), lab=\"\\\\alpha_s\",  \n",
    "        linecolor=:match, linewidth=1)\n",
    "plot!(collect(α), seriestype=\"vline\", \n",
    "        lab=\"True \\\\alpha = \" * string(α), \n",
    "        linewidth=1)\n",
    "plot!(collect(mean(params_sim.α)), seriestype=\"vline\", \n",
    "        lab=\"Mean \\\\alpha = \" * string(round(mean(params_sim.α), digits=2)),\n",
    "        linewidth=1, legendfont=font(4), xtickfont=font(4), ytickfont=font(4),\n",
    "        foreground_color_legend=nothing, background_color_legend=nothing, grid=false)\n",
    "plot!(size=(200,100))\n",
    "savefig(\"1_3_3_alpha.png\")\n",
    "fig"
   ]
  },
  {
   "cell_type": "code",
   "execution_count": 331,
   "metadata": {},
   "outputs": [
    {
     "data": {
      "image/svg+xml": [
       "<?xml version=\"1.0\" encoding=\"utf-8\"?>\n",
       "<svg xmlns=\"http://www.w3.org/2000/svg\" xmlns:xlink=\"http://www.w3.org/1999/xlink\" width=\"800\" height=\"400\" viewBox=\"0 0 3200 1600\">\n",
       "<defs>\n",
       "  <clipPath id=\"clip430\">\n",
       "    <rect x=\"0\" y=\"0\" width=\"3200\" height=\"1600\"/>\n",
       "  </clipPath>\n",
       "</defs>\n",
       "<path clip-path=\"url(#clip430)\" d=\"\n",
       "M0 1600 L3200 1600 L3200 0 L0 0  Z\n",
       "  \" fill=\"#ffffff\" fill-rule=\"evenodd\" fill-opacity=\"1\"/>\n",
       "<defs>\n",
       "  <clipPath id=\"clip431\">\n",
       "    <rect x=\"640\" y=\"0\" width=\"2241\" height=\"1600\"/>\n",
       "  </clipPath>\n",
       "</defs>\n",
       "<path clip-path=\"url(#clip430)\" d=\"\n",
       "M471.305 1281.73 L3011.02 1281.73 L3011.02 188.976 L471.305 188.976  Z\n",
       "  \" fill=\"#ffffff\" fill-rule=\"evenodd\" fill-opacity=\"1\"/>\n",
       "<defs>\n",
       "  <clipPath id=\"clip432\">\n",
       "    <rect x=\"471\" y=\"188\" width=\"2541\" height=\"1094\"/>\n",
       "  </clipPath>\n",
       "</defs>\n",
       "<polyline clip-path=\"url(#clip430)\" style=\"stroke:#000000; stroke-width:16; stroke-opacity:1; fill:none\" points=\"\n",
       "  471.305,1281.73 3011.02,1281.73 \n",
       "  \"/>\n",
       "<polyline clip-path=\"url(#clip430)\" style=\"stroke:#000000; stroke-width:16; stroke-opacity:1; fill:none\" points=\"\n",
       "  471.305,1281.73 471.305,188.976 \n",
       "  \"/>\n",
       "<polyline clip-path=\"url(#clip430)\" style=\"stroke:#000000; stroke-width:16; stroke-opacity:1; fill:none\" points=\"\n",
       "  782.589,1281.73 782.589,1268.62 \n",
       "  \"/>\n",
       "<polyline clip-path=\"url(#clip430)\" style=\"stroke:#000000; stroke-width:16; stroke-opacity:1; fill:none\" points=\"\n",
       "  1124.07,1281.73 1124.07,1268.62 \n",
       "  \"/>\n",
       "<polyline clip-path=\"url(#clip430)\" style=\"stroke:#000000; stroke-width:16; stroke-opacity:1; fill:none\" points=\"\n",
       "  1465.56,1281.73 1465.56,1268.62 \n",
       "  \"/>\n",
       "<polyline clip-path=\"url(#clip430)\" style=\"stroke:#000000; stroke-width:16; stroke-opacity:1; fill:none\" points=\"\n",
       "  1807.05,1281.73 1807.05,1268.62 \n",
       "  \"/>\n",
       "<polyline clip-path=\"url(#clip430)\" style=\"stroke:#000000; stroke-width:16; stroke-opacity:1; fill:none\" points=\"\n",
       "  2148.53,1281.73 2148.53,1268.62 \n",
       "  \"/>\n",
       "<polyline clip-path=\"url(#clip430)\" style=\"stroke:#000000; stroke-width:16; stroke-opacity:1; fill:none\" points=\"\n",
       "  2490.02,1281.73 2490.02,1268.62 \n",
       "  \"/>\n",
       "<polyline clip-path=\"url(#clip430)\" style=\"stroke:#000000; stroke-width:16; stroke-opacity:1; fill:none\" points=\"\n",
       "  2831.5,1281.73 2831.5,1268.62 \n",
       "  \"/>\n",
       "<polyline clip-path=\"url(#clip430)\" style=\"stroke:#000000; stroke-width:16; stroke-opacity:1; fill:none\" points=\"\n",
       "  471.305,1250.8 501.782,1250.8 \n",
       "  \"/>\n",
       "<polyline clip-path=\"url(#clip430)\" style=\"stroke:#000000; stroke-width:16; stroke-opacity:1; fill:none\" points=\"\n",
       "  471.305,1055.71 501.782,1055.71 \n",
       "  \"/>\n",
       "<polyline clip-path=\"url(#clip430)\" style=\"stroke:#000000; stroke-width:16; stroke-opacity:1; fill:none\" points=\"\n",
       "  471.305,860.622 501.782,860.622 \n",
       "  \"/>\n",
       "<polyline clip-path=\"url(#clip430)\" style=\"stroke:#000000; stroke-width:16; stroke-opacity:1; fill:none\" points=\"\n",
       "  471.305,665.53 501.782,665.53 \n",
       "  \"/>\n",
       "<polyline clip-path=\"url(#clip430)\" style=\"stroke:#000000; stroke-width:16; stroke-opacity:1; fill:none\" points=\"\n",
       "  471.305,470.439 501.782,470.439 \n",
       "  \"/>\n",
       "<polyline clip-path=\"url(#clip430)\" style=\"stroke:#000000; stroke-width:16; stroke-opacity:1; fill:none\" points=\"\n",
       "  471.305,275.347 501.782,275.347 \n",
       "  \"/>\n",
       "<g clip-path=\"url(#clip430)\">\n",
       "<text style=\"fill:#000000; fill-opacity:1; font-family:Arial,Helvetica Neue,Helvetica,sans-serif; font-size:95px; text-anchor:middle;\" transform=\"rotate(0, 782.589, 1380.53)\" x=\"782.589\" y=\"1380.53\">2</text>\n",
       "</g>\n",
       "<g clip-path=\"url(#clip430)\">\n",
       "<text style=\"fill:#000000; fill-opacity:1; font-family:Arial,Helvetica Neue,Helvetica,sans-serif; font-size:95px; text-anchor:middle;\" transform=\"rotate(0, 1124.07, 1380.53)\" x=\"1124.07\" y=\"1380.53\">4</text>\n",
       "</g>\n",
       "<g clip-path=\"url(#clip430)\">\n",
       "<text style=\"fill:#000000; fill-opacity:1; font-family:Arial,Helvetica Neue,Helvetica,sans-serif; font-size:95px; text-anchor:middle;\" transform=\"rotate(0, 1465.56, 1380.53)\" x=\"1465.56\" y=\"1380.53\">6</text>\n",
       "</g>\n",
       "<g clip-path=\"url(#clip430)\">\n",
       "<text style=\"fill:#000000; fill-opacity:1; font-family:Arial,Helvetica Neue,Helvetica,sans-serif; font-size:95px; text-anchor:middle;\" transform=\"rotate(0, 1807.05, 1380.53)\" x=\"1807.05\" y=\"1380.53\">8</text>\n",
       "</g>\n",
       "<g clip-path=\"url(#clip430)\">\n",
       "<text style=\"fill:#000000; fill-opacity:1; font-family:Arial,Helvetica Neue,Helvetica,sans-serif; font-size:95px; text-anchor:middle;\" transform=\"rotate(0, 2148.53, 1380.53)\" x=\"2148.53\" y=\"1380.53\">10</text>\n",
       "</g>\n",
       "<g clip-path=\"url(#clip430)\">\n",
       "<text style=\"fill:#000000; fill-opacity:1; font-family:Arial,Helvetica Neue,Helvetica,sans-serif; font-size:95px; text-anchor:middle;\" transform=\"rotate(0, 2490.02, 1380.53)\" x=\"2490.02\" y=\"1380.53\">12</text>\n",
       "</g>\n",
       "<g clip-path=\"url(#clip430)\">\n",
       "<text style=\"fill:#000000; fill-opacity:1; font-family:Arial,Helvetica Neue,Helvetica,sans-serif; font-size:95px; text-anchor:middle;\" transform=\"rotate(0, 2831.5, 1380.53)\" x=\"2831.5\" y=\"1380.53\">14</text>\n",
       "</g>\n",
       "<g clip-path=\"url(#clip430)\">\n",
       "<text style=\"fill:#000000; fill-opacity:1; font-family:Arial,Helvetica Neue,Helvetica,sans-serif; font-size:95px; text-anchor:end;\" transform=\"rotate(0, 439.305, 1285.3)\" x=\"439.305\" y=\"1285.3\">0.00</text>\n",
       "</g>\n",
       "<g clip-path=\"url(#clip430)\">\n",
       "<text style=\"fill:#000000; fill-opacity:1; font-family:Arial,Helvetica Neue,Helvetica,sans-serif; font-size:95px; text-anchor:end;\" transform=\"rotate(0, 439.305, 1090.21)\" x=\"439.305\" y=\"1090.21\">0.05</text>\n",
       "</g>\n",
       "<g clip-path=\"url(#clip430)\">\n",
       "<text style=\"fill:#000000; fill-opacity:1; font-family:Arial,Helvetica Neue,Helvetica,sans-serif; font-size:95px; text-anchor:end;\" transform=\"rotate(0, 439.305, 895.122)\" x=\"439.305\" y=\"895.122\">0.10</text>\n",
       "</g>\n",
       "<g clip-path=\"url(#clip430)\">\n",
       "<text style=\"fill:#000000; fill-opacity:1; font-family:Arial,Helvetica Neue,Helvetica,sans-serif; font-size:95px; text-anchor:end;\" transform=\"rotate(0, 439.305, 700.03)\" x=\"439.305\" y=\"700.03\">0.15</text>\n",
       "</g>\n",
       "<g clip-path=\"url(#clip430)\">\n",
       "<text style=\"fill:#000000; fill-opacity:1; font-family:Arial,Helvetica Neue,Helvetica,sans-serif; font-size:95px; text-anchor:end;\" transform=\"rotate(0, 439.305, 504.939)\" x=\"439.305\" y=\"504.939\">0.20</text>\n",
       "</g>\n",
       "<g clip-path=\"url(#clip430)\">\n",
       "<text style=\"fill:#000000; fill-opacity:1; font-family:Arial,Helvetica Neue,Helvetica,sans-serif; font-size:95px; text-anchor:end;\" transform=\"rotate(0, 439.305, 309.847)\" x=\"439.305\" y=\"309.847\">0.25</text>\n",
       "</g>\n",
       "<path clip-path=\"url(#clip432)\" d=\"\n",
       "M543.184 1250.77 L555.224 1250.75 L567.264 1250.73 L579.304 1250.7 L591.344 1250.65 L603.384 1250.57 L615.424 1250.46 L627.464 1250.31 L639.504 1250.09 L651.544 1249.79 \n",
       "  L663.584 1249.38 L675.624 1248.82 L687.664 1248.08 L699.704 1247.11 L711.744 1245.84 L723.784 1244.21 L735.824 1242.13 L747.864 1239.52 L759.904 1236.28 L771.944 1232.3 \n",
       "  L783.984 1227.48 L796.024 1221.71 L808.064 1214.88 L820.104 1206.9 L832.144 1197.68 L844.184 1187.14 L856.224 1175.24 L868.264 1161.96 L880.304 1147.3 L892.344 1131.28 \n",
       "  L904.384 1113.96 L916.424 1095.41 L928.464 1075.71 L940.504 1054.96 L952.544 1033.27 L964.584 1010.71 L976.624 987.357 L988.664 963.26 L1000.7 938.437 L1012.74 912.877 \n",
       "  L1024.78 886.54 L1036.82 859.359 L1048.86 831.254 L1060.9 802.137 L1072.94 771.928 L1084.98 740.572 L1097.02 708.046 L1109.06 674.381 L1121.1 639.666 L1133.14 604.06 \n",
       "  L1145.18 567.793 L1157.22 531.168 L1169.26 494.55 L1181.3 458.364 L1193.34 423.076 L1205.38 389.18 L1217.42 357.181 L1229.46 327.577 L1241.5 300.839 L1253.54 277.396 \n",
       "  L1265.58 257.618 L1277.62 241.807 L1289.66 230.181 L1301.7 222.869 L1313.74 219.903 L1325.78 221.222 L1337.82 226.664 L1349.86 235.974 L1361.9 248.812 L1373.94 264.756 \n",
       "  L1385.98 283.322 L1398.02 303.974 L1410.06 326.144 L1422.1 349.254 L1434.14 372.735 L1446.18 396.051 L1458.22 418.723 L1470.26 440.348 L1482.3 460.617 L1494.34 479.332 \n",
       "  L1506.38 496.41 L1518.42 511.89 L1530.46 525.925 L1542.5 538.773 L1554.54 550.775 L1566.58 562.339 L1578.62 573.906 L1590.66 585.922 L1602.7 598.81 L1614.74 612.939 \n",
       "  L1626.78 628.604 L1638.82 646.001 L1650.86 665.223 L1662.9 686.252 L1674.94 708.962 L1686.98 733.131 L1699.02 758.458 L1711.06 784.584 L1723.1 811.113 L1735.14 837.637 \n",
       "  L1747.18 863.761 L1759.22 889.12 L1771.26 913.395 L1783.3 936.328 L1795.34 957.726 L1807.38 977.462 L1819.42 995.477 L1831.46 1011.77 L1843.5 1026.41 L1855.54 1039.47 \n",
       "  L1867.58 1051.11 L1879.62 1061.47 L1891.66 1070.72 L1903.7 1079.04 L1915.74 1086.59 L1927.78 1093.55 L1939.82 1100.05 L1951.86 1106.21 L1963.9 1112.13 L1975.94 1117.89 \n",
       "  L1987.98 1123.53 L2000.02 1129.07 L2012.06 1134.52 L2024.1 1139.85 L2036.14 1145.03 L2048.18 1150.02 L2060.22 1154.77 L2072.26 1159.23 L2084.3 1163.38 L2096.34 1167.18 \n",
       "  L2108.38 1170.62 L2120.42 1173.72 L2132.46 1176.48 L2144.5 1178.96 L2156.54 1181.19 L2168.58 1183.23 L2180.62 1185.15 L2192.66 1186.98 L2204.7 1188.79 L2216.74 1190.6 \n",
       "  L2228.78 1192.43 L2240.82 1194.3 L2252.86 1196.18 L2264.9 1198.04 L2276.94 1199.85 L2288.98 1201.56 L2301.02 1203.1 L2313.06 1204.42 L2325.1 1205.47 L2337.14 1206.22 \n",
       "  L2349.18 1206.64 L2361.22 1206.74 L2373.26 1206.51 L2385.3 1206.01 L2397.34 1205.29 L2409.38 1204.41 L2421.42 1203.46 L2433.46 1202.53 L2445.5 1201.71 L2457.54 1201.08 \n",
       "  L2469.58 1200.74 L2481.62 1200.74 L2493.66 1201.14 L2505.7 1201.96 L2517.74 1203.21 L2529.78 1204.89 L2541.82 1206.96 L2553.86 1209.38 L2565.9 1212.08 L2577.94 1215.01 \n",
       "  L2589.98 1218.08 L2602.02 1221.22 L2614.06 1224.36 L2626.1 1227.44 L2638.14 1230.4 L2650.18 1233.18 L2662.22 1235.76 L2674.26 1238.11 L2686.3 1240.21 L2698.34 1242.07 \n",
       "  L2710.38 1243.69 L2722.42 1245.07 L2734.46 1246.24 L2746.5 1247.21 L2758.54 1248.01 L2770.58 1248.65 L2782.62 1249.17 L2794.66 1249.58 L2806.7 1249.89 L2818.74 1250.13 \n",
       "  L2830.78 1250.32 L2842.82 1250.46 L2854.86 1250.56 L2866.9 1250.63 L2878.94 1250.68 L2890.98 1250.72 L2903.02 1250.74 L2915.06 1250.76 L2927.1 1250.77 L2939.14 1250.77 \n",
       "  L2939.14 1250.8 L2927.1 1250.8 L2915.06 1250.8 L2903.02 1250.8 L2890.98 1250.8 L2878.94 1250.8 L2866.9 1250.8 L2854.86 1250.8 L2842.82 1250.8 L2830.78 1250.8 \n",
       "  L2818.74 1250.8 L2806.7 1250.8 L2794.66 1250.8 L2782.62 1250.8 L2770.58 1250.8 L2758.54 1250.8 L2746.5 1250.8 L2734.46 1250.8 L2722.42 1250.8 L2710.38 1250.8 \n",
       "  L2698.34 1250.8 L2686.3 1250.8 L2674.26 1250.8 L2662.22 1250.8 L2650.18 1250.8 L2638.14 1250.8 L2626.1 1250.8 L2614.06 1250.8 L2602.02 1250.8 L2589.98 1250.8 \n",
       "  L2577.94 1250.8 L2565.9 1250.8 L2553.86 1250.8 L2541.82 1250.8 L2529.78 1250.8 L2517.74 1250.8 L2505.7 1250.8 L2493.66 1250.8 L2481.62 1250.8 L2469.58 1250.8 \n",
       "  L2457.54 1250.8 L2445.5 1250.8 L2433.46 1250.8 L2421.42 1250.8 L2409.38 1250.8 L2397.34 1250.8 L2385.3 1250.8 L2373.26 1250.8 L2361.22 1250.8 L2349.18 1250.8 \n",
       "  L2337.14 1250.8 L2325.1 1250.8 L2313.06 1250.8 L2301.02 1250.8 L2288.98 1250.8 L2276.94 1250.8 L2264.9 1250.8 L2252.86 1250.8 L2240.82 1250.8 L2228.78 1250.8 \n",
       "  L2216.74 1250.8 L2204.7 1250.8 L2192.66 1250.8 L2180.62 1250.8 L2168.58 1250.8 L2156.54 1250.8 L2144.5 1250.8 L2132.46 1250.8 L2120.42 1250.8 L2108.38 1250.8 \n",
       "  L2096.34 1250.8 L2084.3 1250.8 L2072.26 1250.8 L2060.22 1250.8 L2048.18 1250.8 L2036.14 1250.8 L2024.1 1250.8 L2012.06 1250.8 L2000.02 1250.8 L1987.98 1250.8 \n",
       "  L1975.94 1250.8 L1963.9 1250.8 L1951.86 1250.8 L1939.82 1250.8 L1927.78 1250.8 L1915.74 1250.8 L1903.7 1250.8 L1891.66 1250.8 L1879.62 1250.8 L1867.58 1250.8 \n",
       "  L1855.54 1250.8 L1843.5 1250.8 L1831.46 1250.8 L1819.42 1250.8 L1807.38 1250.8 L1795.34 1250.8 L1783.3 1250.8 L1771.26 1250.8 L1759.22 1250.8 L1747.18 1250.8 \n",
       "  L1735.14 1250.8 L1723.1 1250.8 L1711.06 1250.8 L1699.02 1250.8 L1686.98 1250.8 L1674.94 1250.8 L1662.9 1250.8 L1650.86 1250.8 L1638.82 1250.8 L1626.78 1250.8 \n",
       "  L1614.74 1250.8 L1602.7 1250.8 L1590.66 1250.8 L1578.62 1250.8 L1566.58 1250.8 L1554.54 1250.8 L1542.5 1250.8 L1530.46 1250.8 L1518.42 1250.8 L1506.38 1250.8 \n",
       "  L1494.34 1250.8 L1482.3 1250.8 L1470.26 1250.8 L1458.22 1250.8 L1446.18 1250.8 L1434.14 1250.8 L1422.1 1250.8 L1410.06 1250.8 L1398.02 1250.8 L1385.98 1250.8 \n",
       "  L1373.94 1250.8 L1361.9 1250.8 L1349.86 1250.8 L1337.82 1250.8 L1325.78 1250.8 L1313.74 1250.8 L1301.7 1250.8 L1289.66 1250.8 L1277.62 1250.8 L1265.58 1250.8 \n",
       "  L1253.54 1250.8 L1241.5 1250.8 L1229.46 1250.8 L1217.42 1250.8 L1205.38 1250.8 L1193.34 1250.8 L1181.3 1250.8 L1169.26 1250.8 L1157.22 1250.8 L1145.18 1250.8 \n",
       "  L1133.14 1250.8 L1121.1 1250.8 L1109.06 1250.8 L1097.02 1250.8 L1084.98 1250.8 L1072.94 1250.8 L1060.9 1250.8 L1048.86 1250.8 L1036.82 1250.8 L1024.78 1250.8 \n",
       "  L1012.74 1250.8 L1000.7 1250.8 L988.664 1250.8 L976.624 1250.8 L964.584 1250.8 L952.544 1250.8 L940.504 1250.8 L928.464 1250.8 L916.424 1250.8 L904.384 1250.8 \n",
       "  L892.344 1250.8 L880.304 1250.8 L868.264 1250.8 L856.224 1250.8 L844.184 1250.8 L832.144 1250.8 L820.104 1250.8 L808.064 1250.8 L796.024 1250.8 L783.984 1250.8 \n",
       "  L771.944 1250.8 L759.904 1250.8 L747.864 1250.8 L735.824 1250.8 L723.784 1250.8 L711.744 1250.8 L699.704 1250.8 L687.664 1250.8 L675.624 1250.8 L663.584 1250.8 \n",
       "  L651.544 1250.8 L639.504 1250.8 L627.464 1250.8 L615.424 1250.8 L603.384 1250.8 L591.344 1250.8 L579.304 1250.8 L567.264 1250.8 L555.224 1250.8 L543.184 1250.8 \n",
       "   Z\n",
       "  \" fill=\"#5cacee\" fill-rule=\"evenodd\" fill-opacity=\"0.5\"/>\n",
       "<polyline clip-path=\"url(#clip432)\" style=\"stroke:#009af9; stroke-width:16; stroke-opacity:1; fill:none\" points=\"\n",
       "  543.184,1250.77 555.224,1250.75 567.264,1250.73 579.304,1250.7 591.344,1250.65 603.384,1250.57 615.424,1250.46 627.464,1250.31 639.504,1250.09 651.544,1249.79 \n",
       "  663.584,1249.38 675.624,1248.82 687.664,1248.08 699.704,1247.11 711.744,1245.84 723.784,1244.21 735.824,1242.13 747.864,1239.52 759.904,1236.28 771.944,1232.3 \n",
       "  783.984,1227.48 796.024,1221.71 808.064,1214.88 820.104,1206.9 832.144,1197.68 844.184,1187.14 856.224,1175.24 868.264,1161.96 880.304,1147.3 892.344,1131.28 \n",
       "  904.384,1113.96 916.424,1095.41 928.464,1075.71 940.504,1054.96 952.544,1033.27 964.584,1010.71 976.624,987.357 988.664,963.26 1000.7,938.437 1012.74,912.877 \n",
       "  1024.78,886.54 1036.82,859.359 1048.86,831.254 1060.9,802.137 1072.94,771.928 1084.98,740.572 1097.02,708.046 1109.06,674.381 1121.1,639.666 1133.14,604.06 \n",
       "  1145.18,567.793 1157.22,531.168 1169.26,494.55 1181.3,458.364 1193.34,423.076 1205.38,389.18 1217.42,357.181 1229.46,327.577 1241.5,300.839 1253.54,277.396 \n",
       "  1265.58,257.618 1277.62,241.807 1289.66,230.181 1301.7,222.869 1313.74,219.903 1325.78,221.222 1337.82,226.664 1349.86,235.974 1361.9,248.812 1373.94,264.756 \n",
       "  1385.98,283.322 1398.02,303.974 1410.06,326.144 1422.1,349.254 1434.14,372.735 1446.18,396.051 1458.22,418.723 1470.26,440.348 1482.3,460.617 1494.34,479.332 \n",
       "  1506.38,496.41 1518.42,511.89 1530.46,525.925 1542.5,538.773 1554.54,550.775 1566.58,562.339 1578.62,573.906 1590.66,585.922 1602.7,598.81 1614.74,612.939 \n",
       "  1626.78,628.604 1638.82,646.001 1650.86,665.223 1662.9,686.252 1674.94,708.962 1686.98,733.131 1699.02,758.458 1711.06,784.584 1723.1,811.113 1735.14,837.637 \n",
       "  1747.18,863.761 1759.22,889.12 1771.26,913.395 1783.3,936.328 1795.34,957.726 1807.38,977.462 1819.42,995.477 1831.46,1011.77 1843.5,1026.41 1855.54,1039.47 \n",
       "  1867.58,1051.11 1879.62,1061.47 1891.66,1070.72 1903.7,1079.04 1915.74,1086.59 1927.78,1093.55 1939.82,1100.05 1951.86,1106.21 1963.9,1112.13 1975.94,1117.89 \n",
       "  1987.98,1123.53 2000.02,1129.07 2012.06,1134.52 2024.1,1139.85 2036.14,1145.03 2048.18,1150.02 2060.22,1154.77 2072.26,1159.23 2084.3,1163.38 2096.34,1167.18 \n",
       "  2108.38,1170.62 2120.42,1173.72 2132.46,1176.48 2144.5,1178.96 2156.54,1181.19 2168.58,1183.23 2180.62,1185.15 2192.66,1186.98 2204.7,1188.79 2216.74,1190.6 \n",
       "  2228.78,1192.43 2240.82,1194.3 2252.86,1196.18 2264.9,1198.04 2276.94,1199.85 2288.98,1201.56 2301.02,1203.1 2313.06,1204.42 2325.1,1205.47 2337.14,1206.22 \n",
       "  2349.18,1206.64 2361.22,1206.74 2373.26,1206.51 2385.3,1206.01 2397.34,1205.29 2409.38,1204.41 2421.42,1203.46 2433.46,1202.53 2445.5,1201.71 2457.54,1201.08 \n",
       "  2469.58,1200.74 2481.62,1200.74 2493.66,1201.14 2505.7,1201.96 2517.74,1203.21 2529.78,1204.89 2541.82,1206.96 2553.86,1209.38 2565.9,1212.08 2577.94,1215.01 \n",
       "  2589.98,1218.08 2602.02,1221.22 2614.06,1224.36 2626.1,1227.44 2638.14,1230.4 2650.18,1233.18 2662.22,1235.76 2674.26,1238.11 2686.3,1240.21 2698.34,1242.07 \n",
       "  2710.38,1243.69 2722.42,1245.07 2734.46,1246.24 2746.5,1247.21 2758.54,1248.01 2770.58,1248.65 2782.62,1249.17 2794.66,1249.58 2806.7,1249.89 2818.74,1250.13 \n",
       "  2830.78,1250.32 2842.82,1250.46 2854.86,1250.56 2866.9,1250.63 2878.94,1250.68 2890.98,1250.72 2903.02,1250.74 2915.06,1250.76 2927.1,1250.77 2939.14,1250.77 \n",
       "  \n",
       "  \"/>\n",
       "<polyline clip-path=\"url(#clip432)\" style=\"stroke:#e26f46; stroke-width:16; stroke-opacity:1; fill:none\" points=\"\n",
       "  1465.56,2374.49 1465.56,-903.779 \n",
       "  \"/>\n",
       "<polyline clip-path=\"url(#clip432)\" style=\"stroke:#3da44d; stroke-width:16; stroke-opacity:1; fill:none\" points=\"\n",
       "  1442.02,2374.49 1442.02,-903.779 \n",
       "  \"/>\n",
       "<path clip-path=\"url(#clip430)\" d=\"\n",
       "M1979.22 743.856 L2915.02 743.856 L2915.02 260.016 L1979.22 260.016  Z\n",
       "  \" fill=\"#000000\" fill-rule=\"evenodd\" fill-opacity=\"0\"/>\n",
       "<polyline clip-path=\"url(#clip430)\" style=\"stroke:#000000; stroke-width:16; stroke-opacity:0; fill:none\" points=\"\n",
       "  1979.22,743.856 2915.02,743.856 2915.02,260.016 1979.22,260.016 1979.22,743.856 \n",
       "  \"/>\n",
       "<path clip-path=\"url(#clip430)\" d=\"\n",
       "M2011.22 429.36 L2203.22 429.36 L2203.22 332.592 L2011.22 332.592 L2011.22 429.36  Z\n",
       "  \" fill=\"#5cacee\" fill-rule=\"evenodd\" fill-opacity=\"0.5\"/>\n",
       "<polyline clip-path=\"url(#clip430)\" style=\"stroke:#009af9; stroke-width:16; stroke-opacity:1; fill:none\" points=\"\n",
       "  2011.22,332.592 2203.22,332.592 \n",
       "  \"/>\n",
       "<g clip-path=\"url(#clip430)\">\n",
       "<text style=\"fill:#000000; fill-opacity:1; font-family:Symbol; font-size:103px; text-anchor:start;\" transform=\"rotate(0, 2235.22, 396.788)\" x=\"2235.22\" y=\"396.788\">δ</text>\n",
       "</g>\n",
       "<g clip-path=\"url(#clip430)\">\n",
       "<text style=\"fill:#000000; fill-opacity:1; font-family:Arial,Helvetica Neue,Helvetica,sans-serif; font-size:77px; text-anchor:start;\" transform=\"rotate(0, 2286.42, 424.047)\" x=\"2286.42\" y=\"424.047\">s</text>\n",
       "</g>\n",
       "<polyline clip-path=\"url(#clip430)\" style=\"stroke:#e26f46; stroke-width:16; stroke-opacity:1; fill:none\" points=\"\n",
       "  2011.22,501.936 2203.22,501.936 \n",
       "  \"/>\n",
       "<g clip-path=\"url(#clip430)\">\n",
       "<text style=\"fill:#000000; fill-opacity:1; font-family:Arial,Helvetica Neue,Helvetica,sans-serif; font-size:95px; text-anchor:start;\" transform=\"rotate(0, 2235.22, 529.239)\" x=\"2235.22\" y=\"529.239\">True </text>\n",
       "</g>\n",
       "<g clip-path=\"url(#clip430)\">\n",
       "<text style=\"fill:#000000; fill-opacity:1; font-family:Symbol; font-size:103px; text-anchor:start;\" transform=\"rotate(0, 2459.91, 529.239)\" x=\"2459.91\" y=\"529.239\">δ</text>\n",
       "</g>\n",
       "<g clip-path=\"url(#clip430)\">\n",
       "<text style=\"fill:#000000; fill-opacity:1; font-family:Arial,Helvetica Neue,Helvetica,sans-serif; font-size:95px; text-anchor:start;\" transform=\"rotate(0, 2511.1, 529.239)\" x=\"2511.1\" y=\"529.239\"> = 6</text>\n",
       "</g>\n",
       "<polyline clip-path=\"url(#clip430)\" style=\"stroke:#3da44d; stroke-width:16; stroke-opacity:1; fill:none\" points=\"\n",
       "  2011.22,622.896 2203.22,622.896 \n",
       "  \"/>\n",
       "<g clip-path=\"url(#clip430)\">\n",
       "<text style=\"fill:#000000; fill-opacity:1; font-family:Arial,Helvetica Neue,Helvetica,sans-serif; font-size:95px; text-anchor:start;\" transform=\"rotate(0, 2235.22, 650.199)\" x=\"2235.22\" y=\"650.199\">Mean </text>\n",
       "</g>\n",
       "<g clip-path=\"url(#clip430)\">\n",
       "<text style=\"fill:#000000; fill-opacity:1; font-family:Symbol; font-size:103px; text-anchor:start;\" transform=\"rotate(0, 2502.75, 650.199)\" x=\"2502.75\" y=\"650.199\">δ</text>\n",
       "</g>\n",
       "<g clip-path=\"url(#clip430)\">\n",
       "<text style=\"fill:#000000; fill-opacity:1; font-family:Arial,Helvetica Neue,Helvetica,sans-serif; font-size:95px; text-anchor:start;\" transform=\"rotate(0, 2553.94, 650.199)\" x=\"2553.94\" y=\"650.199\"> = 5.86</text>\n",
       "</g>\n",
       "</svg>\n"
      ]
     },
     "execution_count": 331,
     "metadata": {},
     "output_type": "execute_result"
    }
   ],
   "source": [
    "# δ\n",
    "fig = density(params_sim[:, :δ], fill=(0, .5,:steelblue2), lab=\"\\\\delta_s\",  \n",
    "        linecolor=:match, linewidth=1)\n",
    "plot!(collect(δ), seriestype=\"vline\", \n",
    "        lab=\"True \\\\delta = \" * string(δ), \n",
    "        linewidth=1)\n",
    "plot!(collect(mean(params_sim.δ)), seriestype=\"vline\", \n",
    "        lab=\"Mean \\\\delta = \" * string(round(mean(params_sim.δ), digits=2)),\n",
    "        linewidth=1, legendfont=font(4), xtickfont=font(4), ytickfont=font(4),\n",
    "        foreground_color_legend=nothing, background_color_legend=nothing, grid=false)\n",
    "plot!(size=(200,100))\n",
    "savefig(\"1_3_3_delta.png\");\n",
    "fig"
   ]
  },
  {
   "cell_type": "markdown",
   "metadata": {},
   "source": [
    "<br><br><br><br><br>\n",
    "\n",
    "### 1.3.4 - All-Strategies Estimation\n",
    "\n",
    "We now allow the equilibria to be chosen randomly (the firms know the strategy that is chosen, but we do not)."
   ]
  },
  {
   "cell_type": "markdown",
   "metadata": {},
   "source": [
    "##### Generate data"
   ]
  },
  {
   "cell_type": "code",
   "execution_count": 408,
   "metadata": {},
   "outputs": [],
   "source": [
    "# Model k ∈ {1,...,K} with prob exp(k/2)\n",
    "eq_opts = eq_vec[:,2]\n",
    "eq_probs = exp.([1, 2, 3]./2) ./ sum(exp.([1, 2, 3]./2))\n",
    "\n",
    "# Function to map x, equilibrium, and player number to other player's strat\n",
    "eq_map = function(x, eq, player)\n",
    "    x = convert(Int64, x)\n",
    "    return eq_opts[x][eq,player]\n",
    "end\n",
    "\n",
    "# Set up parameters\n",
    "α=3; δ=6\n",
    "T=1000; S=50\n",
    "\n",
    "# Create simulation data\n",
    "dt = DataFrame(t = repeat(1:T, outer = S), s = repeat(1:S, inner = T))\n",
    "dt.x = repeat(rand(Binomial(1,0.5), T) .+ Ref(1.0), outer = S)\n",
    "dt.ϵ_1 = rand(Logistic(0,1), S*T)\n",
    "dt.ϵ_2 = rand(Logistic(0,1), S*T)\n",
    "dt.eq = rand(Categorical(eq_probs), S*T)\n",
    "dt.y_1 = 1.0.*(α*dt.x .- δ*eq_map.(dt.x, dt.eq, 2) .+ dt.ϵ_1 .>= 0)\n",
    "dt.y_2 = 1.0.*(α*dt.x .- δ*eq_map.(dt.x, dt.eq, 1) .+ dt.ϵ_1 .>= 0);"
   ]
  },
  {
   "cell_type": "markdown",
   "metadata": {},
   "source": [
    "First, we can check how the MLE estimator from the previous section performs:"
   ]
  },
  {
   "cell_type": "code",
   "execution_count": 409,
   "metadata": {},
   "outputs": [
    {
     "name": "stdout",
     "output_type": "stream",
     "text": [
      "Iters:  1 2 3 4 5 6 7 8 9 10 11 12 13 14 15 16 17 18 19 20 21 22 23 24 25 26 27 28 29 30 31 32 33 34 35 36 37 38 39 40 41 42 43 44 45 46 47 48 49 50 \n",
      "Mean α is 3.107432914229756\n",
      "Mean δ is 6.310282024252246\n"
     ]
    }
   ],
   "source": [
    "# Loop over simulation draws\n",
    "params_sim = DataFrame(α= fill(0.0, S), δ= fill(0.0, S))\n",
    "print(\"Iters: \")\n",
    "for s in 1:nrow(params_sim)\n",
    "    dt_sim = copy(dt[dt[:s].==s,:]);\n",
    "    # res = optimize(ll_optim, [1.0, 1.0])\n",
    "    res = optimize(ll_optim, ll_grad_optim, [1.0,1.0], BFGS())\n",
    "    params_sim[s, [:α, :δ]] = res.minimizer\n",
    "    print(\" \" * string(s))\n",
    "end\n",
    "params_sim\n",
    "\n",
    "println(\" \")\n",
    "println(\"Mean α is \" * string(mean(params_sim.α)))\n",
    "println(\"Mean δ is \" * string(mean(params_sim.δ)))"
   ]
  },
  {
   "cell_type": "code",
   "execution_count": 410,
   "metadata": {},
   "outputs": [
    {
     "data": {
      "image/svg+xml": [
       "<?xml version=\"1.0\" encoding=\"utf-8\"?>\n",
       "<svg xmlns=\"http://www.w3.org/2000/svg\" xmlns:xlink=\"http://www.w3.org/1999/xlink\" width=\"800\" height=\"400\" viewBox=\"0 0 3200 1600\">\n",
       "<defs>\n",
       "  <clipPath id=\"clip480\">\n",
       "    <rect x=\"0\" y=\"0\" width=\"3200\" height=\"1600\"/>\n",
       "  </clipPath>\n",
       "</defs>\n",
       "<path clip-path=\"url(#clip480)\" d=\"\n",
       "M0 1600 L3200 1600 L3200 0 L0 0  Z\n",
       "  \" fill=\"#ffffff\" fill-rule=\"evenodd\" fill-opacity=\"1\"/>\n",
       "<defs>\n",
       "  <clipPath id=\"clip481\">\n",
       "    <rect x=\"640\" y=\"0\" width=\"2241\" height=\"1600\"/>\n",
       "  </clipPath>\n",
       "</defs>\n",
       "<path clip-path=\"url(#clip480)\" d=\"\n",
       "M417.78 1281.73 L3011.02 1281.73 L3011.02 188.976 L417.78 188.976  Z\n",
       "  \" fill=\"#ffffff\" fill-rule=\"evenodd\" fill-opacity=\"1\"/>\n",
       "<defs>\n",
       "  <clipPath id=\"clip482\">\n",
       "    <rect x=\"417\" y=\"188\" width=\"2594\" height=\"1094\"/>\n",
       "  </clipPath>\n",
       "</defs>\n",
       "<polyline clip-path=\"url(#clip480)\" style=\"stroke:#000000; stroke-width:16; stroke-opacity:1; fill:none\" points=\"\n",
       "  417.78,1281.73 3011.02,1281.73 \n",
       "  \"/>\n",
       "<polyline clip-path=\"url(#clip480)\" style=\"stroke:#000000; stroke-width:16; stroke-opacity:1; fill:none\" points=\"\n",
       "  417.78,1281.73 417.78,188.976 \n",
       "  \"/>\n",
       "<polyline clip-path=\"url(#clip480)\" style=\"stroke:#000000; stroke-width:16; stroke-opacity:1; fill:none\" points=\"\n",
       "  542.231,1281.73 542.231,1268.62 \n",
       "  \"/>\n",
       "<polyline clip-path=\"url(#clip480)\" style=\"stroke:#000000; stroke-width:16; stroke-opacity:1; fill:none\" points=\"\n",
       "  1037.96,1281.73 1037.96,1268.62 \n",
       "  \"/>\n",
       "<polyline clip-path=\"url(#clip480)\" style=\"stroke:#000000; stroke-width:16; stroke-opacity:1; fill:none\" points=\"\n",
       "  1533.68,1281.73 1533.68,1268.62 \n",
       "  \"/>\n",
       "<polyline clip-path=\"url(#clip480)\" style=\"stroke:#000000; stroke-width:16; stroke-opacity:1; fill:none\" points=\"\n",
       "  2029.4,1281.73 2029.4,1268.62 \n",
       "  \"/>\n",
       "<polyline clip-path=\"url(#clip480)\" style=\"stroke:#000000; stroke-width:16; stroke-opacity:1; fill:none\" points=\"\n",
       "  2525.13,1281.73 2525.13,1268.62 \n",
       "  \"/>\n",
       "<polyline clip-path=\"url(#clip480)\" style=\"stroke:#000000; stroke-width:16; stroke-opacity:1; fill:none\" points=\"\n",
       "  417.78,1250.8 448.899,1250.8 \n",
       "  \"/>\n",
       "<polyline clip-path=\"url(#clip480)\" style=\"stroke:#000000; stroke-width:16; stroke-opacity:1; fill:none\" points=\"\n",
       "  417.78,1065.2 448.899,1065.2 \n",
       "  \"/>\n",
       "<polyline clip-path=\"url(#clip480)\" style=\"stroke:#000000; stroke-width:16; stroke-opacity:1; fill:none\" points=\"\n",
       "  417.78,879.592 448.899,879.592 \n",
       "  \"/>\n",
       "<polyline clip-path=\"url(#clip480)\" style=\"stroke:#000000; stroke-width:16; stroke-opacity:1; fill:none\" points=\"\n",
       "  417.78,693.986 448.899,693.986 \n",
       "  \"/>\n",
       "<polyline clip-path=\"url(#clip480)\" style=\"stroke:#000000; stroke-width:16; stroke-opacity:1; fill:none\" points=\"\n",
       "  417.78,508.379 448.899,508.379 \n",
       "  \"/>\n",
       "<polyline clip-path=\"url(#clip480)\" style=\"stroke:#000000; stroke-width:16; stroke-opacity:1; fill:none\" points=\"\n",
       "  417.78,322.773 448.899,322.773 \n",
       "  \"/>\n",
       "<g clip-path=\"url(#clip480)\">\n",
       "<text style=\"fill:#000000; fill-opacity:1; font-family:Arial,Helvetica Neue,Helvetica,sans-serif; font-size:95px; text-anchor:middle;\" transform=\"rotate(0, 542.231, 1380.53)\" x=\"542.231\" y=\"1380.53\">1</text>\n",
       "</g>\n",
       "<g clip-path=\"url(#clip480)\">\n",
       "<text style=\"fill:#000000; fill-opacity:1; font-family:Arial,Helvetica Neue,Helvetica,sans-serif; font-size:95px; text-anchor:middle;\" transform=\"rotate(0, 1037.96, 1380.53)\" x=\"1037.96\" y=\"1380.53\">2</text>\n",
       "</g>\n",
       "<g clip-path=\"url(#clip480)\">\n",
       "<text style=\"fill:#000000; fill-opacity:1; font-family:Arial,Helvetica Neue,Helvetica,sans-serif; font-size:95px; text-anchor:middle;\" transform=\"rotate(0, 1533.68, 1380.53)\" x=\"1533.68\" y=\"1380.53\">3</text>\n",
       "</g>\n",
       "<g clip-path=\"url(#clip480)\">\n",
       "<text style=\"fill:#000000; fill-opacity:1; font-family:Arial,Helvetica Neue,Helvetica,sans-serif; font-size:95px; text-anchor:middle;\" transform=\"rotate(0, 2029.4, 1380.53)\" x=\"2029.4\" y=\"1380.53\">4</text>\n",
       "</g>\n",
       "<g clip-path=\"url(#clip480)\">\n",
       "<text style=\"fill:#000000; fill-opacity:1; font-family:Arial,Helvetica Neue,Helvetica,sans-serif; font-size:95px; text-anchor:middle;\" transform=\"rotate(0, 2525.13, 1380.53)\" x=\"2525.13\" y=\"1380.53\">5</text>\n",
       "</g>\n",
       "<g clip-path=\"url(#clip480)\">\n",
       "<text style=\"fill:#000000; fill-opacity:1; font-family:Arial,Helvetica Neue,Helvetica,sans-serif; font-size:95px; text-anchor:end;\" transform=\"rotate(0, 385.78, 1285.3)\" x=\"385.78\" y=\"1285.3\">0.0</text>\n",
       "</g>\n",
       "<g clip-path=\"url(#clip480)\">\n",
       "<text style=\"fill:#000000; fill-opacity:1; font-family:Arial,Helvetica Neue,Helvetica,sans-serif; font-size:95px; text-anchor:end;\" transform=\"rotate(0, 385.78, 1099.7)\" x=\"385.78\" y=\"1099.7\">0.1</text>\n",
       "</g>\n",
       "<g clip-path=\"url(#clip480)\">\n",
       "<text style=\"fill:#000000; fill-opacity:1; font-family:Arial,Helvetica Neue,Helvetica,sans-serif; font-size:95px; text-anchor:end;\" transform=\"rotate(0, 385.78, 914.092)\" x=\"385.78\" y=\"914.092\">0.2</text>\n",
       "</g>\n",
       "<g clip-path=\"url(#clip480)\">\n",
       "<text style=\"fill:#000000; fill-opacity:1; font-family:Arial,Helvetica Neue,Helvetica,sans-serif; font-size:95px; text-anchor:end;\" transform=\"rotate(0, 385.78, 728.486)\" x=\"385.78\" y=\"728.486\">0.3</text>\n",
       "</g>\n",
       "<g clip-path=\"url(#clip480)\">\n",
       "<text style=\"fill:#000000; fill-opacity:1; font-family:Arial,Helvetica Neue,Helvetica,sans-serif; font-size:95px; text-anchor:end;\" transform=\"rotate(0, 385.78, 542.879)\" x=\"385.78\" y=\"542.879\">0.4</text>\n",
       "</g>\n",
       "<g clip-path=\"url(#clip480)\">\n",
       "<text style=\"fill:#000000; fill-opacity:1; font-family:Arial,Helvetica Neue,Helvetica,sans-serif; font-size:95px; text-anchor:end;\" transform=\"rotate(0, 385.78, 357.273)\" x=\"385.78\" y=\"357.273\">0.5</text>\n",
       "</g>\n",
       "<path clip-path=\"url(#clip482)\" d=\"\n",
       "M491.174 1250.75 L503.468 1250.73 L515.761 1250.71 L528.055 1250.68 L540.349 1250.63 L552.643 1250.56 L564.936 1250.47 L577.23 1250.35 L589.524 1250.19 L601.818 1249.98 \n",
       "  L614.111 1249.71 L626.405 1249.35 L638.699 1248.9 L650.993 1248.31 L663.286 1247.58 L675.58 1246.65 L687.874 1245.5 L700.168 1244.07 L712.461 1242.33 L724.755 1240.2 \n",
       "  L737.049 1237.63 L749.343 1234.56 L761.636 1230.91 L773.93 1226.6 L786.224 1221.56 L798.518 1215.71 L810.811 1208.97 L823.105 1201.26 L835.399 1192.51 L847.693 1182.65 \n",
       "  L859.986 1171.63 L872.28 1159.39 L884.574 1145.91 L896.868 1131.14 L909.161 1115.09 L921.455 1097.77 L933.749 1079.18 L946.043 1059.37 L958.336 1038.38 L970.63 1016.27 \n",
       "  L982.924 993.109 L995.218 968.971 L1007.51 943.938 L1019.81 918.094 L1032.1 891.524 L1044.39 864.314 L1056.69 836.543 L1068.98 808.292 L1081.27 779.635 L1093.57 750.643 \n",
       "  L1105.86 721.388 L1118.16 691.939 L1130.45 662.366 L1142.74 632.743 L1155.04 603.152 L1167.33 573.681 L1179.62 544.43 L1191.92 515.51 L1204.21 487.047 L1216.51 459.179 \n",
       "  L1228.8 432.057 L1241.09 405.842 L1253.39 380.708 L1265.68 356.831 L1277.97 334.389 L1290.27 313.559 L1302.56 294.51 L1314.86 277.396 L1327.15 262.354 L1339.44 249.498 \n",
       "  L1351.74 238.915 L1364.03 230.66 L1376.32 224.755 L1388.62 221.186 L1400.91 219.903 L1413.21 220.824 L1425.5 223.831 L1437.79 228.78 L1450.09 235.5 L1462.38 243.803 \n",
       "  L1474.67 253.487 L1486.97 264.345 L1499.26 276.169 L1511.56 288.758 L1523.85 301.924 L1536.14 315.495 L1548.44 329.323 L1560.73 343.282 L1573.02 357.274 L1585.32 371.225 \n",
       "  L1597.61 385.086 L1609.91 398.831 L1622.2 412.451 L1634.49 425.955 L1646.79 439.358 L1659.08 452.683 L1671.37 465.954 L1683.67 479.189 L1695.96 492.403 L1708.26 505.598 \n",
       "  L1720.55 518.77 L1732.84 531.901 L1745.14 544.963 L1757.43 557.92 L1769.72 570.729 L1782.02 583.345 L1794.31 595.721 L1806.61 607.812 L1818.9 619.581 L1831.19 630.997 \n",
       "  L1843.49 642.041 L1855.78 652.705 L1868.07 662.992 L1880.37 672.919 L1892.66 682.513 L1904.96 691.81 L1917.25 700.856 L1929.54 709.7 L1941.84 718.394 L1954.13 726.994 \n",
       "  L1966.42 735.55 L1978.72 744.112 L1991.01 752.724 L2003.31 761.424 L2015.6 770.244 L2027.89 779.209 L2040.19 788.34 L2052.48 797.649 L2064.77 807.146 L2077.07 816.836 \n",
       "  L2089.36 826.72 L2101.66 836.798 L2113.95 847.069 L2126.24 857.528 L2138.54 868.172 L2150.83 878.996 L2163.12 889.995 L2175.42 901.164 L2187.71 912.494 L2200 923.977 \n",
       "  L2212.3 935.601 L2224.59 947.355 L2236.89 959.223 L2249.18 971.187 L2261.47 983.226 L2273.77 995.317 L2286.06 1007.44 L2298.35 1019.55 L2310.65 1031.64 L2322.94 1043.66 \n",
       "  L2335.24 1055.58 L2347.53 1067.37 L2359.82 1078.99 L2372.12 1090.4 L2384.41 1101.58 L2396.7 1112.48 L2409 1123.06 L2421.29 1133.3 L2433.59 1143.16 L2445.88 1152.61 \n",
       "  L2458.17 1161.63 L2470.47 1170.19 L2482.76 1178.27 L2495.05 1185.87 L2507.35 1192.96 L2519.64 1199.54 L2531.94 1205.62 L2544.23 1211.2 L2556.52 1216.28 L2568.82 1220.88 \n",
       "  L2581.11 1225.02 L2593.4 1228.72 L2605.7 1232.01 L2617.99 1234.9 L2630.29 1237.43 L2642.58 1239.64 L2654.87 1241.54 L2667.17 1243.16 L2679.46 1244.54 L2691.75 1245.71 \n",
       "  L2704.05 1246.69 L2716.34 1247.5 L2728.64 1248.17 L2740.93 1248.72 L2753.22 1249.16 L2765.52 1249.52 L2777.81 1249.81 L2790.1 1250.04 L2802.4 1250.22 L2814.69 1250.36 \n",
       "  L2826.99 1250.47 L2839.28 1250.55 L2851.57 1250.62 L2863.87 1250.66 L2876.16 1250.7 L2888.45 1250.73 L2900.75 1250.74 L2913.04 1250.75 L2925.34 1250.76 L2937.63 1250.76 \n",
       "  L2937.63 1250.8 L2925.34 1250.8 L2913.04 1250.8 L2900.75 1250.8 L2888.45 1250.8 L2876.16 1250.8 L2863.87 1250.8 L2851.57 1250.8 L2839.28 1250.8 L2826.99 1250.8 \n",
       "  L2814.69 1250.8 L2802.4 1250.8 L2790.1 1250.8 L2777.81 1250.8 L2765.52 1250.8 L2753.22 1250.8 L2740.93 1250.8 L2728.64 1250.8 L2716.34 1250.8 L2704.05 1250.8 \n",
       "  L2691.75 1250.8 L2679.46 1250.8 L2667.17 1250.8 L2654.87 1250.8 L2642.58 1250.8 L2630.29 1250.8 L2617.99 1250.8 L2605.7 1250.8 L2593.4 1250.8 L2581.11 1250.8 \n",
       "  L2568.82 1250.8 L2556.52 1250.8 L2544.23 1250.8 L2531.94 1250.8 L2519.64 1250.8 L2507.35 1250.8 L2495.05 1250.8 L2482.76 1250.8 L2470.47 1250.8 L2458.17 1250.8 \n",
       "  L2445.88 1250.8 L2433.59 1250.8 L2421.29 1250.8 L2409 1250.8 L2396.7 1250.8 L2384.41 1250.8 L2372.12 1250.8 L2359.82 1250.8 L2347.53 1250.8 L2335.24 1250.8 \n",
       "  L2322.94 1250.8 L2310.65 1250.8 L2298.35 1250.8 L2286.06 1250.8 L2273.77 1250.8 L2261.47 1250.8 L2249.18 1250.8 L2236.89 1250.8 L2224.59 1250.8 L2212.3 1250.8 \n",
       "  L2200 1250.8 L2187.71 1250.8 L2175.42 1250.8 L2163.12 1250.8 L2150.83 1250.8 L2138.54 1250.8 L2126.24 1250.8 L2113.95 1250.8 L2101.66 1250.8 L2089.36 1250.8 \n",
       "  L2077.07 1250.8 L2064.77 1250.8 L2052.48 1250.8 L2040.19 1250.8 L2027.89 1250.8 L2015.6 1250.8 L2003.31 1250.8 L1991.01 1250.8 L1978.72 1250.8 L1966.42 1250.8 \n",
       "  L1954.13 1250.8 L1941.84 1250.8 L1929.54 1250.8 L1917.25 1250.8 L1904.96 1250.8 L1892.66 1250.8 L1880.37 1250.8 L1868.07 1250.8 L1855.78 1250.8 L1843.49 1250.8 \n",
       "  L1831.19 1250.8 L1818.9 1250.8 L1806.61 1250.8 L1794.31 1250.8 L1782.02 1250.8 L1769.72 1250.8 L1757.43 1250.8 L1745.14 1250.8 L1732.84 1250.8 L1720.55 1250.8 \n",
       "  L1708.26 1250.8 L1695.96 1250.8 L1683.67 1250.8 L1671.37 1250.8 L1659.08 1250.8 L1646.79 1250.8 L1634.49 1250.8 L1622.2 1250.8 L1609.91 1250.8 L1597.61 1250.8 \n",
       "  L1585.32 1250.8 L1573.02 1250.8 L1560.73 1250.8 L1548.44 1250.8 L1536.14 1250.8 L1523.85 1250.8 L1511.56 1250.8 L1499.26 1250.8 L1486.97 1250.8 L1474.67 1250.8 \n",
       "  L1462.38 1250.8 L1450.09 1250.8 L1437.79 1250.8 L1425.5 1250.8 L1413.21 1250.8 L1400.91 1250.8 L1388.62 1250.8 L1376.32 1250.8 L1364.03 1250.8 L1351.74 1250.8 \n",
       "  L1339.44 1250.8 L1327.15 1250.8 L1314.86 1250.8 L1302.56 1250.8 L1290.27 1250.8 L1277.97 1250.8 L1265.68 1250.8 L1253.39 1250.8 L1241.09 1250.8 L1228.8 1250.8 \n",
       "  L1216.51 1250.8 L1204.21 1250.8 L1191.92 1250.8 L1179.62 1250.8 L1167.33 1250.8 L1155.04 1250.8 L1142.74 1250.8 L1130.45 1250.8 L1118.16 1250.8 L1105.86 1250.8 \n",
       "  L1093.57 1250.8 L1081.27 1250.8 L1068.98 1250.8 L1056.69 1250.8 L1044.39 1250.8 L1032.1 1250.8 L1019.81 1250.8 L1007.51 1250.8 L995.218 1250.8 L982.924 1250.8 \n",
       "  L970.63 1250.8 L958.336 1250.8 L946.043 1250.8 L933.749 1250.8 L921.455 1250.8 L909.161 1250.8 L896.868 1250.8 L884.574 1250.8 L872.28 1250.8 L859.986 1250.8 \n",
       "  L847.693 1250.8 L835.399 1250.8 L823.105 1250.8 L810.811 1250.8 L798.518 1250.8 L786.224 1250.8 L773.93 1250.8 L761.636 1250.8 L749.343 1250.8 L737.049 1250.8 \n",
       "  L724.755 1250.8 L712.461 1250.8 L700.168 1250.8 L687.874 1250.8 L675.58 1250.8 L663.286 1250.8 L650.993 1250.8 L638.699 1250.8 L626.405 1250.8 L614.111 1250.8 \n",
       "  L601.818 1250.8 L589.524 1250.8 L577.23 1250.8 L564.936 1250.8 L552.643 1250.8 L540.349 1250.8 L528.055 1250.8 L515.761 1250.8 L503.468 1250.8 L491.174 1250.8 \n",
       "   Z\n",
       "  \" fill=\"#5cacee\" fill-rule=\"evenodd\" fill-opacity=\"0.5\"/>\n",
       "<polyline clip-path=\"url(#clip482)\" style=\"stroke:#009af9; stroke-width:16; stroke-opacity:1; fill:none\" points=\"\n",
       "  491.174,1250.75 503.468,1250.73 515.761,1250.71 528.055,1250.68 540.349,1250.63 552.643,1250.56 564.936,1250.47 577.23,1250.35 589.524,1250.19 601.818,1249.98 \n",
       "  614.111,1249.71 626.405,1249.35 638.699,1248.9 650.993,1248.31 663.286,1247.58 675.58,1246.65 687.874,1245.5 700.168,1244.07 712.461,1242.33 724.755,1240.2 \n",
       "  737.049,1237.63 749.343,1234.56 761.636,1230.91 773.93,1226.6 786.224,1221.56 798.518,1215.71 810.811,1208.97 823.105,1201.26 835.399,1192.51 847.693,1182.65 \n",
       "  859.986,1171.63 872.28,1159.39 884.574,1145.91 896.868,1131.14 909.161,1115.09 921.455,1097.77 933.749,1079.18 946.043,1059.37 958.336,1038.38 970.63,1016.27 \n",
       "  982.924,993.109 995.218,968.971 1007.51,943.938 1019.81,918.094 1032.1,891.524 1044.39,864.314 1056.69,836.543 1068.98,808.292 1081.27,779.635 1093.57,750.643 \n",
       "  1105.86,721.388 1118.16,691.939 1130.45,662.366 1142.74,632.743 1155.04,603.152 1167.33,573.681 1179.62,544.43 1191.92,515.51 1204.21,487.047 1216.51,459.179 \n",
       "  1228.8,432.057 1241.09,405.842 1253.39,380.708 1265.68,356.831 1277.97,334.389 1290.27,313.559 1302.56,294.51 1314.86,277.396 1327.15,262.354 1339.44,249.498 \n",
       "  1351.74,238.915 1364.03,230.66 1376.32,224.755 1388.62,221.186 1400.91,219.903 1413.21,220.824 1425.5,223.831 1437.79,228.78 1450.09,235.5 1462.38,243.803 \n",
       "  1474.67,253.487 1486.97,264.345 1499.26,276.169 1511.56,288.758 1523.85,301.924 1536.14,315.495 1548.44,329.323 1560.73,343.282 1573.02,357.274 1585.32,371.225 \n",
       "  1597.61,385.086 1609.91,398.831 1622.2,412.451 1634.49,425.955 1646.79,439.358 1659.08,452.683 1671.37,465.954 1683.67,479.189 1695.96,492.403 1708.26,505.598 \n",
       "  1720.55,518.77 1732.84,531.901 1745.14,544.963 1757.43,557.92 1769.72,570.729 1782.02,583.345 1794.31,595.721 1806.61,607.812 1818.9,619.581 1831.19,630.997 \n",
       "  1843.49,642.041 1855.78,652.705 1868.07,662.992 1880.37,672.919 1892.66,682.513 1904.96,691.81 1917.25,700.856 1929.54,709.7 1941.84,718.394 1954.13,726.994 \n",
       "  1966.42,735.55 1978.72,744.112 1991.01,752.724 2003.31,761.424 2015.6,770.244 2027.89,779.209 2040.19,788.34 2052.48,797.649 2064.77,807.146 2077.07,816.836 \n",
       "  2089.36,826.72 2101.66,836.798 2113.95,847.069 2126.24,857.528 2138.54,868.172 2150.83,878.996 2163.12,889.995 2175.42,901.164 2187.71,912.494 2200,923.977 \n",
       "  2212.3,935.601 2224.59,947.355 2236.89,959.223 2249.18,971.187 2261.47,983.226 2273.77,995.317 2286.06,1007.44 2298.35,1019.55 2310.65,1031.64 2322.94,1043.66 \n",
       "  2335.24,1055.58 2347.53,1067.37 2359.82,1078.99 2372.12,1090.4 2384.41,1101.58 2396.7,1112.48 2409,1123.06 2421.29,1133.3 2433.59,1143.16 2445.88,1152.61 \n",
       "  2458.17,1161.63 2470.47,1170.19 2482.76,1178.27 2495.05,1185.87 2507.35,1192.96 2519.64,1199.54 2531.94,1205.62 2544.23,1211.2 2556.52,1216.28 2568.82,1220.88 \n",
       "  2581.11,1225.02 2593.4,1228.72 2605.7,1232.01 2617.99,1234.9 2630.29,1237.43 2642.58,1239.64 2654.87,1241.54 2667.17,1243.16 2679.46,1244.54 2691.75,1245.71 \n",
       "  2704.05,1246.69 2716.34,1247.5 2728.64,1248.17 2740.93,1248.72 2753.22,1249.16 2765.52,1249.52 2777.81,1249.81 2790.1,1250.04 2802.4,1250.22 2814.69,1250.36 \n",
       "  2826.99,1250.47 2839.28,1250.55 2851.57,1250.62 2863.87,1250.66 2876.16,1250.7 2888.45,1250.73 2900.75,1250.74 2913.04,1250.75 2925.34,1250.76 2937.63,1250.76 \n",
       "  \n",
       "  \"/>\n",
       "<polyline clip-path=\"url(#clip482)\" style=\"stroke:#e26f46; stroke-width:16; stroke-opacity:1; fill:none\" points=\"\n",
       "  1533.68,2374.49 1533.68,-903.779 \n",
       "  \"/>\n",
       "<polyline clip-path=\"url(#clip482)\" style=\"stroke:#3da44d; stroke-width:16; stroke-opacity:1; fill:none\" points=\"\n",
       "  1586.94,2374.49 1586.94,-903.779 \n",
       "  \"/>\n",
       "<path clip-path=\"url(#clip480)\" d=\"\n",
       "M1965.03 743.856 L2915.02 743.856 L2915.02 260.016 L1965.03 260.016  Z\n",
       "  \" fill=\"#000000\" fill-rule=\"evenodd\" fill-opacity=\"0\"/>\n",
       "<polyline clip-path=\"url(#clip480)\" style=\"stroke:#000000; stroke-width:16; stroke-opacity:0; fill:none\" points=\"\n",
       "  1965.03,743.856 2915.02,743.856 2915.02,260.016 1965.03,260.016 1965.03,743.856 \n",
       "  \"/>\n",
       "<path clip-path=\"url(#clip480)\" d=\"\n",
       "M1997.03 429.36 L2189.03 429.36 L2189.03 332.592 L1997.03 332.592 L1997.03 429.36  Z\n",
       "  \" fill=\"#5cacee\" fill-rule=\"evenodd\" fill-opacity=\"0.5\"/>\n",
       "<polyline clip-path=\"url(#clip480)\" style=\"stroke:#009af9; stroke-width:16; stroke-opacity:1; fill:none\" points=\"\n",
       "  1997.03,332.592 2189.03,332.592 \n",
       "  \"/>\n",
       "<g clip-path=\"url(#clip480)\">\n",
       "<text style=\"fill:#000000; fill-opacity:1; font-family:Symbol; font-size:103px; text-anchor:start;\" transform=\"rotate(0, 2221.03, 396.788)\" x=\"2221.03\" y=\"396.788\">α</text>\n",
       "</g>\n",
       "<g clip-path=\"url(#clip480)\">\n",
       "<text style=\"fill:#000000; fill-opacity:1; font-family:Arial,Helvetica Neue,Helvetica,sans-serif; font-size:77px; text-anchor:start;\" transform=\"rotate(0, 2286.42, 424.047)\" x=\"2286.42\" y=\"424.047\">s</text>\n",
       "</g>\n",
       "<polyline clip-path=\"url(#clip480)\" style=\"stroke:#e26f46; stroke-width:16; stroke-opacity:1; fill:none\" points=\"\n",
       "  1997.03,501.936 2189.03,501.936 \n",
       "  \"/>\n",
       "<g clip-path=\"url(#clip480)\">\n",
       "<text style=\"fill:#000000; fill-opacity:1; font-family:Arial,Helvetica Neue,Helvetica,sans-serif; font-size:95px; text-anchor:start;\" transform=\"rotate(0, 2221.03, 529.239)\" x=\"2221.03\" y=\"529.239\">True </text>\n",
       "</g>\n",
       "<g clip-path=\"url(#clip480)\">\n",
       "<text style=\"fill:#000000; fill-opacity:1; font-family:Symbol; font-size:103px; text-anchor:start;\" transform=\"rotate(0, 2445.71, 529.239)\" x=\"2445.71\" y=\"529.239\">α</text>\n",
       "</g>\n",
       "<g clip-path=\"url(#clip480)\">\n",
       "<text style=\"fill:#000000; fill-opacity:1; font-family:Arial,Helvetica Neue,Helvetica,sans-serif; font-size:95px; text-anchor:start;\" transform=\"rotate(0, 2511.1, 529.239)\" x=\"2511.1\" y=\"529.239\"> = 3</text>\n",
       "</g>\n",
       "<polyline clip-path=\"url(#clip480)\" style=\"stroke:#3da44d; stroke-width:16; stroke-opacity:1; fill:none\" points=\"\n",
       "  1997.03,622.896 2189.03,622.896 \n",
       "  \"/>\n",
       "<g clip-path=\"url(#clip480)\">\n",
       "<text style=\"fill:#000000; fill-opacity:1; font-family:Arial,Helvetica Neue,Helvetica,sans-serif; font-size:95px; text-anchor:start;\" transform=\"rotate(0, 2221.03, 650.199)\" x=\"2221.03\" y=\"650.199\">Mean </text>\n",
       "</g>\n",
       "<g clip-path=\"url(#clip480)\">\n",
       "<text style=\"fill:#000000; fill-opacity:1; font-family:Symbol; font-size:103px; text-anchor:start;\" transform=\"rotate(0, 2488.55, 650.199)\" x=\"2488.55\" y=\"650.199\">α</text>\n",
       "</g>\n",
       "<g clip-path=\"url(#clip480)\">\n",
       "<text style=\"fill:#000000; fill-opacity:1; font-family:Arial,Helvetica Neue,Helvetica,sans-serif; font-size:95px; text-anchor:start;\" transform=\"rotate(0, 2553.94, 650.199)\" x=\"2553.94\" y=\"650.199\"> = 3.11</text>\n",
       "</g>\n",
       "</svg>\n"
      ]
     },
     "execution_count": 410,
     "metadata": {},
     "output_type": "execute_result"
    }
   ],
   "source": [
    "# α\n",
    "fig = density(params_sim[:, :α], fill=(0, .5,:steelblue2), lab=\"\\\\alpha_s\",  \n",
    "        linecolor=:match, linewidth=1)\n",
    "plot!(collect(α), seriestype=\"vline\", \n",
    "        lab=\"True \\\\alpha = \" * string(α), \n",
    "        linewidth=1)\n",
    "plot!(collect(mean(params_sim.α)), seriestype=\"vline\", \n",
    "        lab=\"Mean \\\\alpha = \" * string(round(mean(params_sim.α), digits=2)),\n",
    "        linewidth=1, legendfont=font(4), xtickfont=font(4), ytickfont=font(4),\n",
    "        foreground_color_legend=nothing, background_color_legend=nothing, grid=false)\n",
    "plot!(size=(200,100))\n",
    "savefig(\"1_3_4sym_alpha.png\")\n",
    "fig"
   ]
  },
  {
   "cell_type": "code",
   "execution_count": 411,
   "metadata": {},
   "outputs": [
    {
     "data": {
      "image/svg+xml": [
       "<?xml version=\"1.0\" encoding=\"utf-8\"?>\n",
       "<svg xmlns=\"http://www.w3.org/2000/svg\" xmlns:xlink=\"http://www.w3.org/1999/xlink\" width=\"800\" height=\"400\" viewBox=\"0 0 3200 1600\">\n",
       "<defs>\n",
       "  <clipPath id=\"clip530\">\n",
       "    <rect x=\"0\" y=\"0\" width=\"3200\" height=\"1600\"/>\n",
       "  </clipPath>\n",
       "</defs>\n",
       "<path clip-path=\"url(#clip530)\" d=\"\n",
       "M0 1600 L3200 1600 L3200 0 L0 0  Z\n",
       "  \" fill=\"#ffffff\" fill-rule=\"evenodd\" fill-opacity=\"1\"/>\n",
       "<defs>\n",
       "  <clipPath id=\"clip531\">\n",
       "    <rect x=\"640\" y=\"0\" width=\"2241\" height=\"1600\"/>\n",
       "  </clipPath>\n",
       "</defs>\n",
       "<path clip-path=\"url(#clip530)\" d=\"\n",
       "M471.305 1281.73 L3011.02 1281.73 L3011.02 188.976 L471.305 188.976  Z\n",
       "  \" fill=\"#ffffff\" fill-rule=\"evenodd\" fill-opacity=\"1\"/>\n",
       "<defs>\n",
       "  <clipPath id=\"clip532\">\n",
       "    <rect x=\"471\" y=\"188\" width=\"2541\" height=\"1094\"/>\n",
       "  </clipPath>\n",
       "</defs>\n",
       "<polyline clip-path=\"url(#clip530)\" style=\"stroke:#000000; stroke-width:16; stroke-opacity:1; fill:none\" points=\"\n",
       "  471.305,1281.73 3011.02,1281.73 \n",
       "  \"/>\n",
       "<polyline clip-path=\"url(#clip530)\" style=\"stroke:#000000; stroke-width:16; stroke-opacity:1; fill:none\" points=\"\n",
       "  471.305,1281.73 471.305,188.976 \n",
       "  \"/>\n",
       "<polyline clip-path=\"url(#clip530)\" style=\"stroke:#000000; stroke-width:16; stroke-opacity:1; fill:none\" points=\"\n",
       "  853.383,1281.73 853.383,1268.62 \n",
       "  \"/>\n",
       "<polyline clip-path=\"url(#clip530)\" style=\"stroke:#000000; stroke-width:16; stroke-opacity:1; fill:none\" points=\"\n",
       "  1355.38,1281.73 1355.38,1268.62 \n",
       "  \"/>\n",
       "<polyline clip-path=\"url(#clip530)\" style=\"stroke:#000000; stroke-width:16; stroke-opacity:1; fill:none\" points=\"\n",
       "  1857.37,1281.73 1857.37,1268.62 \n",
       "  \"/>\n",
       "<polyline clip-path=\"url(#clip530)\" style=\"stroke:#000000; stroke-width:16; stroke-opacity:1; fill:none\" points=\"\n",
       "  2359.37,1281.73 2359.37,1268.62 \n",
       "  \"/>\n",
       "<polyline clip-path=\"url(#clip530)\" style=\"stroke:#000000; stroke-width:16; stroke-opacity:1; fill:none\" points=\"\n",
       "  2861.36,1281.73 2861.36,1268.62 \n",
       "  \"/>\n",
       "<polyline clip-path=\"url(#clip530)\" style=\"stroke:#000000; stroke-width:16; stroke-opacity:1; fill:none\" points=\"\n",
       "  471.305,1250.8 501.782,1250.8 \n",
       "  \"/>\n",
       "<polyline clip-path=\"url(#clip530)\" style=\"stroke:#000000; stroke-width:16; stroke-opacity:1; fill:none\" points=\"\n",
       "  471.305,1041.38 501.782,1041.38 \n",
       "  \"/>\n",
       "<polyline clip-path=\"url(#clip530)\" style=\"stroke:#000000; stroke-width:16; stroke-opacity:1; fill:none\" points=\"\n",
       "  471.305,831.959 501.782,831.959 \n",
       "  \"/>\n",
       "<polyline clip-path=\"url(#clip530)\" style=\"stroke:#000000; stroke-width:16; stroke-opacity:1; fill:none\" points=\"\n",
       "  471.305,622.537 501.782,622.537 \n",
       "  \"/>\n",
       "<polyline clip-path=\"url(#clip530)\" style=\"stroke:#000000; stroke-width:16; stroke-opacity:1; fill:none\" points=\"\n",
       "  471.305,413.114 501.782,413.114 \n",
       "  \"/>\n",
       "<polyline clip-path=\"url(#clip530)\" style=\"stroke:#000000; stroke-width:16; stroke-opacity:1; fill:none\" points=\"\n",
       "  471.305,203.691 501.782,203.691 \n",
       "  \"/>\n",
       "<g clip-path=\"url(#clip530)\">\n",
       "<text style=\"fill:#000000; fill-opacity:1; font-family:Arial,Helvetica Neue,Helvetica,sans-serif; font-size:95px; text-anchor:middle;\" transform=\"rotate(0, 853.383, 1380.53)\" x=\"853.383\" y=\"1380.53\">2.5</text>\n",
       "</g>\n",
       "<g clip-path=\"url(#clip530)\">\n",
       "<text style=\"fill:#000000; fill-opacity:1; font-family:Arial,Helvetica Neue,Helvetica,sans-serif; font-size:95px; text-anchor:middle;\" transform=\"rotate(0, 1355.38, 1380.53)\" x=\"1355.38\" y=\"1380.53\">5.0</text>\n",
       "</g>\n",
       "<g clip-path=\"url(#clip530)\">\n",
       "<text style=\"fill:#000000; fill-opacity:1; font-family:Arial,Helvetica Neue,Helvetica,sans-serif; font-size:95px; text-anchor:middle;\" transform=\"rotate(0, 1857.37, 1380.53)\" x=\"1857.37\" y=\"1380.53\">7.5</text>\n",
       "</g>\n",
       "<g clip-path=\"url(#clip530)\">\n",
       "<text style=\"fill:#000000; fill-opacity:1; font-family:Arial,Helvetica Neue,Helvetica,sans-serif; font-size:95px; text-anchor:middle;\" transform=\"rotate(0, 2359.37, 1380.53)\" x=\"2359.37\" y=\"1380.53\">10.0</text>\n",
       "</g>\n",
       "<g clip-path=\"url(#clip530)\">\n",
       "<text style=\"fill:#000000; fill-opacity:1; font-family:Arial,Helvetica Neue,Helvetica,sans-serif; font-size:95px; text-anchor:middle;\" transform=\"rotate(0, 2861.36, 1380.53)\" x=\"2861.36\" y=\"1380.53\">12.5</text>\n",
       "</g>\n",
       "<g clip-path=\"url(#clip530)\">\n",
       "<text style=\"fill:#000000; fill-opacity:1; font-family:Arial,Helvetica Neue,Helvetica,sans-serif; font-size:95px; text-anchor:end;\" transform=\"rotate(0, 439.305, 1285.3)\" x=\"439.305\" y=\"1285.3\">0.00</text>\n",
       "</g>\n",
       "<g clip-path=\"url(#clip530)\">\n",
       "<text style=\"fill:#000000; fill-opacity:1; font-family:Arial,Helvetica Neue,Helvetica,sans-serif; font-size:95px; text-anchor:end;\" transform=\"rotate(0, 439.305, 1075.88)\" x=\"439.305\" y=\"1075.88\">0.05</text>\n",
       "</g>\n",
       "<g clip-path=\"url(#clip530)\">\n",
       "<text style=\"fill:#000000; fill-opacity:1; font-family:Arial,Helvetica Neue,Helvetica,sans-serif; font-size:95px; text-anchor:end;\" transform=\"rotate(0, 439.305, 866.459)\" x=\"439.305\" y=\"866.459\">0.10</text>\n",
       "</g>\n",
       "<g clip-path=\"url(#clip530)\">\n",
       "<text style=\"fill:#000000; fill-opacity:1; font-family:Arial,Helvetica Neue,Helvetica,sans-serif; font-size:95px; text-anchor:end;\" transform=\"rotate(0, 439.305, 657.037)\" x=\"439.305\" y=\"657.037\">0.15</text>\n",
       "</g>\n",
       "<g clip-path=\"url(#clip530)\">\n",
       "<text style=\"fill:#000000; fill-opacity:1; font-family:Arial,Helvetica Neue,Helvetica,sans-serif; font-size:95px; text-anchor:end;\" transform=\"rotate(0, 439.305, 447.614)\" x=\"439.305\" y=\"447.614\">0.20</text>\n",
       "</g>\n",
       "<g clip-path=\"url(#clip530)\">\n",
       "<text style=\"fill:#000000; fill-opacity:1; font-family:Arial,Helvetica Neue,Helvetica,sans-serif; font-size:95px; text-anchor:end;\" transform=\"rotate(0, 439.305, 238.191)\" x=\"439.305\" y=\"238.191\">0.25</text>\n",
       "</g>\n",
       "<path clip-path=\"url(#clip532)\" d=\"\n",
       "M543.184 1250.77 L555.224 1250.76 L567.264 1250.75 L579.304 1250.73 L591.344 1250.71 L603.384 1250.67 L615.424 1250.62 L627.464 1250.55 L639.504 1250.45 L651.544 1250.32 \n",
       "  L663.584 1250.15 L675.624 1249.92 L687.664 1249.62 L699.704 1249.24 L711.744 1248.75 L723.784 1248.11 L735.824 1247.31 L747.864 1246.31 L759.904 1245.06 L771.944 1243.51 \n",
       "  L783.984 1241.6 L796.024 1239.29 L808.064 1236.49 L820.104 1233.14 L832.144 1229.15 L844.184 1224.45 L856.224 1218.95 L868.264 1212.57 L880.304 1205.22 L892.344 1196.83 \n",
       "  L904.384 1187.32 L916.424 1176.64 L928.464 1164.74 L940.504 1151.58 L952.544 1137.15 L964.584 1121.47 L976.624 1104.54 L988.664 1086.43 L1000.7 1067.2 L1012.74 1046.93 \n",
       "  L1024.78 1025.75 L1036.82 1003.75 L1048.86 981.076 L1060.9 957.856 L1072.94 934.22 L1084.98 910.291 L1097.02 886.181 L1109.06 861.981 L1121.1 837.763 L1133.14 813.574 \n",
       "  L1145.18 789.432 L1157.22 765.333 L1169.26 741.248 L1181.3 717.126 L1193.34 692.904 L1205.38 668.512 L1217.42 643.879 L1229.46 618.945 L1241.5 593.666 L1253.54 568.023 \n",
       "  L1265.58 542.033 L1277.62 515.748 L1289.66 489.263 L1301.7 462.716 L1313.74 436.286 L1325.78 410.192 L1337.82 384.685 L1349.86 360.041 L1361.9 336.553 L1373.94 314.518 \n",
       "  L1385.98 294.229 L1398.02 275.963 L1410.06 259.967 L1422.1 246.457 L1434.14 235.601 L1446.18 227.521 L1458.22 222.284 L1470.26 219.903 L1482.3 220.34 L1494.34 223.502 \n",
       "  L1506.38 229.253 L1518.42 237.416 L1530.46 247.782 L1542.5 260.116 L1554.54 274.168 L1566.58 289.68 L1578.62 306.391 L1590.66 324.05 L1602.7 342.416 L1614.74 361.267 \n",
       "  L1626.78 380.402 L1638.82 399.645 L1650.86 418.845 L1662.9 437.877 L1674.94 456.643 L1686.98 475.069 L1699.02 493.101 L1711.06 510.707 L1723.1 527.87 L1735.14 544.587 \n",
       "  L1747.18 560.863 L1759.22 576.71 L1771.26 592.142 L1783.3 607.172 L1795.34 621.811 L1807.38 636.063 L1819.42 649.927 L1831.46 663.393 L1843.5 676.442 L1855.54 689.051 \n",
       "  L1867.58 701.186 L1879.62 712.813 L1891.66 723.894 L1903.7 734.393 L1915.74 744.28 L1927.78 753.531 L1939.82 762.134 L1951.86 770.09 L1963.9 777.417 L1975.94 784.152 \n",
       "  L1987.98 790.348 L2000.02 796.078 L2012.06 801.434 L2024.1 806.521 L2036.14 811.457 L2048.18 816.371 L2060.22 821.393 L2072.26 826.656 L2084.3 832.288 L2096.34 838.404 \n",
       "  L2108.38 845.11 L2120.42 852.49 L2132.46 860.609 L2144.5 869.507 L2156.54 879.203 L2168.58 889.686 L2180.62 900.924 L2192.66 912.862 L2204.7 925.424 L2216.74 938.519 \n",
       "  L2228.78 952.04 L2240.82 965.876 L2252.86 979.907 L2264.9 994.015 L2276.94 1008.09 L2288.98 1022.01 L2301.02 1035.7 L2313.06 1049.06 L2325.1 1062.03 L2337.14 1074.54 \n",
       "  L2349.18 1086.56 L2361.22 1098.06 L2373.26 1109.03 L2385.3 1119.45 L2397.34 1129.34 L2409.38 1138.7 L2421.42 1147.56 L2433.46 1155.94 L2445.5 1163.85 L2457.54 1171.31 \n",
       "  L2469.58 1178.35 L2481.62 1184.98 L2493.66 1191.22 L2505.7 1197.07 L2517.74 1202.55 L2529.78 1207.67 L2541.82 1212.43 L2553.86 1216.84 L2565.9 1220.9 L2577.94 1224.63 \n",
       "  L2589.98 1228.03 L2602.02 1231.11 L2614.06 1233.87 L2626.1 1236.35 L2638.14 1238.55 L2650.18 1240.48 L2662.22 1242.17 L2674.26 1243.63 L2686.3 1244.89 L2698.34 1245.97 \n",
       "  L2710.38 1246.87 L2722.42 1247.64 L2734.46 1248.27 L2746.5 1248.79 L2758.54 1249.22 L2770.58 1249.56 L2782.62 1249.84 L2794.66 1250.06 L2806.7 1250.24 L2818.74 1250.38 \n",
       "  L2830.78 1250.48 L2842.82 1250.56 L2854.86 1250.63 L2866.9 1250.67 L2878.94 1250.71 L2890.98 1250.73 L2903.02 1250.75 L2915.06 1250.76 L2927.1 1250.77 L2939.14 1250.77 \n",
       "  L2939.14 1250.8 L2927.1 1250.8 L2915.06 1250.8 L2903.02 1250.8 L2890.98 1250.8 L2878.94 1250.8 L2866.9 1250.8 L2854.86 1250.8 L2842.82 1250.8 L2830.78 1250.8 \n",
       "  L2818.74 1250.8 L2806.7 1250.8 L2794.66 1250.8 L2782.62 1250.8 L2770.58 1250.8 L2758.54 1250.8 L2746.5 1250.8 L2734.46 1250.8 L2722.42 1250.8 L2710.38 1250.8 \n",
       "  L2698.34 1250.8 L2686.3 1250.8 L2674.26 1250.8 L2662.22 1250.8 L2650.18 1250.8 L2638.14 1250.8 L2626.1 1250.8 L2614.06 1250.8 L2602.02 1250.8 L2589.98 1250.8 \n",
       "  L2577.94 1250.8 L2565.9 1250.8 L2553.86 1250.8 L2541.82 1250.8 L2529.78 1250.8 L2517.74 1250.8 L2505.7 1250.8 L2493.66 1250.8 L2481.62 1250.8 L2469.58 1250.8 \n",
       "  L2457.54 1250.8 L2445.5 1250.8 L2433.46 1250.8 L2421.42 1250.8 L2409.38 1250.8 L2397.34 1250.8 L2385.3 1250.8 L2373.26 1250.8 L2361.22 1250.8 L2349.18 1250.8 \n",
       "  L2337.14 1250.8 L2325.1 1250.8 L2313.06 1250.8 L2301.02 1250.8 L2288.98 1250.8 L2276.94 1250.8 L2264.9 1250.8 L2252.86 1250.8 L2240.82 1250.8 L2228.78 1250.8 \n",
       "  L2216.74 1250.8 L2204.7 1250.8 L2192.66 1250.8 L2180.62 1250.8 L2168.58 1250.8 L2156.54 1250.8 L2144.5 1250.8 L2132.46 1250.8 L2120.42 1250.8 L2108.38 1250.8 \n",
       "  L2096.34 1250.8 L2084.3 1250.8 L2072.26 1250.8 L2060.22 1250.8 L2048.18 1250.8 L2036.14 1250.8 L2024.1 1250.8 L2012.06 1250.8 L2000.02 1250.8 L1987.98 1250.8 \n",
       "  L1975.94 1250.8 L1963.9 1250.8 L1951.86 1250.8 L1939.82 1250.8 L1927.78 1250.8 L1915.74 1250.8 L1903.7 1250.8 L1891.66 1250.8 L1879.62 1250.8 L1867.58 1250.8 \n",
       "  L1855.54 1250.8 L1843.5 1250.8 L1831.46 1250.8 L1819.42 1250.8 L1807.38 1250.8 L1795.34 1250.8 L1783.3 1250.8 L1771.26 1250.8 L1759.22 1250.8 L1747.18 1250.8 \n",
       "  L1735.14 1250.8 L1723.1 1250.8 L1711.06 1250.8 L1699.02 1250.8 L1686.98 1250.8 L1674.94 1250.8 L1662.9 1250.8 L1650.86 1250.8 L1638.82 1250.8 L1626.78 1250.8 \n",
       "  L1614.74 1250.8 L1602.7 1250.8 L1590.66 1250.8 L1578.62 1250.8 L1566.58 1250.8 L1554.54 1250.8 L1542.5 1250.8 L1530.46 1250.8 L1518.42 1250.8 L1506.38 1250.8 \n",
       "  L1494.34 1250.8 L1482.3 1250.8 L1470.26 1250.8 L1458.22 1250.8 L1446.18 1250.8 L1434.14 1250.8 L1422.1 1250.8 L1410.06 1250.8 L1398.02 1250.8 L1385.98 1250.8 \n",
       "  L1373.94 1250.8 L1361.9 1250.8 L1349.86 1250.8 L1337.82 1250.8 L1325.78 1250.8 L1313.74 1250.8 L1301.7 1250.8 L1289.66 1250.8 L1277.62 1250.8 L1265.58 1250.8 \n",
       "  L1253.54 1250.8 L1241.5 1250.8 L1229.46 1250.8 L1217.42 1250.8 L1205.38 1250.8 L1193.34 1250.8 L1181.3 1250.8 L1169.26 1250.8 L1157.22 1250.8 L1145.18 1250.8 \n",
       "  L1133.14 1250.8 L1121.1 1250.8 L1109.06 1250.8 L1097.02 1250.8 L1084.98 1250.8 L1072.94 1250.8 L1060.9 1250.8 L1048.86 1250.8 L1036.82 1250.8 L1024.78 1250.8 \n",
       "  L1012.74 1250.8 L1000.7 1250.8 L988.664 1250.8 L976.624 1250.8 L964.584 1250.8 L952.544 1250.8 L940.504 1250.8 L928.464 1250.8 L916.424 1250.8 L904.384 1250.8 \n",
       "  L892.344 1250.8 L880.304 1250.8 L868.264 1250.8 L856.224 1250.8 L844.184 1250.8 L832.144 1250.8 L820.104 1250.8 L808.064 1250.8 L796.024 1250.8 L783.984 1250.8 \n",
       "  L771.944 1250.8 L759.904 1250.8 L747.864 1250.8 L735.824 1250.8 L723.784 1250.8 L711.744 1250.8 L699.704 1250.8 L687.664 1250.8 L675.624 1250.8 L663.584 1250.8 \n",
       "  L651.544 1250.8 L639.504 1250.8 L627.464 1250.8 L615.424 1250.8 L603.384 1250.8 L591.344 1250.8 L579.304 1250.8 L567.264 1250.8 L555.224 1250.8 L543.184 1250.8 \n",
       "   Z\n",
       "  \" fill=\"#5cacee\" fill-rule=\"evenodd\" fill-opacity=\"0.5\"/>\n",
       "<polyline clip-path=\"url(#clip532)\" style=\"stroke:#009af9; stroke-width:16; stroke-opacity:1; fill:none\" points=\"\n",
       "  543.184,1250.77 555.224,1250.76 567.264,1250.75 579.304,1250.73 591.344,1250.71 603.384,1250.67 615.424,1250.62 627.464,1250.55 639.504,1250.45 651.544,1250.32 \n",
       "  663.584,1250.15 675.624,1249.92 687.664,1249.62 699.704,1249.24 711.744,1248.75 723.784,1248.11 735.824,1247.31 747.864,1246.31 759.904,1245.06 771.944,1243.51 \n",
       "  783.984,1241.6 796.024,1239.29 808.064,1236.49 820.104,1233.14 832.144,1229.15 844.184,1224.45 856.224,1218.95 868.264,1212.57 880.304,1205.22 892.344,1196.83 \n",
       "  904.384,1187.32 916.424,1176.64 928.464,1164.74 940.504,1151.58 952.544,1137.15 964.584,1121.47 976.624,1104.54 988.664,1086.43 1000.7,1067.2 1012.74,1046.93 \n",
       "  1024.78,1025.75 1036.82,1003.75 1048.86,981.076 1060.9,957.856 1072.94,934.22 1084.98,910.291 1097.02,886.181 1109.06,861.981 1121.1,837.763 1133.14,813.574 \n",
       "  1145.18,789.432 1157.22,765.333 1169.26,741.248 1181.3,717.126 1193.34,692.904 1205.38,668.512 1217.42,643.879 1229.46,618.945 1241.5,593.666 1253.54,568.023 \n",
       "  1265.58,542.033 1277.62,515.748 1289.66,489.263 1301.7,462.716 1313.74,436.286 1325.78,410.192 1337.82,384.685 1349.86,360.041 1361.9,336.553 1373.94,314.518 \n",
       "  1385.98,294.229 1398.02,275.963 1410.06,259.967 1422.1,246.457 1434.14,235.601 1446.18,227.521 1458.22,222.284 1470.26,219.903 1482.3,220.34 1494.34,223.502 \n",
       "  1506.38,229.253 1518.42,237.416 1530.46,247.782 1542.5,260.116 1554.54,274.168 1566.58,289.68 1578.62,306.391 1590.66,324.05 1602.7,342.416 1614.74,361.267 \n",
       "  1626.78,380.402 1638.82,399.645 1650.86,418.845 1662.9,437.877 1674.94,456.643 1686.98,475.069 1699.02,493.101 1711.06,510.707 1723.1,527.87 1735.14,544.587 \n",
       "  1747.18,560.863 1759.22,576.71 1771.26,592.142 1783.3,607.172 1795.34,621.811 1807.38,636.063 1819.42,649.927 1831.46,663.393 1843.5,676.442 1855.54,689.051 \n",
       "  1867.58,701.186 1879.62,712.813 1891.66,723.894 1903.7,734.393 1915.74,744.28 1927.78,753.531 1939.82,762.134 1951.86,770.09 1963.9,777.417 1975.94,784.152 \n",
       "  1987.98,790.348 2000.02,796.078 2012.06,801.434 2024.1,806.521 2036.14,811.457 2048.18,816.371 2060.22,821.393 2072.26,826.656 2084.3,832.288 2096.34,838.404 \n",
       "  2108.38,845.11 2120.42,852.49 2132.46,860.609 2144.5,869.507 2156.54,879.203 2168.58,889.686 2180.62,900.924 2192.66,912.862 2204.7,925.424 2216.74,938.519 \n",
       "  2228.78,952.04 2240.82,965.876 2252.86,979.907 2264.9,994.015 2276.94,1008.09 2288.98,1022.01 2301.02,1035.7 2313.06,1049.06 2325.1,1062.03 2337.14,1074.54 \n",
       "  2349.18,1086.56 2361.22,1098.06 2373.26,1109.03 2385.3,1119.45 2397.34,1129.34 2409.38,1138.7 2421.42,1147.56 2433.46,1155.94 2445.5,1163.85 2457.54,1171.31 \n",
       "  2469.58,1178.35 2481.62,1184.98 2493.66,1191.22 2505.7,1197.07 2517.74,1202.55 2529.78,1207.67 2541.82,1212.43 2553.86,1216.84 2565.9,1220.9 2577.94,1224.63 \n",
       "  2589.98,1228.03 2602.02,1231.11 2614.06,1233.87 2626.1,1236.35 2638.14,1238.55 2650.18,1240.48 2662.22,1242.17 2674.26,1243.63 2686.3,1244.89 2698.34,1245.97 \n",
       "  2710.38,1246.87 2722.42,1247.64 2734.46,1248.27 2746.5,1248.79 2758.54,1249.22 2770.58,1249.56 2782.62,1249.84 2794.66,1250.06 2806.7,1250.24 2818.74,1250.38 \n",
       "  2830.78,1250.48 2842.82,1250.56 2854.86,1250.63 2866.9,1250.67 2878.94,1250.71 2890.98,1250.73 2903.02,1250.75 2915.06,1250.76 2927.1,1250.77 2939.14,1250.77 \n",
       "  \n",
       "  \"/>\n",
       "<polyline clip-path=\"url(#clip532)\" style=\"stroke:#e26f46; stroke-width:16; stroke-opacity:1; fill:none\" points=\"\n",
       "  1556.18,2374.49 1556.18,-903.779 \n",
       "  \"/>\n",
       "<polyline clip-path=\"url(#clip532)\" style=\"stroke:#3da44d; stroke-width:16; stroke-opacity:1; fill:none\" points=\"\n",
       "  1618.48,2374.49 1618.48,-903.779 \n",
       "  \"/>\n",
       "<path clip-path=\"url(#clip530)\" d=\"\n",
       "M1979.22 743.856 L2915.02 743.856 L2915.02 260.016 L1979.22 260.016  Z\n",
       "  \" fill=\"#000000\" fill-rule=\"evenodd\" fill-opacity=\"0\"/>\n",
       "<polyline clip-path=\"url(#clip530)\" style=\"stroke:#000000; stroke-width:16; stroke-opacity:0; fill:none\" points=\"\n",
       "  1979.22,743.856 2915.02,743.856 2915.02,260.016 1979.22,260.016 1979.22,743.856 \n",
       "  \"/>\n",
       "<path clip-path=\"url(#clip530)\" d=\"\n",
       "M2011.22 429.36 L2203.22 429.36 L2203.22 332.592 L2011.22 332.592 L2011.22 429.36  Z\n",
       "  \" fill=\"#5cacee\" fill-rule=\"evenodd\" fill-opacity=\"0.5\"/>\n",
       "<polyline clip-path=\"url(#clip530)\" style=\"stroke:#009af9; stroke-width:16; stroke-opacity:1; fill:none\" points=\"\n",
       "  2011.22,332.592 2203.22,332.592 \n",
       "  \"/>\n",
       "<g clip-path=\"url(#clip530)\">\n",
       "<text style=\"fill:#000000; fill-opacity:1; font-family:Symbol; font-size:103px; text-anchor:start;\" transform=\"rotate(0, 2235.22, 396.788)\" x=\"2235.22\" y=\"396.788\">δ</text>\n",
       "</g>\n",
       "<g clip-path=\"url(#clip530)\">\n",
       "<text style=\"fill:#000000; fill-opacity:1; font-family:Arial,Helvetica Neue,Helvetica,sans-serif; font-size:77px; text-anchor:start;\" transform=\"rotate(0, 2286.42, 424.047)\" x=\"2286.42\" y=\"424.047\">s</text>\n",
       "</g>\n",
       "<polyline clip-path=\"url(#clip530)\" style=\"stroke:#e26f46; stroke-width:16; stroke-opacity:1; fill:none\" points=\"\n",
       "  2011.22,501.936 2203.22,501.936 \n",
       "  \"/>\n",
       "<g clip-path=\"url(#clip530)\">\n",
       "<text style=\"fill:#000000; fill-opacity:1; font-family:Arial,Helvetica Neue,Helvetica,sans-serif; font-size:95px; text-anchor:start;\" transform=\"rotate(0, 2235.22, 529.239)\" x=\"2235.22\" y=\"529.239\">True </text>\n",
       "</g>\n",
       "<g clip-path=\"url(#clip530)\">\n",
       "<text style=\"fill:#000000; fill-opacity:1; font-family:Symbol; font-size:103px; text-anchor:start;\" transform=\"rotate(0, 2459.91, 529.239)\" x=\"2459.91\" y=\"529.239\">δ</text>\n",
       "</g>\n",
       "<g clip-path=\"url(#clip530)\">\n",
       "<text style=\"fill:#000000; fill-opacity:1; font-family:Arial,Helvetica Neue,Helvetica,sans-serif; font-size:95px; text-anchor:start;\" transform=\"rotate(0, 2511.1, 529.239)\" x=\"2511.1\" y=\"529.239\"> = 6</text>\n",
       "</g>\n",
       "<polyline clip-path=\"url(#clip530)\" style=\"stroke:#3da44d; stroke-width:16; stroke-opacity:1; fill:none\" points=\"\n",
       "  2011.22,622.896 2203.22,622.896 \n",
       "  \"/>\n",
       "<g clip-path=\"url(#clip530)\">\n",
       "<text style=\"fill:#000000; fill-opacity:1; font-family:Arial,Helvetica Neue,Helvetica,sans-serif; font-size:95px; text-anchor:start;\" transform=\"rotate(0, 2235.22, 650.199)\" x=\"2235.22\" y=\"650.199\">Mean </text>\n",
       "</g>\n",
       "<g clip-path=\"url(#clip530)\">\n",
       "<text style=\"fill:#000000; fill-opacity:1; font-family:Symbol; font-size:103px; text-anchor:start;\" transform=\"rotate(0, 2502.75, 650.199)\" x=\"2502.75\" y=\"650.199\">δ</text>\n",
       "</g>\n",
       "<g clip-path=\"url(#clip530)\">\n",
       "<text style=\"fill:#000000; fill-opacity:1; font-family:Arial,Helvetica Neue,Helvetica,sans-serif; font-size:95px; text-anchor:start;\" transform=\"rotate(0, 2553.94, 650.199)\" x=\"2553.94\" y=\"650.199\"> = 6.31</text>\n",
       "</g>\n",
       "</svg>\n"
      ]
     },
     "execution_count": 411,
     "metadata": {},
     "output_type": "execute_result"
    }
   ],
   "source": [
    "# δ\n",
    "fig = density(params_sim[:, :δ], fill=(0, .5,:steelblue2), lab=\"\\\\delta_s\",  \n",
    "        linecolor=:match, linewidth=1)\n",
    "plot!(collect(δ), seriestype=\"vline\", \n",
    "        lab=\"True \\\\delta = \" * string(δ), \n",
    "        linewidth=1)\n",
    "plot!(collect(mean(params_sim.δ)), seriestype=\"vline\", \n",
    "        lab=\"Mean \\\\delta = \" * string(round(mean(params_sim.δ), digits=2)),\n",
    "        linewidth=1, legendfont=font(4), xtickfont=font(4), ytickfont=font(4),\n",
    "        foreground_color_legend=nothing, background_color_legend=nothing, grid=false)\n",
    "plot!(size=(200,100))\n",
    "savefig(\"1_3_4sym_delta.png\");\n",
    "fig"
   ]
  },
  {
   "cell_type": "markdown",
   "metadata": {},
   "source": [
    "##### Estimating with random equilibria\n",
    "\n",
    "# EM-ALGORITHM?\n",
    "\n",
    "We consider mixture weights $\\omega_i$ as auxiliary parameters for $i \\in \\{1,2,3\\}$"
   ]
  },
  {
   "cell_type": "markdown",
   "metadata": {},
   "source": [
    "##### Functions for log-likelihood evaluation to determine convergence"
   ]
  },
  {
   "cell_type": "code",
   "execution_count": 420,
   "metadata": {},
   "outputs": [
    {
     "data": {
      "text/plain": [
       "ω_bound (generic function with 1 method)"
      ]
     },
     "execution_count": 420,
     "metadata": {},
     "output_type": "execute_result"
    }
   ],
   "source": [
    "# Re-weight to ensure bounds work\n",
    "ω_bound(ω,i) = exp(ω[i]) / (sum(exp.(ω)))"
   ]
  },
  {
   "cell_type": "code",
   "execution_count": 466,
   "metadata": {},
   "outputs": [],
   "source": [
    "# Likelihood individual term\n",
    "l_mix_i = function(; α, δ, x, p, y)\n",
    "    y1 = br_eq_vec(α=α, δ=δ, x=x, p=p).^y\n",
    "    y0 = (Ref(1.0) .- br_eq_vec(α=α, δ=δ, x=x, p=p)).^(Ref(1.0) .- y)\n",
    "    return y1 .* y0\n",
    "end\n",
    "\n",
    "# Log-Likelihood function for mixture\n",
    "ll_mix_all = function(; α, δ, ω=[1/3, 1/3, 1/3])\n",
    "    dt_temp = copy(dt_sim); \n",
    "    dt_temp.p̂1_1 = Ref(-1.0); dt_temp.p̂1_2 = Ref(-1.0); dt_temp.p̂1_3 = Ref(-1.0); \n",
    "    dt_temp.p̂2_1 = Ref(-1.0); dt_temp.p̂2_2 = Ref(-1.0); dt_temp.p̂2_3 = Ref(-1.0)\n",
    "    for r in 1:nrow(dt_temp)\n",
    "        row = dt_temp[r,:]\n",
    "        p̂_1 = fxp_eq(α=α, δ=δ, x=row.x, p=[1, 0])\n",
    "        p̂_2 = fxp_eq(α=α, δ=δ, x=row.x, p=[0.5, 0.5])\n",
    "        p̂_3 = fxp_eq(α=α, δ=δ, x=row.x, p=[0, 1])\n",
    "        dt_temp[r, :p̂1_1] = p̂_1[1]; dt_temp[r, :p̂1_2] = p̂_2[1]; dt_temp[r, :p̂1_3] = p̂_3[1]\n",
    "        dt_temp[r, :p̂2_1] = p̂_1[2]; dt_temp[r, :p̂2_2] = p̂_2[2]; dt_temp[r, :p̂2_3] = p̂_3[2]\n",
    "    end\n",
    "    prob1 = ω_bound(ω,1).*l_mix_i(α=α, δ=δ, x=dt_temp.x, p=dt_temp.p̂2_1, y=dt_temp.y_1) .+\n",
    "            ω_bound(ω,2).*l_mix_i(α=α, δ=δ, x=dt_temp.x, p=dt_temp.p̂2_2, y=dt_temp.y_1) .+\n",
    "            ω_bound(ω,3).*l_mix_i(α=α, δ=δ, x=dt_temp.x, p=dt_temp.p̂2_3, y=dt_temp.y_1)\n",
    "    prob2 = ω_bound(ω,1).*l_mix_i(α=α, δ=δ, x=dt_temp.x, p=dt_temp.p̂1_1, y=dt_temp.y_2) .+\n",
    "            ω_bound(ω,2).*l_mix_i(α=α, δ=δ, x=dt_temp.x, p=dt_temp.p̂1_2, y=dt_temp.y_2) .+\n",
    "            ω_bound(ω,3).*l_mix_i(α=α, δ=δ, x=dt_temp.x, p=dt_temp.p̂1_3, y=dt_temp.y_2)\n",
    "    prob = log.(prob1) .+ log.(prob2)\n",
    "    return sum(prob)\n",
    "end\n",
    "\n",
    "# Adapt Log-Likelihood to pass to Optim\n",
    "ll_mix_optim = function(θ)\n",
    "    α=θ[1]; δ=θ[2]; ω=θ[3:5]\n",
    "    return -1.0 .* ll_mix_all(α=α, δ=δ, ω=ω)\n",
    "end;"
   ]
  },
  {
   "cell_type": "markdown",
   "metadata": {},
   "source": [
    "We now check to make sure this is working properly for some values of $\\theta$."
   ]
  },
  {
   "cell_type": "code",
   "execution_count": 467,
   "metadata": {},
   "outputs": [
    {
     "data": {
      "text/plain": [
       "1226.9711525927648"
      ]
     },
     "execution_count": 467,
     "metadata": {},
     "output_type": "execute_result"
    }
   ],
   "source": [
    "dt_sim = copy(dt[dt[:s].==1,:]);\n",
    "ll_mix_optim([3.0,6.0,1/3,1/3,1/3])"
   ]
  },
  {
   "cell_type": "code",
   "execution_count": 468,
   "metadata": {},
   "outputs": [
    {
     "data": {
      "text/plain": [
       "1204.9153642322472"
      ]
     },
     "execution_count": 468,
     "metadata": {},
     "output_type": "execute_result"
    }
   ],
   "source": [
    "ll_mix_optim([3.0,6.0,0.2,0.3,0.5])"
   ]
  },
  {
   "cell_type": "code",
   "execution_count": 469,
   "metadata": {},
   "outputs": [
    {
     "data": {
      "text/plain": [
       "1386.2943611198923"
      ]
     },
     "execution_count": 469,
     "metadata": {},
     "output_type": "execute_result"
    }
   ],
   "source": [
    "ll_mix_optim([0.0,0.0,0.2,0.3,0.5])"
   ]
  },
  {
   "cell_type": "markdown",
   "metadata": {},
   "source": [
    "##### Functions for EM algorithm to estimate the parameters"
   ]
  },
  {
   "cell_type": "code",
   "execution_count": 479,
   "metadata": {},
   "outputs": [
    {
     "data": {
      "text/plain": [
       "#578 (generic function with 1 method)"
      ]
     },
     "execution_count": 479,
     "metadata": {},
     "output_type": "execute_result"
    }
   ],
   "source": [
    "# Expected log-likelihood function\n",
    "E_ll_mix_all = function(; α, δ, ω, z_weights)\n",
    "    dt_temp = copy(dt_sim); \n",
    "    dt_temp.p̂1_1 = Ref(-1.0); dt_temp.p̂1_2 = Ref(-1.0); dt_temp.p̂1_3 = Ref(-1.0); \n",
    "    dt_temp.p̂2_1 = Ref(-1.0); dt_temp.p̂2_2 = Ref(-1.0); dt_temp.p̂2_3 = Ref(-1.0)\n",
    "    for r in 1:nrow(dt_temp)\n",
    "        row = dt_temp[r,:]\n",
    "        p̂_1 = fxp_eq(α=α, δ=δ, x=row.x, p=[1, 0])\n",
    "        p̂_2 = fxp_eq(α=α, δ=δ, x=row.x, p=[0.5, 0.5])\n",
    "        p̂_3 = fxp_eq(α=α, δ=δ, x=row.x, p=[0, 1])\n",
    "        dt_temp[r, :p̂1_1] = p̂_1[1]; dt_temp[r, :p̂1_2] = p̂_2[1]; dt_temp[r, :p̂1_3] = p̂_3[1]\n",
    "        dt_temp[r, :p̂2_1] = p̂_1[2]; dt_temp[r, :p̂2_2] = p̂_2[2]; dt_temp[r, :p̂2_3] = p̂_3[2]\n",
    "    end\n",
    "    prob1 = z_weights[:,1].*(log.(ω_bound(ω,1)) .+ \n",
    "                ll_i(α=α, δ=δ, x=dt_temp.x, p=dt_temp.p̂2_1, y=dt_temp.y_1)) .+\n",
    "            z_weights[:,2].*(log.(ω_bound(ω,2)) .+ \n",
    "                ll_i(α=α, δ=δ, x=dt_temp.x, p=dt_temp.p̂2_2, y=dt_temp.y_1)) .+\n",
    "            z_weights[:,3].*(log.(ω_bound(ω,3)) .+ \n",
    "                ll_i(α=α, δ=δ, x=dt_temp.x, p=dt_temp.p̂2_3, y=dt_temp.y_1))\n",
    "    prob2 = z_weights[:,1].*(log.(ω_bound(ω,1)) .+ \n",
    "                ll_i(α=α, δ=δ, x=dt_temp.x, p=dt_temp.p̂1_1, y=dt_temp.y_2)) .+\n",
    "            z_weights[:,2].*(log.(ω_bound(ω,2)) .+ \n",
    "                ll_i(α=α, δ=δ, x=dt_temp.x, p=dt_temp.p̂1_2, y=dt_temp.y_2)) .+\n",
    "            z_weights[:,3].*(log.(ω_bound(ω,3)) .+ \n",
    "                ll_i(α=α, δ=δ, x=dt_temp.x, p=dt_temp.p̂1_3, y=dt_temp.y_2))\n",
    "    prob = prob1 .+ prob2\n",
    "    return sum(prob)\n",
    "end\n",
    "\n",
    "\n",
    "# EM iteration\n",
    "em_step = function(; θ)\n",
    "    α=θ[1]; δ=θ[2]; ω=θ[3:5];\n",
    "    dt_temp = copy(dt_sim); \n",
    "    \n",
    "    \n",
    "    # Likelihood of each observation's equilibrium given parameter values (E step)\n",
    "    dt_temp.p̂1_1 = Ref(-1.0); dt_temp.p̂1_2 = Ref(-1.0); dt_temp.p̂1_3 = Ref(-1.0); \n",
    "    dt_temp.p̂2_1 = Ref(-1.0); dt_temp.p̂2_2 = Ref(-1.0); dt_temp.p̂2_3 = Ref(-1.0)\n",
    "    for r in 1:nrow(dt_temp)\n",
    "        row = dt_temp[r,:]\n",
    "        p̂_1 = fxp_eq(α=α, δ=δ, x=row.x, p=[1, 0])\n",
    "        p̂_2 = fxp_eq(α=α, δ=δ, x=row.x, p=[0.5, 0.5])\n",
    "        p̂_3 = fxp_eq(α=α, δ=δ, x=row.x, p=[0, 1])\n",
    "        dt_temp[r, :p̂1_1] = p̂_1[1]; dt_temp[r, :p̂1_2] = p̂_2[1]; dt_temp[r, :p̂1_3] = p̂_3[1]\n",
    "        dt_temp[r, :p̂2_1] = p̂_1[2]; dt_temp[r, :p̂2_2] = p̂_2[2]; dt_temp[r, :p̂2_3] = p̂_3[2]\n",
    "    end\n",
    "    prob_eq1 =  ω_bound(ω,1).*l_mix_i(α=α, δ=δ, x=dt_temp.x, p=dt_temp.p̂2_1, y=dt_temp.y_1) .*\n",
    "                    l_mix_i(α=α, δ=δ, x=dt_temp.x, p=dt_temp.p̂1_1, y=dt_temp.y_2)\n",
    "    prob_eq2 =  ω_bound(ω,2).*l_mix_i(α=α, δ=δ, x=dt_temp.x, p=dt_temp.p̂2_2, y=dt_temp.y_1) .*\n",
    "                    l_mix_i(α=α, δ=δ, x=dt_temp.x, p=dt_temp.p̂1_2, y=dt_temp.y_2)\n",
    "    prob_eq3 =  ω_bound(ω,3).*l_mix_i(α=α, δ=δ, x=dt_temp.x, p=dt_temp.p̂2_3, y=dt_temp.y_1) .*\n",
    "                    l_mix_i(α=α, δ=δ, x=dt_temp.x, p=dt_temp.p̂1_3, y=dt_temp.y_2)\n",
    "    probs = hcat(prob_eq1, prob_eq2, prob_eq3)\n",
    "    p_rowsum = sum(probs, dims=2)\n",
    "    z_weights = probs ./ hcat(p_rowsum, p_rowsum, p_rowsum)\n",
    "    \n",
    "    \n",
    "    # Maximize likelihood given weights (M step)\n",
    "        # Adapt E[Log-Likelihood] to pass to Optim\n",
    "        E_ll_mix_optim = function(θ)\n",
    "            α=θ[1]; δ=θ[2]; ω=θ[3:5]\n",
    "            return -1.0 .* E_ll_mix_all(α=α, δ=δ, ω=ω, z_weights=z_weights)\n",
    "        end;\n",
    "    optimum_g = optimize(E_ll_mix_optim, θ, Optim.Options(show_trace = false, iterations=100))\n",
    "    θ = optimum_g.minimizer\n",
    "    θ[3:5] = exp.(θ[3:5]) / (sum(exp.(θ[3:5])))\n",
    "    return θ\n",
    "end\n",
    "\n",
    "\n",
    "# Implement EM algorithm\n",
    "em_alg = function(; θ_0)\n",
    "    diff = 1; ll_0 = 0;\n",
    "    while diff > 1e-3\n",
    "        θ_1 = em_step(θ=θ_0)\n",
    "        ll_1 = ll_mix_optim(θ_1)\n",
    "        diff = abs(ll_1 - ll_0)\n",
    "        θ_0 = θ_1; ll_0 = ll_1\n",
    "        println(\"Log-likelihood is \" * string(round(ll_1, digits=4)))\n",
    "        println(\"    θ is \" * string(round.(θ_0, digits=4)))\n",
    "    end\n",
    "    return θ_0\n",
    "end"
   ]
  },
  {
   "cell_type": "code",
   "execution_count": 480,
   "metadata": {
    "scrolled": false
   },
   "outputs": [
    {
     "name": "stdout",
     "output_type": "stream",
     "text": [
      "Log-likelihood is 1208.6428\n",
      "    θ is [2.2367, 4.0112, 0.3333, 0.3339, 0.3328]\n",
      "Log-likelihood is 1208.6388\n",
      "    θ is [2.2412, 4.0137, 0.3335, 0.3333, 0.3332]\n",
      "Log-likelihood is 1208.6388\n",
      "    θ is [2.2412, 4.0137, 0.3334, 0.3333, 0.3333]\n"
     ]
    },
    {
     "data": {
      "text/plain": [
       "5-element Array{Float64,1}:\n",
       " 2.2412485477177952\n",
       " 4.013714363540298\n",
       " 0.33338824528861744\n",
       " 0.33333705710394707\n",
       " 0.3332746976074356"
      ]
     },
     "execution_count": 480,
     "metadata": {},
     "output_type": "execute_result"
    }
   ],
   "source": [
    "em_alg(θ_0 = [1.0,1.0,1/3,1/3,1/3])"
   ]
  },
  {
   "cell_type": "markdown",
   "metadata": {},
   "source": [
    "## Some concerns about how the EM is currently running:\n",
    "\n",
    "- LL is roughly where it should be (see above - approx 1204.9) but weights seem off (should be about 0.2, 0.3, 0.5)\n",
    "- Updating seems to stop too soon (even with large tolerance) - might be because of z_weights part? At least the parameters are approaching where they should be (instead of going negative as before)"
   ]
  },
  {
   "cell_type": "code",
   "execution_count": 476,
   "metadata": {
    "scrolled": true
   },
   "outputs": [
    {
     "name": "stdout",
     "output_type": "stream",
     "text": [
      "Iter     Function value    √(Σ(yᵢ-ȳ)²)/n \n",
      "------   --------------    --------------\n",
      "     0     3.421587e+03     3.554271e+01\n",
      " * time: 0.00022292137145996094\n",
      "     1     3.421587e+03     1.304784e+01\n",
      " * time: 0.24463605880737305\n",
      "     2     3.421587e+03     4.789114e+00\n",
      " * time: 0.4795041084289551\n",
      "     3     3.421587e+03     3.349012e+00\n",
      " * time: 0.85555100440979\n",
      "     4     3.421587e+03     3.274629e+00\n",
      " * time: 1.2272140979766846\n",
      "     5     3.421587e+03     2.747347e+00\n",
      " * time: 1.4884459972381592\n",
      "     6     3.421587e+03     1.334203e+00\n",
      " * time: 1.8178889751434326\n",
      "     7     3.421587e+03     9.701891e-01\n",
      " * time: 2.1338040828704834\n",
      "     8     3.420881e+03     1.366865e+00\n",
      " * time: 2.501599073410034\n",
      "     9     3.419495e+03     1.269391e+00\n",
      " * time: 2.8829898834228516\n",
      "    10     3.419495e+03     1.053424e+00\n",
      " * time: 3.433382987976074\n",
      "    11     3.419495e+03     6.266349e-01\n",
      " * time: 3.891077995300293\n",
      "    12     3.419495e+03     9.017815e-01\n",
      " * time: 4.279191970825195\n",
      "    13     3.418470e+03     8.798440e-01\n",
      " * time: 4.647222995758057\n",
      "    14     3.418470e+03     7.968896e-01\n",
      " * time: 4.851730108261108\n",
      "    15     3.418470e+03     8.024508e-01\n",
      " * time: 5.4359800815582275\n",
      "    16     3.417961e+03     6.235404e-01\n",
      " * time: 5.665757894515991\n",
      "    17     3.417961e+03     6.179923e-01\n",
      " * time: 5.923497915267944\n",
      "    18     3.417779e+03     4.922099e-01\n",
      " * time: 6.1686530113220215\n",
      "    19     3.417779e+03     2.453639e-01\n",
      " * time: 6.681982040405273\n",
      "    20     3.417713e+03     8.983140e-01\n",
      " * time: 7.141812086105347\n",
      "    21     3.415506e+03     8.719704e-01\n",
      " * time: 7.619671106338501\n",
      "    22     3.415506e+03     8.273472e-01\n",
      " * time: 7.909132957458496\n",
      "    23     3.415506e+03     1.090588e+00\n",
      " * time: 8.342925071716309\n",
      "    24     3.414989e+03     9.862831e-01\n",
      " * time: 8.97090196609497\n",
      "    25     3.414989e+03     8.406563e-01\n",
      " * time: 9.303582906723022\n",
      "    26     3.414989e+03     6.770880e-01\n",
      " * time: 9.523896932601929\n",
      "    27     3.414989e+03     9.556329e-01\n",
      " * time: 9.942353963851929\n",
      "    28     3.413797e+03     8.648098e-01\n",
      " * time: 10.266052961349487\n",
      "    29     3.413797e+03     7.313150e-01\n",
      " * time: 10.508008003234863\n",
      "    30     3.413797e+03     5.765879e-01\n",
      " * time: 10.818505048751831\n",
      "    31     3.413797e+03     1.061157e+00\n",
      " * time: 11.320194005966187\n",
      "    32     3.412229e+03     9.863613e-01\n",
      " * time: 11.508559942245483\n",
      "    33     3.412229e+03     1.306145e+00\n",
      " * time: 11.728200912475586\n",
      "    34     3.411624e+03     1.227793e+00\n",
      " * time: 11.870052099227905\n",
      "    35     3.411624e+03     1.107308e+00\n",
      " * time: 11.983222961425781\n",
      "    36     3.411624e+03     9.295525e-01\n",
      " * time: 12.271445989608765\n",
      "    37     3.411624e+03     8.773493e-01\n",
      " * time: 12.512192010879517\n",
      "    38     3.411207e+03     1.005051e+00\n",
      " * time: 12.880105972290039\n",
      "    39     3.410127e+03     8.770163e-01\n",
      " * time: 13.125041007995605\n",
      "    40     3.410127e+03     6.404344e-01\n",
      " * time: 13.385058879852295\n",
      "    41     3.410127e+03     9.925260e-01\n",
      " * time: 13.713023900985718\n",
      "    42     3.408918e+03     9.223000e-01\n",
      " * time: 13.920865058898926\n",
      "    43     3.408918e+03     1.190222e+00\n",
      " * time: 14.218738079071045\n",
      "    44     3.408050e+03     1.052825e+00\n",
      " * time: 14.409454107284546\n",
      "    45     3.408050e+03     8.844641e-01\n",
      " * time: 14.605130910873413\n",
      "    46     3.408050e+03     6.930461e-01\n",
      " * time: 14.882752895355225\n",
      "    47     3.408050e+03     7.739244e-01\n",
      " * time: 15.200781106948853\n",
      "    48     3.406707e+03     6.769379e-01\n",
      " * time: 15.326487064361572\n",
      "    49     3.406707e+03     8.424821e-01\n",
      " * time: 15.67561388015747\n",
      "    50     3.406174e+03     7.538602e-01\n",
      " * time: 15.899869918823242\n",
      "    51     3.406174e+03     6.771293e-01\n",
      " * time: 16.152349948883057\n",
      "    52     3.406174e+03     6.011953e-01\n",
      " * time: 16.55830693244934\n",
      "    53     3.406174e+03     5.433666e-01\n",
      " * time: 16.753978967666626\n",
      "    54     3.406174e+03     4.855715e-01\n",
      " * time: 16.960869073867798\n",
      "    55     3.406174e+03     4.110838e-01\n",
      " * time: 17.379729986190796\n",
      "    56     3.406174e+03     3.256472e-01\n",
      " * time: 17.66635298728943\n",
      "    57     3.406174e+03     2.303048e-01\n",
      " * time: 18.240917921066284\n",
      "    58     3.406174e+03     2.048513e-01\n",
      " * time: 18.785773038864136\n",
      "    59     3.406174e+03     1.722892e-01\n",
      " * time: 19.090694904327393\n",
      "    60     3.406174e+03     1.555136e-01\n",
      " * time: 19.860542058944702\n",
      "    61     3.406174e+03     1.443431e-01\n",
      " * time: 20.546441078186035\n",
      "    62     3.406174e+03     1.308135e-01\n",
      " * time: 21.030131101608276\n",
      "    63     3.406174e+03     1.191340e-01\n",
      " * time: 21.23323106765747\n",
      "    64     3.406174e+03     1.003254e-01\n",
      " * time: 21.836759090423584\n",
      "    65     3.406174e+03     8.146886e-02\n",
      " * time: 22.428210020065308\n",
      "    66     3.406174e+03     6.465901e-02\n",
      " * time: 22.807024002075195\n",
      "    67     3.406174e+03     4.775151e-02\n",
      " * time: 22.974924087524414\n",
      "    68     3.406174e+03     1.346268e-01\n",
      " * time: 23.356271982192993\n",
      "    69     3.405918e+03     1.290336e-01\n",
      " * time: 23.647248029708862\n",
      "    70     3.405918e+03     1.205911e-01\n",
      " * time: 24.010646104812622\n",
      "    71     3.405918e+03     1.071656e-01\n",
      " * time: 24.369209051132202\n",
      "    72     3.405918e+03     9.805918e-02\n",
      " * time: 24.523930072784424\n",
      "    73     3.405918e+03     8.993307e-02\n",
      " * time: 24.833261013031006\n",
      "    74     3.405918e+03     7.677777e-02\n",
      " * time: 25.128128051757812\n",
      "    75     3.405918e+03     6.714877e-02\n",
      " * time: 25.323471069335938\n",
      "    76     3.405918e+03     4.901468e-02\n",
      " * time: 25.719633102416992\n",
      "    77     3.405918e+03     3.447867e-02\n",
      " * time: 26.315404891967773\n",
      "    78     3.405918e+03     3.215066e-02\n",
      " * time: 26.905100107192993\n",
      "    79     3.405918e+03     2.802891e-02\n",
      " * time: 27.28223991394043\n",
      "    80     3.405918e+03     2.262093e-02\n",
      " * time: 27.663578033447266\n",
      "    81     3.405918e+03     1.935518e-02\n",
      " * time: 28.01253390312195\n",
      "    82     3.405918e+03     1.702677e-02\n",
      " * time: 28.350506067276\n",
      "    83     3.405918e+03     1.504759e-02\n",
      " * time: 28.657488107681274\n",
      "    84     3.405918e+03     1.065489e-02\n",
      " * time: 29.16407608985901\n",
      "    85     3.405918e+03     9.612494e-03\n",
      " * time: 29.490742921829224\n",
      "    86     3.405918e+03     8.214659e-03\n",
      " * time: 29.6475830078125\n",
      "    87     3.405918e+03     7.194913e-03\n",
      " * time: 30.16510796546936\n",
      "    88     3.405918e+03     6.975276e-03\n",
      " * time: 30.702022075653076\n",
      "    89     3.405916e+03     7.102353e-03\n",
      " * time: 31.2187340259552\n",
      "    90     3.405915e+03     1.701134e-02\n",
      " * time: 31.756412982940674\n",
      "    91     3.405878e+03     1.547041e-02\n",
      " * time: 32.13244390487671\n",
      "    92     3.405878e+03     1.373001e-02\n",
      " * time: 32.535409927368164\n",
      "    93     3.405878e+03     1.288447e-02\n",
      " * time: 32.85122895240784\n",
      "    94     3.405878e+03     1.336980e-02\n",
      " * time: 33.03932809829712\n",
      "    95     3.405878e+03     1.465590e-02\n",
      " * time: 33.47804808616638\n",
      "    96     3.405869e+03     1.245501e-02\n",
      " * time: 33.949196100234985\n",
      "    97     3.405869e+03     1.083657e-02\n",
      " * time: 34.425808906555176\n",
      "    98     3.405869e+03     9.760039e-03\n",
      " * time: 34.93642592430115\n",
      "    99     3.405869e+03     8.389052e-03\n",
      " * time: 35.56066608428955\n",
      "   100     3.405869e+03     6.910485e-03\n",
      " * time: 36.08470892906189\n"
     ]
    },
    {
     "data": {
      "text/plain": [
       "5-element Array{Float64,1}:\n",
       " 2.2367493649117023\n",
       " 4.011212638648408\n",
       " 0.3333032009819218\n",
       " 0.33392129759682476\n",
       " 0.3327755014212534"
      ]
     },
     "execution_count": 476,
     "metadata": {},
     "output_type": "execute_result"
    }
   ],
   "source": [
    "dt_sim = copy(dt[dt[:s].==5,:]);\n",
    "em_step(θ=[1.0,1.0,1/3,1/3,1/3])"
   ]
  },
  {
   "cell_type": "markdown",
   "metadata": {},
   "source": [
    "<br><br><br><br>\n",
    "\n",
    "### 1.3.5 More unobserved heterogeneity"
   ]
  },
  {
   "cell_type": "code",
   "execution_count": 84,
   "metadata": {},
   "outputs": [],
   "source": [
    "# Model k ∈ {1,...,K} with prob exp(k/2)\n",
    "eq_opts = eq_vec[:,2]\n",
    "\n",
    "# Function to map x, equilibrium, and player number to other player's strat\n",
    "eq_map = function(x, eq, player)\n",
    "    x = convert(Int64, x)\n",
    "    return eq_opts[x][eq,player]\n",
    "end\n",
    "\n",
    "# Set up parameters\n",
    "α=3; δ=6\n",
    "T=1000; S=50\n",
    "\n",
    "# Create simulation data\n",
    "dt = DataFrame(t = repeat(1:T, outer = S), s = repeat(1:S, inner = T))\n",
    "dt.x = repeat(rand(Binomial(1,0.5), T) .+ Ref(1.0), outer = S)\n",
    "dt.ϵ_1 = rand(Logistic(0,1), S*T)\n",
    "dt.ϵ_2 = rand(Logistic(0,1), S*T)\n",
    "dt.eq = Ref(0)\n",
    "for r in 1:nrow(dt)\n",
    "    u_p = 1.0 ./(1.0 .+ dt[r,:x])\n",
    "    num = [1.0, 2.0, 3.0] .+ repeat(1.0.* rand(Binomial(1, 0.5),1),3)\n",
    "    eq_probs = exp.(num./2) ./ sum(exp.(num./2))\n",
    "    dt.eq = rand(Categorical(eq_probs), 1)[1]\n",
    "end\n",
    "dt.y_1 = 1.0.*(α*dt.x .- δ*eq_map.(dt.x, dt.eq, 2) .+ dt.ϵ_1 .>= 0)\n",
    "dt.y_2 = 1.0.*(α*dt.x .- δ*eq_map.(dt.x, dt.eq, 1) .+ dt.ϵ_1 .>= 0);"
   ]
  },
  {
   "cell_type": "markdown",
   "metadata": {},
   "source": [
    "Now we estimate this with the same method as above:"
   ]
  },
  {
   "cell_type": "code",
   "execution_count": null,
   "metadata": {},
   "outputs": [],
   "source": []
  },
  {
   "cell_type": "markdown",
   "metadata": {},
   "source": [
    "<br><br><br><br>\n",
    "\n",
    "## QUESTION 2.3\n",
    "\n",
    "##### Read in data"
   ]
  },
  {
   "cell_type": "code",
   "execution_count": 226,
   "metadata": {
    "scrolled": true
   },
   "outputs": [
    {
     "name": "stdout",
     "output_type": "stream",
     "text": [
      "[\"milage\"]\n"
     ]
    }
   ],
   "source": [
    "data = CSV.read(\"psetTwo.csv\", DataFrame);\n",
    "println(names(data))\n",
    "convert.(Float64, data.milage);"
   ]
  },
  {
   "cell_type": "markdown",
   "metadata": {},
   "source": [
    "##### Define utility function"
   ]
  },
  {
   "cell_type": "code",
   "execution_count": 343,
   "metadata": {},
   "outputs": [],
   "source": [
    "utility = function(; x, d, θ)\n",
    "    if d == 0\n",
    "        return -θ[1].*x .- θ[2].*(x./100).^2\n",
    "    else\n",
    "        return -θ[3]\n",
    "    end\n",
    "end;"
   ]
  },
  {
   "cell_type": "markdown",
   "metadata": {},
   "source": [
    "<br><br>\n",
    "### 1. Engine replacement\n",
    "\n",
    "Generate dummy variable."
   ]
  },
  {
   "cell_type": "code",
   "execution_count": 227,
   "metadata": {
    "scrolled": true
   },
   "outputs": [],
   "source": [
    "data.d = 1.0.*(data[:milage] .< lag(data[:milage]));\n",
    "data[ismissing.(data[:d]),:d] = Ref(0.0);"
   ]
  },
  {
   "cell_type": "markdown",
   "metadata": {},
   "source": [
    "<br><br>\n",
    "### 3. Discretize state space and estimate transition probabilities"
   ]
  },
  {
   "cell_type": "markdown",
   "metadata": {},
   "source": [
    "##### Discretize state space and generate state dummy variables"
   ]
  },
  {
   "cell_type": "code",
   "execution_count": 166,
   "metadata": {},
   "outputs": [
    {
     "name": "stdout",
     "output_type": "stream",
     "text": [
      "1\n",
      "221\n"
     ]
    }
   ],
   "source": [
    "# Get summary statistics of milage\n",
    "min_mile = minimum(data.milage)\n",
    "max_mile = maximum(data.milage)\n",
    "println(minimum(data.milage))\n",
    "println(maximum(data.milage))"
   ]
  },
  {
   "cell_type": "code",
   "execution_count": 167,
   "metadata": {},
   "outputs": [],
   "source": [
    "# Divide state space into K states\n",
    "K = 21;"
   ]
  },
  {
   "cell_type": "markdown",
   "metadata": {},
   "source": [
    "### Using constant step sizes"
   ]
  },
  {
   "cell_type": "code",
   "execution_count": 168,
   "metadata": {},
   "outputs": [],
   "source": [
    "# k_step = (max_mile - min_mile)/K\n",
    "\n",
    "# state_cols = fill(\" \", K)\n",
    "# for k in 1:K\n",
    "#     k_min = min_mile + (k-1)*k_step\n",
    "#     k_max = min_mile + k*k_step\n",
    "#     data[!, \"s_\" * string(k)] = 1.0.*(k_min .≤ data.milage .≤ k_max)\n",
    "#     state_cols[k] = \"s_\" * string(k)\n",
    "# end"
   ]
  },
  {
   "cell_type": "markdown",
   "metadata": {},
   "source": [
    "### Using (approximately) constant bin counts"
   ]
  },
  {
   "cell_type": "code",
   "execution_count": 237,
   "metadata": {},
   "outputs": [],
   "source": [
    "k_q = nquantile(data.milage, K);\n",
    "data.s_now = Ref(0)\n",
    "\n",
    "state_cols = fill(\" \", K)\n",
    "last_state_cols = fill(\" \", K)\n",
    "for k in 1:K\n",
    "    data[(k_q[k] .< data.milage .≤ k_q[k+1]) .| (data.milage .== 1), :s_now] = Ref(k)\n",
    "end"
   ]
  },
  {
   "cell_type": "markdown",
   "metadata": {},
   "source": [
    "## From here on, no dependence on how state chunks were set"
   ]
  },
  {
   "cell_type": "code",
   "execution_count": 238,
   "metadata": {},
   "outputs": [],
   "source": [
    "data.s_prev = Ref(0)\n",
    "for r in 2:nrow(data)\n",
    "    data[r,:s_prev] = data[r-1,:s_now]\n",
    "end"
   ]
  },
  {
   "cell_type": "code",
   "execution_count": 244,
   "metadata": {},
   "outputs": [],
   "source": [
    "for k in 1:K\n",
    "    data[!, \"s_\" * string(k)] = 1.0.*(data.s_now .== k)\n",
    "    state_cols[k] = \"s_\" * string(k)\n",
    "end\n",
    "for k in 1:K\n",
    "    data[!, \"ls_\" * string(k)] = 1.0.*(data.s_prev .== k)\n",
    "    last_state_cols[k] = \"ls_\" * string(k)\n",
    "end"
   ]
  },
  {
   "cell_type": "markdown",
   "metadata": {},
   "source": [
    "##### Estimate conditional transition probabilities\n",
    "\n",
    "Start with transition probability conditional on $d=1$."
   ]
  },
  {
   "cell_type": "code",
   "execution_count": 280,
   "metadata": {},
   "outputs": [],
   "source": [
    "# Estimate P_d1\n",
    "P_d1 = reshape(fill(0.0,K*K), K, K);\n",
    "for k in 1:K\n",
    "    if nrow(data[(data[:d] .== 1) .& (data[:s_prev] .== k),:]) > 0\n",
    "        row_k = mean(Matrix(data[(data.d .== 1) .& (data.s_prev .== k), state_cols]), dims=1)\n",
    "        P_d1[k,:] = row_k\n",
    "    end\n",
    "end"
   ]
  },
  {
   "cell_type": "code",
   "execution_count": 286,
   "metadata": {
    "scrolled": false
   },
   "outputs": [
    {
     "data": {
      "text/plain": [
       "21×21 Array{Float64,2}:\n",
       " 0.0  0.0  0.0  0.0  0.0  0.0  0.0  0.0  0.0  0.0  0.0  0.0  0.0  0.0  0.0  0.0  0.0  0.0  0.0  0.0  0.0\n",
       " 0.0  0.0  0.0  0.0  0.0  0.0  0.0  0.0  0.0  0.0  0.0  0.0  0.0  0.0  0.0  0.0  0.0  0.0  0.0  0.0  0.0\n",
       " 0.0  0.0  0.0  0.0  0.0  0.0  0.0  0.0  0.0  0.0  0.0  0.0  0.0  0.0  0.0  0.0  0.0  0.0  0.0  0.0  0.0\n",
       " 0.0  0.0  0.0  0.0  0.0  0.0  0.0  0.0  0.0  0.0  0.0  0.0  0.0  0.0  0.0  0.0  0.0  0.0  0.0  0.0  0.0\n",
       " 0.0  0.0  0.0  0.0  0.0  0.0  0.0  0.0  0.0  0.0  0.0  0.0  0.0  0.0  0.0  0.0  0.0  0.0  0.0  0.0  0.0\n",
       " 0.0  0.0  0.0  0.0  0.0  0.0  0.0  0.0  0.0  0.0  0.0  0.0  0.0  0.0  0.0  0.0  0.0  0.0  0.0  0.0  0.0\n",
       " 1.0  0.0  0.0  0.0  0.0  0.0  0.0  0.0  0.0  0.0  0.0  0.0  0.0  0.0  0.0  0.0  0.0  0.0  0.0  0.0  0.0\n",
       " 0.3  0.3  0.3  0.0  0.0  0.0  0.0  0.0  0.0  0.0  0.0  0.0  0.0  0.0  0.0  0.0  0.0  0.0  0.0  0.0  0.0\n",
       " 0.3  0.3  0.3  0.0  0.0  0.0  0.0  0.0  0.0  0.0  0.0  0.0  0.0  0.0  0.0  0.0  0.0  0.0  0.0  0.0  0.0\n",
       " 0.5  0.5  0.0  0.0  0.0  0.0  0.0  0.0  0.0  0.0  0.0  0.0  0.0  0.0  0.0  0.0  0.0  0.0  0.0  0.0  0.0\n",
       " 0.4  0.4  0.1  0.0  0.0  0.0  0.0  0.0  0.0  0.0  0.0  0.0  0.0  0.0  0.0  0.0  0.0  0.0  0.0  0.0  0.0\n",
       " 0.5  0.4  0.1  0.0  0.0  0.0  0.0  0.0  0.0  0.0  0.0  0.0  0.0  0.0  0.0  0.0  0.0  0.0  0.0  0.0  0.0\n",
       " 0.6  0.4  0.0  0.0  0.0  0.0  0.0  0.0  0.0  0.0  0.0  0.0  0.0  0.0  0.0  0.0  0.0  0.0  0.0  0.0  0.0\n",
       " 0.6  0.4  0.0  0.0  0.0  0.0  0.0  0.0  0.0  0.0  0.0  0.0  0.0  0.0  0.0  0.0  0.0  0.0  0.0  0.0  0.0\n",
       " 0.6  0.4  0.1  0.0  0.0  0.0  0.0  0.0  0.0  0.0  0.0  0.0  0.0  0.0  0.0  0.0  0.0  0.0  0.0  0.0  0.0\n",
       " 0.5  0.4  0.0  0.0  0.0  0.0  0.0  0.0  0.0  0.0  0.0  0.0  0.0  0.0  0.0  0.0  0.0  0.0  0.0  0.0  0.0\n",
       " 0.7  0.1  0.2  0.0  0.0  0.0  0.0  0.0  0.0  0.0  0.0  0.0  0.0  0.0  0.0  0.0  0.0  0.0  0.0  0.0  0.0\n",
       " 0.7  0.3  0.0  0.0  0.0  0.0  0.0  0.0  0.0  0.0  0.0  0.0  0.0  0.0  0.0  0.0  0.0  0.0  0.0  0.0  0.0\n",
       " 0.6  0.3  0.1  0.0  0.0  0.0  0.0  0.0  0.0  0.0  0.0  0.0  0.0  0.0  0.0  0.0  0.0  0.0  0.0  0.0  0.0\n",
       " 0.4  0.4  0.1  0.0  0.0  0.0  0.0  0.0  0.0  0.0  0.0  0.0  0.0  0.0  0.0  0.0  0.0  0.0  0.0  0.0  0.0\n",
       " 0.6  0.3  0.0  0.0  0.0  0.0  0.0  0.0  0.0  0.0  0.0  0.0  0.0  0.0  0.0  0.0  0.0  0.0  0.0  0.0  0.0"
      ]
     },
     "execution_count": 286,
     "metadata": {},
     "output_type": "execute_result"
    }
   ],
   "source": [
    "round.(P_d1,digits=1)"
   ]
  },
  {
   "cell_type": "markdown",
   "metadata": {},
   "source": [
    "Now estimate transition probability conditional on $d=0$."
   ]
  },
  {
   "cell_type": "code",
   "execution_count": 283,
   "metadata": {},
   "outputs": [],
   "source": [
    "# Estimate P_d1\n",
    "P_d0 = reshape(fill(0.0,K*K), K, K);\n",
    "for k in 1:K\n",
    "    if nrow(data[(data[:d] .== 0) .& (data[:s_prev] .== k),:]) > 0\n",
    "        row_k = mean(Matrix(data[(data.d .== 0) .& (data.s_prev .== k), state_cols]), dims=1)\n",
    "        P_d0[k,:] = row_k\n",
    "    end\n",
    "end"
   ]
  },
  {
   "cell_type": "code",
   "execution_count": 288,
   "metadata": {
    "scrolled": false
   },
   "outputs": [
    {
     "data": {
      "text/plain": [
       "21×21 Array{Float64,2}:\n",
       " 0.1  0.5  0.3  0.2  0.0  0.0  0.0  0.0  0.0  0.0  0.0  0.0  0.0  0.0  0.0  0.0  0.0  0.0  0.0  0.0  0.0\n",
       " 0.0  0.0  0.3  0.5  0.1  0.0  0.0  0.0  0.0  0.0  0.0  0.0  0.0  0.0  0.0  0.0  0.0  0.0  0.0  0.0  0.0\n",
       " 0.0  0.0  0.0  0.4  0.4  0.1  0.0  0.0  0.0  0.0  0.0  0.0  0.0  0.0  0.0  0.0  0.0  0.0  0.0  0.0  0.0\n",
       " 0.0  0.0  0.0  0.1  0.4  0.3  0.2  0.0  0.0  0.0  0.0  0.0  0.0  0.0  0.0  0.0  0.0  0.0  0.0  0.0  0.0\n",
       " 0.0  0.0  0.0  0.0  0.1  0.3  0.4  0.1  0.0  0.0  0.0  0.0  0.0  0.0  0.0  0.0  0.0  0.0  0.0  0.0  0.0\n",
       " 0.0  0.0  0.0  0.0  0.0  0.0  0.3  0.5  0.1  0.0  0.0  0.0  0.0  0.0  0.0  0.0  0.0  0.0  0.0  0.0  0.0\n",
       " 0.0  0.0  0.0  0.0  0.0  0.0  0.1  0.3  0.5  0.1  0.0  0.0  0.0  0.0  0.0  0.0  0.0  0.0  0.0  0.0  0.0\n",
       " 0.0  0.0  0.0  0.0  0.0  0.0  0.0  0.0  0.4  0.4  0.1  0.0  0.0  0.0  0.0  0.0  0.0  0.0  0.0  0.0  0.0\n",
       " 0.0  0.0  0.0  0.0  0.0  0.0  0.0  0.0  0.1  0.4  0.4  0.2  0.0  0.0  0.0  0.0  0.0  0.0  0.0  0.0  0.0\n",
       " 0.0  0.0  0.0  0.0  0.0  0.0  0.0  0.0  0.0  0.1  0.4  0.4  0.1  0.0  0.0  0.0  0.0  0.0  0.0  0.0  0.0\n",
       " 0.0  0.0  0.0  0.0  0.0  0.0  0.0  0.0  0.0  0.0  0.0  0.4  0.5  0.1  0.0  0.0  0.0  0.0  0.0  0.0  0.0\n",
       " 0.0  0.0  0.0  0.0  0.0  0.0  0.0  0.0  0.0  0.0  0.0  0.1  0.4  0.4  0.1  0.0  0.0  0.0  0.0  0.0  0.0\n",
       " 0.0  0.0  0.0  0.0  0.0  0.0  0.0  0.0  0.0  0.0  0.0  0.0  0.1  0.4  0.4  0.1  0.0  0.0  0.0  0.0  0.0\n",
       " 0.0  0.0  0.0  0.0  0.0  0.0  0.0  0.0  0.0  0.0  0.0  0.0  0.0  0.1  0.5  0.4  0.1  0.0  0.0  0.0  0.0\n",
       " 0.0  0.0  0.0  0.0  0.0  0.0  0.0  0.0  0.0  0.0  0.0  0.0  0.0  0.0  0.1  0.5  0.4  0.1  0.0  0.0  0.0\n",
       " 0.0  0.0  0.0  0.0  0.0  0.0  0.0  0.0  0.0  0.0  0.0  0.0  0.0  0.0  0.0  0.1  0.5  0.3  0.0  0.0  0.0\n",
       " 0.0  0.0  0.0  0.0  0.0  0.0  0.0  0.0  0.0  0.0  0.0  0.0  0.0  0.0  0.0  0.0  0.1  0.6  0.2  0.0  0.0\n",
       " 0.0  0.0  0.0  0.0  0.0  0.0  0.0  0.0  0.0  0.0  0.0  0.0  0.0  0.0  0.0  0.0  0.0  0.2  0.7  0.2  0.0\n",
       " 0.0  0.0  0.0  0.0  0.0  0.0  0.0  0.0  0.0  0.0  0.0  0.0  0.0  0.0  0.0  0.0  0.0  0.0  0.3  0.7  0.0\n",
       " 0.0  0.0  0.0  0.0  0.0  0.0  0.0  0.0  0.0  0.0  0.0  0.0  0.0  0.0  0.0  0.0  0.0  0.0  0.0  0.4  0.6\n",
       " 0.0  0.0  0.0  0.0  0.0  0.0  0.0  0.0  0.0  0.0  0.0  0.0  0.0  0.0  0.0  0.0  0.0  0.0  0.0  0.0  1.0"
      ]
     },
     "execution_count": 288,
     "metadata": {},
     "output_type": "execute_result"
    }
   ],
   "source": [
    "round.(P_d0,digits=1)"
   ]
  },
  {
   "cell_type": "markdown",
   "metadata": {},
   "source": [
    "<br><br>\n",
    "### 3. Fixed-point solver with Rust's poly-algorithm"
   ]
  },
  {
   "cell_type": "code",
   "execution_count": null,
   "metadata": {},
   "outputs": [],
   "source": []
  },
  {
   "cell_type": "markdown",
   "metadata": {},
   "source": [
    "<br><br>\n",
    "### 4. Compute Likelihood"
   ]
  },
  {
   "cell_type": "code",
   "execution_count": null,
   "metadata": {},
   "outputs": [],
   "source": []
  },
  {
   "cell_type": "markdown",
   "metadata": {},
   "source": [
    "<br><br>\n",
    "### 5. Compute Likelihood gradient"
   ]
  },
  {
   "cell_type": "code",
   "execution_count": null,
   "metadata": {},
   "outputs": [],
   "source": []
  },
  {
   "cell_type": "markdown",
   "metadata": {},
   "source": [
    "<br><br>\n",
    "### 6. Estimation"
   ]
  },
  {
   "cell_type": "code",
   "execution_count": null,
   "metadata": {},
   "outputs": [],
   "source": []
  },
  {
   "cell_type": "markdown",
   "metadata": {},
   "source": [
    "<br><br><br><br>\n",
    "\n",
    "## QUESTION 2.3.2"
   ]
  },
  {
   "cell_type": "markdown",
   "metadata": {},
   "source": [
    "### 3. Non-parametric estimation of CCPs"
   ]
  },
  {
   "cell_type": "code",
   "execution_count": null,
   "metadata": {},
   "outputs": [],
   "source": []
  },
  {
   "cell_type": "markdown",
   "metadata": {},
   "source": [
    "### 4. Sequential policy estimation"
   ]
  },
  {
   "cell_type": "code",
   "execution_count": null,
   "metadata": {},
   "outputs": [],
   "source": []
  },
  {
   "cell_type": "markdown",
   "metadata": {},
   "source": [
    "### 5. Solving estimator once"
   ]
  },
  {
   "cell_type": "code",
   "execution_count": null,
   "metadata": {},
   "outputs": [],
   "source": []
  },
  {
   "cell_type": "markdown",
   "metadata": {},
   "source": [
    "### 6. Solving estimator 10 times"
   ]
  },
  {
   "cell_type": "code",
   "execution_count": null,
   "metadata": {},
   "outputs": [],
   "source": []
  },
  {
   "cell_type": "markdown",
   "metadata": {},
   "source": [
    "<br><br><br><br>\n",
    "\n",
    "## QUESTION 2.3.3"
   ]
  },
  {
   "cell_type": "markdown",
   "metadata": {},
   "source": [
    "### 1. Forward simulation for value function"
   ]
  },
  {
   "cell_type": "code",
   "execution_count": null,
   "metadata": {},
   "outputs": [],
   "source": []
  },
  {
   "cell_type": "markdown",
   "metadata": {},
   "source": [
    "### 2. Hotz-Miller inversion"
   ]
  },
  {
   "cell_type": "code",
   "execution_count": null,
   "metadata": {},
   "outputs": [],
   "source": []
  },
  {
   "cell_type": "markdown",
   "metadata": {},
   "source": [
    "### 3. BBL loss function"
   ]
  },
  {
   "cell_type": "code",
   "execution_count": null,
   "metadata": {},
   "outputs": [],
   "source": []
  },
  {
   "cell_type": "markdown",
   "metadata": {},
   "source": [
    "### 4. Frequency estimator"
   ]
  },
  {
   "cell_type": "code",
   "execution_count": null,
   "metadata": {},
   "outputs": [],
   "source": []
  },
  {
   "cell_type": "markdown",
   "metadata": {},
   "source": [
    "### 5. Estimation"
   ]
  },
  {
   "cell_type": "code",
   "execution_count": null,
   "metadata": {},
   "outputs": [],
   "source": []
  }
 ],
 "metadata": {
  "kernelspec": {
   "display_name": "Julia 1.5.3",
   "language": "julia",
   "name": "julia-1.5"
  },
  "language_info": {
   "file_extension": ".jl",
   "mimetype": "application/julia",
   "name": "julia",
   "version": "1.5.3"
  }
 },
 "nbformat": 4,
 "nbformat_minor": 4
}
