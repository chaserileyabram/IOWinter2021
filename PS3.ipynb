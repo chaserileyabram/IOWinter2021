{
 "cells": [
  {
   "cell_type": "markdown",
   "metadata": {},
   "source": [
    "# 1. Data"
   ]
  },
  {
   "cell_type": "code",
   "execution_count": 1,
   "metadata": {},
   "outputs": [],
   "source": [
    "# using Pkg\n",
    "# Pkg.add(\"DataFrames\")\n",
    "using CSV\n",
    "using DataFrames\n",
    "using ForwardDiff\n",
    "using LinearAlgebra\n",
    "using Optim\n",
    "\n",
    "using Random\n",
    "using Statistics"
   ]
  },
  {
   "cell_type": "code",
   "execution_count": 7,
   "metadata": {},
   "outputs": [
    {
     "data": {
      "text/html": [
       "<table class=\"data-frame\"><thead><tr><th></th><th>Data NuEer</th><th>bidder</th><th>house</th><th>date</th><th>lot</th><th>profit</th><th>Net  Payment</th><th>rank</th><th>realisation in final auAtion</th></tr><tr><th></th><th>Int64</th><th>Int64</th><th>String</th><th>Int64</th><th>String</th><th>Float64</th><th>Float64</th><th>Int64</th><th>Int64</th></tr></thead><tbody><p>2,636 rows × 21 columns (omitted printing of 12 columns)</p><tr><th>1</th><td>1</td><td>1</td><td>A</td><td>35360</td><td>217</td><td>150.0</td><td>-150.0</td><td>1</td><td>5200</td></tr><tr><th>2</th><td>2</td><td>2</td><td>A</td><td>35360</td><td>217</td><td>150.0</td><td>150.0</td><td>2</td><td>5200</td></tr><tr><th>3</th><td>3</td><td>1</td><td>A</td><td>35360</td><td>218</td><td>0.0</td><td>0.0</td><td>1</td><td>1000</td></tr><tr><th>4</th><td>4</td><td>1</td><td>A</td><td>35360</td><td>220</td><td>0.0</td><td>0.0</td><td>1</td><td>1500</td></tr><tr><th>5</th><td>5</td><td>1</td><td>A</td><td>35360</td><td>222</td><td>0.0</td><td>0.0</td><td>1</td><td>4800</td></tr><tr><th>6</th><td>6</td><td>1</td><td>A</td><td>35360</td><td>350</td><td>0.0</td><td>0.0</td><td>1</td><td>2200</td></tr><tr><th>7</th><td>7</td><td>2</td><td>A</td><td>35360</td><td>350</td><td>0.0</td><td>0.0</td><td>2</td><td>2200</td></tr><tr><th>8</th><td>8</td><td>3</td><td>A</td><td>35360</td><td>350</td><td>0.0</td><td>0.0</td><td>3</td><td>2200</td></tr><tr><th>9</th><td>9</td><td>1</td><td>A</td><td>35360</td><td>351</td><td>0.0</td><td>0.0</td><td>1</td><td>1400</td></tr><tr><th>10</th><td>10</td><td>1</td><td>A</td><td>35360</td><td>352</td><td>0.0</td><td>0.0</td><td>1</td><td>200</td></tr><tr><th>11</th><td>11</td><td>2</td><td>A</td><td>35360</td><td>353</td><td>65.0</td><td>-65.0</td><td>1</td><td>420</td></tr><tr><th>12</th><td>12</td><td>3</td><td>A</td><td>35360</td><td>353</td><td>65.0</td><td>65.0</td><td>2</td><td>420</td></tr><tr><th>13</th><td>13</td><td>1</td><td>A</td><td>35360</td><td>353</td><td>0.0</td><td>0.0</td><td>3</td><td>420</td></tr><tr><th>14</th><td>14</td><td>2</td><td>A</td><td>35360</td><td>354</td><td>0.0</td><td>0.0</td><td>1</td><td>130</td></tr><tr><th>15</th><td>15</td><td>3</td><td>A</td><td>35360</td><td>355</td><td>0.0</td><td>0.0</td><td>1</td><td>1000</td></tr><tr><th>16</th><td>16</td><td>1</td><td>A</td><td>35360</td><td>355</td><td>0.0</td><td>0.0</td><td>2</td><td>1000</td></tr><tr><th>17</th><td>17</td><td>2</td><td>A</td><td>35360</td><td>355</td><td>0.0</td><td>0.0</td><td>3</td><td>1000</td></tr><tr><th>18</th><td>18</td><td>1</td><td>A</td><td>35360</td><td>357</td><td>0.0</td><td>0.0</td><td>1</td><td>4800</td></tr><tr><th>19</th><td>19</td><td>3</td><td>A</td><td>35360</td><td>357</td><td>0.0</td><td>0.0</td><td>2</td><td>4800</td></tr><tr><th>20</th><td>20</td><td>2</td><td>A</td><td>35360</td><td>357</td><td>0.0</td><td>0.0</td><td>3</td><td>4800</td></tr><tr><th>21</th><td>21</td><td>1</td><td>A</td><td>35360</td><td>358</td><td>0.0</td><td>0.0</td><td>1</td><td>850</td></tr><tr><th>22</th><td>22</td><td>2</td><td>A</td><td>35360</td><td>358</td><td>0.0</td><td>0.0</td><td>2</td><td>850</td></tr><tr><th>23</th><td>61</td><td>1</td><td>A</td><td>35360</td><td>375</td><td>0.0</td><td>0.0</td><td>1</td><td>750</td></tr><tr><th>24</th><td>62</td><td>3</td><td>A</td><td>35360</td><td>375</td><td>0.0</td><td>0.0</td><td>2</td><td>750</td></tr><tr><th>25</th><td>63</td><td>2</td><td>A</td><td>35360</td><td>375</td><td>0.0</td><td>0.0</td><td>3</td><td>750</td></tr><tr><th>26</th><td>64</td><td>2</td><td>A</td><td>35360</td><td>377</td><td>0.0</td><td>0.0</td><td>1</td><td>420</td></tr><tr><th>27</th><td>65</td><td>1</td><td>A</td><td>35360</td><td>378</td><td>0.0</td><td>0.0</td><td>1</td><td>2900</td></tr><tr><th>28</th><td>66</td><td>2</td><td>A</td><td>35360</td><td>378</td><td>0.0</td><td>0.0</td><td>2</td><td>2900</td></tr><tr><th>29</th><td>67</td><td>2</td><td>A</td><td>35360</td><td>379</td><td>0.0</td><td>0.0</td><td>1</td><td>1800</td></tr><tr><th>30</th><td>68</td><td>1</td><td>A</td><td>35360</td><td>379</td><td>0.0</td><td>0.0</td><td>2</td><td>1800</td></tr><tr><th>&vellip;</th><td>&vellip;</td><td>&vellip;</td><td>&vellip;</td><td>&vellip;</td><td>&vellip;</td><td>&vellip;</td><td>&vellip;</td><td>&vellip;</td><td>&vellip;</td></tr></tbody></table>"
      ],
      "text/latex": [
       "\\begin{tabular}{r|cccccccccc}\n",
       "\t& Data NuEer & bidder & house & date & lot & profit & Net  Payment & rank & realisation in final auAtion & \\\\\n",
       "\t\\hline\n",
       "\t& Int64 & Int64 & String & Int64 & String & Float64 & Float64 & Int64 & Int64 & \\\\\n",
       "\t\\hline\n",
       "\t1 & 1 & 1 & A & 35360 & 217 & 150.0 & -150.0 & 1 & 5200 & $\\dots$ \\\\\n",
       "\t2 & 2 & 2 & A & 35360 & 217 & 150.0 & 150.0 & 2 & 5200 & $\\dots$ \\\\\n",
       "\t3 & 3 & 1 & A & 35360 & 218 & 0.0 & 0.0 & 1 & 1000 & $\\dots$ \\\\\n",
       "\t4 & 4 & 1 & A & 35360 & 220 & 0.0 & 0.0 & 1 & 1500 & $\\dots$ \\\\\n",
       "\t5 & 5 & 1 & A & 35360 & 222 & 0.0 & 0.0 & 1 & 4800 & $\\dots$ \\\\\n",
       "\t6 & 6 & 1 & A & 35360 & 350 & 0.0 & 0.0 & 1 & 2200 & $\\dots$ \\\\\n",
       "\t7 & 7 & 2 & A & 35360 & 350 & 0.0 & 0.0 & 2 & 2200 & $\\dots$ \\\\\n",
       "\t8 & 8 & 3 & A & 35360 & 350 & 0.0 & 0.0 & 3 & 2200 & $\\dots$ \\\\\n",
       "\t9 & 9 & 1 & A & 35360 & 351 & 0.0 & 0.0 & 1 & 1400 & $\\dots$ \\\\\n",
       "\t10 & 10 & 1 & A & 35360 & 352 & 0.0 & 0.0 & 1 & 200 & $\\dots$ \\\\\n",
       "\t11 & 11 & 2 & A & 35360 & 353 & 65.0 & -65.0 & 1 & 420 & $\\dots$ \\\\\n",
       "\t12 & 12 & 3 & A & 35360 & 353 & 65.0 & 65.0 & 2 & 420 & $\\dots$ \\\\\n",
       "\t13 & 13 & 1 & A & 35360 & 353 & 0.0 & 0.0 & 3 & 420 & $\\dots$ \\\\\n",
       "\t14 & 14 & 2 & A & 35360 & 354 & 0.0 & 0.0 & 1 & 130 & $\\dots$ \\\\\n",
       "\t15 & 15 & 3 & A & 35360 & 355 & 0.0 & 0.0 & 1 & 1000 & $\\dots$ \\\\\n",
       "\t16 & 16 & 1 & A & 35360 & 355 & 0.0 & 0.0 & 2 & 1000 & $\\dots$ \\\\\n",
       "\t17 & 17 & 2 & A & 35360 & 355 & 0.0 & 0.0 & 3 & 1000 & $\\dots$ \\\\\n",
       "\t18 & 18 & 1 & A & 35360 & 357 & 0.0 & 0.0 & 1 & 4800 & $\\dots$ \\\\\n",
       "\t19 & 19 & 3 & A & 35360 & 357 & 0.0 & 0.0 & 2 & 4800 & $\\dots$ \\\\\n",
       "\t20 & 20 & 2 & A & 35360 & 357 & 0.0 & 0.0 & 3 & 4800 & $\\dots$ \\\\\n",
       "\t21 & 21 & 1 & A & 35360 & 358 & 0.0 & 0.0 & 1 & 850 & $\\dots$ \\\\\n",
       "\t22 & 22 & 2 & A & 35360 & 358 & 0.0 & 0.0 & 2 & 850 & $\\dots$ \\\\\n",
       "\t23 & 61 & 1 & A & 35360 & 375 & 0.0 & 0.0 & 1 & 750 & $\\dots$ \\\\\n",
       "\t24 & 62 & 3 & A & 35360 & 375 & 0.0 & 0.0 & 2 & 750 & $\\dots$ \\\\\n",
       "\t25 & 63 & 2 & A & 35360 & 375 & 0.0 & 0.0 & 3 & 750 & $\\dots$ \\\\\n",
       "\t26 & 64 & 2 & A & 35360 & 377 & 0.0 & 0.0 & 1 & 420 & $\\dots$ \\\\\n",
       "\t27 & 65 & 1 & A & 35360 & 378 & 0.0 & 0.0 & 1 & 2900 & $\\dots$ \\\\\n",
       "\t28 & 66 & 2 & A & 35360 & 378 & 0.0 & 0.0 & 2 & 2900 & $\\dots$ \\\\\n",
       "\t29 & 67 & 2 & A & 35360 & 379 & 0.0 & 0.0 & 1 & 1800 & $\\dots$ \\\\\n",
       "\t30 & 68 & 1 & A & 35360 & 379 & 0.0 & 0.0 & 2 & 1800 & $\\dots$ \\\\\n",
       "\t$\\dots$ & $\\dots$ & $\\dots$ & $\\dots$ & $\\dots$ & $\\dots$ & $\\dots$ & $\\dots$ & $\\dots$ & $\\dots$ &  \\\\\n",
       "\\end{tabular}\n"
      ],
      "text/plain": [
       "\u001b[1m2636×21 DataFrame\u001b[0m\n",
       "\u001b[1m  Row \u001b[0m│\u001b[1m Data NuEer \u001b[0m\u001b[1m bidder \u001b[0m\u001b[1m house  \u001b[0m\u001b[1m date  \u001b[0m\u001b[1m lot    \u001b[0m\u001b[1m profit   \u001b[0m\u001b[1m Net  Payment \u001b[0m\u001b[1m ran\u001b[0m ⋯\n",
       "\u001b[1m      \u001b[0m│\u001b[90m Int64      \u001b[0m\u001b[90m Int64  \u001b[0m\u001b[90m String \u001b[0m\u001b[90m Int64 \u001b[0m\u001b[90m String \u001b[0m\u001b[90m Float64  \u001b[0m\u001b[90m Float64      \u001b[0m\u001b[90m Int\u001b[0m ⋯\n",
       "──────┼─────────────────────────────────────────────────────────────────────────\n",
       "    1 │          1       1  A       35360  217     150.0        -150.0         ⋯\n",
       "    2 │          2       2  A       35360  217     150.0         150.0\n",
       "    3 │          3       1  A       35360  218       0.0           0.0\n",
       "    4 │          4       1  A       35360  220       0.0           0.0\n",
       "    5 │          5       1  A       35360  222       0.0           0.0         ⋯\n",
       "    6 │          6       1  A       35360  350       0.0           0.0\n",
       "    7 │          7       2  A       35360  350       0.0           0.0\n",
       "    8 │          8       3  A       35360  350       0.0           0.0\n",
       "    9 │          9       1  A       35360  351       0.0           0.0         ⋯\n",
       "   10 │         10       1  A       35360  352       0.0           0.0\n",
       "   11 │         11       2  A       35360  353      65.0         -65.0\n",
       "  ⋮   │     ⋮         ⋮       ⋮       ⋮      ⋮        ⋮           ⋮          ⋮ ⋱\n",
       " 2627 │       4155       7  F1      35500  1183    462.5        -462.5\n",
       " 2628 │       4156       4  F1      35500  1183    295.833       295.833       ⋯\n",
       " 2629 │       4157       1  F1      35500  1183    145.833       145.833\n",
       " 2630 │       4158       2  F1      35500  1183     20.8333       20.8333\n",
       " 2631 │       4159       3  F1      35500  1184      0.0           0.0\n",
       " 2632 │       4160       5  F1      35500  1184      0.0           0.0         ⋯\n",
       " 2633 │       4161       6  F1      35500  1184      0.0           0.0\n",
       " 2634 │       4162       4  F1      35500  1184      0.0           0.0\n",
       " 2635 │       4163       1  F1      35500  1184      0.0           0.0\n",
       " 2636 │       4164       2  F1      35500  1184      0.0           0.0         ⋯\n",
       "\u001b[31m                                                14 columns and 2615 rows omitted\u001b[0m"
      ]
     },
     "execution_count": 7,
     "metadata": {},
     "output_type": "execute_result"
    }
   ],
   "source": [
    "df = DataFrame()\n",
    "df = CSV.read(\"ps3clean.csv\", DataFrame)"
   ]
  },
  {
   "cell_type": "code",
   "execution_count": 10,
   "metadata": {},
   "outputs": [
    {
     "data": {
      "text/plain": [
       "21-element Array{String,1}:\n",
       " \"Data NuEer\"\n",
       " \"bidder\"\n",
       " \"house\"\n",
       " \"date\"\n",
       " \"lot\"\n",
       " \"profit\"\n",
       " \"Net  Payment\"\n",
       " \"rank\"\n",
       " \"realisation in final auAtion\"\n",
       " \"bid\"\n",
       " \"EstDated MinDum\"\n",
       " \"EstDated MaxDum\"\n",
       " \"Aatalog PriAe\"\n",
       " \"Aatalog Du10y\"\n",
       " \"EstDate Min\"\n",
       " \"EstDate Max\"\n",
       " \"Grade Min \"\n",
       " \"Grade Max\"\n",
       " \"No Grade\"\n",
       " \"ExAlusively US\"\n",
       " \"No Value\""
      ]
     },
     "execution_count": 10,
     "metadata": {},
     "output_type": "execute_result"
    }
   ],
   "source": [
    "names(df)\n",
    "# println(minimum(df[:,1]))\n",
    "# println(maximum(df[:,1]))"
   ]
  },
  {
   "cell_type": "code",
   "execution_count": null,
   "metadata": {},
   "outputs": [],
   "source": []
  }
 ],
 "metadata": {
  "kernelspec": {
   "display_name": "Julia 1.5.3",
   "language": "julia",
   "name": "julia-1.5"
  },
  "language_info": {
   "file_extension": ".jl",
   "mimetype": "application/julia",
   "name": "julia",
   "version": "1.5.3"
  }
 },
 "nbformat": 4,
 "nbformat_minor": 2
}
