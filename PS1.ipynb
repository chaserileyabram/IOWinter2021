{
 "cells": [
  {
   "cell_type": "code",
   "execution_count": 521,
   "metadata": {},
   "outputs": [
    {
     "data": {
      "text/plain": [
       "MersenneTwister(UInt32[0x00003039], Random.DSFMT.DSFMT_state(Int32[-870096391, 1072918504, -1812426662, 1073255081, -733866021, 1073404543, 807620846, 1073368448, 1919433844, 1072852359  …  -362113007, 1073100625, -166402106, 1073460158, -1907020342, 721295190, -750225566, -1300227565, 382, 0]), [0.0, 0.0, 0.0, 0.0, 0.0, 0.0, 0.0, 0.0, 0.0, 0.0  …  0.0, 0.0, 0.0, 0.0, 0.0, 0.0, 0.0, 0.0, 0.0, 0.0], UInt128[0x00000000000000000000000000000000, 0x00000000000000000000000000000000, 0x00000000000000000000000000000000, 0x00000000000000000000000000000000, 0x00000000000000000000000000000000, 0x00000000000000000000000000000000, 0x00000000000000000000000000000000, 0x00000000000000000000000000000000, 0x00000000000000000000000000000000, 0x00000000000000000000000000000000  …  0x00000000000000000000000000000000, 0x00000000000000000000000000000000, 0x00000000000000000000000000000000, 0x00000000000000000000000000000000, 0x00000000000000000000000000000000, 0x00000000000000000000000000000000, 0x00000000000000000000000000000000, 0x00000000000000000000000000000000, 0x00000000000000000000000000000000, 0x00000000000000000000000000000000], 1002, 0)"
      ]
     },
     "execution_count": 521,
     "metadata": {},
     "output_type": "execute_result"
    }
   ],
   "source": [
    "# Chase Abram\n",
    "# using Pkg\n",
    "# Pkg.add(\"DataFrames\")\n",
    "# using CSV\n",
    "# using DataFrames\n",
    "# # df = DataFrame()\n",
    "# df = CSV.read(\"psetOne.csv\", DataFrame)\n",
    "\n",
    "# Pkg.add(\"ForwardDiff\")\n",
    "using ForwardDiff\n",
    "using LinearAlgebra\n",
    "using Optim\n",
    "\n",
    "using Random\n",
    "rng = MersenneTwister(12345)"
   ]
  },
  {
   "cell_type": "code",
   "execution_count": 161,
   "metadata": {},
   "outputs": [
    {
     "data": {
      "text/plain": [
       "7×2 BitArray{2}:\n",
       " 0  0\n",
       " 0  0\n",
       " 1  0\n",
       " 1  0\n",
       " 0  1\n",
       " 0  1\n",
       " 0  1"
      ]
     },
     "execution_count": 161,
     "metadata": {},
     "output_type": "execute_result"
    }
   ],
   "source": [
    "names(df)\n",
    "df17 = df[df.\"Market\" .== 17, :]\n",
    "# df17.\"shares\"\n",
    "# X = convert(Matrix, df17[:, filter(x -> x in [\"Constant\", \"EngineSize\", \"SportsBike\", \"Brand2\", \"Brand3\"], names(df17))])\n",
    "Br = convert(Matrix, df17[:, filter(x -> x in [\"Brand2\", \"Brand3\"], names(df17))])\n",
    "Br = Bool.(Br)"
   ]
  },
  {
   "cell_type": "code",
   "execution_count": 582,
   "metadata": {},
   "outputs": [
    {
     "data": {
      "text/plain": [
       "solve_fp_logit (generic function with 3 methods)"
      ]
     },
     "execution_count": 582,
     "metadata": {},
     "output_type": "execute_result"
    }
   ],
   "source": [
    "function u_bar_jt(delta, sigma, X, zeta)\n",
    "    return delta .+ X*sigma*zeta\n",
    "end\n",
    "\n",
    "function Prij(u_bar)\n",
    "    return exp.(u_bar)./sum(exp.(u_bar))\n",
    "end\n",
    "\n",
    "# Shares\n",
    "function s_logit(p, alpha, beta, X, xi)\n",
    "    # Computer nmuerators for each s_j\n",
    "    nums = exp.(X*beta .- alpha.*p[2:end] .+ xi)\n",
    "    \n",
    "    # return s_j, starting with s_0\n",
    "    return [1/(1 + sum(nums)); nums./(1 + sum(nums))]\n",
    "end\n",
    "\n",
    "# Jacobian of shares\n",
    "function s_logit_jac(p, alpha, beta, X, xi)\n",
    "    # Get shares\n",
    "    s = s_logit(p, alpha, beta, X, xi)\n",
    "    \n",
    "    # Jacobian is the outer product times alpha in this case...\n",
    "    jac = alpha .* s * s'\n",
    "    \n",
    "    # ... except for an extra term on the diag\n",
    "    for j in 1: length(p)\n",
    "        jac[j,j] -= alpha*s[j]\n",
    "    end\n",
    "    \n",
    "    return jac\n",
    "end\n",
    "\n",
    "# Hessian of shares (n by n by n tensor)\n",
    "function s_logit_hess(p, alpha, beta, X, xi)\n",
    "    \n",
    "    # Initialize\n",
    "    hess = zeros(length(p), length(p), length(p))\n",
    "    \n",
    "    # Fill in\n",
    "    for j in 1:length(p)\n",
    "        for k in 1:length(p)\n",
    "            for l in 1:length(p)\n",
    "                \n",
    "                # Shares\n",
    "                s = s_logit(p, alpha, beta, X, xi)\n",
    "                \n",
    "                # Jacobian of shares\n",
    "                sj = s_logit_jac(p, alpha, beta, X, xi)\n",
    "                \n",
    "                if j == k # && j == l\n",
    "                    # on diag of jacobian\n",
    "                    hess[j,k,l] = alpha*sj[l,j]*(2*s[j] - 1)\n",
    "                else\n",
    "                    # off diag of jacobian\n",
    "                    hess[j,k,l] = alpha*(sj[l,j]*s[k] + s[j]*sj[l,k])\n",
    "                end\n",
    "            end\n",
    "        end\n",
    "    end\n",
    "    \n",
    "    return hess\n",
    "end\n",
    "\n",
    "# Ownership structure\n",
    "function Omega_star(br)\n",
    "    \n",
    "    # Initialize\n",
    "    Om = zeros(size(br,1) + 1,size(br,1) + 1)\n",
    "    \n",
    "    for i in 1:size(Om,1) - 1\n",
    "        for j in 1:size(Om,2) - 1\n",
    "            if br[i,1] && br[j,1]\n",
    "                # Brand2\n",
    "                Om[i+1,j+1] = 1\n",
    "            elseif br[i,2] && br[j,2]\n",
    "                # Brand3\n",
    "                Om[i+1,j+1] = 1\n",
    "            elseif (!br[i,1]&& !br[j,1]) && (!br[i,2]&& !br[j,2])\n",
    "                # Brand1\n",
    "                Om[i+1,j+1] = 1\n",
    "            end\n",
    "        end\n",
    "    end\n",
    "    \n",
    "    # Outside option\n",
    "    Om[1,1] = 1\n",
    "    \n",
    "    return Om\n",
    "end\n",
    "\n",
    "# Negative of Omega in Nevo (2001)\n",
    "function Omega(p, alpha, beta, X, xi, br)\n",
    "    return Omega_star(br) .* s_logit_jac(p, alpha, beta, X, xi)\n",
    "end\n",
    "\n",
    "# Fixed point expression (want zero at FP)\n",
    "function fp_logit(p, alpha, beta, X, xi, br)\n",
    "    return s_logit(p, alpha, beta, X, xi) + Omega(p, alpha, beta, X, xi, br)*p\n",
    "end\n",
    "\n",
    "# (Jacobian of Omega)*p (this is used in the gradient of the FP expression)\n",
    "function jac_om_p(p, alpha, beta, X, xi, br)\n",
    "    jacomp = zeros(length(p), length(p))\n",
    "    hess = s_logit_hess(p, alpha, beta, X, xi)\n",
    "    oms = Omega_star(br)\n",
    "    for i in 1:length(p)\n",
    "        for j in 1:length(p)\n",
    "            jacomp[i,j] = ((hess[i,:,j].* oms[i,j])'* p)[1]\n",
    "        end\n",
    "    end\n",
    "    return jacomp\n",
    "end\n",
    "\n",
    "function fp_logit_2(p, alpha, beta, X, xi, br)\n",
    "    return (fp_logit(p, alpha, beta, X, xi, br)' * fp_logit(p, alpha, beta, X, xi, br))[1]\n",
    "end\n",
    "\n",
    "\n",
    "# function fp_logit_2_jac(storage, p, alpha, beta, X, xi, br)\n",
    "#     sp = s_logit(p, alpha, beta, X, xi)\n",
    "#     Om = Omega_star(br).* s_logit_jac(p, alpha, beta, X, xi)\n",
    "#     s_jac = s_logit_jac(p, alpha, beta, X, xi)\n",
    "#     jacomp = jac_om_p(p, alpha, beta, X, xi, br)\n",
    "    \n",
    "#     jac = 2*(sp + Om*p)' * (s_jac + jacomp + Om)\n",
    "#     for i in 1:length(p)\n",
    "#         storage[i] = jac[i]\n",
    "#     end\n",
    "# #     storage = (sp + Om*p)' * (s_jac + jacomp + Om)\n",
    "# #     storage = 0\n",
    "# #     return storage\n",
    "    \n",
    "# end\n",
    "\n",
    "function fp_logit_2_jac(storage, p, alpha, beta, X, xi, br)\n",
    "    s = s_logit(p, alpha, beta, X, xi)\n",
    "    oms = Omega_star(br)\n",
    "    sj = s_logit_jac(p, alpha, beta, X, xi)\n",
    "    sh = s_logit_hess(p, alpha, beta, X, xi)\n",
    "    \n",
    "    for k in 1:length(p)\n",
    "        storage[k] = (2 .* (s + (oms .* sj)*p)' * (sj[k,:] + (oms .* sh[:,:,k])*p + sj[:,k]))[1]\n",
    "    end\n",
    "    return storage\n",
    "end\n",
    "\n",
    "\n",
    "function solve_fp_logit(alpha, beta, X, xi, br, tol = 1e-14, maxit = 100)\n",
    "    \n",
    "    f(x) = fp_logit_2(x, alpha, beta, X, xi, br)[1,1]\n",
    "    g!(storage, x) = fp_logit_2_jac(storage, x, alpha, beta, X, xi, br)\n",
    "    \n",
    "    opt = optimize(f, p, NelderMead(), Optim.Options(f_tol = tol))\n",
    "#     opt = optimize(f, g!, p, BFGS(), Optim.Options(time_limit = 5.0))\n",
    "    return opt, opt.minimizer, opt.minimum\n",
    "#     return opt\n",
    "end\n",
    "\n"
   ]
  },
  {
   "cell_type": "code",
   "execution_count": 583,
   "metadata": {},
   "outputs": [
    {
     "name": "stdout",
     "output_type": "stream",
     "text": [
      "sum shares: 1.0\n",
      "[5.0694701729343456e-5, 0.0024239009659556884, 0.0030534676272433864, 0.00022845517442355136, 0.0011220259776003948, 0.011759383413529603, -0.29120987877836574, 0.27257195091788344]\n",
      "opam: [3.970021275086938; 0.37958236173424115; 0.37994905573014914; 0.32741313950161793; 2.7116367297024384; 2.7553053115731347; 2.5792069606547856; 2.5799608022555303]\n",
      "test on fp: [-0.0019329810601636682; 8.076164753113152e-5; 2.6185127166580835e-5; 0.00014324649069367718; -0.000164621365818419; -0.0002808300810518432; -1.7153535733394065e-5; -4.8785723733145436e-5]\n"
     ]
    }
   ],
   "source": [
    "p = ones(size(X,1)+1,1)\n",
    "p[7] = 1\n",
    "alpha = 3\n",
    "beta = [1 1 2 -1 1]'\n",
    "\n",
    "# seed maintains results across runs\n",
    "rng = MersenneTwister(1234)\n",
    "xi = randn(rng, size(df17,1))\n",
    "\n",
    "s_logit(p, alpha, beta, X, xi)\n",
    "println(\"sum shares: \", sum(s_logit(p, alpha, beta, X, xi)))\n",
    "\n",
    "s_logit_jac(p, alpha, beta, X, xi)\n",
    "\n",
    "s_logit_hess(p, alpha, beta, X, xi)\n",
    "\n",
    "# Omega_star(Br)\n",
    "\n",
    "# Omega(p, alpha, beta, X, xi, Br)\n",
    "\n",
    "# fp_logit(p, alpha, beta, X, xi, Br)' * fp_logit(p, alpha, beta, X, xi, Br)\n",
    "\n",
    "# fp_logit_2(p, alpha, beta, X, xi, Br)\n",
    "st = zeros(length(p))\n",
    "fp_logit_2_jac(st, p, alpha, beta, X, xi, Br)\n",
    "println(st)\n",
    "\n",
    "# jac_om_p(p, alpha, beta, X, xi, Br)\n",
    "\n",
    "# fp_logit_jac(p, alpha, beta, X, xi, Br)\n",
    "\n",
    "\n",
    "op, opam, opm = solve_fp_logit(alpha, beta, X, xi, Br)\n",
    "println(\"opam: \", opam)\n",
    "println(\"test on fp: \", fp_logit(opam, alpha, beta, X, xi, Br))\n",
    "\n",
    "# op = optimize(x -> (fp_logit(x, alpha, beta, X, xi, Br)' * fp_logit(x, alpha, beta, X, xi, Br))[1,1], p, LBFGS())\n",
    "\n",
    "# pmin = op.minimizer\n",
    "# println(\"p min: \", pmin)\n",
    "# println(\"min: \", op.minimum)\n",
    "# println(\"fp_logit: \", fp_logit(pmin, alpha, beta, X, xi, Br))\n",
    "# df17[3, \"Brand2\"]"
   ]
  },
  {
   "cell_type": "code",
   "execution_count": 430,
   "metadata": {},
   "outputs": [
    {
     "data": {
      "text/plain": [
       "sHat (generic function with 1 method)"
      ]
     },
     "execution_count": 430,
     "metadata": {},
     "output_type": "execute_result"
    }
   ],
   "source": [
    "# NM: opam: [3.970021275086938; 0.37958236173424115; 0.37994905573014914; \n",
    "#     0.32741313950161793; 2.7116367297024384; 2.7553053115731347; 2.5792069606547856; \n",
    "#     2.5799608022555303]\n",
    "\n",
    "\n",
    "\n",
    "function sHat(delta, X, sigma, zeta)\n",
    "    \n",
    "    \n",
    "    # Compute u_bar_ijt\n",
    "    \n",
    "    # Compute prob.\n",
    "    \n",
    "    # Do above I times, then integrate\n",
    "    \n",
    "    \n",
    "    return 0\n",
    "end\n",
    "\n"
   ]
  },
  {
   "cell_type": "code",
   "execution_count": 456,
   "metadata": {},
   "outputs": [
    {
     "data": {
      "text/plain": [
       "( * Status: success\n",
       "\n",
       " * Candidate solution\n",
       "    Final objective value:     0.000000e+00\n",
       "\n",
       " * Found with\n",
       "    Algorithm:     L-BFGS\n",
       "\n",
       " * Convergence measures\n",
       "    |x - x'|               = 4.50e+01 ≰ 0.0e+00\n",
       "    |x - x'|/|x'|          = 1.00e+00 ≰ 0.0e+00\n",
       "    |f(x) - f(x')|         = 2.09e+03 ≰ 0.0e+00\n",
       "    |f(x) - f(x')|/|f(x')| = Inf ≰ 0.0e+00\n",
       "    |g(x)|                 = 0.00e+00 ≤ 1.0e-08\n",
       "\n",
       " * Work counters\n",
       "    Seconds run:   0  (vs limit Inf)\n",
       "    Iterations:    1\n",
       "    f(x) calls:    3\n",
       "    ∇f(x) calls:   3\n",
       ", [45.0, 8.0], 0.0)"
      ]
     },
     "execution_count": 456,
     "metadata": {},
     "output_type": "execute_result"
    }
   ],
   "source": [
    "function tester()\n",
    "    f1(x, y, z) = (x[1] - 5 - y)^2 + (x[2] - 3 - z)^2\n",
    "    \n",
    "    function g(storage, x, y, z)\n",
    "        storage[1] = 2*(x[1] - 5 - y)\n",
    "        storage[2] = 2*(x[2] - 3 - z)\n",
    "    end\n",
    "    \n",
    "    a = 40\n",
    "    b = 5\n",
    "    f(x) = f1(x,a,b)\n",
    "    g!(storage, x) = g(storage, x, a, b)\n",
    "    \n",
    "    \n",
    "    opt = optimize(f, g!, [0.0, 0.0], LBFGS())\n",
    "    return opt, opt.minimizer, opt.minimum\n",
    "end\n",
    "\n",
    "tester()"
   ]
  },
  {
   "cell_type": "code",
   "execution_count": 548,
   "metadata": {},
   "outputs": [
    {
     "name": "stdout",
     "output_type": "stream",
     "text": [
      "[3.9929727590596066e-5, 0.011822701069386479, 0.2066532414565205, 0.00414575194000096, 0.015471991579947249, 0.016449738377790225, -0.6052484173047031, 0.350665063153467]\n"
     ]
    },
    {
     "data": {
      "text/plain": [
       "8×1 Array{Float64,2}:\n",
       "  5.1405017651023615e-11\n",
       "  0.008373081149785726\n",
       "  0.14654326150353097\n",
       "  0.0029362656998745892\n",
       "  0.010958999382011163\n",
       "  0.016453668029284087\n",
       " -0.6045129417687891\n",
       "  0.3511811100518005"
      ]
     },
     "execution_count": 548,
     "metadata": {},
     "output_type": "execute_result"
    }
   ],
   "source": [
    "p = 0.5*ones(size(X,1) + 1,1)\n",
    "fp(x) = fp_logit_2(x, alpha, beta, X, xi, Br)\n",
    "println(fp_logit_2_jac(st, p, alpha, beta, X, xi, Br))\n",
    "\n",
    "ForwardDiff.gradient(fp, p)"
   ]
  },
  {
   "cell_type": "code",
   "execution_count": null,
   "metadata": {},
   "outputs": [],
   "source": []
  }
 ],
 "metadata": {
  "kernelspec": {
   "display_name": "Julia 1.5.3",
   "language": "julia",
   "name": "julia-1.5"
  },
  "language_info": {
   "file_extension": ".jl",
   "mimetype": "application/julia",
   "name": "julia",
   "version": "1.5.3"
  }
 },
 "nbformat": 4,
 "nbformat_minor": 2
}
