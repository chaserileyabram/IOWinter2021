{
 "cells": [
  {
   "cell_type": "code",
   "execution_count": 326,
   "metadata": {},
   "outputs": [
    {
     "data": {
      "text/plain": [
       "MersenneTwister(UInt32[0x00003039], Random.DSFMT.DSFMT_state(Int32[-870096391, 1072918504, -1812426662, 1073255081, -733866021, 1073404543, 807620846, 1073368448, 1919433844, 1072852359  …  -362113007, 1073100625, -166402106, 1073460158, -1907020342, 721295190, -750225566, -1300227565, 382, 0]), [0.0, 0.0, 0.0, 0.0, 0.0, 0.0, 0.0, 0.0, 0.0, 0.0  …  0.0, 0.0, 0.0, 0.0, 0.0, 0.0, 0.0, 0.0, 0.0, 0.0], UInt128[0x00000000000000000000000000000000, 0x00000000000000000000000000000000, 0x00000000000000000000000000000000, 0x00000000000000000000000000000000, 0x00000000000000000000000000000000, 0x00000000000000000000000000000000, 0x00000000000000000000000000000000, 0x00000000000000000000000000000000, 0x00000000000000000000000000000000, 0x00000000000000000000000000000000  …  0x00000000000000000000000000000000, 0x00000000000000000000000000000000, 0x00000000000000000000000000000000, 0x00000000000000000000000000000000, 0x00000000000000000000000000000000, 0x00000000000000000000000000000000, 0x00000000000000000000000000000000, 0x00000000000000000000000000000000, 0x00000000000000000000000000000000, 0x00000000000000000000000000000000], 1002, 0)"
      ]
     },
     "execution_count": 326,
     "metadata": {},
     "output_type": "execute_result"
    }
   ],
   "source": [
    "# Chase Abram\n",
    "# using Pkg\n",
    "# Pkg.add(\"DataFrames\")\n",
    "# using CSV\n",
    "# using DataFrames\n",
    "# # df = DataFrame()\n",
    "# df = CSV.read(\"psetOne.csv\", DataFrame)\n",
    "\n",
    "using LinearAlgebra\n",
    "using Optim\n",
    "\n",
    "using Random\n",
    "rng = MersenneTwister(12345)"
   ]
  },
  {
   "cell_type": "code",
   "execution_count": 161,
   "metadata": {},
   "outputs": [
    {
     "data": {
      "text/plain": [
       "7×2 BitArray{2}:\n",
       " 0  0\n",
       " 0  0\n",
       " 1  0\n",
       " 1  0\n",
       " 0  1\n",
       " 0  1\n",
       " 0  1"
      ]
     },
     "execution_count": 161,
     "metadata": {},
     "output_type": "execute_result"
    }
   ],
   "source": [
    "names(df)\n",
    "df17 = df[df.\"Market\" .== 17, :]\n",
    "# df17.\"shares\"\n",
    "# X = convert(Matrix, df17[:, filter(x -> x in [\"Constant\", \"EngineSize\", \"SportsBike\", \"Brand2\", \"Brand3\"], names(df17))])\n",
    "Br = convert(Matrix, df17[:, filter(x -> x in [\"Brand2\", \"Brand3\"], names(df17))])\n",
    "Br = Bool.(Br)"
   ]
  },
  {
   "cell_type": "code",
   "execution_count": 482,
   "metadata": {},
   "outputs": [
    {
     "data": {
      "text/plain": [
       "solve_fp_logit (generic function with 3 methods)"
      ]
     },
     "execution_count": 482,
     "metadata": {},
     "output_type": "execute_result"
    }
   ],
   "source": [
    "function u_bar_jt(delta, sigma, X, zeta)\n",
    "    return delta .+ X*sigma*zeta\n",
    "end\n",
    "\n",
    "function Prij(u_bar)\n",
    "    return exp.(u_bar)./sum(exp.(u_bar))\n",
    "end\n",
    "\n",
    "\n",
    "function s_logit(p, alpha, beta, X, xi)\n",
    "    # Computer nmuerators for each s_j\n",
    "    nums = exp.(X*beta .- alpha.*p[2:end] .+ xi)\n",
    "    \n",
    "    # return s_j, starting with s_0\n",
    "    return [1/(1 + sum(nums)); nums./(1 + sum(nums))]\n",
    "end\n",
    "\n",
    "# Negative jac\n",
    "function s_logit_jac(p, alpha, beta, X, xi)\n",
    "    # Get shares\n",
    "    sp = s_logit(p, alpha, beta, X, xi)\n",
    "    \n",
    "    # Jacobian is the outer product times alpha in this case...\n",
    "    jac = alpha .* sp * sp'\n",
    "    \n",
    "    # ... except for an extra term on the diag\n",
    "    for j in 1: length(jac[:,1])\n",
    "        jac[j,j] -= alpha*sp[j]\n",
    "    end\n",
    "    \n",
    "    return jac\n",
    "end\n",
    "\n",
    "# ISSUE PROBABLY HERE\n",
    "function s_logit_hess(p, alpha, beta, X, xi)\n",
    "    hess = zeros(length(p), length(p), length(p))\n",
    "    for j in 1:length(p)\n",
    "        for k in 1:length(p)\n",
    "            for l in 1:length(p)\n",
    "                s = s_logit(p, alpha, beta, X, xi)\n",
    "                sj = s_logit_jac(p, alpha, beta, X, xi)\n",
    "                if j == k && j == l\n",
    "                    hess[j,k,l] = sj[l,j]*alpha*(2*s[j] - 1)\n",
    "                elseif j == k\n",
    "                    hess[j,k,l] = sj[l,j]*alpha*(2*s[j] - 1)\n",
    "                elseif j == l\n",
    "                    hess[j,k,l] = sj[k,j]*alpha*(2*s[j] - 1)\n",
    "                elseif k == l\n",
    "                    hess[j,k,l] = alpha*(sj[l,j]*s[k] + s[j]*sj[l,k])\n",
    "                else\n",
    "                    hess[j,k,l] = alpha*(sj[l,j]*s[k] + s[j]*sj[l,k])\n",
    "                end\n",
    "            end\n",
    "        end\n",
    "    end\n",
    "    \n",
    "    return hess\n",
    "end\n",
    "\n",
    "function Omega_star(br)\n",
    "    Om = zeros(size(br,1) + 1,size(br,1) + 1)\n",
    "    for i in 1:size(Om,1) - 1\n",
    "        for j in 1:size(Om,2) - 1\n",
    "            if br[i,1] && br[j,1]\n",
    "                Om[i+1,j+1] = 1\n",
    "            elseif br[i,2] && br[j,2]\n",
    "                Om[i+1,j+1] = 1\n",
    "            elseif (!br[i,1]&& !br[j,1]) && (!br[i,2]&& !br[j,2])\n",
    "                Om[i+1,j+1] = 1\n",
    "            end\n",
    "        end\n",
    "    end\n",
    "    Om[1,1] = 1\n",
    "    return Om\n",
    "end\n",
    "\n",
    "function Omega(p, alpha, beta, X, xi, br)\n",
    "    return Omega_star(br) .* s_logit_jac(p, alpha, beta, X, xi)\n",
    "end\n",
    "\n",
    "function fp_logit(p, alpha, beta, X, xi, br)\n",
    "    return s_logit(p, alpha, beta, X, xi) + Omega(p, alpha, beta, X, xi, br)*p\n",
    "end\n",
    "\n",
    "function jac_om_p(p, alpha, beta, X, xi, br)\n",
    "    jacomp = zeros(length(p), length(p))\n",
    "    hess = s_logit_hess(p, alpha, beta, X, xi)\n",
    "    for i in 1:length(p)\n",
    "        for j in 1:length(p)\n",
    "            jacomp[i,j] = ((hess[i,:,j].* Omega_star(br)[i,j])'* p)[1]\n",
    "        end\n",
    "    end\n",
    "    return jacomp\n",
    "end\n",
    "\n",
    "function fp_logit_2(p, alpha, beta, X, xi, br)\n",
    "    return fp_logit(p, alpha, beta, X, xi, br)' * fp_logit(p, alpha, beta, X, xi, br)\n",
    "end\n",
    "\n",
    "\n",
    "function fp_logit_2_jac(storage, p, alpha, beta, X, xi, br)\n",
    "    sp = s_logit(p, alpha, beta, X, xi)\n",
    "    Om = Omega_star(br).* s_logit_jac(p, alpha, beta, X, xi)\n",
    "    s_jac = s_logit_jac(p, alpha, beta, X, xi)\n",
    "    jacomp = jac_om_p(p, alpha, beta, X, xi, br)\n",
    "    \n",
    "    jac = (sp + Om*p)' * (s_jac + jacomp + Om)\n",
    "    for i in 1:length(p)\n",
    "        storage[i] = jac[i]\n",
    "    end\n",
    "#     storage = (sp + Om*p)' * (s_jac + jacomp + Om)\n",
    "#     storage = 0\n",
    "#     return storage\n",
    "    \n",
    "end\n",
    "\n",
    "function solve_fp_logit(alpha, beta, X, xi, br, tol = 1e-14, maxit = 100)\n",
    "    \n",
    "    f(x) = fp_logit_2(x, alpha, beta, X, xi, br)[1,1]\n",
    "    g!(storage, x) = fp_logit_2_jac(storage, x, alpha, beta, X, xi, br)\n",
    "    \n",
    "#     opt = optimize(f, g!, p, NelderMead())\n",
    "    opt = optimize(f, g!, p, LBFGS())\n",
    "    return opt, opt.minimizer, opt.minimum\n",
    "#     return opt\n",
    "end\n",
    "\n"
   ]
  },
  {
   "cell_type": "code",
   "execution_count": 483,
   "metadata": {},
   "outputs": [
    {
     "name": "stdout",
     "output_type": "stream",
     "text": [
      "sum shares: 1.0\n"
     ]
    },
    {
     "ename": "LoadError",
     "evalue": "InterruptException:",
     "output_type": "error",
     "traceback": [
      "InterruptException:",
      "",
      "Stacktrace:",
      " [1] Array at ./boot.jl:408 [inlined]",
      " [2] Array at ./boot.jl:416 [inlined]",
      " [3] Array at ./boot.jl:423 [inlined]",
      " [4] similar at ./abstractarray.jl:675 [inlined]",
      " [5] similar at ./abstractarray.jl:674 [inlined]",
      " [6] similar at ./broadcast.jl:197 [inlined]",
      " [7] similar at ./broadcast.jl:196 [inlined]",
      " [8] copy at ./broadcast.jl:862 [inlined]",
      " [9] materialize at ./broadcast.jl:837 [inlined]",
      " [10] s_logit_jac(::Array{Float64,2}, ::Int64, ::Adjoint{Int64,Array{Int64,2}}, ::Array{Float64,2}, ::Array{Float64,1}) at ./In[482]:24",
      " [11] s_logit_hess(::Array{Float64,2}, ::Int64, ::Adjoint{Int64,Array{Int64,2}}, ::Array{Float64,2}, ::Array{Float64,1}) at ./In[482]:40",
      " [12] jac_om_p(::Array{Float64,2}, ::Int64, ::Adjoint{Int64,Array{Int64,2}}, ::Array{Float64,2}, ::Array{Float64,1}, ::BitArray{2}) at ./In[482]:86",
      " [13] fp_logit_2_jac(::Array{Float64,2}, ::Array{Float64,2}, ::Int64, ::Adjoint{Int64,Array{Int64,2}}, ::Array{Float64,2}, ::Array{Float64,1}, ::BitArray{2}) at ./In[482]:104",
      " [14] g! at ./In[482]:119 [inlined]",
      " [15] (::NLSolversBase.var\"#fg!#8\"{var\"#f#221\"{Int64,Adjoint{Int64,Array{Int64,2}},Array{Float64,2},Array{Float64,1},BitArray{2}},var\"#g!#222\"{Int64,Adjoint{Int64,Array{Int64,2}},Array{Float64,2},Array{Float64,1},BitArray{2}}})(::Array{Float64,2}, ::Array{Float64,2}) at /Users/chaseabram/.julia/packages/NLSolversBase/QPnui/src/objective_types/abstract.jl:13",
      " [16] value_gradient!!(::OnceDifferentiable{Float64,Array{Float64,2},Array{Float64,2}}, ::Array{Float64,2}) at /Users/chaseabram/.julia/packages/NLSolversBase/QPnui/src/interface.jl:82",
      " [17] value_gradient!(::OnceDifferentiable{Float64,Array{Float64,2},Array{Float64,2}}, ::Array{Float64,2}) at /Users/chaseabram/.julia/packages/NLSolversBase/QPnui/src/interface.jl:69",
      " [18] value_gradient!(::Optim.ManifoldObjective{OnceDifferentiable{Float64,Array{Float64,2},Array{Float64,2}}}, ::Array{Float64,2}) at /Users/chaseabram/.julia/packages/Optim/CK6Dn/src/Manifolds.jl:50",
      " [19] (::LineSearches.var\"#ϕdϕ#6\"{Optim.ManifoldObjective{OnceDifferentiable{Float64,Array{Float64,2},Array{Float64,2}}},Array{Float64,2},Array{Float64,2},Array{Float64,2}})(::Float64) at /Users/chaseabram/.julia/packages/LineSearches/Ki4c5/src/LineSearches.jl:84",
      " [20] bisect!(::LineSearches.var\"#ϕdϕ#6\"{Optim.ManifoldObjective{OnceDifferentiable{Float64,Array{Float64,2},Array{Float64,2}}},Array{Float64,2},Array{Float64,2},Array{Float64,2}}, ::Array{Float64,1}, ::Array{Float64,1}, ::Array{Float64,1}, ::Int64, ::Int64, ::Float64, ::Int64) at /Users/chaseabram/.julia/packages/LineSearches/Ki4c5/src/hagerzhang.jl:502",
      " [21] update! at /Users/chaseabram/.julia/packages/LineSearches/Ki4c5/src/hagerzhang.jl:475 [inlined]",
      " [22] secant2!(::LineSearches.var\"#ϕdϕ#6\"{Optim.ManifoldObjective{OnceDifferentiable{Float64,Array{Float64,2},Array{Float64,2}}},Array{Float64,2},Array{Float64,2},Array{Float64,2}}, ::Array{Float64,1}, ::Array{Float64,1}, ::Array{Float64,1}, ::Int64, ::Int64, ::Float64, ::Float64, ::Float64, ::Int64) at /Users/chaseabram/.julia/packages/LineSearches/Ki4c5/src/hagerzhang.jl:383",
      " [23] (::LineSearches.HagerZhang{Float64,Base.RefValue{Bool}})(::Function, ::LineSearches.var\"#ϕdϕ#6\"{Optim.ManifoldObjective{OnceDifferentiable{Float64,Array{Float64,2},Array{Float64,2}}},Array{Float64,2},Array{Float64,2},Array{Float64,2}}, ::Float64, ::Float64, ::Float64) at /Users/chaseabram/.julia/packages/LineSearches/Ki4c5/src/hagerzhang.jl:269",
      " [24] HagerZhang at /Users/chaseabram/.julia/packages/LineSearches/Ki4c5/src/hagerzhang.jl:101 [inlined]",
      " [25] perform_linesearch!(::Optim.LBFGSState{Array{Float64,2},Array{Array{Float64,2},1},Array{Array{Float64,2},1},Float64,Array{Float64,2}}, ::LBFGS{Nothing,LineSearches.InitialStatic{Float64},LineSearches.HagerZhang{Float64,Base.RefValue{Bool}},Optim.var\"#17#19\"}, ::Optim.ManifoldObjective{OnceDifferentiable{Float64,Array{Float64,2},Array{Float64,2}}}) at /Users/chaseabram/.julia/packages/Optim/CK6Dn/src/utilities/perform_linesearch.jl:59",
      " [26] update_state!(::OnceDifferentiable{Float64,Array{Float64,2},Array{Float64,2}}, ::Optim.LBFGSState{Array{Float64,2},Array{Array{Float64,2},1},Array{Array{Float64,2},1},Float64,Array{Float64,2}}, ::LBFGS{Nothing,LineSearches.InitialStatic{Float64},LineSearches.HagerZhang{Float64,Base.RefValue{Bool}},Optim.var\"#17#19\"}) at /Users/chaseabram/.julia/packages/Optim/CK6Dn/src/multivariate/solvers/first_order/l_bfgs.jl:205",
      " [27] optimize(::OnceDifferentiable{Float64,Array{Float64,2},Array{Float64,2}}, ::Array{Float64,2}, ::LBFGS{Nothing,LineSearches.InitialStatic{Float64},LineSearches.HagerZhang{Float64,Base.RefValue{Bool}},Optim.var\"#17#19\"}, ::Optim.Options{Float64,Nothing}, ::Optim.LBFGSState{Array{Float64,2},Array{Array{Float64,2},1},Array{Array{Float64,2},1},Float64,Array{Float64,2}}) at /Users/chaseabram/.julia/packages/Optim/CK6Dn/src/multivariate/optimize/optimize.jl:56",
      " [28] optimize(::OnceDifferentiable{Float64,Array{Float64,2},Array{Float64,2}}, ::Array{Float64,2}, ::LBFGS{Nothing,LineSearches.InitialStatic{Float64},LineSearches.HagerZhang{Float64,Base.RefValue{Bool}},Optim.var\"#17#19\"}, ::Optim.Options{Float64,Nothing}) at /Users/chaseabram/.julia/packages/Optim/CK6Dn/src/multivariate/optimize/optimize.jl:33",
      " [29] #optimize#89 at /Users/chaseabram/.julia/packages/Optim/CK6Dn/src/multivariate/optimize/interface.jl:155 [inlined]",
      " [30] optimize(::Function, ::Function, ::Array{Float64,2}, ::LBFGS{Nothing,LineSearches.InitialStatic{Float64},LineSearches.HagerZhang{Float64,Base.RefValue{Bool}},Optim.var\"#17#19\"}, ::Optim.Options{Float64,Nothing}) at /Users/chaseabram/.julia/packages/Optim/CK6Dn/src/multivariate/optimize/interface.jl:153 (repeats 2 times)",
      " [31] solve_fp_logit(::Int64, ::Adjoint{Int64,Array{Int64,2}}, ::Array{Float64,2}, ::Array{Float64,1}, ::BitArray{2}, ::Float64, ::Int64) at ./In[482]:122",
      " [32] solve_fp_logit(::Int64, ::Adjoint{Int64,Array{Int64,2}}, ::Array{Float64,2}, ::Array{Float64,1}, ::BitArray{2}) at ./In[482]:118",
      " [33] top-level scope at In[483]:30",
      " [34] include_string(::Function, ::Module, ::String, ::String) at ./loading.jl:1091"
     ]
    }
   ],
   "source": [
    "p = ones(size(X,1)+1,1)\n",
    "p[7] = 1\n",
    "alpha = 3\n",
    "beta = [1 1 2 -1 1]'\n",
    "\n",
    "# seed maintains results across runs\n",
    "rng = MersenneTwister(123)\n",
    "xi = randn(rng, size(df17,1))\n",
    "\n",
    "s_logit(p, alpha, beta, X, xi)\n",
    "println(\"sum shares: \", sum(s_logit(p, alpha, beta, X, xi)))\n",
    "\n",
    "s_logit_jac(p, alpha, beta, X, xi)\n",
    "\n",
    "# s_logit_hess(p, alpha, beta, X, xi)\n",
    "\n",
    "# Omega_star(Br)\n",
    "\n",
    "# Omega(p, alpha, beta, X, xi, Br)\n",
    "\n",
    "# fp_logit(p, alpha, beta, X, xi, Br)' * fp_logit(p, alpha, beta, X, xi, Br)\n",
    "\n",
    "# fp_logit_2(p, alpha, beta, X, xi, Br)\n",
    "fp_logit_2_jac(p, alpha, beta, X, xi, Br)\n",
    "\n",
    "# jac_om_p(p, alpha, beta, X, xi, Br)\n",
    "\n",
    "# fp_logit_jac(p, alpha, beta, X, xi, Br)\n",
    "\n",
    "\n",
    "solve_fp_logit(alpha, beta, X, xi, Br)\n",
    "\n",
    "# op = optimize(x -> (fp_logit(x, alpha, beta, X, xi, Br)' * fp_logit(x, alpha, beta, X, xi, Br))[1,1], p, LBFGS())\n",
    "\n",
    "# pmin = op.minimizer\n",
    "# println(\"p min: \", pmin)\n",
    "# println(\"min: \", op.minimum)\n",
    "# println(\"fp_logit: \", fp_logit(pmin, alpha, beta, X, xi, Br))\n",
    "# df17[3, \"Brand2\"]"
   ]
  },
  {
   "cell_type": "code",
   "execution_count": 430,
   "metadata": {},
   "outputs": [
    {
     "data": {
      "text/plain": [
       "sHat (generic function with 1 method)"
      ]
     },
     "execution_count": 430,
     "metadata": {},
     "output_type": "execute_result"
    }
   ],
   "source": [
    "function sHat(delta, X, sigma, zeta)\n",
    "    \n",
    "    \n",
    "    # Compute u_bar_ijt\n",
    "    \n",
    "    # Compute prob.\n",
    "    \n",
    "    # Do above I times, then integrate\n",
    "    \n",
    "    \n",
    "    return 0\n",
    "end\n",
    "\n"
   ]
  },
  {
   "cell_type": "code",
   "execution_count": 456,
   "metadata": {},
   "outputs": [
    {
     "data": {
      "text/plain": [
       "( * Status: success\n",
       "\n",
       " * Candidate solution\n",
       "    Final objective value:     0.000000e+00\n",
       "\n",
       " * Found with\n",
       "    Algorithm:     L-BFGS\n",
       "\n",
       " * Convergence measures\n",
       "    |x - x'|               = 4.50e+01 ≰ 0.0e+00\n",
       "    |x - x'|/|x'|          = 1.00e+00 ≰ 0.0e+00\n",
       "    |f(x) - f(x')|         = 2.09e+03 ≰ 0.0e+00\n",
       "    |f(x) - f(x')|/|f(x')| = Inf ≰ 0.0e+00\n",
       "    |g(x)|                 = 0.00e+00 ≤ 1.0e-08\n",
       "\n",
       " * Work counters\n",
       "    Seconds run:   0  (vs limit Inf)\n",
       "    Iterations:    1\n",
       "    f(x) calls:    3\n",
       "    ∇f(x) calls:   3\n",
       ", [45.0, 8.0], 0.0)"
      ]
     },
     "execution_count": 456,
     "metadata": {},
     "output_type": "execute_result"
    }
   ],
   "source": [
    "function tester()\n",
    "    f1(x, y, z) = (x[1] - 5 - y)^2 + (x[2] - 3 - z)^2\n",
    "    \n",
    "    function g(storage, x, y, z)\n",
    "        storage[1] = 2*(x[1] - 5 - y)\n",
    "        storage[2] = 2*(x[2] - 3 - z)\n",
    "    end\n",
    "    \n",
    "    a = 40\n",
    "    b = 5\n",
    "    f(x) = f1(x,a,b)\n",
    "    g!(storage, x) = g(storage, x, a, b)\n",
    "    \n",
    "    \n",
    "    opt = optimize(f, g!, [0.0, 0.0], LBFGS())\n",
    "    return opt, opt.minimizer, opt.minimum\n",
    "end\n",
    "\n",
    "tester()"
   ]
  },
  {
   "cell_type": "code",
   "execution_count": null,
   "metadata": {},
   "outputs": [],
   "source": []
  }
 ],
 "metadata": {
  "kernelspec": {
   "display_name": "Julia 1.5.3",
   "language": "julia",
   "name": "julia-1.5"
  },
  "language_info": {
   "file_extension": ".jl",
   "mimetype": "application/julia",
   "name": "julia",
   "version": "1.5.3"
  }
 },
 "nbformat": 4,
 "nbformat_minor": 2
}
