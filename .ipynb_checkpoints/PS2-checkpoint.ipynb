{
 "cells": [
  {
   "cell_type": "code",
   "execution_count": null,
   "metadata": {},
   "outputs": [],
   "source": [
    "# Chase Abram\n",
    "# IO 2 2021 with Hortacsu"
   ]
  },
  {
   "cell_type": "code",
   "execution_count": 211,
   "metadata": {},
   "outputs": [],
   "source": [
    "using CSV\n",
    "using DataFrames\n",
    "using ForwardDiff\n",
    "using LinearAlgebra\n",
    "using Optim\n",
    "\n",
    "using Random, Distributions\n",
    "using Statistics\n",
    "\n",
    "using Plots"
   ]
  },
  {
   "cell_type": "code",
   "execution_count": 284,
   "metadata": {},
   "outputs": [
    {
     "data": {
      "text/plain": [
       "fp_logit (generic function with 4 methods)"
      ]
     },
     "execution_count": 284,
     "metadata": {},
     "output_type": "execute_result"
    }
   ],
   "source": [
    "# Section 1.3\n",
    "\n",
    "# Compute the implied probabilities (per logit spec)\n",
    "function logit_p(p, x, alpha, delta)\n",
    "    return exp.(alpha*x .+ delta .* reverse(p) .- maximum(p))./(exp(-maximum(p)) .+ exp.(alpha*x .+ delta .* reverse(p) .- maximum(p)))\n",
    "end\n",
    "\n",
    "# Finds fixed point (per logit spec)\n",
    "function fp_logit(x, alpha, delta, sym = false, maxiter = 100, tol = 1e-4)\n",
    "    if sym\n",
    "        p = [1/2]\n",
    "        pnew = [0]\n",
    "    else\n",
    "        p = 1/2 .* ones(2)\n",
    "#         p = [100, 100]\n",
    "        pnew = zeros(2)\n",
    "    end\n",
    "    \n",
    "    \n",
    "    f(z) = logit_p(z,x,alpha,delta)\n",
    "    \n",
    "    it = 0\n",
    "    diff = Inf\n",
    "    \n",
    "    while it < maxiter && diff > tol\n",
    "        pnew = f(p)\n",
    "        diff = abs(maximum(pnew - p))\n",
    "        it += 1\n",
    "        p = pnew\n",
    "        \n",
    "#         println(\"it: \", it, \", diff: \", diff, \", p: \", p)\n",
    "    end\n",
    "    \n",
    "#     println(\"Exited\")\n",
    "#     println(\"it: \", it, \", diff: \", diff)\n",
    "#     println(\"it cond: \", it < maxiter)\n",
    "#     println(\"diff cond: \", diff > tol)\n",
    "    \n",
    "    if sym\n",
    "        return p[1]\n",
    "    end\n",
    "    \n",
    "    return p\n",
    "end\n",
    "\n"
   ]
  },
  {
   "cell_type": "code",
   "execution_count": 285,
   "metadata": {},
   "outputs": [
    {
     "name": "stdout",
     "output_type": "stream",
     "text": [
      "BNE (sym): alpha = 1, delta = 1, x = 1\n",
      "P_i = 0.8659851186297881\n",
      "BNE (sym): alpha = 1, delta = 1, x = 2\n",
      "P_i = 0.9502737662925114\n",
      "BNE (sym): alpha = 3, delta = 6, x = 1\n",
      "P_i = 0.9998765126780076\n",
      "BNE (sym): alpha = 3, delta = 6, x = 2\n",
      "P_i = 0.9999938555987219\n",
      "\n",
      "BNE: alpha = 1, delta = 1, x = 1\n",
      "P_i = [0.8659851186297881, 0.8659851186297881]\n",
      "BNE: alpha = 1, delta = 1, x = 2\n",
      "P_i = [0.9502737662925114, 0.9502737662925114]\n",
      "BNE: alpha = 3, delta = 6, x = 1\n",
      "P_i = [0.9998765126780076, 0.9998765126780076]\n",
      "BNE: alpha = 3, delta = 6, x = 2\n",
      "P_i = [0.9999938555987219, 0.9999938555987219]\n"
     ]
    }
   ],
   "source": [
    "alpha = [1, 3]\n",
    "delta = [1, 6]\n",
    "x = [1, 2]\n",
    "p_init = 1/2 .* ones(2)\n",
    "\n",
    "# logit_p(p_init, x, alpha, delta)\n",
    "\n",
    "# fp_logit(x, alpha, delta)\n",
    "\n",
    "for i in 1:2\n",
    "    for j in 1:2\n",
    "        println(\"BNE (sym): alpha = \", alpha[i], \", delta = \", delta[i], \", x = \", x[j])\n",
    "        println(\"P_i = \", fp_logit(x[j], alpha[i], delta[i], true))\n",
    "    end\n",
    "end\n",
    "println()\n",
    "for i in 1:2\n",
    "    for j in 1:2\n",
    "        println(\"BNE: alpha = \", alpha[i], \", delta = \", delta[i], \", x = \", x[j])\n",
    "        println(\"P_i = \", fp_logit(x[j], alpha[i], delta[i]))\n",
    "    end\n",
    "end"
   ]
  },
  {
   "cell_type": "code",
   "execution_count": 286,
   "metadata": {},
   "outputs": [
    {
     "data": {
      "text/plain": [
       "50×1000×2 BitArray{3}:\n",
       "[:, :, 1] =\n",
       " 1  1  0  1  0  0  0  0  0  0  0  0  1  …  0  0  0  0  0  0  1  1  0  1  0  0\n",
       " 0  0  1  0  0  0  0  0  0  0  0  1  0     0  1  0  1  0  0  1  0  0  0  0  0\n",
       " 1  0  1  0  0  1  0  0  1  0  0  0  0     0  0  0  0  0  1  1  0  1  0  1  0\n",
       " 0  0  0  0  0  0  0  1  0  0  0  0  0     0  0  1  0  0  0  0  0  0  1  0  0\n",
       " 0  0  0  0  0  0  0  0  0  1  0  0  0     1  0  1  0  0  1  0  0  1  0  0  1\n",
       " 1  0  0  0  0  0  0  0  0  0  0  0  0  …  0  1  0  0  0  1  1  1  0  0  0  0\n",
       " 0  1  0  0  0  0  1  0  0  0  0  0  0     0  0  0  0  0  1  0  0  0  0  0  0\n",
       " 0  0  1  1  1  0  1  0  1  1  1  1  1     1  1  1  0  1  0  0  1  0  1  0  1\n",
       " 0  0  0  0  0  1  0  1  1  1  1  0  0     0  0  0  1  0  0  0  0  0  0  0  1\n",
       " 1  0  0  0  0  0  1  0  0  0  1  1  0     0  0  0  1  0  1  0  0  0  0  1  0\n",
       " 0  1  0  0  0  0  0  1  0  0  0  0  0  …  1  0  0  0  1  0  0  0  0  0  0  0\n",
       " 0  0  0  0  0  0  0  0  0  1  0  1  0     0  0  1  0  0  0  0  0  1  0  0  0\n",
       " 0  1  1  0  0  0  0  0  1  0  0  1  0     0  0  0  1  0  1  0  0  1  0  0  0\n",
       " ⋮              ⋮              ⋮        ⋱        ⋮              ⋮           \n",
       " 0  0  0  1  0  0  0  0  1  0  1  0  0     1  0  0  0  0  0  1  1  1  0  0  0\n",
       " 0  1  0  0  0  1  1  0  0  0  0  1  0     1  0  0  1  0  1  0  0  0  1  0  0\n",
       " 0  1  0  0  1  0  0  0  0  0  0  1  1  …  0  0  0  0  0  0  0  0  0  0  0  1\n",
       " 0  0  0  0  0  0  0  0  0  0  0  0  1     1  0  0  0  1  0  0  0  0  0  0  1\n",
       " 0  0  1  1  1  0  0  0  0  0  0  0  1     0  0  1  0  0  0  0  0  0  0  0  1\n",
       " 0  0  0  1  1  0  1  0  0  0  0  0  1     0  1  0  1  1  0  0  0  0  0  0  0\n",
       " 0  1  0  0  1  1  0  0  0  0  1  0  1     0  1  1  0  1  1  0  0  0  0  1  0\n",
       " 0  0  0  1  0  0  0  0  0  1  1  0  0  …  0  1  0  0  0  1  0  0  0  0  0  0\n",
       " 0  0  0  1  0  0  0  0  0  1  0  1  0     0  0  0  0  0  1  1  0  0  1  0  0\n",
       " 0  0  0  0  0  0  1  0  0  0  0  1  0     0  0  0  1  0  1  1  1  0  0  0  0\n",
       " 0  0  0  0  0  0  0  1  1  0  1  0  0     0  0  1  0  0  0  0  1  0  1  1  0\n",
       " 0  0  0  0  0  0  1  0  0  0  0  0  0     0  0  0  0  1  0  0  0  0  0  1  0\n",
       "\n",
       "[:, :, 2] =\n",
       " 0  1  1  1  0  1  0  0  0  1  0  0  0  …  0  0  0  1  1  0  0  1  0  1  0  0\n",
       " 0  0  0  0  0  1  0  1  0  0  0  0  0     0  0  0  0  0  0  1  0  0  0  0  0\n",
       " 1  1  0  0  1  0  1  1  1  1  0  0  0     1  0  0  0  0  0  1  0  0  1  0  0\n",
       " 0  1  0  0  0  0  0  1  1  1  0  0  0     1  0  0  0  0  0  0  0  0  1  0  0\n",
       " 0  1  1  1  1  0  1  0  0  1  0  1  0     1  0  0  0  0  0  0  0  0  0  0  0\n",
       " 1  0  0  0  0  0  1  1  1  0  0  0  1  …  0  0  0  0  0  1  0  0  1  0  0  0\n",
       " 1  0  0  0  0  1  0  0  0  0  0  0  0     0  1  0  0  0  0  1  0  0  0  0  0\n",
       " 0  1  0  1  0  0  1  0  1  0  1  0  1     0  0  0  0  1  0  0  0  0  1  0  1\n",
       " 0  0  0  1  0  0  1  0  1  1  1  1  0     0  0  1  1  0  0  0  0  0  1  0  0\n",
       " 0  0  0  0  0  0  1  0  1  0  0  0  0     0  0  0  1  0  0  0  0  1  0  0  0\n",
       " 0  0  0  0  0  1  0  1  1  0  1  0  0  …  1  0  0  1  0  0  0  0  0  1  0  0\n",
       " 1  1  0  0  0  0  0  1  0  1  0  0  1     0  1  1  0  0  1  0  1  1  0  0  0\n",
       " 0  1  1  0  1  0  0  1  0  0  0  0  0     1  1  0  0  0  0  0  0  1  0  0  1\n",
       " ⋮              ⋮              ⋮        ⋱        ⋮              ⋮           \n",
       " 1  0  0  0  0  0  0  0  0  0  1  0  0     0  0  0  0  0  0  0  0  1  0  0  0\n",
       " 0  0  0  0  0  0  0  1  0  0  0  1  0     0  0  0  0  1  0  0  0  0  0  0  0\n",
       " 0  1  0  0  0  0  1  0  0  0  0  0  0  …  0  0  0  1  0  0  1  0  1  0  0  1\n",
       " 1  1  1  0  0  0  1  0  0  0  0  0  0     0  0  1  0  1  0  1  0  0  1  0  0\n",
       " 0  0  0  1  0  0  0  0  1  0  0  0  1     1  0  0  1  0  1  0  0  0  0  0  0\n",
       " 0  0  0  1  0  0  1  0  0  0  0  0  0     0  1  1  0  1  0  0  0  0  1  1  0\n",
       " 0  1  0  0  1  0  1  0  0  0  0  0  0     0  1  0  0  1  0  0  1  0  0  0  1\n",
       " 0  0  0  0  0  1  0  0  0  0  0  0  0  …  0  1  0  0  0  0  0  0  0  0  0  1\n",
       " 1  0  0  0  0  0  1  0  0  0  1  1  0     0  0  0  1  0  0  0  1  1  0  0  0\n",
       " 1  1  0  0  0  1  0  0  0  1  0  1  0     1  1  1  1  0  1  0  0  1  0  0  0\n",
       " 0  0  0  0  0  1  0  1  0  0  1  0  0     0  0  0  0  1  0  0  1  0  0  1  0\n",
       " 0  0  0  0  0  0  0  0  1  0  1  0  0     0  0  0  0  1  0  0  0  0  0  1  0"
      ]
     },
     "execution_count": 286,
     "metadata": {},
     "output_type": "execute_result"
    }
   ],
   "source": [
    "alpha = 3\n",
    "delta = 6\n",
    "T = 1000\n",
    "S = 50\n",
    "\n",
    "Random.seed!(1234)\n",
    "F = Logistic()\n",
    "ep = rand(F, S, T, 2)\n",
    "x = (rand(S, T) .> 1/2) .+ 1\n",
    "p = fp_logit.(x, alpha, delta, true)\n",
    "# y = zeros(S,T,2)\n",
    "\n",
    "y = (alpha .* x .- delta.*p .+ ep) .> 0\n",
    "\n",
    "\n",
    "\n"
   ]
  },
  {
   "cell_type": "code",
   "execution_count": 9,
   "metadata": {},
   "outputs": [
    {
     "data": {
      "text/plain": [
       "5000-element Array{Int64,1}:\n",
       " 0\n",
       " 0\n",
       " 0\n",
       " 0\n",
       " 0\n",
       " 0\n",
       " 0\n",
       " 0\n",
       " 0\n",
       " 0\n",
       " 0\n",
       " 0\n",
       " 0\n",
       " ⋮\n",
       " 0\n",
       " 1\n",
       " 0\n",
       " 0\n",
       " 0\n",
       " 0\n",
       " 0\n",
       " 0\n",
       " 0\n",
       " 0\n",
       " 0\n",
       " 1"
      ]
     },
     "execution_count": 9,
     "metadata": {},
     "output_type": "execute_result"
    }
   ],
   "source": [
    "# Load data\n",
    "df = DataFrame()\n",
    "df = CSV.read(\"psetTwo.csv\", DataFrame)\n",
    "\n",
    "# Mileage\n",
    "mileage = df.milage\n",
    "N = length(mileage)\n",
    "\n",
    "# Find replacement periods\n",
    "d_rep = [0; (mileage[2:N] - mileage[1:N-1]) .< 0]"
   ]
  },
  {
   "cell_type": "code",
   "execution_count": 308,
   "metadata": {},
   "outputs": [
    {
     "data": {
      "text/plain": [
       "Gamma (generic function with 2 methods)"
      ]
     },
     "execution_count": 308,
     "metadata": {},
     "output_type": "execute_result"
    }
   ],
   "source": [
    "# Discretize the domain (equispacing)\n",
    "# function disc_domain(data, K)\n",
    "#     M = maximum(data)\n",
    "#     m = minimum(data)\n",
    "#     return LinRange(m,M,K)\n",
    "# end\n",
    "\n",
    "function disc_domain(data, K)\n",
    "    data_sorted = sort(data)\n",
    "    \n",
    "    disc = zeros(K)\n",
    "    \n",
    "    for k in 1:K\n",
    "        disc[k] = data_sorted[Int(floor(k*N/K))]\n",
    "    end\n",
    "    \n",
    "    return disc\n",
    "end\n",
    "\n",
    "# Map value to its chunk\n",
    "function to_chunk(vs, chunks)\n",
    "    \n",
    "    its = zeros(length(vs))\n",
    "    for j in 1:length(vs)\n",
    "        it = 1\n",
    "        while vs[j] > chunks[it] && it < length(chunks)\n",
    "            it += 1\n",
    "        end\n",
    "        its[j] = it\n",
    "    end\n",
    "    return Int64.(its)\n",
    "end\n",
    "\n",
    "# Create transition matrices\n",
    "function trans_mats(m, d, K)\n",
    "    disc = disc_domain(m, K)\n",
    "    \n",
    "#     println(\"disc: \", disc)\n",
    "    rep = zeros(K,K)\n",
    "    no_rep = zeros(K,K)\n",
    "    \n",
    "    chunk_map = to_chunk(m, disc)\n",
    "    \n",
    "    # Fix this for single matrix\n",
    "    for i in 2:length(m)\n",
    "        if d[i] > 0\n",
    "            rep[chunk_map[i-1], chunk_map[i]] += 1\n",
    "        else\n",
    "            no_rep[chunk_map[i-1], chunk_map[i]] += 1\n",
    "        end\n",
    "    end\n",
    "    \n",
    "    for k in 1:K\n",
    "        if sum(rep[k,:]) == 0\n",
    "            rep[k,1] = 1\n",
    "        end\n",
    "        \n",
    "        if sum(no_rep[k,:]) == 0\n",
    "            no_rep[k,k] = 1\n",
    "        end\n",
    "        \n",
    "    end\n",
    "    \n",
    "    # Normalize\n",
    "    rep = rep.*(1 ./max.(sum(rep,dims=2), 1.0))\n",
    "    no_rep = no_rep.*(1 ./max.(sum(no_rep,dims=2), 1.0))\n",
    "    \n",
    "    return rep, no_rep\n",
    "end\n",
    "\n",
    "# Utility (shock not included)\n",
    "function u(x, d, theta)\n",
    "    if d == 0\n",
    "        return -theta[1]*x - theta[2]*(x/100)^2\n",
    "    else\n",
    "        return -theta[3]\n",
    "    end\n",
    "end\n",
    "\n",
    "# For fixed point of EV\n",
    "function Gamma(EV, P, X, beta, theta)\n",
    "    return P*log.(exp.(u.(X,0,theta) + beta.*EV) + exp.(u.(X,1,theta) .+ beta.*EV[1]))\n",
    "end\n"
   ]
  },
  {
   "cell_type": "code",
   "execution_count": 310,
   "metadata": {},
   "outputs": [
    {
     "ename": "LoadError",
     "evalue": "DimensionMismatch(\"arrays could not be broadcast to a common size; got a dimension with lengths 5 and 3\")",
     "output_type": "error",
     "traceback": [
      "DimensionMismatch(\"arrays could not be broadcast to a common size; got a dimension with lengths 5 and 3\")",
      "",
      "Stacktrace:",
      " [1] _bcs1 at ./broadcast.jl:501 [inlined]",
      " [2] _bcs at ./broadcast.jl:495 [inlined]",
      " [3] broadcast_shape at ./broadcast.jl:489 [inlined]",
      " [4] combine_axes at ./broadcast.jl:483 [inlined]",
      " [5] instantiate at ./broadcast.jl:266 [inlined]",
      " [6] materialize at ./broadcast.jl:837 [inlined]",
      " [7] Gamma(::Array{Float64,1}, ::Array{Float64,2}, ::Array{Float64,1}, ::Float64, ::Array{Int64,1}) at ./In[308]:82",
      " [8] top-level scope at In[310]:9",
      " [9] include_string(::Function, ::Module, ::String, ::String) at ./loading.jl:1091"
     ]
    }
   ],
   "source": [
    "K = 5\n",
    "P = trans_mats(mileage, d_rep, K)[2]\n",
    "X = disc_domain(mileage, K)\n",
    "beta = 0.99\n",
    "theta = [1,2,3]\n",
    "\n",
    "EV = zeros(K)\n",
    "\n",
    "Gamma(EV, P, X, beta,theta)"
   ]
  },
  {
   "cell_type": "code",
   "execution_count": 304,
   "metadata": {},
   "outputs": [
    {
     "data": {
      "text/plain": [
       "5×5 Array{Float64,2}:\n",
       " 0.599607  0.400393  0.0       0.0       0.0\n",
       " 0.0       0.590447  0.409553  0.0       0.0\n",
       " 0.0       0.0       0.635551  0.364449  0.0\n",
       " 0.0       0.0       0.0       0.690722  0.309278\n",
       " 0.0       0.0       0.0       0.0       1.0"
      ]
     },
     "execution_count": 304,
     "metadata": {},
     "output_type": "execute_result"
    }
   ],
   "source": [
    "K = 5\n",
    "\n",
    "disc = disc_domain(mileage, K)\n",
    "\n",
    "# to_chunk(mileage, disc)\n",
    "\n",
    "# # plot(to_chunk(mileage, disc))\n",
    "\n",
    "trans_mats(mileage, d_rep, K)[2]"
   ]
  },
  {
   "cell_type": "code",
   "execution_count": null,
   "metadata": {},
   "outputs": [],
   "source": []
  }
 ],
 "metadata": {
  "kernelspec": {
   "display_name": "Julia 1.5.3",
   "language": "julia",
   "name": "julia-1.5"
  },
  "language_info": {
   "file_extension": ".jl",
   "mimetype": "application/julia",
   "name": "julia",
   "version": "1.5.3"
  }
 },
 "nbformat": 4,
 "nbformat_minor": 2
}
