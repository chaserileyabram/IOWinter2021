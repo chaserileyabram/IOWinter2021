{
 "cells": [
  {
   "cell_type": "code",
   "execution_count": 23,
   "metadata": {},
   "outputs": [
    {
     "data": {
      "text/plain": [
       "12-element Array{String,1}:\n",
       " \"Market\"\n",
       " \"Constant\"\n",
       " \"Price\"\n",
       " \"EngineSize\"\n",
       " \"SportsBike\"\n",
       " \"Brand2\"\n",
       " \"Brand3\"\n",
       " \"z1\"\n",
       " \"z2\"\n",
       " \"z3\"\n",
       " \"z4\"\n",
       " \"shares\""
      ]
     },
     "execution_count": 23,
     "metadata": {},
     "output_type": "execute_result"
    }
   ],
   "source": [
    "# Chase Abram\n",
    "# using Pkg\n",
    "# Pkg.add(\"DataFrames\")\n",
    "using CSV\n",
    "using DataFrames\n",
    "# df = DataFrame()\n",
    "df = CSV.read(\"psetOne.csv\", DataFrame)"
   ]
  },
  {
   "cell_type": "code",
   "execution_count": 52,
   "metadata": {},
   "outputs": [
    {
     "data": {
      "text/html": [
       "<table class=\"data-frame\"><thead><tr><th></th><th>Market</th><th>Constant</th><th>Price</th><th>EngineSize</th><th>SportsBike</th><th>Brand2</th><th>Brand3</th><th>z1</th><th>z2</th></tr><tr><th></th><th>Int64</th><th>Int64</th><th>Float64</th><th>Float64</th><th>Int64</th><th>Int64</th><th>Int64</th><th>Float64</th><th>Float64</th></tr></thead><tbody><p>7 rows × 12 columns (omitted printing of 3 columns)</p><tr><th>1</th><td>17</td><td>1</td><td>0.920128</td><td>3.0</td><td>1</td><td>0</td><td>0</td><td>0.0276024</td><td>0.0282533</td></tr><tr><th>2</th><td>17</td><td>1</td><td>1.97453</td><td>5.0</td><td>1</td><td>0</td><td>0</td><td>0.219283</td><td>0.296879</td></tr><tr><th>3</th><td>17</td><td>1</td><td>1.94548</td><td>3.0</td><td>1</td><td>1</td><td>0</td><td>0.150052</td><td>0.0497719</td></tr><tr><th>4</th><td>17</td><td>1</td><td>1.86088</td><td>5.0</td><td>1</td><td>1</td><td>0</td><td>0.387576</td><td>0.301157</td></tr><tr><th>5</th><td>17</td><td>1</td><td>1.98307</td><td>6.5</td><td>0</td><td>0</td><td>1</td><td>0.0714796</td><td>0.033719</td></tr><tr><th>6</th><td>17</td><td>1</td><td>3.8985</td><td>10.0</td><td>1</td><td>0</td><td>1</td><td>0.0523355</td><td>0.601297</td></tr><tr><th>7</th><td>17</td><td>1</td><td>2.86479</td><td>10.0</td><td>0</td><td>0</td><td>1</td><td>0.152532</td><td>0.0601887</td></tr></tbody></table>"
      ],
      "text/latex": [
       "\\begin{tabular}{r|cccccccccc}\n",
       "\t& Market & Constant & Price & EngineSize & SportsBike & Brand2 & Brand3 & z1 & z2 & \\\\\n",
       "\t\\hline\n",
       "\t& Int64 & Int64 & Float64 & Float64 & Int64 & Int64 & Int64 & Float64 & Float64 & \\\\\n",
       "\t\\hline\n",
       "\t1 & 17 & 1 & 0.920128 & 3.0 & 1 & 0 & 0 & 0.0276024 & 0.0282533 & $\\dots$ \\\\\n",
       "\t2 & 17 & 1 & 1.97453 & 5.0 & 1 & 0 & 0 & 0.219283 & 0.296879 & $\\dots$ \\\\\n",
       "\t3 & 17 & 1 & 1.94548 & 3.0 & 1 & 1 & 0 & 0.150052 & 0.0497719 & $\\dots$ \\\\\n",
       "\t4 & 17 & 1 & 1.86088 & 5.0 & 1 & 1 & 0 & 0.387576 & 0.301157 & $\\dots$ \\\\\n",
       "\t5 & 17 & 1 & 1.98307 & 6.5 & 0 & 0 & 1 & 0.0714796 & 0.033719 & $\\dots$ \\\\\n",
       "\t6 & 17 & 1 & 3.8985 & 10.0 & 1 & 0 & 1 & 0.0523355 & 0.601297 & $\\dots$ \\\\\n",
       "\t7 & 17 & 1 & 2.86479 & 10.0 & 0 & 0 & 1 & 0.152532 & 0.0601887 & $\\dots$ \\\\\n",
       "\\end{tabular}\n"
      ],
      "text/plain": [
       "\u001b[1m7×12 DataFrame\u001b[0m\n",
       "\u001b[1m Row \u001b[0m│\u001b[1m Market \u001b[0m\u001b[1m Constant \u001b[0m\u001b[1m Price    \u001b[0m\u001b[1m EngineSize \u001b[0m\u001b[1m SportsBike \u001b[0m\u001b[1m Brand2 \u001b[0m\u001b[1m Brand3 \u001b[0m\u001b[1m z1 \u001b[0m ⋯\n",
       "\u001b[1m     \u001b[0m│\u001b[90m Int64  \u001b[0m\u001b[90m Int64    \u001b[0m\u001b[90m Float64  \u001b[0m\u001b[90m Float64    \u001b[0m\u001b[90m Int64      \u001b[0m\u001b[90m Int64  \u001b[0m\u001b[90m Int64  \u001b[0m\u001b[90m Flo\u001b[0m ⋯\n",
       "─────┼──────────────────────────────────────────────────────────────────────────\n",
       "   1 │     17         1  0.920128         3.0           1       0       0  0.0 ⋯\n",
       "   2 │     17         1  1.97453          5.0           1       0       0  0.2\n",
       "   3 │     17         1  1.94548          3.0           1       1       0  0.1\n",
       "   4 │     17         1  1.86088          5.0           1       1       0  0.3\n",
       "   5 │     17         1  1.98307          6.5           0       0       1  0.0 ⋯\n",
       "   6 │     17         1  3.8985          10.0           1       0       1  0.0\n",
       "   7 │     17         1  2.86479         10.0           0       0       1  0.1\n",
       "\u001b[31m                                                               5 columns omitted\u001b[0m"
      ]
     },
     "execution_count": 52,
     "metadata": {},
     "output_type": "execute_result"
    }
   ],
   "source": [
    "names(df)\n",
    "df[df.\"Market\" .== 17, :]\n"
   ]
  },
  {
   "cell_type": "code",
   "execution_count": null,
   "metadata": {},
   "outputs": [],
   "source": []
  }
 ],
 "metadata": {
  "kernelspec": {
   "display_name": "Julia 1.5.3",
   "language": "julia",
   "name": "julia-1.5"
  },
  "language_info": {
   "file_extension": ".jl",
   "mimetype": "application/julia",
   "name": "julia",
   "version": "1.5.3"
  }
 },
 "nbformat": 4,
 "nbformat_minor": 2
}
