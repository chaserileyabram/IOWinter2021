{
 "cells": [
  {
   "cell_type": "markdown",
   "metadata": {},
   "source": [
    "# Problem Set 1\n",
    "\n",
    "##### Set up environment"
   ]
  },
  {
   "cell_type": "code",
   "execution_count": 40,
   "metadata": {},
   "outputs": [
    {
     "name": "stdout",
     "output_type": "stream",
     "text": [
      "[\"Market\", \"Constant\", \"Price\", \"EngineSize\", \"SportsBike\", \"Brand2\", \"Brand3\", \"z1\", \"z2\", \"z3\", \"z4\", \"shares\"]\n"
     ]
    }
   ],
   "source": [
    "# Set working directory\n",
    "dir = \"/Users/JoshuaHigbee/Box/2. Second Year/2. Winter Quarter - 2021/\" *\n",
    "      \"Industrial Organization II - Hortacsu/Problem Sets/Problem Set 1/\";\n",
    "cd(dir);\n",
    "\n",
    "# Load packages\n",
    "using CSV, DataFrames, Random, Distributions, LinearAlgebra,\n",
    "      LatexPrint, StatsBase, Plots, SpecialFunctions\n",
    "using Optim, ForwardDiff, PyCall\n",
    "\n",
    "# Set seed\n",
    "Random.seed!(12345);\n",
    "\n",
    "# Read in data\n",
    "data = CSV.read(\"psetOne.csv\", DataFrame);\n",
    "println(names(data))"
   ]
  },
  {
   "cell_type": "markdown",
   "metadata": {},
   "source": [
    "## Question 8\n",
    "\n",
    "##### Load data for market $t=17$, and set up parameter values (coefficient order is Price, Constant, Engine CC, BikeType, Brand2, Brand3) and $\\xi$ values."
   ]
  },
  {
   "cell_type": "code",
   "execution_count": 41,
   "metadata": {},
   "outputs": [],
   "source": [
    "# Data \n",
    "d17 = data[data.Market .== 17, :];\n",
    "\n",
    "# Parameters\n",
    "θ_given =  [-3.0 1.0 1.0 2.0 -1.0 1.0]'\n",
    "α = θ_given[1]\n",
    "\n",
    "# Ownership matrix\n",
    "d17.Brand1 = Ref(1.0) .- max.(d17.Brand2, d17.Brand3);\n",
    "Δ = (d17.Brand1 .* d17.Brand1') .+ (d17.Brand2 .* d17.Brand2') .+ (d17.Brand3 .* d17.Brand3')\n",
    "\n",
    "# ξ values\n",
    "ξ_rand = rand(Normal(0,1),7);\n",
    "ξ_newton = ξ_rand; # ξ_simple\n",
    "ξ_newton = zeros(7);"
   ]
  },
  {
   "cell_type": "markdown",
   "metadata": {},
   "source": [
    "##### Define useful functions for solving fixed point pricing equation."
   ]
  },
  {
   "cell_type": "code",
   "execution_count": 42,
   "metadata": {},
   "outputs": [
    {
     "data": {
      "text/plain": [
       "newton_fxp (generic function with 1 method)"
      ]
     },
     "execution_count": 42,
     "metadata": {},
     "output_type": "execute_result"
    }
   ],
   "source": [
    "# Shares function\n",
    "function s_newton(price)\n",
    "    X = hcat(price, d17.Constant, d17.EngineSize, d17.SportsBike, d17.Brand2, d17.Brand3)\n",
    "    exp_term = X * θ_given .+ ξ_newton\n",
    "    max_exp = maximum(exp_term)\n",
    "    num = exp.(exp_term .- max_exp)\n",
    "    return num / (exp(-max_exp) + sum(num))\n",
    "end\n",
    "\n",
    "\n",
    "# Jacobian of shares function\n",
    "function s_Jac_newton(price)\n",
    "    s = s_newton(price)\n",
    "    return - α * ((s * s') .- diagm(vec(s))) # α is negative in this setting\n",
    "end\n",
    "\n",
    "\n",
    "# Hessian of shares function\n",
    "function s_Hess_newton(price)\n",
    "    s = s_newton(price)\n",
    "    Hess = Array{Float64}(undef, 7, 7, 7)\n",
    "    for j in 1:7\n",
    "        for k in 1:7\n",
    "            for l in 1:7\n",
    "                Hess[j,k,l] = α^2 *\n",
    "                      ((2*s[j]*s[k]*s[l] - 3*s[j]*s[k] + s[j])*(j==k && j==l) +\n",
    "                      (2*s[j]*s[k]*s[l] - s[j]*s[l])*(j==k && j!=l) +\n",
    "                      (2*s[j]*s[k]*s[l] - s[k]*s[l])*(j!=k && j==l) +\n",
    "                      (2*s[j]*s[k]*s[l] - s[j]*s[k])*(j!=k && k==l) +\n",
    "                      (2*s[j]*s[k]*s[l])*(l!=k && k!=j && j!=l))\n",
    "            end\n",
    "        end\n",
    "    end\n",
    "    return Hess\n",
    "end\n",
    "\n",
    "\n",
    "# Function for Newton's method (using p + Ω^{-1} * s = 0)\n",
    "function f_newton(price)\n",
    "    s = s_newton(price)\n",
    "    s_J = s_Jac_newton(price)\n",
    "    Ω = Δ .* s_J\n",
    "    f = price + inv(Ω) * s\n",
    "    return f\n",
    "end\n",
    "\n",
    "\n",
    "# Jacobian of Ω^{-1} (for use in computing Jacobian of function for fxp est)\n",
    "function Ω_inv_Jac_newton(price)\n",
    "    s = s_newton(price)\n",
    "    s_J = s_Jac_newton(price)\n",
    "    s_H = s_Hess_newton(price)\n",
    "    Ω = Δ .* s_J\n",
    "    Ω_J = Δ .* s_H\n",
    "\n",
    "    Ω_J_inv = Array{Float64}(undef, length(s), length(s), length(s))\n",
    "    for j in 1:length(s)\n",
    "        Ω_J_inv[:,:,j] = - inv(Ω) * Ω_J[:,:,j] * inv(Ω)\n",
    "    end\n",
    "    return Ω_J_inv\n",
    "end\n",
    "\n",
    "\n",
    "# Jacobian of function for Newton's method\n",
    "function f_newton_J(price)\n",
    "    s = s_newton(price)\n",
    "    s_J = s_Jac_newton(price)\n",
    "    Ω = Δ .* s_J\n",
    "    Ω_inv_J = Ω_inv_Jac_newton(price)\n",
    "    Ω_inv_J_times_s = Matrix(0.0 * I, length(s), length(s))\n",
    "    for j in 1:length(s)\n",
    "        Ω_inv_J_times_s[:,j] = Ω_inv_J[:,:,j] * s\n",
    "    end\n",
    "    ∇f_newton = I + Ω_inv_J_times_s + inv(Ω) * s_J\n",
    "    return ∇f_newton\n",
    "end\n",
    "\n",
    "\n",
    "# Actually estimate the fixed point\n",
    "function newton_fxp(price, ϵ)\n",
    "    diff = 1\n",
    "    p_0 = price\n",
    "    iter=1\n",
    "    while diff > ϵ\n",
    "        # Solve equation\n",
    "        fxp = f_newton(p_0)\n",
    "        ∇fxp = f_newton_J(p_0)\n",
    "        # ∇fxp = ForwardDiff.jacobian(f_newton, p_0)\n",
    "        p_1 = p_0 - inv(∇fxp) * fxp\n",
    "\n",
    "        # Update values and loop\n",
    "        diff = maximum(abs.(p_1 .- p_0))\n",
    "        println(\"Iteration \" * string(iter) * \"     Difference \" * string(diff))\n",
    "        p_0 = p_1\n",
    "        iter = iter + 1\n",
    "    end\n",
    "    return p_0\n",
    "end"
   ]
  },
  {
   "cell_type": "markdown",
   "metadata": {},
   "source": [
    "##### Solve fixed point equation."
   ]
  },
  {
   "cell_type": "code",
   "execution_count": 43,
   "metadata": {},
   "outputs": [
    {
     "name": "stdout",
     "output_type": "stream",
     "text": [
      "Iteration 1     Difference 2.484826536163365\n",
      "Iteration 2     Difference 0.2893243176990721\n",
      "Iteration 3     Difference 0.0726965625358531\n",
      "Iteration 4     Difference 0.006524393561025077\n",
      "Iteration 5     Difference 4.2079754713597595e-5\n",
      "Iteration 6     Difference 1.679278494037817e-9\n",
      "Iteration 7     Difference 6.661338147750939e-16\n",
      " \n"
     ]
    },
    {
     "data": {
      "text/plain": [
       "7×1 Array{Float64,2}:\n",
       " 0.38447413297903904\n",
       " 0.3844741329790391\n",
       " 0.3523194580438232\n",
       " 0.3523194580438232\n",
       " 1.7822602606218438\n",
       " 1.782260260621844\n",
       " 1.782260260621844"
      ]
     },
     "execution_count": 43,
     "metadata": {},
     "output_type": "execute_result"
    }
   ],
   "source": [
    "p_init = ones(7);\n",
    "p_init = d17.Price;\n",
    "p_optimal = newton_fxp(p_init, 1.0e-10)\n",
    "\n",
    "println(\" \")\n",
    "p_optimal"
   ]
  },
  {
   "cell_type": "markdown",
   "metadata": {},
   "source": [
    "##### Check to ensure it is a fixed point"
   ]
  },
  {
   "cell_type": "code",
   "execution_count": 44,
   "metadata": {},
   "outputs": [
    {
     "name": "stdout",
     "output_type": "stream",
     "text": [
      "7×1 Array{Float64,2}:\n",
      " -1.1102230246251565e-16\n",
      "  0.0\n",
      "  0.0\n",
      " -5.551115123125783e-17\n",
      "  3.9968028886505635e-15\n",
      "  3.9968028886505635e-15\n",
      "  3.3306690738754696e-15"
     ]
    }
   ],
   "source": [
    "f_newton(p_optimal)\n",
    "show(stdout, \"text/plain\", f_newton(p_optimal))"
   ]
  },
  {
   "cell_type": "markdown",
   "metadata": {},
   "source": [
    "## Question 9\n",
    "\n",
    "##### Write share prediction functions."
   ]
  },
  {
   "cell_type": "code",
   "execution_count": 45,
   "metadata": {},
   "outputs": [
    {
     "data": {
      "text/plain": [
       "sHat_from_ŝ (generic function with 1 method)"
      ]
     },
     "execution_count": 45,
     "metadata": {},
     "output_type": "execute_result"
    }
   ],
   "source": [
    "# Individual share predictor function (given mean utilities)\n",
    "function sHat_ind(;δ, X=0.0, σ, ζ=0.0, I_n=1)\n",
    "    \n",
    "    # Fill values if unspecified (default)\n",
    "    if X == 0.0\n",
    "        X = repeat(fill(0.0,length(σ))', length(δ))\n",
    "    end\n",
    "    if ζ == 0.0\n",
    "        ζ = reshape(fill(0.0,length(σ)*I_n), I_n, length(σ))\n",
    "    end\n",
    "\n",
    "    # Construct numerators\n",
    "    const_term = repeat(δ', outer=I_n)\n",
    "    rc_term = ζ * (X .* repeat(σ, outer=length(δ)))'\n",
    "    exp_term = const_term .+ rc_term\n",
    "    max_exp = maximum(exp_term, dims=2)\n",
    "    num = exp.(exp_term - repeat(max_exp, inner=(1,length(δ))))\n",
    "\n",
    "    # Construct denominators and shares\n",
    "    denom = repeat(exp.(-max_exp) .+ sum(num, dims=2), inner=(1,length(δ)))\n",
    "    ŝ_i = num ./ denom\n",
    "    return ŝ_i\n",
    "end\n",
    "\n",
    "# Share predictor function (for heterogeneity)\n",
    "function sHat(;δ, X=0.0, σ, ζ=0.0, I_n=1)\n",
    "    ŝ_i = sHat_ind(δ=δ, X=X, σ=σ, ζ=ζ, I_n=I_n)\n",
    "    ŝ = 1/(I_n) * sum(ŝ_i, dims=1)\n",
    "    return vec(ŝ)\n",
    "end\n",
    "\n",
    "# Share predictor function for taking ŝ after it's already computed\n",
    "function sHat_from_ŝ(; ŝ_i, I_n=1)\n",
    "    ŝ = 1/(I_n) * sum(ŝ_i, dims=1)\n",
    "    return vec(ŝ)\n",
    "end"
   ]
  },
  {
   "cell_type": "markdown",
   "metadata": {},
   "source": [
    "##### Set up parameters and data for test cases."
   ]
  },
  {
   "cell_type": "code",
   "execution_count": 46,
   "metadata": {},
   "outputs": [],
   "source": [
    "J_q9 = [3, 3, 3];\n",
    "δ_q9 = [zeros(J_q9[1]), [40, 20, 20], zeros(J_q9[3])];\n",
    "σ_q9 = [[0.0], [0.0], [0.1]];\n",
    "X_q9 = [[], [], [repeat([1.0], 3), [1.0; 3.0; -1.0], [10.0; 10.0; -3.0]]];\n",
    "I_q9 = [[], [], 50];\n",
    "ζ_q9 = [[], [], reshape(rand(Normal(0,1),length(σ_q9[3])*I_q9[3]), I_q9[3], length(σ_q9[3]))];\n",
    "shares_q9 = [];"
   ]
  },
  {
   "cell_type": "markdown",
   "metadata": {},
   "source": [
    "##### Test all cases"
   ]
  },
  {
   "cell_type": "code",
   "execution_count": 47,
   "metadata": {},
   "outputs": [
    {
     "name": "stdout",
     "output_type": "stream",
     "text": [
      "[0.25, 0.25, 0.25]\n"
     ]
    }
   ],
   "source": [
    "# First case\n",
    "s_test = sHat(δ=δ_q9[1], σ=σ_q9[1]);\n",
    "println(s_test);\n",
    "sum(s_test, dims=2)[1]\n",
    "push!(shares_q9, s_test);"
   ]
  },
  {
   "cell_type": "code",
   "execution_count": 48,
   "metadata": {},
   "outputs": [
    {
     "name": "stdout",
     "output_type": "stream",
     "text": [
      "[0.9999999958776926, 2.061153613941849e-9, 2.061153613941849e-9]\n"
     ]
    }
   ],
   "source": [
    "# Second case\n",
    "s_test = sHat(δ=δ_q9[2], σ=σ_q9[2]);\n",
    "println(s_test);\n",
    "sum(s_test, dims=2)[1]\n",
    "push!(shares_q9, s_test);"
   ]
  },
  {
   "cell_type": "code",
   "execution_count": 49,
   "metadata": {},
   "outputs": [
    {
     "name": "stdout",
     "output_type": "stream",
     "text": [
      "[0.2499492, 0.2499492, 0.2499492]\n",
      "[0.247299, 0.2547225, 0.2504074]\n",
      "[0.2492555, 0.2492555, 0.2680796]\n"
     ]
    }
   ],
   "source": [
    "# Third case\n",
    "s_test = sHat(δ=δ_q9[3], X=X_q9[3][1], σ=σ_q9[3], ζ=ζ_q9[3], I_n=I_q9[3])\n",
    "println(convert.(Float64,round.(s_test, digits=7)))\n",
    "push!(shares_q9, s_test);\n",
    "\n",
    "s_test = sHat(δ=δ_q9[3], X=X_q9[3][2], σ=σ_q9[3], ζ=ζ_q9[3], I_n=I_q9[3])\n",
    "println(convert.(Float64,round.(s_test, digits=7)))\n",
    "push!(shares_q9, s_test);\n",
    "\n",
    "s_test = sHat(δ=δ_q9[3], X=X_q9[3][3], σ=σ_q9[3], ζ=ζ_q9[3], I_n=I_q9[3])\n",
    "println(convert.(Float64,round.(s_test, digits=7)))\n",
    "push!(shares_q9, s_test);"
   ]
  },
  {
   "cell_type": "markdown",
   "metadata": {},
   "source": [
    "## Question 10\n",
    "\n",
    "##### Create functions for share inversion."
   ]
  },
  {
   "cell_type": "code",
   "execution_count": 113,
   "metadata": {},
   "outputs": [
    {
     "data": {
      "text/plain": [
       "invert_s (generic function with 1 method)"
      ]
     },
     "execution_count": 113,
     "metadata": {},
     "output_type": "execute_result"
    }
   ],
   "source": [
    "# Contraction mapping function\n",
    "function s_contraction_map(;s, X, I_n, σ, ζ, J, L̄=1.0-1.0e-7, output=false)\n",
    "      δ_0 = convert.(Real, zeros(length(s)))\n",
    "      L = 0.5 # Initialize contraction mapping ratio\n",
    "      iter = 0 # Initialize iteration count\n",
    "      δ_diff = 0.5 # Initialize difference in δ (in case L misbehaves)\n",
    "      δ_diff_h = Array{Real}(undef, 1, 3)\n",
    "      while (δ_diff > 1.0e-7) && (L < L̄)\n",
    "            # Numerical inversion\n",
    "            δ_1 = δ_0 .+ log.(s) .- log.(sHat(δ=δ_0, X=X, σ=σ, ζ=ζ, I_n=I_n))\n",
    "\n",
    "            # Max distance in δ\n",
    "            δ_diff = maximum(abs.(δ_1 - δ_0))\n",
    "\n",
    "            # Track iterations and update Lipschitz constant every 50 iters\n",
    "            iter = iter + 1\n",
    "            if ((iter + 2) % 50) == 0\n",
    "                  δ_diff_h[1] = Real(δ_diff)\n",
    "            end\n",
    "            if ((iter + 1) % 50) == 0\n",
    "                  δ_diff_h[2] = Real(δ_diff)\n",
    "            end\n",
    "            if (iter % 50) == 0\n",
    "                  δ_diff_h[3] = Real(δ_diff)\n",
    "                  L = (δ_diff_h[2]^2) / (δ_diff_h[3] * δ_diff_h[1])\n",
    "                  if output==true\n",
    "                        println(\"Iteration  \" * string(iter) *\n",
    "                              \"    Contraction term L is \" * string(L))\n",
    "                  end\n",
    "            end\n",
    "            δ_0 = δ_1\n",
    "      end\n",
    "\n",
    "      return δ_0\n",
    "end\n",
    "\n",
    "\n",
    "# Log shares Jacobian function - vectorized\n",
    "function log_s_Jac(; ŝ_i, I_n=1, J)\n",
    "      ∫ŝ_j_mat = repeat(1/(I_n) .* sum(ŝ_i, dims=1), outer=J)'\n",
    "      own_term = 1.0/(I_n) * ŝ_i' * (Ref(1.0) .- ŝ_i) .* Matrix(I, J, J)\n",
    "      cross_term = -1.0/(I_n) * (ŝ_i' * ŝ_i) .* (Ref(1.0) .- Matrix(I, J, J))\n",
    "      return (own_term .+ cross_term) ./ ∫ŝ_j_mat\n",
    "end\n",
    "\n",
    "\n",
    "# Newton's method function\n",
    "function s_newton_fxp(; s, δ_0, X, I_n, σ, ζ, J, ϵ_conv=1.0e-14, output=false, maxiter = 1e5)\n",
    "    diff = 0.5\n",
    "    iter = 0 # Initialize iteration count\n",
    "    while diff > ϵ_conv && iter < maxiter\n",
    "        # Compute\n",
    "        ŝ_i = sHat_ind(δ=δ_0, X=X, σ=σ, ζ=ζ, I_n=I_n)\n",
    "        ŝ = sHat_from_ŝ(ŝ_i=ŝ_i, I_n=I_n)\n",
    "        log_sJ = log_s_Jac(ŝ_i=ŝ_i, I_n=I_n, J=J)\n",
    "        log_s = log.(ŝ)\n",
    "        δ_1 = δ_0 .- inv(log_sJ) * (log_s - log.(s))\n",
    "\n",
    "        # Check difference and iterate\n",
    "        diff = maximum(abs.(δ_1 .- δ_0))\n",
    "        iter = iter + 1\n",
    "        if output==true\n",
    "              println(\"Iteration  \" * string(iter) *\n",
    "                    \"    Difference is \" * string(diff))\n",
    "        end\n",
    "        δ_0 = δ_1\n",
    "    end\n",
    "\n",
    "    return δ_0\n",
    "end\n",
    "\n",
    "\n",
    "# Combine two methods function\n",
    "function invert_s(; s, X, I_n, σ, ζ, J, L̄=1.0-1.0e-7, ϵ_conv=1.0e-14, output=false, maxiter_newton = 1e5)\n",
    "    δ_contraction = s_contraction_map(s=s, X=X, I_n=I_n, σ=σ, ζ=ζ, J=J, L̄=L̄, output=output)\n",
    "    δ = s_newton_fxp(s=s, δ_0=δ_contraction, X=X, I_n=I_n, σ=σ, ζ=ζ, J=J, ϵ_conv=ϵ_conv, output=output, \n",
    "            maxiter = maxiter_newton)\n",
    "    return δ\n",
    "end"
   ]
  },
  {
   "cell_type": "markdown",
   "metadata": {},
   "source": [
    "##### Test functions with data from market 17."
   ]
  },
  {
   "cell_type": "code",
   "execution_count": 51,
   "metadata": {},
   "outputs": [],
   "source": [
    "I_17 = 25;\n",
    "X_17 = convert(Matrix, hcat(d17[:, [:Price, :Constant, :EngineSize, :SportsBike, :Brand2, :Brand3]]));\n",
    "σ_17 = zeros(size(X_17)[2])';\n",
    "ζ_17 = reshape(rand(Normal(0,1),length(σ_17)*I_17), I_17, length(σ_17));"
   ]
  },
  {
   "cell_type": "code",
   "execution_count": 52,
   "metadata": {},
   "outputs": [
    {
     "data": {
      "text/plain": [
       "7-element Array{Float64,1}:\n",
       "  2.0701830111983366\n",
       " -0.34354547915214617\n",
       " -2.9269583105221644\n",
       "  0.6072436591254329\n",
       "  3.1415591256443003\n",
       "  1.3887023174228195\n",
       "  2.3476939453562755"
      ]
     },
     "execution_count": 52,
     "metadata": {},
     "output_type": "execute_result"
    }
   ],
   "source": [
    "# Test contraction\n",
    "δ_contract = s_contraction_map(s=d17.shares, X=X_17, I_n=I_17, σ=σ_17, ζ=ζ_17, J=size(X_17)[1])"
   ]
  },
  {
   "cell_type": "code",
   "execution_count": 53,
   "metadata": {},
   "outputs": [
    {
     "data": {
      "text/plain": [
       "7-element Array{Float64,1}:\n",
       "  2.070264979033952\n",
       " -0.3434635113165314\n",
       " -2.9268763426865503\n",
       "  0.6073256269610476\n",
       "  3.1416410934799153\n",
       "  1.3887842852584344\n",
       "  2.347775913191892"
      ]
     },
     "execution_count": 53,
     "metadata": {},
     "output_type": "execute_result"
    }
   ],
   "source": [
    "# Test Newton's method\n",
    "s_newton_fxp(s=d17.shares, δ_0 = δ_contract, X=X_17, I_n=I_17, σ=σ_17, ζ=ζ_17, J=size(X_17)[1], ϵ_conv=1.0e-15)"
   ]
  },
  {
   "cell_type": "code",
   "execution_count": 66,
   "metadata": {},
   "outputs": [
    {
     "data": {
      "text/plain": [
       "7-element Array{Float64,1}:\n",
       "  2.070264979033952\n",
       " -0.3434635113165314\n",
       " -2.9268763426865503\n",
       "  0.6073256269610476\n",
       "  3.1416410934799153\n",
       "  1.3887842852584344\n",
       "  2.347775913191892"
      ]
     },
     "execution_count": 66,
     "metadata": {},
     "output_type": "execute_result"
    }
   ],
   "source": [
    "# Test both\n",
    "invert_s(s=d17.shares, X=X_17, I_n=I_17, σ=σ_17, ζ=ζ_17, J=size(X_17)[1], L̄=1.0-1.0e-7, ϵ_conv=1.0e-15)"
   ]
  },
  {
   "cell_type": "markdown",
   "metadata": {},
   "source": [
    "##### Test with data from the previous question."
   ]
  },
  {
   "cell_type": "code",
   "execution_count": 55,
   "metadata": {},
   "outputs": [
    {
     "name": "stdout",
     "output_type": "stream",
     "text": [
      "[0.0, 0.0, 0.0]\n",
      "[36.91942667635634, 16.919426676356338, 16.919426676356338]\n",
      "[0.0, 0.0, 0.0]\n",
      "[0.000167855770944695, -0.02965908149334844, -0.012089398619322995]\n",
      "[-0.06117617872123282, -0.06117617872123282, -0.14113460280480175]\n"
     ]
    }
   ],
   "source": [
    "println(invert_s(s=shares_q9[1], σ=σ_q9[2], X=0.0, I_n=1, ζ=0.0, J=J_q9[1]))\n",
    "println(invert_s(s=shares_q9[2], σ=σ_q9[2], X=0.0, I_n=1, ζ=0.0, J=J_q9[2]))\n",
    "println(invert_s(s=shares_q9[3], σ=σ_q9[3], X=X_q9[3][1], I_n=I_q9[3], ζ=ζ_q9[3], J=J_q9[3]))\n",
    "println(invert_s(s=shares_q9[3], σ=σ_q9[3], X=X_q9[3][2], I_n=I_q9[3], ζ=ζ_q9[3], J=J_q9[3]))\n",
    "println(invert_s(s=shares_q9[3], σ=σ_q9[3], X=X_q9[3][3], I_n=I_q9[3], ζ=ζ_q9[3], J=J_q9[3]))"
   ]
  },
  {
   "cell_type": "markdown",
   "metadata": {},
   "source": [
    "## Question 11\n",
    "\n",
    "##### Write function for computing $\\xi$"
   ]
  },
  {
   "cell_type": "code",
   "execution_count": 106,
   "metadata": {},
   "outputs": [
    {
     "data": {
      "text/plain": [
       "ξ_rclogit (generic function with 1 method)"
      ]
     },
     "execution_count": 106,
     "metadata": {},
     "output_type": "execute_result"
    }
   ],
   "source": [
    "# Implicit function for ξ - all markets (X_all is vector of matrices)\n",
    "function ξ_rclogit(; X_all, θ, s_all, ζ=0.0, I_num=1, maxiter_newton=1e5, rclogit_output=false)\n",
    "    # θ split between linear terms (1) and nonlinear terms (2)\n",
    "    αβ = θ[1] # Put price first for consistency\n",
    "    σ = θ[2]\n",
    "    \n",
    "    # Loop through markets and invert shares\n",
    "    δhat_all = []\n",
    "    for mkt in 1:length(X_all)\n",
    "        if rclogit_output==true\n",
    "            println(\"Market number is \" * string(mkt) * \" of \" * string(length(X_all)))\n",
    "        end\n",
    "        δhat = invert_s(s=s_all[mkt], X=X_all[mkt], I_n=I_num, σ=σ, ζ=ζ, J=length(s_all[mkt]), \n",
    "                    L̄=1.0-1.0e-7, ϵ_conv=1.0e-14, maxiter_newton = maxiter_newton)\n",
    "        push!(δhat_all, δhat)\n",
    "    end\n",
    "    \n",
    "    # Stack data and compute δ_mean\n",
    "    δhat = reduce(vcat, δhat_all)\n",
    "    X_stack = reduce(vcat, X_all)\n",
    "    δ_mean = X_stack * αβ\n",
    "\n",
    "    # Subtract off mean utility to get ξ̂\n",
    "    return δhat .- δ_mean\n",
    "end"
   ]
  },
  {
   "cell_type": "markdown",
   "metadata": {},
   "source": [
    "##### Write function for splicing data into markets (array of matrices and vectors, for shares and variables)."
   ]
  },
  {
   "cell_type": "code",
   "execution_count": 57,
   "metadata": {},
   "outputs": [
    {
     "data": {
      "text/plain": [
       "mkt_X_s_break (generic function with 1 method)"
      ]
     },
     "execution_count": 57,
     "metadata": {},
     "output_type": "execute_result"
    }
   ],
   "source": [
    "function mkt_X_s_break(; exclude_vec)\n",
    "    X_full_mkt = []\n",
    "    s_full_mkt = []\n",
    "    for mkt in unique(data[[x ∉ exclude_vec for x in data.Market], :Market])\n",
    "        X_mkt = convert(Matrix, data[data.Market .== mkt,\n",
    "                    [:Price, :Constant, :EngineSize, :SportsBike, :Brand2, :Brand3]])\n",
    "        push!(X_full_mkt, X_mkt)\n",
    "        \n",
    "        s_mkt = data[data.Market .== mkt, :shares]\n",
    "        push!(s_full_mkt, s_mkt)\n",
    "    end\n",
    "    return [X_full_mkt, s_full_mkt]\n",
    "end"
   ]
  },
  {
   "cell_type": "markdown",
   "metadata": {},
   "source": [
    "##### Test functions with data from market."
   ]
  },
  {
   "cell_type": "code",
   "execution_count": 93,
   "metadata": {},
   "outputs": [],
   "source": [
    "# Create test parameters\n",
    "I_test = 25\n",
    "σ_test = zeros(6)\n",
    "ζ_test = reshape(rand(Normal(0,1),length(σ_test)*I_test), I_test, length(σ_test))\n",
    "Z_test = convert(Matrix, data[:, [:z1, :z2, :z3, :z4]])\n",
    "W_test = inv(Z_test' * Z_test);\n",
    "\n",
    "# Choose data\n",
    "test_data = mkt_X_s_break(exclude_vec = []);"
   ]
  },
  {
   "cell_type": "code",
   "execution_count": 72,
   "metadata": {},
   "outputs": [
    {
     "name": "stdout",
     "output_type": "stream",
     "text": [
      " 48.793324 seconds (363.40 M allocations: 40.777 GiB, 19.28% gc time)\n"
     ]
    }
   ],
   "source": [
    "# Test functions at θ = 0\n",
    "θ_zeros = [zeros(6), zeros(6)']\n",
    "@time ξ_zeros = ξ_rclogit(X_all=test_data[1], θ=θ_test, s_all=test_data[2], ζ=ζ_test, I_num=I_test);"
   ]
  },
  {
   "cell_type": "code",
   "execution_count": 112,
   "metadata": {},
   "outputs": [
    {
     "data": {
      "text/plain": [
       "8-element Array{Float64,1}:\n",
       "  3.4175577069186143\n",
       "  2.2199898323356324\n",
       " -2.8348206236877442\n",
       "  4.317272874619498\n",
       "  1.459620984134158\n",
       "  1.0254328494996467\n",
       "  1.536865084873692\n",
       " -2.7318744786927476"
      ]
     },
     "execution_count": 112,
     "metadata": {},
     "output_type": "execute_result"
    }
   ],
   "source": [
    "ξ_zeros[1:8]"
   ]
  },
  {
   "cell_type": "markdown",
   "metadata": {},
   "source": [
    "##### Write GMM objective function using implicit function $\\xi$."
   ]
  },
  {
   "cell_type": "code",
   "execution_count": 63,
   "metadata": {},
   "outputs": [
    {
     "data": {
      "text/plain": [
       "252.5932803130474"
      ]
     },
     "execution_count": 63,
     "metadata": {},
     "output_type": "execute_result"
    }
   ],
   "source": [
    "function f_gmm_rclogit_implθ(; W=I, Z, X_all, θ, s_all, ζ, I_num)\n",
    "    ξ = ξ_rclogit(X_all=X_all, θ=θ, s_all=s_all, ζ=ζ, I_num=I_num)\n",
    "    return (Z' * ξ)' * W * (Z' * ξ)\n",
    "end\n",
    "\n",
    "# Test objective function - computing ξ within\n",
    "f_gmm_rclogit_implθ(W=W_test, Z=Z_test, X_all=test_data[1], θ=[zeros(6), zeros(6)'], s_all=test_data[2], \n",
    "    ζ=ζ_test, I_num=I_test)"
   ]
  },
  {
   "cell_type": "markdown",
   "metadata": {},
   "source": [
    "##### Rewrite objective function as a function of only $\\sigma$ (no linear terms)"
   ]
  },
  {
   "cell_type": "code",
   "execution_count": 74,
   "metadata": {},
   "outputs": [
    {
     "data": {
      "text/plain": [
       "12.478842752838842"
      ]
     },
     "execution_count": 74,
     "metadata": {},
     "output_type": "execute_result"
    }
   ],
   "source": [
    "# Function for computing linear parameters\n",
    "function θ_tsls(; X, Z, W, δ)\n",
    "    B = X' * Z * W * Z'\n",
    "    return inv(B * X) * (B * δ)\n",
    "end\n",
    "\n",
    "\n",
    "# Function returning ξ(σ), δ(σ), and θ̄(σ)\n",
    "function ξδθ_σ_rclogit(; X_all, σ, s_all, ζ=0.0, I_num=1, Z, W)\n",
    "    δ = []\n",
    "    for mkt in 1:length(X_all)\n",
    "        δ_mkt = invert_s(s=s_all[mkt], X=X_all[mkt], I_n=I_num, σ=σ, ζ=ζ, J=length(s_all[mkt]))\n",
    "        push!(δ, δ_mkt)\n",
    "    end\n",
    "    δ_σ_stack = reduce(vcat, δ)\n",
    "    X_stack = reduce(vcat, X_all)\n",
    "\n",
    "    αβ = θ_tsls(X=X_stack, Z=Z, W=W, δ=δ_σ_stack)\n",
    "\n",
    "    ξ = δ_σ_stack .- (X_stack * αβ)\n",
    "    return (ξ = ξ, δ_all = δ, αβ = αβ)\n",
    "end\n",
    "\n",
    "\n",
    "# Rewrite objective function as only a function of σ\n",
    "function f_gmm_rclogit_σ(;W, Z, X_all, σ, s_all, ζ, I_num)\n",
    "    output = ξδθ_σ_rclogit(X_all=X_all, σ=σ, s_all=s_all, ζ=ζ, I_num=I_num, Z=Z, W=W)\n",
    "    ξ = output.ξ\n",
    "    return (Z' * ξ)' * W * (Z' * ξ)\n",
    "end\n",
    "\n",
    "# Test objective function at σ=0\n",
    "f_gmm_rclogit_σ(W=W_test, Z=Z_test, X_all=test_data[1], σ=zeros(6)', s_all=test_data[2], ζ=ζ_test, I_num=I_test)"
   ]
  },
  {
   "cell_type": "code",
   "execution_count": 129,
   "metadata": {},
   "outputs": [
    {
     "data": {
      "text/plain": [
       "8×8 Array{Float64,2}:\n",
       "  0.0270145    -0.00252669   -0.0123232    …   0.00142429   -0.000182233\n",
       " -0.00252669    0.000462362   0.00104184      -0.00110521   -0.000979029\n",
       " -0.0123232     0.00104184    0.00800275      -0.000905501   0.000122849\n",
       " -0.00548432    0.000391539   0.00220076      -0.000198159  -0.000220188\n",
       "  0.00129346   -0.00119579   -0.000752589      0.000954218   0.000431562\n",
       "  0.00046296   -0.000979566  -0.000563544  …  -0.000260153  -0.000354972\n",
       "  0.00142429   -0.00110521   -0.000905501      0.0203489    -0.000635167\n",
       " -0.000182233  -0.000979029   0.000122849     -0.000635167   0.0202974"
      ]
     },
     "execution_count": 129,
     "metadata": {},
     "output_type": "execute_result"
    }
   ],
   "source": [
    "# Test with expanded instrument set\n",
    "X_no_inst = reduce(vcat, test_data[1])[:,2:5]\n",
    "Z_full = hcat(X_no_inst, Z_test)\n",
    "W_full = inv(Z_full' * Z_full)"
   ]
  },
  {
   "cell_type": "code",
   "execution_count": 130,
   "metadata": {},
   "outputs": [
    {
     "data": {
      "text/plain": [
       "0.5660004999500263"
      ]
     },
     "execution_count": 130,
     "metadata": {},
     "output_type": "execute_result"
    }
   ],
   "source": [
    "f_gmm_rclogit_σ(W=W_full, Z=Z_full, X_all=test_data[1], σ=zeros(6)', s_all=test_data[2], ζ=ζ_test, I_num=I_test)"
   ]
  },
  {
   "cell_type": "markdown",
   "metadata": {},
   "source": [
    "## Question 12\n",
    "\n",
    "##### Write gradient function (as a function of $\\sigma$ only)."
   ]
  },
  {
   "cell_type": "code",
   "execution_count": 79,
   "metadata": {},
   "outputs": [
    {
     "data": {
      "text/plain": [
       "ξ_Jac (generic function with 1 method)"
      ]
     },
     "execution_count": 79,
     "metadata": {},
     "output_type": "execute_result"
    }
   ],
   "source": [
    "# Individual share predictor function (given X and αβ)\n",
    "function sHat_ind_αβ(; αβ, X, σ, ζ=0.0, I_n=1)\n",
    "    # Construct numerators\n",
    "    δ = X * αβ\n",
    "    const_term = repeat(δ', outer=I_n)\n",
    "    rc_term = ζ * (X .* repeat(σ, outer=length(δ)))'\n",
    "    exp_term = const_term .+ rc_term\n",
    "    max_exp = maximum(exp_term, dims=2)\n",
    "    num = exp.(exp_term - repeat(max_exp, inner=(1,length(δ))))\n",
    "\n",
    "    # Construct denominators and shares\n",
    "    denom = repeat(exp.(-max_exp) .+ sum(num, dims=2), inner=(1,length(δ)))\n",
    "    ŝ_i = num ./ denom\n",
    "    return ŝ_i\n",
    "end\n",
    "\n",
    "\n",
    "# Function to compute Jacobian of ξ(θ) for each market\n",
    "function ξ_Jac_θ_mkt(; X, I_n, ζ, ŝ_i)\n",
    "    sum_terms = Array{Float64}(undef, size(X)[1], size(X)[2], I_n)\n",
    "    ξ_Ji = Array{Float64}(undef, size(ŝ_i)[2], size(ŝ_i)[2], I_n)\n",
    "    for i in 1:I_n\n",
    "        s = ŝ_i[i,:]\n",
    "        ξ_Ji[:,:,i] = -1.0 * ((s * s') .- diagm(vec(s)))\n",
    "        sum_terms[:,:,i] = ξ_Ji[:,:,i] * X * diagm(ζ[i,:])\n",
    "    end\n",
    "    mean_all = 1/I_n * reshape(sum(sum_terms, dims=3), size(X)[1], size(X)[2])\n",
    "    ξ_J_all = 1/I_n * reshape(sum(ξ_Ji, dims=3), size(ŝ_i)[2], size(ŝ_i)[2])\n",
    "    return -1.0 * inv(ξ_J_all) * mean_all\n",
    "end\n",
    "\n",
    "\n",
    "# Function for computing Jacobian of ξ(θ) for all markets\n",
    "function ξ_Jac(; X_all, δ_all, I_n, ζ, σ)\n",
    "      ξ_J_θ = []\n",
    "      for mkt in 1:length(X_all)\n",
    "            X_mkt = X_all[mkt]; δ_mkt = δ_all[mkt]\n",
    "\n",
    "            ŝ_i = sHat_ind(δ=δ_mkt, X=X_mkt, σ=σ, ζ=ζ, I_n=I_n)\n",
    "            ξ_J_θ_mkt = ξ_Jac_θ_mkt(X=X_mkt, I_n=I_n, ζ=ζ, ŝ_i=ŝ_i)\n",
    "            push!(ξ_J_θ, ξ_J_θ_mkt)\n",
    "      end\n",
    "      ξ_J = reduce(vcat, ξ_J_θ)\n",
    "      return ξ_J\n",
    "end"
   ]
  },
  {
   "cell_type": "markdown",
   "metadata": {},
   "source": [
    "##### Test function for Jacobian (first compute $\\delta$ values)"
   ]
  },
  {
   "cell_type": "code",
   "execution_count": 90,
   "metadata": {},
   "outputs": [],
   "source": [
    "ξδθ_output =  ξδθ_σ_rclogit(X_all=test_data[1], σ=zeros(6)', s_all=test_data[2], ζ=ζ_test, I_num=25, \n",
    "        Z=Z_test, W=W_test)\n",
    "\n",
    "ξ_Jac_test = ξ_Jac(X_all=test_data[1], δ_all=ξδθ_output.δ_all, I_n=I_test, ζ=ζ_test, σ=zeros(6)');"
   ]
  },
  {
   "cell_type": "code",
   "execution_count": 91,
   "metadata": {
    "scrolled": true
   },
   "outputs": [
    {
     "data": {
      "text/plain": [
       "8×6 Array{Float64,2}:\n",
       " -0.15068   0.00965054  -0.387707  -0.272062     -1.38202e-20  -1.67896e-15\n",
       " -0.151175  0.00965054  -0.646178  -0.272062      2.0302e-19   -1.67896e-15\n",
       " -0.179996  0.00965054  -0.387707  -0.272062      0.0247634    -1.42985e-15\n",
       " -0.193396  0.00965054  -0.646178  -0.272062      2.15891e-19   0.05055\n",
       " -0.389419  0.00965054  -0.969268  -0.272062     -2.35198e-21   0.05055\n",
       " -0.401599  0.00965054  -1.29236   -0.272062      1.26032e-20   0.05055\n",
       " -0.273641  0.00965054  -1.29236    6.75655e-15   9.77764e-20   0.05055\n",
       " -0.635625  0.00965054  -1.55083    6.86423e-15  -1.06189e-19   0.05055"
      ]
     },
     "execution_count": 91,
     "metadata": {},
     "output_type": "execute_result"
    }
   ],
   "source": [
    "ξ_Jac_test[1:8,:]"
   ]
  },
  {
   "cell_type": "code",
   "execution_count": 114,
   "metadata": {},
   "outputs": [
    {
     "data": {
      "text/plain": [
       "f_gmm_rclogit_σ_J (generic function with 1 method)"
      ]
     },
     "execution_count": 114,
     "metadata": {},
     "output_type": "execute_result"
    }
   ],
   "source": [
    "function f_gmm_rclogit_σ_g(; X_all, δ_all, Z, W, σ, I_n, ζ, ξ)\n",
    "      ξ_J = ξ_Jac(X_all=X_all, δ_all=δ_all, I_n=I_n, ζ=ζ, σ=σ)\n",
    "      df_θ = 2 * (Z' * ξ_J)' * W * (Z' * ξ)\n",
    "      return df_θ\n",
    "end"
   ]
  },
  {
   "cell_type": "code",
   "execution_count": 120,
   "metadata": {},
   "outputs": [
    {
     "data": {
      "text/plain": [
       "1×6 Adjoint{Float64,Array{Float64,1}}:\n",
       " -60.1842  49.1075  352.707  2.33519  3.25786  15.231"
      ]
     },
     "execution_count": 120,
     "metadata": {},
     "output_type": "execute_result"
    }
   ],
   "source": [
    "my_test_gmm_J = f_gmm_rclogit_σ_J(X_all=test_data[1], δ_all=ξδθ_output.δ_all, I_n=I_test, ζ=ζ_test, \n",
    "        σ=zeros(6)', Z=Z_test, W=W_test, ξ=ξδθ_output.ξ)\n",
    "my_test_gmm_J'"
   ]
  },
  {
   "cell_type": "markdown",
   "metadata": {},
   "source": [
    "##### Test Jacobian of market shares using ForwardDiff"
   ]
  },
  {
   "cell_type": "code",
   "execution_count": 138,
   "metadata": {},
   "outputs": [
    {
     "data": {
      "text/plain": [
       "gmm_σ_test (generic function with 1 method)"
      ]
     },
     "execution_count": 138,
     "metadata": {},
     "output_type": "execute_result"
    }
   ],
   "source": [
    "function gmm_σ_test(σ_init) \n",
    "    func = f_gmm_rclogit_σ(W=W_test, Z=Z_test, X_all=test_data[1], σ=σ_init,\n",
    "                        s_all=test_data[2], ζ=ζ_test, I_num=I_test)\n",
    "    return func\n",
    "end"
   ]
  },
  {
   "cell_type": "code",
   "execution_count": 139,
   "metadata": {},
   "outputs": [
    {
     "data": {
      "text/plain": [
       "1×6 Adjoint{Float64,Array{Float64,1}}:\n",
       " 1.33603  7.07581  -26.7085  -0.092702  -0.0558999  -1.87277"
      ]
     },
     "execution_count": 139,
     "metadata": {},
     "output_type": "execute_result"
    }
   ],
   "source": [
    "fd_test_gmm_J = ForwardDiff.gradient(gmm_σ_test, zeros(6)')\n",
    "fd_test_gmm_J"
   ]
  },
  {
   "cell_type": "code",
   "execution_count": 132,
   "metadata": {},
   "outputs": [
    {
     "data": {
      "text/plain": [
       "1×6 Adjoint{Float64,Array{Float64,1}}:\n",
       " 1.33603  -26.7085  0.0  0.0  0.0  0.0"
      ]
     },
     "execution_count": 132,
     "metadata": {},
     "output_type": "execute_result"
    }
   ],
   "source": [
    "fd_test_gmm_J"
   ]
  },
  {
   "cell_type": "markdown",
   "metadata": {},
   "source": [
    "# FIX THIS STILL"
   ]
  },
  {
   "cell_type": "markdown",
   "metadata": {},
   "source": [
    "## Question 13\n",
    "\n",
    "##### Write GMM function that only takes in the desired values of $\\sigma$ (for random coefficients on price and engine size)"
   ]
  },
  {
   "cell_type": "code",
   "execution_count": 135,
   "metadata": {},
   "outputs": [
    {
     "data": {
      "text/plain": [
       "gmm_σ (generic function with 1 method)"
      ]
     },
     "execution_count": 135,
     "metadata": {},
     "output_type": "execute_result"
    }
   ],
   "source": [
    "function gmm_σ(σ_init) \n",
    "    σ_mod = [σ_init[1], 0, σ_init[2], 0, 0, 0]' # Only price and engine size have RCs\n",
    "    func = f_gmm_rclogit_σ(W=W_test, Z=Z_test, X_all=test_data[1], σ=σ_mod,\n",
    "                        s_all=test_data[2], ζ=ζ_test, I_num=I_test)\n",
    "    return func\n",
    "end"
   ]
  },
  {
   "cell_type": "code",
   "execution_count": 136,
   "metadata": {},
   "outputs": [
    {
     "data": {
      "text/plain": [
       "12.478842752838842"
      ]
     },
     "execution_count": 136,
     "metadata": {},
     "output_type": "execute_result"
    }
   ],
   "source": [
    "# Test GMM function\n",
    "gmm_test(zeros(6)')"
   ]
  },
  {
   "cell_type": "markdown",
   "metadata": {},
   "source": [
    "## TEMPORARILY - construct auto-diff function as placeholder for coded-up one"
   ]
  },
  {
   "cell_type": "code",
   "execution_count": 134,
   "metadata": {},
   "outputs": [
    {
     "data": {
      "text/plain": [
       "2-element Array{Float64,1}:\n",
       "     1.4401349487344577\n",
       " -9924.5984750484"
      ]
     },
     "execution_count": 134,
     "metadata": {},
     "output_type": "execute_result"
    }
   ],
   "source": [
    "# Construct auto-diff function as placeholder\n",
    "g_gmm_σ_auto = x -> ForwardDiff.gradient(gmm_σ, x)\n",
    "g_gmm_σ_auto([1, 1])"
   ]
  },
  {
   "cell_type": "markdown",
   "metadata": {},
   "source": [
    "##### Write function for calling one stage of GMM for a given weighting matrix."
   ]
  },
  {
   "cell_type": "code",
   "execution_count": 141,
   "metadata": {},
   "outputs": [
    {
     "data": {
      "text/plain": [
       "gmm_stage (generic function with 1 method)"
      ]
     },
     "execution_count": 141,
     "metadata": {},
     "output_type": "execute_result"
    }
   ],
   "source": [
    "function gmm_stage(; W, Z, X_all, s_all, ζ, I_num, σ_init)\n",
    "    # Objective function\n",
    "    function f_obj(σ_init) \n",
    "        σ_mod = [σ_init[1], 0, σ_init[2], 0, 0, 0]' # Only price and engine size have RCs\n",
    "        func = f_gmm_rclogit_σ(W=W, Z=Z, X_all=X_all, σ=σ_mod, s_all=s_all, ζ=ζ, I_num=I_num)\n",
    "        return func\n",
    "    end\n",
    "    \n",
    "    # Gradient function\n",
    "#     function g_obj(σ_init)\n",
    "#         σ_mod = [σ_init[1], 0, σ_init[2], 0, 0, 0]' # Only price and engine size have RCs\n",
    "#         grad = f_gmm_rclogit_σ_g(W=W, Z=Z, X_all=X_all, σ=σ_mod, s_all=s_all, ζ=ζ, I_num=I_num) \n",
    "#         G[1:2] = grad[1,3]\n",
    "#     end\n",
    "    \n",
    "    # AD gradient function\n",
    "    # g_obj = x -> ForwardDiff.gradient(f_obj, x)\n",
    "    \n",
    "    # Return result\n",
    "    σ_result = Optim.minimizer(optimize(f_obj, g_obj, σ_init, BFGS(), Optim.Options(show_trace=true)))\n",
    "    return σ_result\n",
    "end  "
   ]
  },
  {
   "cell_type": "markdown",
   "metadata": {},
   "source": [
    "##### Write functions for implementing two-stage GMM."
   ]
  },
  {
   "cell_type": "code",
   "execution_count": null,
   "metadata": {},
   "outputs": [],
   "source": [
    "# Function for optimal weighting matrix\n",
    "function gmm_opt_weight(; Z, ξ)\n",
    "    n = size(Z)[1]\n",
    "    Zξ = Z' * ξ\n",
    "    return inv((1/n) * Zξ * Zξ')\n",
    "end\n",
    "\n",
    "\n",
    "# Function for gradient of ξ with respect to all parameters - STILL NEED TO FINISH THIS!!!!!!!!!!!!!!!!!!!!!!!!!!\n",
    "function ξ_θfull_J(; Z, ξ)\n",
    "    n = size(Z)[1]\n",
    "    Zξ = Z' * ξ\n",
    "    return inv((1/n) * Zξ * Zξ')\n",
    "end\n",
    "\n",
    "\n",
    "# Function for two-stage GMM\n",
    "function two_stage_gmm(; W_stage1, Z, X_all, s_all, ζ, I_num, σ_init)\n",
    "    # First stage estimation with given starting weighting matrix\n",
    "    σ_stage1 = gmm_stage(W=W_stage1, Z=Z, X_all=X_all, s_all=s_all, ζ=ζ, I_num=I_num, σ_init=σ_init)\n",
    "    \n",
    "    # Compute optimal weighting matrix for second stage\n",
    "    ξδθ_output =  ξδθ_σ_rclogit(X_all=X_all, σ=σ_stage1, s_all=s_all, ζ=ζ, I_num=I_num, Z=Z, W=W_stage1)\n",
    "    ξ_stage1 = ξδθ_output.ξ\n",
    "    W_stage2 = gmm_opt_weight(Z=Z, ξ=ξ_stage1)\n",
    "    \n",
    "    # Second stage estimation with given starting weighting matrix\n",
    "    σ_stage2 = gmm_stage(W=W_stage2, Z=Z, X_all=X_all, s_all=s_all, ζ=ζ, I_num=I_num, σ_init=σ_init)\n",
    "    \n",
    "    # Compute covariance matrix for point estimates\n",
    "    G = ξ_θfull_J(Z, ξ) # STILL NEED TO FINISH THIS HERE!!!!!!!!!!!!!!!!!!!!!!!!!!!!!!!!!!!!!!!!!!!!!!!!!!!!\n",
    "    ξδθ_output =  ξδθ_σ_rclogit(X_all=X_all, σ=σ_stage1, s_all=s_all, ζ=ζ, I_num=I_num, Z=Z, W=W_stage1)\n",
    "    ξ_stage1 = ξδθ_output.ξ\n",
    "    W_stage2 = gmm_opt_weight(Z=Z, ξ=ξ_stage1)\n",
    "    Σ = inv(G' * inv(W_stage2) * G)"
   ]
  }
 ],
 "metadata": {
  "kernelspec": {
   "display_name": "Julia 1.5.3",
   "language": "julia",
   "name": "julia-1.5"
  },
  "language_info": {
   "file_extension": ".jl",
   "mimetype": "application/julia",
   "name": "julia",
   "version": "1.5.3"
  }
 },
 "nbformat": 4,
 "nbformat_minor": 4
}
