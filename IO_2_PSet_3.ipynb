{
 "cells": [
  {
   "cell_type": "markdown",
   "metadata": {},
   "source": [
    "# IO 2, Problem Set 3\n",
    "\n",
    "#### Abram and Higbee"
   ]
  },
  {
   "cell_type": "code",
   "execution_count": 2,
   "metadata": {},
   "outputs": [],
   "source": [
    "# Set wd\n",
    "pwd()\n",
    "dir = \"/Users/JoshuaHigbee/Box/2. Second Year/2. Winter Quarter - 2021/\" * \n",
    "        \"Industrial Organization II - Hortacsu/Problem Sets/Problem Set 3/\";\n",
    "cd(dir);\n",
    "\n",
    "# Set up packages (must have pre-loaded)\n",
    "using Pkg\n",
    "using CSV, DataFrames, Random, Distributions, LinearAlgebra,\n",
    "      LatexPrint, StatsBase, Plots, SpecialFunctions\n",
    "using Optim, ForwardDiff, PyCall, ShiftedArrays, StatsPlots, DataFramesMeta\n",
    "\n",
    "# Set seed\n",
    "Random.seed!(12345);\n",
    "\n",
    "# Set column and row views\n",
    "#ENV[\"COLUMNS\"]=10000; ENV[\"ROWS\"]=10000;\n",
    "Base.displaysize() = (100, 100000);"
   ]
  },
  {
   "cell_type": "markdown",
   "metadata": {},
   "source": [
    "<br><br><br><br>\n",
    "\n",
    "# 1. Data"
   ]
  },
  {
   "cell_type": "code",
   "execution_count": 97,
   "metadata": {
    "scrolled": false
   },
   "outputs": [
    {
     "name": "stdout",
     "output_type": "stream",
     "text": [
      "(2636, 21)\n"
     ]
    }
   ],
   "source": [
    "dt = CSV.read(\"ps3clean.csv\", DataFrame);\n",
    "println(size(dt))"
   ]
  },
  {
   "cell_type": "code",
   "execution_count": 98,
   "metadata": {},
   "outputs": [],
   "source": [
    "rename!(dt, [:data_num, :bidder, :house, :date, :lot, :profit, :net_pay, :rank, :p_final, :bid,\n",
    "                :est_min_d, :est_max_d, :catalog_p, :catalog_d, :est_min, :est_max, :grade_min,\n",
    "                :grade_max, :no_grade, :excl_us, :no_value]);"
   ]
  },
  {
   "cell_type": "code",
   "execution_count": 99,
   "metadata": {},
   "outputs": [],
   "source": [
    "dt.auction_num = groupindices(groupby(dt, [:house, :date, :lot]));"
   ]
  },
  {
   "cell_type": "code",
   "execution_count": 100,
   "metadata": {},
   "outputs": [],
   "source": [
    "dt[!, :num_bidders] .= 0\n",
    "for i in unique(dt.auction_num)\n",
    "    dt[dt.auction_num .== i, :num_bidders] .= nrow(dt[dt.auction_num .== i, :])\n",
    "end;"
   ]
  },
  {
   "cell_type": "code",
   "execution_count": 101,
   "metadata": {},
   "outputs": [],
   "source": [
    "dt.lot_value = dt.catalog_d .* dt.catalog_p .+ (1 .- dt.catalog_d) .* 0.5 .* (dt.est_min .+ dt.est_max);"
   ]
  },
  {
   "cell_type": "code",
   "execution_count": 102,
   "metadata": {},
   "outputs": [
    {
     "data": {
      "text/html": [
       "<table class=\"data-frame\"><thead><tr><th></th><th>data_num</th><th>bidder</th><th>house</th><th>date</th><th>lot</th><th>profit</th><th>net_pay</th><th>rank</th><th>p_final</th><th>bid</th><th>est_min_d</th><th>est_max_d</th><th>catalog_p</th><th>catalog_d</th><th>est_min</th><th>est_max</th><th>grade_min</th><th>grade_max</th><th>no_grade</th><th>excl_us</th><th>no_value</th><th>auction_num</th><th>num_bidders</th><th>lot_value</th></tr><tr><th></th><th>Int64</th><th>Int64</th><th>String</th><th>Int64</th><th>String</th><th>Float64</th><th>Float64</th><th>Int64</th><th>Int64</th><th>Int64</th><th>Int64</th><th>Int64</th><th>Float64</th><th>Int64</th><th>Float64</th><th>Float64</th><th>Int64?</th><th>Int64</th><th>Int64</th><th>Int64</th><th>Int64</th><th>Int64?</th><th>Int64</th><th>Float64</th></tr></thead><tbody><p>10 rows × 24 columns</p><tr><th>1</th><td>1</td><td>1</td><td>A</td><td>35360</td><td>217</td><td>150.0</td><td>-150.0</td><td>1</td><td>5200</td><td>8000</td><td>7000</td><td>9000</td><td>0.0</td><td>0</td><td>7000.0</td><td>9000.0</td><td>3</td><td>2</td><td>0</td><td>1</td><td>0</td><td>1</td><td>2</td><td>8000.0</td></tr><tr><th>2</th><td>2</td><td>2</td><td>A</td><td>35360</td><td>217</td><td>150.0</td><td>150.0</td><td>2</td><td>5200</td><td>5500</td><td>7000</td><td>9000</td><td>0.0</td><td>0</td><td>7000.0</td><td>9000.0</td><td>3</td><td>2</td><td>0</td><td>1</td><td>0</td><td>1</td><td>2</td><td>8000.0</td></tr><tr><th>3</th><td>3</td><td>1</td><td>A</td><td>35360</td><td>218</td><td>0.0</td><td>0.0</td><td>1</td><td>1000</td><td>950</td><td>300</td><td>400</td><td>0.0</td><td>0</td><td>300.0</td><td>400.0</td><td>5</td><td>2</td><td>0</td><td>1</td><td>0</td><td>2</td><td>1</td><td>350.0</td></tr><tr><th>4</th><td>4</td><td>1</td><td>A</td><td>35360</td><td>220</td><td>0.0</td><td>0.0</td><td>1</td><td>1500</td><td>1500</td><td>1000</td><td>1200</td><td>0.0</td><td>0</td><td>1000.0</td><td>1200.0</td><td>5</td><td>2</td><td>0</td><td>1</td><td>0</td><td>3</td><td>1</td><td>1100.0</td></tr><tr><th>5</th><td>5</td><td>1</td><td>A</td><td>35360</td><td>222</td><td>0.0</td><td>0.0</td><td>1</td><td>4800</td><td>4750</td><td>4000</td><td>5000</td><td>0.0</td><td>0</td><td>4000.0</td><td>5000.0</td><td>3</td><td>2</td><td>0</td><td>1</td><td>0</td><td>4</td><td>1</td><td>4500.0</td></tr><tr><th>6</th><td>6</td><td>1</td><td>A</td><td>35360</td><td>350</td><td>0.0</td><td>0.0</td><td>1</td><td>2200</td><td>2100</td><td>800</td><td>1000</td><td>0.0</td><td>0</td><td>800.0</td><td>1000.0</td><td>3</td><td>2</td><td>0</td><td>0</td><td>0</td><td>5</td><td>3</td><td>900.0</td></tr><tr><th>7</th><td>7</td><td>2</td><td>A</td><td>35360</td><td>350</td><td>0.0</td><td>0.0</td><td>2</td><td>2200</td><td>1700</td><td>800</td><td>1000</td><td>0.0</td><td>0</td><td>800.0</td><td>1000.0</td><td>3</td><td>2</td><td>0</td><td>0</td><td>0</td><td>5</td><td>3</td><td>900.0</td></tr><tr><th>8</th><td>8</td><td>3</td><td>A</td><td>35360</td><td>350</td><td>0.0</td><td>0.0</td><td>3</td><td>2200</td><td>1050</td><td>800</td><td>1000</td><td>0.0</td><td>0</td><td>800.0</td><td>1000.0</td><td>3</td><td>2</td><td>0</td><td>0</td><td>0</td><td>5</td><td>3</td><td>900.0</td></tr><tr><th>9</th><td>9</td><td>1</td><td>A</td><td>35360</td><td>351</td><td>0.0</td><td>0.0</td><td>1</td><td>1400</td><td>550</td><td>1000</td><td>1200</td><td>0.0</td><td>0</td><td>1000.0</td><td>1200.0</td><td>2</td><td>2</td><td>0</td><td>0</td><td>0</td><td>6</td><td>1</td><td>1100.0</td></tr><tr><th>10</th><td>10</td><td>1</td><td>A</td><td>35360</td><td>352</td><td>0.0</td><td>0.0</td><td>1</td><td>200</td><td>340</td><td>300</td><td>400</td><td>0.0</td><td>0</td><td>300.0</td><td>400.0</td><td>3</td><td>2</td><td>0</td><td>0</td><td>0</td><td>7</td><td>1</td><td>350.0</td></tr></tbody></table>"
      ],
      "text/latex": [
       "\\begin{tabular}{r|cccccccccccccccccccccccc}\n",
       "\t& data\\_num & bidder & house & date & lot & profit & net\\_pay & rank & p\\_final & bid & est\\_min\\_d & est\\_max\\_d & catalog\\_p & catalog\\_d & est\\_min & est\\_max & grade\\_min & grade\\_max & no\\_grade & excl\\_us & no\\_value & auction\\_num & num\\_bidders & lot\\_value\\\\\n",
       "\t\\hline\n",
       "\t& Int64 & Int64 & String & Int64 & String & Float64 & Float64 & Int64 & Int64 & Int64 & Int64 & Int64 & Float64 & Int64 & Float64 & Float64 & Int64? & Int64 & Int64 & Int64 & Int64 & Int64? & Int64 & Float64\\\\\n",
       "\t\\hline\n",
       "\t1 & 1 & 1 & A & 35360 & 217 & 150.0 & -150.0 & 1 & 5200 & 8000 & 7000 & 9000 & 0.0 & 0 & 7000.0 & 9000.0 & 3 & 2 & 0 & 1 & 0 & 1 & 2 & 8000.0 \\\\\n",
       "\t2 & 2 & 2 & A & 35360 & 217 & 150.0 & 150.0 & 2 & 5200 & 5500 & 7000 & 9000 & 0.0 & 0 & 7000.0 & 9000.0 & 3 & 2 & 0 & 1 & 0 & 1 & 2 & 8000.0 \\\\\n",
       "\t3 & 3 & 1 & A & 35360 & 218 & 0.0 & 0.0 & 1 & 1000 & 950 & 300 & 400 & 0.0 & 0 & 300.0 & 400.0 & 5 & 2 & 0 & 1 & 0 & 2 & 1 & 350.0 \\\\\n",
       "\t4 & 4 & 1 & A & 35360 & 220 & 0.0 & 0.0 & 1 & 1500 & 1500 & 1000 & 1200 & 0.0 & 0 & 1000.0 & 1200.0 & 5 & 2 & 0 & 1 & 0 & 3 & 1 & 1100.0 \\\\\n",
       "\t5 & 5 & 1 & A & 35360 & 222 & 0.0 & 0.0 & 1 & 4800 & 4750 & 4000 & 5000 & 0.0 & 0 & 4000.0 & 5000.0 & 3 & 2 & 0 & 1 & 0 & 4 & 1 & 4500.0 \\\\\n",
       "\t6 & 6 & 1 & A & 35360 & 350 & 0.0 & 0.0 & 1 & 2200 & 2100 & 800 & 1000 & 0.0 & 0 & 800.0 & 1000.0 & 3 & 2 & 0 & 0 & 0 & 5 & 3 & 900.0 \\\\\n",
       "\t7 & 7 & 2 & A & 35360 & 350 & 0.0 & 0.0 & 2 & 2200 & 1700 & 800 & 1000 & 0.0 & 0 & 800.0 & 1000.0 & 3 & 2 & 0 & 0 & 0 & 5 & 3 & 900.0 \\\\\n",
       "\t8 & 8 & 3 & A & 35360 & 350 & 0.0 & 0.0 & 3 & 2200 & 1050 & 800 & 1000 & 0.0 & 0 & 800.0 & 1000.0 & 3 & 2 & 0 & 0 & 0 & 5 & 3 & 900.0 \\\\\n",
       "\t9 & 9 & 1 & A & 35360 & 351 & 0.0 & 0.0 & 1 & 1400 & 550 & 1000 & 1200 & 0.0 & 0 & 1000.0 & 1200.0 & 2 & 2 & 0 & 0 & 0 & 6 & 1 & 1100.0 \\\\\n",
       "\t10 & 10 & 1 & A & 35360 & 352 & 0.0 & 0.0 & 1 & 200 & 340 & 300 & 400 & 0.0 & 0 & 300.0 & 400.0 & 3 & 2 & 0 & 0 & 0 & 7 & 1 & 350.0 \\\\\n",
       "\\end{tabular}\n"
      ],
      "text/plain": [
       "10×24 DataFrame\n",
       "│ Row │ data_num │ bidder │ house  │ date  │ lot    │ profit  │ net_pay │ rank  │ p_final │ bid   │ est_min_d │ est_max_d │ catalog_p │ catalog_d │ est_min │ est_max │ grade_min │ grade_max │ no_grade │ excl_us │ no_value │ auction_num │ num_bidders │ lot_value │\n",
       "│     │ \u001b[90mInt64\u001b[39m    │ \u001b[90mInt64\u001b[39m  │ \u001b[90mString\u001b[39m │ \u001b[90mInt64\u001b[39m │ \u001b[90mString\u001b[39m │ \u001b[90mFloat64\u001b[39m │ \u001b[90mFloat64\u001b[39m │ \u001b[90mInt64\u001b[39m │ \u001b[90mInt64\u001b[39m   │ \u001b[90mInt64\u001b[39m │ \u001b[90mInt64\u001b[39m     │ \u001b[90mInt64\u001b[39m     │ \u001b[90mFloat64\u001b[39m   │ \u001b[90mInt64\u001b[39m     │ \u001b[90mFloat64\u001b[39m │ \u001b[90mFloat64\u001b[39m │ \u001b[90mInt64?\u001b[39m    │ \u001b[90mInt64\u001b[39m     │ \u001b[90mInt64\u001b[39m    │ \u001b[90mInt64\u001b[39m   │ \u001b[90mInt64\u001b[39m    │ \u001b[90mInt64?\u001b[39m      │ \u001b[90mInt64\u001b[39m       │ \u001b[90mFloat64\u001b[39m   │\n",
       "├─────┼──────────┼────────┼────────┼───────┼────────┼─────────┼─────────┼───────┼─────────┼───────┼───────────┼───────────┼───────────┼───────────┼─────────┼─────────┼───────────┼───────────┼──────────┼─────────┼──────────┼─────────────┼─────────────┼───────────┤\n",
       "│ 1   │ 1        │ 1      │ A      │ 35360 │ 217    │ 150.0   │ -150.0  │ 1     │ 5200    │ 8000  │ 7000      │ 9000      │ 0.0       │ 0         │ 7000.0  │ 9000.0  │ 3         │ 2         │ 0        │ 1       │ 0        │ 1           │ 2           │ 8000.0    │\n",
       "│ 2   │ 2        │ 2      │ A      │ 35360 │ 217    │ 150.0   │ 150.0   │ 2     │ 5200    │ 5500  │ 7000      │ 9000      │ 0.0       │ 0         │ 7000.0  │ 9000.0  │ 3         │ 2         │ 0        │ 1       │ 0        │ 1           │ 2           │ 8000.0    │\n",
       "│ 3   │ 3        │ 1      │ A      │ 35360 │ 218    │ 0.0     │ 0.0     │ 1     │ 1000    │ 950   │ 300       │ 400       │ 0.0       │ 0         │ 300.0   │ 400.0   │ 5         │ 2         │ 0        │ 1       │ 0        │ 2           │ 1           │ 350.0     │\n",
       "│ 4   │ 4        │ 1      │ A      │ 35360 │ 220    │ 0.0     │ 0.0     │ 1     │ 1500    │ 1500  │ 1000      │ 1200      │ 0.0       │ 0         │ 1000.0  │ 1200.0  │ 5         │ 2         │ 0        │ 1       │ 0        │ 3           │ 1           │ 1100.0    │\n",
       "│ 5   │ 5        │ 1      │ A      │ 35360 │ 222    │ 0.0     │ 0.0     │ 1     │ 4800    │ 4750  │ 4000      │ 5000      │ 0.0       │ 0         │ 4000.0  │ 5000.0  │ 3         │ 2         │ 0        │ 1       │ 0        │ 4           │ 1           │ 4500.0    │\n",
       "│ 6   │ 6        │ 1      │ A      │ 35360 │ 350    │ 0.0     │ 0.0     │ 1     │ 2200    │ 2100  │ 800       │ 1000      │ 0.0       │ 0         │ 800.0   │ 1000.0  │ 3         │ 2         │ 0        │ 0       │ 0        │ 5           │ 3           │ 900.0     │\n",
       "│ 7   │ 7        │ 2      │ A      │ 35360 │ 350    │ 0.0     │ 0.0     │ 2     │ 2200    │ 1700  │ 800       │ 1000      │ 0.0       │ 0         │ 800.0   │ 1000.0  │ 3         │ 2         │ 0        │ 0       │ 0        │ 5           │ 3           │ 900.0     │\n",
       "│ 8   │ 8        │ 3      │ A      │ 35360 │ 350    │ 0.0     │ 0.0     │ 3     │ 2200    │ 1050  │ 800       │ 1000      │ 0.0       │ 0         │ 800.0   │ 1000.0  │ 3         │ 2         │ 0        │ 0       │ 0        │ 5           │ 3           │ 900.0     │\n",
       "│ 9   │ 9        │ 1      │ A      │ 35360 │ 351    │ 0.0     │ 0.0     │ 1     │ 1400    │ 550   │ 1000      │ 1200      │ 0.0       │ 0         │ 1000.0  │ 1200.0  │ 2         │ 2         │ 0        │ 0       │ 0        │ 6           │ 1           │ 1100.0    │\n",
       "│ 10  │ 10       │ 1      │ A      │ 35360 │ 352    │ 0.0     │ 0.0     │ 1     │ 200     │ 340   │ 300       │ 400       │ 0.0       │ 0         │ 300.0   │ 400.0   │ 3         │ 2         │ 0        │ 0       │ 0        │ 7           │ 1           │ 350.0     │"
      ]
     },
     "execution_count": 102,
     "metadata": {},
     "output_type": "execute_result"
    }
   ],
   "source": [
    "first(dt, 10)"
   ]
  },
  {
   "cell_type": "markdown",
   "metadata": {},
   "source": [
    "<br><br>\n",
    "\n",
    "### Table 1"
   ]
  },
  {
   "cell_type": "code",
   "execution_count": 115,
   "metadata": {},
   "outputs": [],
   "source": [
    "houses = unique(dt.house)\n",
    "tab_1 = DataFrame(house = houses, tgt_mean = fill(0,6), tgt_sd = fill(0,6), knock_mean = fill(0,6), \n",
    "    knock_sd = fill(0,6), perc_lots_won = fill(0,6), perc_val_won = fill(0,6), num_lots = fill(0,6), \n",
    "    num_sales = fill(0,6))\n",
    "\n",
    "for house in houses\n",
    "\n",
    "    # Get data\n",
    "    dt_h = dt[dt.house .== house, :]\n",
    "    dt_h1 = dt_h[dt_h.rank .== 1, :]\n",
    "    \n",
    "    # Target auction values\n",
    "    tab_1[tab_1.house .== house, :tgt_mean] .= Int(round(mean(dt_h.p_final), digits=0))\n",
    "    tab_1[tab_1.house .== house, :tgt_sd] .= Int(round(std(dt_h.p_final), digits=0))\n",
    "    \n",
    "    # Knockout auction values\n",
    "    tab_1[tab_1.house .== house , :knock_mean] .= \n",
    "        Int(round(mean(dt_h[dt_h.rank .== 1, :bid]), digits=0))\n",
    "    tab_1[tab_1.house .== house, :knock_sd] .= \n",
    "        Int(round(std(dt_h[dt_h.rank .== 1, :bid]), digits=0))\n",
    "    \n",
    "    # Perc of lots/value won by ring\n",
    "    tab_1[tab_1.house .== house , :perc_lots_won] .= \n",
    "        Int(round.(mean(100*(dt_h1.bid .≥ dt_h1.p_final)), digits=0))\n",
    "    tab_1[tab_1.house .== house , :perc_val_won] .= \n",
    "        Int(round.(100*sum(dt_h1[dt_h1.bid .≥ dt_h1.p_final, :lot_value])/sum(dt_h1.lot_value), digits=0))\n",
    "    \n",
    "    # Number of lots and sales\n",
    "    tab_1[tab_1.house .== house , :num_lots] .= nrow(dt_h1)\n",
    "    tab_1[tab_1.house .== house , :num_sales] .= length(unique(dt_h1.date))\n",
    "end;"
   ]
  },
  {
   "cell_type": "code",
   "execution_count": 116,
   "metadata": {},
   "outputs": [
    {
     "data": {
      "text/html": [
       "<table class=\"data-frame\"><thead><tr><th></th><th>house</th><th>tgt_mean</th><th>tgt_sd</th><th>knock_mean</th><th>knock_sd</th><th>perc_lots_won</th><th>perc_val_won</th><th>num_lots</th><th>num_sales</th></tr><tr><th></th><th>String</th><th>Int64</th><th>Int64</th><th>Int64</th><th>Int64</th><th>Int64</th><th>Int64</th><th>Int64</th><th>Int64</th></tr></thead><tbody><p>6 rows × 9 columns</p><tr><th>1</th><td>A</td><td>1531</td><td>1572</td><td>1534</td><td>1988</td><td>28</td><td>48</td><td>29</td><td>1</td></tr><tr><th>2</th><td>B</td><td>1174</td><td>1606</td><td>1686</td><td>4009</td><td>65</td><td>43</td><td>37</td><td>1</td></tr><tr><th>3</th><td>C</td><td>1388</td><td>1933</td><td>1257</td><td>2739</td><td>63</td><td>66</td><td>413</td><td>2</td></tr><tr><th>4</th><td>D</td><td>1424</td><td>1584</td><td>1219</td><td>1924</td><td>46</td><td>52</td><td>153</td><td>1</td></tr><tr><th>5</th><td>E</td><td>3141</td><td>2918</td><td>5562</td><td>6812</td><td>87</td><td>95</td><td>127</td><td>1</td></tr><tr><th>6</th><td>F1</td><td>2036</td><td>3057</td><td>2023</td><td>4195</td><td>48</td><td>61</td><td>100</td><td>2</td></tr></tbody></table>"
      ],
      "text/latex": [
       "\\begin{tabular}{r|ccccccccc}\n",
       "\t& house & tgt\\_mean & tgt\\_sd & knock\\_mean & knock\\_sd & perc\\_lots\\_won & perc\\_val\\_won & num\\_lots & num\\_sales\\\\\n",
       "\t\\hline\n",
       "\t& String & Int64 & Int64 & Int64 & Int64 & Int64 & Int64 & Int64 & Int64\\\\\n",
       "\t\\hline\n",
       "\t1 & A & 1531 & 1572 & 1534 & 1988 & 28 & 48 & 29 & 1 \\\\\n",
       "\t2 & B & 1174 & 1606 & 1686 & 4009 & 65 & 43 & 37 & 1 \\\\\n",
       "\t3 & C & 1388 & 1933 & 1257 & 2739 & 63 & 66 & 413 & 2 \\\\\n",
       "\t4 & D & 1424 & 1584 & 1219 & 1924 & 46 & 52 & 153 & 1 \\\\\n",
       "\t5 & E & 3141 & 2918 & 5562 & 6812 & 87 & 95 & 127 & 1 \\\\\n",
       "\t6 & F1 & 2036 & 3057 & 2023 & 4195 & 48 & 61 & 100 & 2 \\\\\n",
       "\\end{tabular}\n"
      ],
      "text/plain": [
       "6×9 DataFrame\n",
       "│ Row │ house  │ tgt_mean │ tgt_sd │ knock_mean │ knock_sd │ perc_lots_won │ perc_val_won │ num_lots │ num_sales │\n",
       "│     │ \u001b[90mString\u001b[39m │ \u001b[90mInt64\u001b[39m    │ \u001b[90mInt64\u001b[39m  │ \u001b[90mInt64\u001b[39m      │ \u001b[90mInt64\u001b[39m    │ \u001b[90mInt64\u001b[39m         │ \u001b[90mInt64\u001b[39m        │ \u001b[90mInt64\u001b[39m    │ \u001b[90mInt64\u001b[39m     │\n",
       "├─────┼────────┼──────────┼────────┼────────────┼──────────┼───────────────┼──────────────┼──────────┼───────────┤\n",
       "│ 1   │ A      │ 1531     │ 1572   │ 1534       │ 1988     │ 28            │ 48           │ 29       │ 1         │\n",
       "│ 2   │ B      │ 1174     │ 1606   │ 1686       │ 4009     │ 65            │ 43           │ 37       │ 1         │\n",
       "│ 3   │ C      │ 1388     │ 1933   │ 1257       │ 2739     │ 63            │ 66           │ 413      │ 2         │\n",
       "│ 4   │ D      │ 1424     │ 1584   │ 1219       │ 1924     │ 46            │ 52           │ 153      │ 1         │\n",
       "│ 5   │ E      │ 3141     │ 2918   │ 5562       │ 6812     │ 87            │ 95           │ 127      │ 1         │\n",
       "│ 6   │ F1     │ 2036     │ 3057   │ 2023       │ 4195     │ 48            │ 61           │ 100      │ 2         │"
      ]
     },
     "execution_count": 116,
     "metadata": {},
     "output_type": "execute_result"
    }
   ],
   "source": [
    "tab_1"
   ]
  },
  {
   "cell_type": "markdown",
   "metadata": {},
   "source": [
    "<br><br>\n",
    "\n",
    "### Table 2"
   ]
  },
  {
   "cell_type": "code",
   "execution_count": 126,
   "metadata": {},
   "outputs": [],
   "source": [
    "bid_nums = sort(unique(dt.num_bidders))\n",
    "tab_2 = DataFrame(num_bids = bid_nums, tgt_mean = fill(0,8), tgt_sd = fill(0,8), knock_mean = fill(0,8), \n",
    "    knock_sd = fill(0,8), perc_lots_won = fill(0,8), num_lots = fill(0,8))\n",
    "\n",
    "for bid in bid_nums\n",
    "\n",
    "    # Get data\n",
    "    dt_b = dt[dt.num_bidders .== bid, :]\n",
    "    dt_b1 = dt_b[dt_b.rank .== 1, :]\n",
    "    \n",
    "    # Target auction values\n",
    "    tab_2[tab_2.num_bids .== bid, :tgt_mean] .= Int(round(mean(dt_b.p_final), digits=0))\n",
    "    tab_2[tab_2.num_bids .== bid, :tgt_sd] .= Int(round(std(dt_b.p_final), digits=0))\n",
    "    \n",
    "    # Knockout auction values\n",
    "    tab_2[tab_2.num_bids .== bid, :knock_mean] .= \n",
    "        Int(round(mean(dt_b[dt_b.rank .== 1, :bid]), digits=0))\n",
    "    tab_2[tab_2.num_bids .== bid, :knock_sd] .= \n",
    "        Int(round(std(dt_b[dt_b.rank .== 1, :bid]), digits=0))\n",
    "    \n",
    "    # Perc of lots/value won by ring\n",
    "    tab_2[tab_2.num_bids .== bid, :perc_lots_won] .= \n",
    "        Int(round.(mean(100*(dt_b1.bid .≥ dt_b1.p_final)), digits=0))\n",
    "    \n",
    "    # Number of lots and sales\n",
    "    tab_2[tab_2.num_bids .== bid, :num_lots] .= nrow(dt_b1)\n",
    "end;"
   ]
  },
  {
   "cell_type": "code",
   "execution_count": 127,
   "metadata": {},
   "outputs": [
    {
     "data": {
      "text/html": [
       "<table class=\"data-frame\"><thead><tr><th></th><th>num_bids</th><th>tgt_mean</th><th>tgt_sd</th><th>knock_mean</th><th>knock_sd</th><th>perc_lots_won</th><th>num_lots</th></tr><tr><th></th><th>Int64</th><th>Int64</th><th>Int64</th><th>Int64</th><th>Int64</th><th>Int64</th><th>Int64</th></tr></thead><tbody><p>8 rows × 7 columns</p><tr><th>1</th><td>1</td><td>567</td><td>862</td><td>497</td><td>899</td><td>28</td><td>267</td></tr><tr><th>2</th><td>2</td><td>991</td><td>1800</td><td>1183</td><td>3612</td><td>59</td><td>149</td></tr><tr><th>3</th><td>3</td><td>1221</td><td>1508</td><td>1437</td><td>1969</td><td>68</td><td>127</td></tr><tr><th>4</th><td>4</td><td>2030</td><td>2815</td><td>3062</td><td>5857</td><td>77</td><td>110</td></tr><tr><th>5</th><td>5</td><td>1755</td><td>2319</td><td>2921</td><td>4938</td><td>84</td><td>79</td></tr><tr><th>6</th><td>6</td><td>2327</td><td>3121</td><td>3952</td><td>5600</td><td>89</td><td>55</td></tr><tr><th>7</th><td>7</td><td>2722</td><td>2036</td><td>5305</td><td>4326</td><td>96</td><td>51</td></tr><tr><th>8</th><td>8</td><td>4290</td><td>2501</td><td>8293</td><td>4676</td><td>95</td><td>21</td></tr></tbody></table>"
      ],
      "text/latex": [
       "\\begin{tabular}{r|ccccccc}\n",
       "\t& num\\_bids & tgt\\_mean & tgt\\_sd & knock\\_mean & knock\\_sd & perc\\_lots\\_won & num\\_lots\\\\\n",
       "\t\\hline\n",
       "\t& Int64 & Int64 & Int64 & Int64 & Int64 & Int64 & Int64\\\\\n",
       "\t\\hline\n",
       "\t1 & 1 & 567 & 862 & 497 & 899 & 28 & 267 \\\\\n",
       "\t2 & 2 & 991 & 1800 & 1183 & 3612 & 59 & 149 \\\\\n",
       "\t3 & 3 & 1221 & 1508 & 1437 & 1969 & 68 & 127 \\\\\n",
       "\t4 & 4 & 2030 & 2815 & 3062 & 5857 & 77 & 110 \\\\\n",
       "\t5 & 5 & 1755 & 2319 & 2921 & 4938 & 84 & 79 \\\\\n",
       "\t6 & 6 & 2327 & 3121 & 3952 & 5600 & 89 & 55 \\\\\n",
       "\t7 & 7 & 2722 & 2036 & 5305 & 4326 & 96 & 51 \\\\\n",
       "\t8 & 8 & 4290 & 2501 & 8293 & 4676 & 95 & 21 \\\\\n",
       "\\end{tabular}\n"
      ],
      "text/plain": [
       "8×7 DataFrame\n",
       "│ Row │ num_bids │ tgt_mean │ tgt_sd │ knock_mean │ knock_sd │ perc_lots_won │ num_lots │\n",
       "│     │ \u001b[90mInt64\u001b[39m    │ \u001b[90mInt64\u001b[39m    │ \u001b[90mInt64\u001b[39m  │ \u001b[90mInt64\u001b[39m      │ \u001b[90mInt64\u001b[39m    │ \u001b[90mInt64\u001b[39m         │ \u001b[90mInt64\u001b[39m    │\n",
       "├─────┼──────────┼──────────┼────────┼────────────┼──────────┼───────────────┼──────────┤\n",
       "│ 1   │ 1        │ 567      │ 862    │ 497        │ 899      │ 28            │ 267      │\n",
       "│ 2   │ 2        │ 991      │ 1800   │ 1183       │ 3612     │ 59            │ 149      │\n",
       "│ 3   │ 3        │ 1221     │ 1508   │ 1437       │ 1969     │ 68            │ 127      │\n",
       "│ 4   │ 4        │ 2030     │ 2815   │ 3062       │ 5857     │ 77            │ 110      │\n",
       "│ 5   │ 5        │ 1755     │ 2319   │ 2921       │ 4938     │ 84            │ 79       │\n",
       "│ 6   │ 6        │ 2327     │ 3121   │ 3952       │ 5600     │ 89            │ 55       │\n",
       "│ 7   │ 7        │ 2722     │ 2036   │ 5305       │ 4326     │ 96            │ 51       │\n",
       "│ 8   │ 8        │ 4290     │ 2501   │ 8293       │ 4676     │ 95            │ 21       │"
      ]
     },
     "execution_count": 127,
     "metadata": {},
     "output_type": "execute_result"
    }
   ],
   "source": [
    "tab_2"
   ]
  },
  {
   "cell_type": "markdown",
   "metadata": {},
   "source": [
    "#### Remove auctions with more than 2 ring bidders"
   ]
  },
  {
   "cell_type": "code",
   "execution_count": 129,
   "metadata": {},
   "outputs": [],
   "source": [
    "dt = dt[dt.num_bidders .≤ 2, :];"
   ]
  },
  {
   "cell_type": "code",
   "execution_count": 141,
   "metadata": {},
   "outputs": [
    {
     "data": {
      "text/plain": [
       "(565, 24)"
      ]
     },
     "execution_count": 141,
     "metadata": {},
     "output_type": "execute_result"
    }
   ],
   "source": [
    "size(dt)"
   ]
  },
  {
   "cell_type": "markdown",
   "metadata": {},
   "source": [
    "<br><br><br><br>\n",
    "\n",
    "# 2. Introductory Questions"
   ]
  },
  {
   "cell_type": "markdown",
   "metadata": {},
   "source": [
    "### Table 5"
   ]
  },
  {
   "cell_type": "code",
   "execution_count": 132,
   "metadata": {},
   "outputs": [
    {
     "data": {
      "text/html": [
       "<table class=\"data-frame\"><thead><tr><th></th><th>data_num</th><th>bidder</th><th>house</th><th>date</th><th>lot</th><th>profit</th><th>net_pay</th><th>rank</th><th>p_final</th><th>bid</th><th>est_min_d</th><th>est_max_d</th><th>catalog_p</th><th>catalog_d</th><th>est_min</th><th>est_max</th><th>grade_min</th><th>grade_max</th><th>no_grade</th><th>excl_us</th><th>no_value</th><th>auction_num</th><th>num_bidders</th><th>lot_value</th></tr><tr><th></th><th>Int64</th><th>Int64</th><th>String</th><th>Int64</th><th>String</th><th>Float64</th><th>Float64</th><th>Int64</th><th>Int64</th><th>Int64</th><th>Int64</th><th>Int64</th><th>Float64</th><th>Int64</th><th>Float64</th><th>Float64</th><th>Int64?</th><th>Int64</th><th>Int64</th><th>Int64</th><th>Int64</th><th>Int64?</th><th>Int64</th><th>Float64</th></tr></thead><tbody><p>10 rows × 24 columns</p><tr><th>1</th><td>1</td><td>1</td><td>A</td><td>35360</td><td>217</td><td>150.0</td><td>-150.0</td><td>1</td><td>5200</td><td>8000</td><td>7000</td><td>9000</td><td>0.0</td><td>0</td><td>7000.0</td><td>9000.0</td><td>3</td><td>2</td><td>0</td><td>1</td><td>0</td><td>1</td><td>2</td><td>8000.0</td></tr><tr><th>2</th><td>2</td><td>2</td><td>A</td><td>35360</td><td>217</td><td>150.0</td><td>150.0</td><td>2</td><td>5200</td><td>5500</td><td>7000</td><td>9000</td><td>0.0</td><td>0</td><td>7000.0</td><td>9000.0</td><td>3</td><td>2</td><td>0</td><td>1</td><td>0</td><td>1</td><td>2</td><td>8000.0</td></tr><tr><th>3</th><td>3</td><td>1</td><td>A</td><td>35360</td><td>218</td><td>0.0</td><td>0.0</td><td>1</td><td>1000</td><td>950</td><td>300</td><td>400</td><td>0.0</td><td>0</td><td>300.0</td><td>400.0</td><td>5</td><td>2</td><td>0</td><td>1</td><td>0</td><td>2</td><td>1</td><td>350.0</td></tr><tr><th>4</th><td>4</td><td>1</td><td>A</td><td>35360</td><td>220</td><td>0.0</td><td>0.0</td><td>1</td><td>1500</td><td>1500</td><td>1000</td><td>1200</td><td>0.0</td><td>0</td><td>1000.0</td><td>1200.0</td><td>5</td><td>2</td><td>0</td><td>1</td><td>0</td><td>3</td><td>1</td><td>1100.0</td></tr><tr><th>5</th><td>5</td><td>1</td><td>A</td><td>35360</td><td>222</td><td>0.0</td><td>0.0</td><td>1</td><td>4800</td><td>4750</td><td>4000</td><td>5000</td><td>0.0</td><td>0</td><td>4000.0</td><td>5000.0</td><td>3</td><td>2</td><td>0</td><td>1</td><td>0</td><td>4</td><td>1</td><td>4500.0</td></tr><tr><th>6</th><td>9</td><td>1</td><td>A</td><td>35360</td><td>351</td><td>0.0</td><td>0.0</td><td>1</td><td>1400</td><td>550</td><td>1000</td><td>1200</td><td>0.0</td><td>0</td><td>1000.0</td><td>1200.0</td><td>2</td><td>2</td><td>0</td><td>0</td><td>0</td><td>6</td><td>1</td><td>1100.0</td></tr><tr><th>7</th><td>10</td><td>1</td><td>A</td><td>35360</td><td>352</td><td>0.0</td><td>0.0</td><td>1</td><td>200</td><td>340</td><td>300</td><td>400</td><td>0.0</td><td>0</td><td>300.0</td><td>400.0</td><td>3</td><td>2</td><td>0</td><td>0</td><td>0</td><td>7</td><td>1</td><td>350.0</td></tr><tr><th>8</th><td>14</td><td>2</td><td>A</td><td>35360</td><td>354</td><td>0.0</td><td>0.0</td><td>1</td><td>130</td><td>120</td><td>180</td><td>200</td><td>0.0</td><td>0</td><td>180.0</td><td>200.0</td><td>3</td><td>2</td><td>0</td><td>0</td><td>0</td><td>9</td><td>1</td><td>190.0</td></tr><tr><th>9</th><td>21</td><td>1</td><td>A</td><td>35360</td><td>358</td><td>0.0</td><td>0.0</td><td>1</td><td>850</td><td>300</td><td>350</td><td>450</td><td>0.0</td><td>0</td><td>350.0</td><td>450.0</td><td>3</td><td>2</td><td>0</td><td>0</td><td>0</td><td>12</td><td>2</td><td>400.0</td></tr><tr><th>10</th><td>22</td><td>2</td><td>A</td><td>35360</td><td>358</td><td>0.0</td><td>0.0</td><td>2</td><td>850</td><td>250</td><td>350</td><td>450</td><td>0.0</td><td>0</td><td>350.0</td><td>450.0</td><td>3</td><td>2</td><td>0</td><td>0</td><td>0</td><td>12</td><td>2</td><td>400.0</td></tr></tbody></table>"
      ],
      "text/latex": [
       "\\begin{tabular}{r|cccccccccccccccccccccccc}\n",
       "\t& data\\_num & bidder & house & date & lot & profit & net\\_pay & rank & p\\_final & bid & est\\_min\\_d & est\\_max\\_d & catalog\\_p & catalog\\_d & est\\_min & est\\_max & grade\\_min & grade\\_max & no\\_grade & excl\\_us & no\\_value & auction\\_num & num\\_bidders & lot\\_value\\\\\n",
       "\t\\hline\n",
       "\t& Int64 & Int64 & String & Int64 & String & Float64 & Float64 & Int64 & Int64 & Int64 & Int64 & Int64 & Float64 & Int64 & Float64 & Float64 & Int64? & Int64 & Int64 & Int64 & Int64 & Int64? & Int64 & Float64\\\\\n",
       "\t\\hline\n",
       "\t1 & 1 & 1 & A & 35360 & 217 & 150.0 & -150.0 & 1 & 5200 & 8000 & 7000 & 9000 & 0.0 & 0 & 7000.0 & 9000.0 & 3 & 2 & 0 & 1 & 0 & 1 & 2 & 8000.0 \\\\\n",
       "\t2 & 2 & 2 & A & 35360 & 217 & 150.0 & 150.0 & 2 & 5200 & 5500 & 7000 & 9000 & 0.0 & 0 & 7000.0 & 9000.0 & 3 & 2 & 0 & 1 & 0 & 1 & 2 & 8000.0 \\\\\n",
       "\t3 & 3 & 1 & A & 35360 & 218 & 0.0 & 0.0 & 1 & 1000 & 950 & 300 & 400 & 0.0 & 0 & 300.0 & 400.0 & 5 & 2 & 0 & 1 & 0 & 2 & 1 & 350.0 \\\\\n",
       "\t4 & 4 & 1 & A & 35360 & 220 & 0.0 & 0.0 & 1 & 1500 & 1500 & 1000 & 1200 & 0.0 & 0 & 1000.0 & 1200.0 & 5 & 2 & 0 & 1 & 0 & 3 & 1 & 1100.0 \\\\\n",
       "\t5 & 5 & 1 & A & 35360 & 222 & 0.0 & 0.0 & 1 & 4800 & 4750 & 4000 & 5000 & 0.0 & 0 & 4000.0 & 5000.0 & 3 & 2 & 0 & 1 & 0 & 4 & 1 & 4500.0 \\\\\n",
       "\t6 & 9 & 1 & A & 35360 & 351 & 0.0 & 0.0 & 1 & 1400 & 550 & 1000 & 1200 & 0.0 & 0 & 1000.0 & 1200.0 & 2 & 2 & 0 & 0 & 0 & 6 & 1 & 1100.0 \\\\\n",
       "\t7 & 10 & 1 & A & 35360 & 352 & 0.0 & 0.0 & 1 & 200 & 340 & 300 & 400 & 0.0 & 0 & 300.0 & 400.0 & 3 & 2 & 0 & 0 & 0 & 7 & 1 & 350.0 \\\\\n",
       "\t8 & 14 & 2 & A & 35360 & 354 & 0.0 & 0.0 & 1 & 130 & 120 & 180 & 200 & 0.0 & 0 & 180.0 & 200.0 & 3 & 2 & 0 & 0 & 0 & 9 & 1 & 190.0 \\\\\n",
       "\t9 & 21 & 1 & A & 35360 & 358 & 0.0 & 0.0 & 1 & 850 & 300 & 350 & 450 & 0.0 & 0 & 350.0 & 450.0 & 3 & 2 & 0 & 0 & 0 & 12 & 2 & 400.0 \\\\\n",
       "\t10 & 22 & 2 & A & 35360 & 358 & 0.0 & 0.0 & 2 & 850 & 250 & 350 & 450 & 0.0 & 0 & 350.0 & 450.0 & 3 & 2 & 0 & 0 & 0 & 12 & 2 & 400.0 \\\\\n",
       "\\end{tabular}\n"
      ],
      "text/plain": [
       "10×24 DataFrame\n",
       "│ Row │ data_num │ bidder │ house  │ date  │ lot    │ profit  │ net_pay │ rank  │ p_final │ bid   │ est_min_d │ est_max_d │ catalog_p │ catalog_d │ est_min │ est_max │ grade_min │ grade_max │ no_grade │ excl_us │ no_value │ auction_num │ num_bidders │ lot_value │\n",
       "│     │ \u001b[90mInt64\u001b[39m    │ \u001b[90mInt64\u001b[39m  │ \u001b[90mString\u001b[39m │ \u001b[90mInt64\u001b[39m │ \u001b[90mString\u001b[39m │ \u001b[90mFloat64\u001b[39m │ \u001b[90mFloat64\u001b[39m │ \u001b[90mInt64\u001b[39m │ \u001b[90mInt64\u001b[39m   │ \u001b[90mInt64\u001b[39m │ \u001b[90mInt64\u001b[39m     │ \u001b[90mInt64\u001b[39m     │ \u001b[90mFloat64\u001b[39m   │ \u001b[90mInt64\u001b[39m     │ \u001b[90mFloat64\u001b[39m │ \u001b[90mFloat64\u001b[39m │ \u001b[90mInt64?\u001b[39m    │ \u001b[90mInt64\u001b[39m     │ \u001b[90mInt64\u001b[39m    │ \u001b[90mInt64\u001b[39m   │ \u001b[90mInt64\u001b[39m    │ \u001b[90mInt64?\u001b[39m      │ \u001b[90mInt64\u001b[39m       │ \u001b[90mFloat64\u001b[39m   │\n",
       "├─────┼──────────┼────────┼────────┼───────┼────────┼─────────┼─────────┼───────┼─────────┼───────┼───────────┼───────────┼───────────┼───────────┼─────────┼─────────┼───────────┼───────────┼──────────┼─────────┼──────────┼─────────────┼─────────────┼───────────┤\n",
       "│ 1   │ 1        │ 1      │ A      │ 35360 │ 217    │ 150.0   │ -150.0  │ 1     │ 5200    │ 8000  │ 7000      │ 9000      │ 0.0       │ 0         │ 7000.0  │ 9000.0  │ 3         │ 2         │ 0        │ 1       │ 0        │ 1           │ 2           │ 8000.0    │\n",
       "│ 2   │ 2        │ 2      │ A      │ 35360 │ 217    │ 150.0   │ 150.0   │ 2     │ 5200    │ 5500  │ 7000      │ 9000      │ 0.0       │ 0         │ 7000.0  │ 9000.0  │ 3         │ 2         │ 0        │ 1       │ 0        │ 1           │ 2           │ 8000.0    │\n",
       "│ 3   │ 3        │ 1      │ A      │ 35360 │ 218    │ 0.0     │ 0.0     │ 1     │ 1000    │ 950   │ 300       │ 400       │ 0.0       │ 0         │ 300.0   │ 400.0   │ 5         │ 2         │ 0        │ 1       │ 0        │ 2           │ 1           │ 350.0     │\n",
       "│ 4   │ 4        │ 1      │ A      │ 35360 │ 220    │ 0.0     │ 0.0     │ 1     │ 1500    │ 1500  │ 1000      │ 1200      │ 0.0       │ 0         │ 1000.0  │ 1200.0  │ 5         │ 2         │ 0        │ 1       │ 0        │ 3           │ 1           │ 1100.0    │\n",
       "│ 5   │ 5        │ 1      │ A      │ 35360 │ 222    │ 0.0     │ 0.0     │ 1     │ 4800    │ 4750  │ 4000      │ 5000      │ 0.0       │ 0         │ 4000.0  │ 5000.0  │ 3         │ 2         │ 0        │ 1       │ 0        │ 4           │ 1           │ 4500.0    │\n",
       "│ 6   │ 9        │ 1      │ A      │ 35360 │ 351    │ 0.0     │ 0.0     │ 1     │ 1400    │ 550   │ 1000      │ 1200      │ 0.0       │ 0         │ 1000.0  │ 1200.0  │ 2         │ 2         │ 0        │ 0       │ 0        │ 6           │ 1           │ 1100.0    │\n",
       "│ 7   │ 10       │ 1      │ A      │ 35360 │ 352    │ 0.0     │ 0.0     │ 1     │ 200     │ 340   │ 300       │ 400       │ 0.0       │ 0         │ 300.0   │ 400.0   │ 3         │ 2         │ 0        │ 0       │ 0        │ 7           │ 1           │ 350.0     │\n",
       "│ 8   │ 14       │ 2      │ A      │ 35360 │ 354    │ 0.0     │ 0.0     │ 1     │ 130     │ 120   │ 180       │ 200       │ 0.0       │ 0         │ 180.0   │ 200.0   │ 3         │ 2         │ 0        │ 0       │ 0        │ 9           │ 1           │ 190.0     │\n",
       "│ 9   │ 21       │ 1      │ A      │ 35360 │ 358    │ 0.0     │ 0.0     │ 1     │ 850     │ 300   │ 350       │ 450       │ 0.0       │ 0         │ 350.0   │ 450.0   │ 3         │ 2         │ 0        │ 0       │ 0        │ 12          │ 2           │ 400.0     │\n",
       "│ 10  │ 22       │ 2      │ A      │ 35360 │ 358    │ 0.0     │ 0.0     │ 2     │ 850     │ 250   │ 350       │ 450       │ 0.0       │ 0         │ 350.0   │ 450.0   │ 3         │ 2         │ 0        │ 0       │ 0        │ 12          │ 2           │ 400.0     │"
      ]
     },
     "execution_count": 132,
     "metadata": {},
     "output_type": "execute_result"
    }
   ],
   "source": [
    "first(dt, 10)"
   ]
  },
  {
   "cell_type": "code",
   "execution_count": 137,
   "metadata": {},
   "outputs": [],
   "source": [
    "bidders = sort(unique(dt.bidder))\n",
    "tab_5 = DataFrame(ring_member = bidders, perc_high = fill(0,11), num_knock = fill(0,11), \n",
    "    perc_high_p2 = fill(0,11), perc_rec_sp_p2 = fill(0,11), perc_pay_sp_p2 = fill(0,11), \n",
    "    num_knock_p2 = fill(0,11))\n",
    "\n",
    "for bidder in bidders\n",
    "\n",
    "    # Get data\n",
    "    dt_b = dt[dt.bidder .== bidder, :]\n",
    "    dt_b_p2 = dt_b[(dt_b.bidder .== bidder) .& (dt_b.num_bidders .≥ 2), :]\n",
    "    \n",
    "    # All auctions\n",
    "    tab_5[tab_5.ring_member .== bidder, :perc_high] .= \n",
    "        Int(round.(mean(100*(dt_b.rank .== 1)), digits=0))\n",
    "    tab_5[tab_5.ring_member .== bidder, :num_knock] .= \n",
    "        Int(round.(sum((dt_b.rank .== 1)), digits=0))\n",
    "    \n",
    "    # All auctions\n",
    "    tab_5[tab_5.ring_member .== bidder, :perc_high_p2] .= \n",
    "        Int(round.(mean(100*(dt_b_p2.rank .== 1)), digits=0))\n",
    "    tab_5[tab_5.ring_member .== bidder, :perc_rec_sp_p2] .= \n",
    "        Int(round.(mean(100*(dt_b_p2.net_pay .> 1)), digits=0))\n",
    "    tab_5[tab_5.ring_member .== bidder, :perc_pay_sp_p2] .= \n",
    "        Int(round.(mean(100*(dt_b_p2.net_pay .< 1)), digits=0))\n",
    "    tab_5[tab_5.ring_member .== bidder, :num_knock_p2] .= \n",
    "        Int(round.(sum((dt_b_p2.rank .== 1)), digits=0))\n",
    "end;"
   ]
  },
  {
   "cell_type": "code",
   "execution_count": 138,
   "metadata": {},
   "outputs": [
    {
     "data": {
      "text/html": [
       "<table class=\"data-frame\"><thead><tr><th></th><th>ring_member</th><th>perc_high</th><th>num_knock</th><th>perc_high_p2</th><th>perc_rec_sp_p2</th><th>perc_pay_sp_p2</th><th>num_knock_p2</th></tr><tr><th></th><th>Int64</th><th>Int64</th><th>Int64</th><th>Int64</th><th>Int64</th><th>Int64</th><th>Int64</th></tr></thead><tbody><p>11 rows × 7 columns</p><tr><th>1</th><td>1</td><td>77</td><td>182</td><td>46</td><td>10</td><td>90</td><td>47</td></tr><tr><th>2</th><td>2</td><td>44</td><td>17</td><td>35</td><td>3</td><td>97</td><td>12</td></tr><tr><th>3</th><td>3</td><td>72</td><td>73</td><td>38</td><td>6</td><td>94</td><td>18</td></tr><tr><th>4</th><td>4</td><td>58</td><td>19</td><td>50</td><td>7</td><td>93</td><td>14</td></tr><tr><th>5</th><td>5</td><td>76</td><td>68</td><td>45</td><td>8</td><td>92</td><td>18</td></tr><tr><th>6</th><td>6</td><td>80</td><td>12</td><td>79</td><td>0</td><td>100</td><td>11</td></tr><tr><th>7</th><td>7</td><td>80</td><td>12</td><td>70</td><td>10</td><td>90</td><td>7</td></tr><tr><th>8</th><td>8</td><td>100</td><td>5</td><td>100</td><td>0</td><td>100</td><td>1</td></tr><tr><th>9</th><td>9</td><td>96</td><td>22</td><td>95</td><td>5</td><td>95</td><td>18</td></tr><tr><th>10</th><td>10</td><td>100</td><td>3</td><td>100</td><td>0</td><td>100</td><td>1</td></tr><tr><th>11</th><td>11</td><td>100</td><td>3</td><td>100</td><td>0</td><td>100</td><td>2</td></tr></tbody></table>"
      ],
      "text/latex": [
       "\\begin{tabular}{r|ccccccc}\n",
       "\t& ring\\_member & perc\\_high & num\\_knock & perc\\_high\\_p2 & perc\\_rec\\_sp\\_p2 & perc\\_pay\\_sp\\_p2 & num\\_knock\\_p2\\\\\n",
       "\t\\hline\n",
       "\t& Int64 & Int64 & Int64 & Int64 & Int64 & Int64 & Int64\\\\\n",
       "\t\\hline\n",
       "\t1 & 1 & 77 & 182 & 46 & 10 & 90 & 47 \\\\\n",
       "\t2 & 2 & 44 & 17 & 35 & 3 & 97 & 12 \\\\\n",
       "\t3 & 3 & 72 & 73 & 38 & 6 & 94 & 18 \\\\\n",
       "\t4 & 4 & 58 & 19 & 50 & 7 & 93 & 14 \\\\\n",
       "\t5 & 5 & 76 & 68 & 45 & 8 & 92 & 18 \\\\\n",
       "\t6 & 6 & 80 & 12 & 79 & 0 & 100 & 11 \\\\\n",
       "\t7 & 7 & 80 & 12 & 70 & 10 & 90 & 7 \\\\\n",
       "\t8 & 8 & 100 & 5 & 100 & 0 & 100 & 1 \\\\\n",
       "\t9 & 9 & 96 & 22 & 95 & 5 & 95 & 18 \\\\\n",
       "\t10 & 10 & 100 & 3 & 100 & 0 & 100 & 1 \\\\\n",
       "\t11 & 11 & 100 & 3 & 100 & 0 & 100 & 2 \\\\\n",
       "\\end{tabular}\n"
      ],
      "text/plain": [
       "11×7 DataFrame\n",
       "│ Row │ ring_member │ perc_high │ num_knock │ perc_high_p2 │ perc_rec_sp_p2 │ perc_pay_sp_p2 │ num_knock_p2 │\n",
       "│     │ \u001b[90mInt64\u001b[39m       │ \u001b[90mInt64\u001b[39m     │ \u001b[90mInt64\u001b[39m     │ \u001b[90mInt64\u001b[39m        │ \u001b[90mInt64\u001b[39m          │ \u001b[90mInt64\u001b[39m          │ \u001b[90mInt64\u001b[39m        │\n",
       "├─────┼─────────────┼───────────┼───────────┼──────────────┼────────────────┼────────────────┼──────────────┤\n",
       "│ 1   │ 1           │ 77        │ 182       │ 46           │ 10             │ 90             │ 47           │\n",
       "│ 2   │ 2           │ 44        │ 17        │ 35           │ 3              │ 97             │ 12           │\n",
       "│ 3   │ 3           │ 72        │ 73        │ 38           │ 6              │ 94             │ 18           │\n",
       "│ 4   │ 4           │ 58        │ 19        │ 50           │ 7              │ 93             │ 14           │\n",
       "│ 5   │ 5           │ 76        │ 68        │ 45           │ 8              │ 92             │ 18           │\n",
       "│ 6   │ 6           │ 80        │ 12        │ 79           │ 0              │ 100            │ 11           │\n",
       "│ 7   │ 7           │ 80        │ 12        │ 70           │ 10             │ 90             │ 7            │\n",
       "│ 8   │ 8           │ 100       │ 5         │ 100          │ 0              │ 100            │ 1            │\n",
       "│ 9   │ 9           │ 96        │ 22        │ 95           │ 5              │ 95             │ 18           │\n",
       "│ 10  │ 10          │ 100       │ 3         │ 100          │ 0              │ 100            │ 1            │\n",
       "│ 11  │ 11          │ 100       │ 3         │ 100          │ 0              │ 100            │ 2            │"
      ]
     },
     "execution_count": 138,
     "metadata": {},
     "output_type": "execute_result"
    }
   ],
   "source": [
    "tab_5"
   ]
  },
  {
   "cell_type": "markdown",
   "metadata": {},
   "source": [
    "### Figure 1"
   ]
  },
  {
   "cell_type": "code",
   "execution_count": 143,
   "metadata": {},
   "outputs": [],
   "source": [
    "bidders = sort(unique(dt.bidder))\n",
    "fig_1_tab = DataFrame(ring_member = bidders, net_pay_all = fill(0.0,11), net_pay_small_auct = fill(0.0,11))\n",
    "\n",
    "for bidder in bidders\n",
    "\n",
    "    # Get data\n",
    "    dt_b = dt[dt.bidder .== bidder, :]\n",
    "    dt_b_sa = dt_b[(dt_b.bidder .== bidder) .& (dt_b.p_final .≤ 10000), :]\n",
    "    \n",
    "    # All auctions\n",
    "    fig_1_tab[tab_5.ring_member .== bidder, :net_pay_all] .= sum(dt_b.net_pay)\n",
    "    fig_1_tab[tab_5.ring_member .== bidder, :net_pay_small_auct] .= sum(dt_b_sa.net_pay)\n",
    "end;"
   ]
  },
  {
   "cell_type": "code",
   "execution_count": 144,
   "metadata": {},
   "outputs": [
    {
     "data": {
      "text/html": [
       "<table class=\"data-frame\"><thead><tr><th></th><th>ring_member</th><th>net_pay_all</th><th>net_pay_small_auct</th></tr><tr><th></th><th>Int64</th><th>Float64</th><th>Float64</th></tr></thead><tbody><p>11 rows × 3 columns</p><tr><th>1</th><td>1</td><td>-307.5</td><td>-307.5</td></tr><tr><th>2</th><td>2</td><td>62.5</td><td>62.5</td></tr><tr><th>3</th><td>3</td><td>370.0</td><td>370.0</td></tr><tr><th>4</th><td>4</td><td>75.0</td><td>75.0</td></tr><tr><th>5</th><td>5</td><td>400.0</td><td>400.0</td></tr><tr><th>6</th><td>6</td><td>-600.0</td><td>-600.0</td></tr><tr><th>7</th><td>7</td><td>-37.5</td><td>-37.5</td></tr><tr><th>8</th><td>8</td><td>0.0</td><td>0.0</td></tr><tr><th>9</th><td>9</td><td>37.5</td><td>37.5</td></tr><tr><th>10</th><td>10</td><td>0.0</td><td>0.0</td></tr><tr><th>11</th><td>11</td><td>0.0</td><td>0.0</td></tr></tbody></table>"
      ],
      "text/latex": [
       "\\begin{tabular}{r|ccc}\n",
       "\t& ring\\_member & net\\_pay\\_all & net\\_pay\\_small\\_auct\\\\\n",
       "\t\\hline\n",
       "\t& Int64 & Float64 & Float64\\\\\n",
       "\t\\hline\n",
       "\t1 & 1 & -307.5 & -307.5 \\\\\n",
       "\t2 & 2 & 62.5 & 62.5 \\\\\n",
       "\t3 & 3 & 370.0 & 370.0 \\\\\n",
       "\t4 & 4 & 75.0 & 75.0 \\\\\n",
       "\t5 & 5 & 400.0 & 400.0 \\\\\n",
       "\t6 & 6 & -600.0 & -600.0 \\\\\n",
       "\t7 & 7 & -37.5 & -37.5 \\\\\n",
       "\t8 & 8 & 0.0 & 0.0 \\\\\n",
       "\t9 & 9 & 37.5 & 37.5 \\\\\n",
       "\t10 & 10 & 0.0 & 0.0 \\\\\n",
       "\t11 & 11 & 0.0 & 0.0 \\\\\n",
       "\\end{tabular}\n"
      ],
      "text/plain": [
       "11×3 DataFrame\n",
       "│ Row │ ring_member │ net_pay_all │ net_pay_small_auct │\n",
       "│     │ \u001b[90mInt64\u001b[39m       │ \u001b[90mFloat64\u001b[39m     │ \u001b[90mFloat64\u001b[39m            │\n",
       "├─────┼─────────────┼─────────────┼────────────────────┤\n",
       "│ 1   │ 1           │ -307.5      │ -307.5             │\n",
       "│ 2   │ 2           │ 62.5        │ 62.5               │\n",
       "│ 3   │ 3           │ 370.0       │ 370.0              │\n",
       "│ 4   │ 4           │ 75.0        │ 75.0               │\n",
       "│ 5   │ 5           │ 400.0       │ 400.0              │\n",
       "│ 6   │ 6           │ -600.0      │ -600.0             │\n",
       "│ 7   │ 7           │ -37.5       │ -37.5              │\n",
       "│ 8   │ 8           │ 0.0         │ 0.0                │\n",
       "│ 9   │ 9           │ 37.5        │ 37.5               │\n",
       "│ 10  │ 10          │ 0.0         │ 0.0                │\n",
       "│ 11  │ 11          │ 0.0         │ 0.0                │"
      ]
     },
     "execution_count": 144,
     "metadata": {},
     "output_type": "execute_result"
    }
   ],
   "source": [
    "fig_1_tab"
   ]
  },
  {
   "cell_type": "code",
   "execution_count": 167,
   "metadata": {},
   "outputs": [],
   "source": [
    "payments = vec(reshape(Matrix(fig_1_tab[:, [:net_pay_all, :net_pay_small_auct]]), 22, 1));\n",
    "auct_type = repeat([\"All Auctions\", \"Small Auctions\"], inner=11);\n",
    "names = repeat([\" 1\", \" 2\", \" 3\", \" 4\", \" 5\", \" 6\", \" 7\", \" 8\", \" 9\", \"10\", \"11\"], outer = 2);"
   ]
  },
  {
   "cell_type": "code",
   "execution_count": 178,
   "metadata": {},
   "outputs": [
    {
     "data": {
      "image/svg+xml": [
       "<?xml version=\"1.0\" encoding=\"utf-8\"?>\n",
       "<svg xmlns=\"http://www.w3.org/2000/svg\" xmlns:xlink=\"http://www.w3.org/1999/xlink\" width=\"920\" height=\"520\" viewBox=\"0 0 3680 2080\">\n",
       "<defs>\n",
       "  <clipPath id=\"clip790\">\n",
       "    <rect x=\"0\" y=\"0\" width=\"3680\" height=\"2080\"/>\n",
       "  </clipPath>\n",
       "</defs>\n",
       "<path clip-path=\"url(#clip790)\" d=\"\n",
       "M0 2080 L3680 2080 L3680 0 L0 0  Z\n",
       "  \" fill=\"#ffffff\" fill-rule=\"evenodd\" fill-opacity=\"1\"/>\n",
       "<defs>\n",
       "  <clipPath id=\"clip791\">\n",
       "    <rect x=\"736\" y=\"0\" width=\"2577\" height=\"2080\"/>\n",
       "  </clipPath>\n",
       "</defs>\n",
       "<path clip-path=\"url(#clip790)\" d=\"\n",
       "M625.415 1630.52 L3491.02 1630.52 L3491.02 188.976 L625.415 188.976  Z\n",
       "  \" fill=\"#ffffff\" fill-rule=\"evenodd\" fill-opacity=\"1\"/>\n",
       "<defs>\n",
       "  <clipPath id=\"clip792\">\n",
       "    <rect x=\"625\" y=\"188\" width=\"2867\" height=\"1443\"/>\n",
       "  </clipPath>\n",
       "</defs>\n",
       "<polyline clip-path=\"url(#clip790)\" style=\"stroke:#000000; stroke-width:16; stroke-opacity:1; fill:none\" points=\"\n",
       "  625.415,1630.52 3491.02,1630.52 \n",
       "  \"/>\n",
       "<polyline clip-path=\"url(#clip790)\" style=\"stroke:#000000; stroke-width:16; stroke-opacity:1; fill:none\" points=\"\n",
       "  625.415,1630.52 625.415,188.976 \n",
       "  \"/>\n",
       "<polyline clip-path=\"url(#clip790)\" style=\"stroke:#000000; stroke-width:16; stroke-opacity:1; fill:none\" points=\"\n",
       "  875.007,1630.52 875.007,1613.22 \n",
       "  \"/>\n",
       "<polyline clip-path=\"url(#clip790)\" style=\"stroke:#000000; stroke-width:16; stroke-opacity:1; fill:none\" points=\"\n",
       "  1111.65,1630.52 1111.65,1613.22 \n",
       "  \"/>\n",
       "<polyline clip-path=\"url(#clip790)\" style=\"stroke:#000000; stroke-width:16; stroke-opacity:1; fill:none\" points=\"\n",
       "  1348.29,1630.52 1348.29,1613.22 \n",
       "  \"/>\n",
       "<polyline clip-path=\"url(#clip790)\" style=\"stroke:#000000; stroke-width:16; stroke-opacity:1; fill:none\" points=\"\n",
       "  1584.93,1630.52 1584.93,1613.22 \n",
       "  \"/>\n",
       "<polyline clip-path=\"url(#clip790)\" style=\"stroke:#000000; stroke-width:16; stroke-opacity:1; fill:none\" points=\"\n",
       "  1821.58,1630.52 1821.58,1613.22 \n",
       "  \"/>\n",
       "<polyline clip-path=\"url(#clip790)\" style=\"stroke:#000000; stroke-width:16; stroke-opacity:1; fill:none\" points=\"\n",
       "  2058.22,1630.52 2058.22,1613.22 \n",
       "  \"/>\n",
       "<polyline clip-path=\"url(#clip790)\" style=\"stroke:#000000; stroke-width:16; stroke-opacity:1; fill:none\" points=\"\n",
       "  2294.86,1630.52 2294.86,1613.22 \n",
       "  \"/>\n",
       "<polyline clip-path=\"url(#clip790)\" style=\"stroke:#000000; stroke-width:16; stroke-opacity:1; fill:none\" points=\"\n",
       "  2531.5,1630.52 2531.5,1613.22 \n",
       "  \"/>\n",
       "<polyline clip-path=\"url(#clip790)\" style=\"stroke:#000000; stroke-width:16; stroke-opacity:1; fill:none\" points=\"\n",
       "  2768.15,1630.52 2768.15,1613.22 \n",
       "  \"/>\n",
       "<polyline clip-path=\"url(#clip790)\" style=\"stroke:#000000; stroke-width:16; stroke-opacity:1; fill:none\" points=\"\n",
       "  3004.79,1630.52 3004.79,1613.22 \n",
       "  \"/>\n",
       "<polyline clip-path=\"url(#clip790)\" style=\"stroke:#000000; stroke-width:16; stroke-opacity:1; fill:none\" points=\"\n",
       "  3241.43,1630.52 3241.43,1613.22 \n",
       "  \"/>\n",
       "<polyline clip-path=\"url(#clip790)\" style=\"stroke:#000000; stroke-width:16; stroke-opacity:1; fill:none\" points=\"\n",
       "  625.415,1453.73 659.803,1453.73 \n",
       "  \"/>\n",
       "<polyline clip-path=\"url(#clip790)\" style=\"stroke:#000000; stroke-width:16; stroke-opacity:1; fill:none\" points=\"\n",
       "  625.415,1113.74 659.803,1113.74 \n",
       "  \"/>\n",
       "<polyline clip-path=\"url(#clip790)\" style=\"stroke:#000000; stroke-width:16; stroke-opacity:1; fill:none\" points=\"\n",
       "  625.415,773.753 659.803,773.753 \n",
       "  \"/>\n",
       "<polyline clip-path=\"url(#clip790)\" style=\"stroke:#000000; stroke-width:16; stroke-opacity:1; fill:none\" points=\"\n",
       "  625.415,433.767 659.803,433.767 \n",
       "  \"/>\n",
       "<g clip-path=\"url(#clip790)\">\n",
       "<text style=\"fill:#000000; fill-opacity:1; font-family:Arial,Helvetica Neue,Helvetica,sans-serif; font-size:95px; text-anchor:middle;\" transform=\"rotate(0, 875.007, 1731.72)\" x=\"875.007\" y=\"1731.72\"> 1</text>\n",
       "</g>\n",
       "<g clip-path=\"url(#clip790)\">\n",
       "<text style=\"fill:#000000; fill-opacity:1; font-family:Arial,Helvetica Neue,Helvetica,sans-serif; font-size:95px; text-anchor:middle;\" transform=\"rotate(0, 1111.65, 1731.72)\" x=\"1111.65\" y=\"1731.72\"> 2</text>\n",
       "</g>\n",
       "<g clip-path=\"url(#clip790)\">\n",
       "<text style=\"fill:#000000; fill-opacity:1; font-family:Arial,Helvetica Neue,Helvetica,sans-serif; font-size:95px; text-anchor:middle;\" transform=\"rotate(0, 1348.29, 1731.72)\" x=\"1348.29\" y=\"1731.72\"> 3</text>\n",
       "</g>\n",
       "<g clip-path=\"url(#clip790)\">\n",
       "<text style=\"fill:#000000; fill-opacity:1; font-family:Arial,Helvetica Neue,Helvetica,sans-serif; font-size:95px; text-anchor:middle;\" transform=\"rotate(0, 1584.93, 1731.72)\" x=\"1584.93\" y=\"1731.72\"> 4</text>\n",
       "</g>\n",
       "<g clip-path=\"url(#clip790)\">\n",
       "<text style=\"fill:#000000; fill-opacity:1; font-family:Arial,Helvetica Neue,Helvetica,sans-serif; font-size:95px; text-anchor:middle;\" transform=\"rotate(0, 1821.58, 1731.72)\" x=\"1821.58\" y=\"1731.72\"> 5</text>\n",
       "</g>\n",
       "<g clip-path=\"url(#clip790)\">\n",
       "<text style=\"fill:#000000; fill-opacity:1; font-family:Arial,Helvetica Neue,Helvetica,sans-serif; font-size:95px; text-anchor:middle;\" transform=\"rotate(0, 2058.22, 1731.72)\" x=\"2058.22\" y=\"1731.72\"> 6</text>\n",
       "</g>\n",
       "<g clip-path=\"url(#clip790)\">\n",
       "<text style=\"fill:#000000; fill-opacity:1; font-family:Arial,Helvetica Neue,Helvetica,sans-serif; font-size:95px; text-anchor:middle;\" transform=\"rotate(0, 2294.86, 1731.72)\" x=\"2294.86\" y=\"1731.72\"> 7</text>\n",
       "</g>\n",
       "<g clip-path=\"url(#clip790)\">\n",
       "<text style=\"fill:#000000; fill-opacity:1; font-family:Arial,Helvetica Neue,Helvetica,sans-serif; font-size:95px; text-anchor:middle;\" transform=\"rotate(0, 2531.5, 1731.72)\" x=\"2531.5\" y=\"1731.72\"> 8</text>\n",
       "</g>\n",
       "<g clip-path=\"url(#clip790)\">\n",
       "<text style=\"fill:#000000; fill-opacity:1; font-family:Arial,Helvetica Neue,Helvetica,sans-serif; font-size:95px; text-anchor:middle;\" transform=\"rotate(0, 2768.15, 1731.72)\" x=\"2768.15\" y=\"1731.72\"> 9</text>\n",
       "</g>\n",
       "<g clip-path=\"url(#clip790)\">\n",
       "<text style=\"fill:#000000; fill-opacity:1; font-family:Arial,Helvetica Neue,Helvetica,sans-serif; font-size:95px; text-anchor:middle;\" transform=\"rotate(0, 3004.79, 1731.72)\" x=\"3004.79\" y=\"1731.72\">10</text>\n",
       "</g>\n",
       "<g clip-path=\"url(#clip790)\">\n",
       "<text style=\"fill:#000000; fill-opacity:1; font-family:Arial,Helvetica Neue,Helvetica,sans-serif; font-size:95px; text-anchor:middle;\" transform=\"rotate(0, 3241.43, 1731.72)\" x=\"3241.43\" y=\"1731.72\">11</text>\n",
       "</g>\n",
       "<g clip-path=\"url(#clip790)\">\n",
       "<text style=\"fill:#000000; fill-opacity:1; font-family:Arial,Helvetica Neue,Helvetica,sans-serif; font-size:95px; text-anchor:end;\" transform=\"rotate(0, 588.615, 1488.23)\" x=\"588.615\" y=\"1488.23\">-500</text>\n",
       "</g>\n",
       "<g clip-path=\"url(#clip790)\">\n",
       "<text style=\"fill:#000000; fill-opacity:1; font-family:Arial,Helvetica Neue,Helvetica,sans-serif; font-size:95px; text-anchor:end;\" transform=\"rotate(0, 588.615, 1148.24)\" x=\"588.615\" y=\"1148.24\">-250</text>\n",
       "</g>\n",
       "<g clip-path=\"url(#clip790)\">\n",
       "<text style=\"fill:#000000; fill-opacity:1; font-family:Arial,Helvetica Neue,Helvetica,sans-serif; font-size:95px; text-anchor:end;\" transform=\"rotate(0, 588.615, 808.253)\" x=\"588.615\" y=\"808.253\">0</text>\n",
       "</g>\n",
       "<g clip-path=\"url(#clip790)\">\n",
       "<text style=\"fill:#000000; fill-opacity:1; font-family:Arial,Helvetica Neue,Helvetica,sans-serif; font-size:95px; text-anchor:end;\" transform=\"rotate(0, 588.615, 468.267)\" x=\"588.615\" y=\"468.267\">250</text>\n",
       "</g>\n",
       "<g clip-path=\"url(#clip790)\">\n",
       "<text style=\"fill:#000000; fill-opacity:1; font-family:Arial,Helvetica Neue,Helvetica,sans-serif; font-size:95px; text-anchor:middle;\" transform=\"rotate(0, 2058.22, 1854.72)\" x=\"2058.22\" y=\"1854.72\">Bidders</text>\n",
       "</g>\n",
       "<g clip-path=\"url(#clip790)\">\n",
       "<text style=\"fill:#000000; fill-opacity:1; font-family:Arial,Helvetica Neue,Helvetica,sans-serif; font-size:95px; text-anchor:middle;\" transform=\"rotate(-90, 317.222, 909.747)\" x=\"317.222\" y=\"909.747\">Net Payments</text>\n",
       "</g>\n",
       "<path clip-path=\"url(#clip792)\" d=\"\n",
       "M780.35 1191.94 L780.35 773.753 L875.007 773.753 L875.007 1191.94 L780.35 1191.94 L780.35 1191.94  Z\n",
       "  \" fill=\"#009af9\" fill-rule=\"evenodd\" fill-opacity=\"1\"/>\n",
       "<polyline clip-path=\"url(#clip792)\" style=\"stroke:#000000; stroke-width:0; stroke-opacity:1; fill:none\" points=\"\n",
       "  780.35,1191.94 780.35,773.753 875.007,773.753 875.007,1191.94 780.35,1191.94 \n",
       "  \"/>\n",
       "<path clip-path=\"url(#clip792)\" d=\"\n",
       "M1016.99 688.756 L1016.99 773.753 L1111.65 773.753 L1111.65 688.756 L1016.99 688.756 L1016.99 688.756  Z\n",
       "  \" fill=\"#009af9\" fill-rule=\"evenodd\" fill-opacity=\"1\"/>\n",
       "<polyline clip-path=\"url(#clip792)\" style=\"stroke:#000000; stroke-width:0; stroke-opacity:1; fill:none\" points=\"\n",
       "  1016.99,688.756 1016.99,773.753 1111.65,773.753 1111.65,688.756 1016.99,688.756 \n",
       "  \"/>\n",
       "<path clip-path=\"url(#clip792)\" d=\"\n",
       "M1253.63 270.573 L1253.63 773.753 L1348.29 773.753 L1348.29 270.573 L1253.63 270.573 L1253.63 270.573  Z\n",
       "  \" fill=\"#009af9\" fill-rule=\"evenodd\" fill-opacity=\"1\"/>\n",
       "<polyline clip-path=\"url(#clip792)\" style=\"stroke:#000000; stroke-width:0; stroke-opacity:1; fill:none\" points=\"\n",
       "  1253.63,270.573 1253.63,773.753 1348.29,773.753 1348.29,270.573 1253.63,270.573 \n",
       "  \"/>\n",
       "<path clip-path=\"url(#clip792)\" d=\"\n",
       "M1490.28 671.757 L1490.28 773.753 L1584.93 773.753 L1584.93 671.757 L1490.28 671.757 L1490.28 671.757  Z\n",
       "  \" fill=\"#009af9\" fill-rule=\"evenodd\" fill-opacity=\"1\"/>\n",
       "<polyline clip-path=\"url(#clip792)\" style=\"stroke:#000000; stroke-width:0; stroke-opacity:1; fill:none\" points=\"\n",
       "  1490.28,671.757 1490.28,773.753 1584.93,773.753 1584.93,671.757 1490.28,671.757 \n",
       "  \"/>\n",
       "<path clip-path=\"url(#clip792)\" d=\"\n",
       "M1726.92 229.775 L1726.92 773.753 L1821.58 773.753 L1821.58 229.775 L1726.92 229.775 L1726.92 229.775  Z\n",
       "  \" fill=\"#009af9\" fill-rule=\"evenodd\" fill-opacity=\"1\"/>\n",
       "<polyline clip-path=\"url(#clip792)\" style=\"stroke:#000000; stroke-width:0; stroke-opacity:1; fill:none\" points=\"\n",
       "  1726.92,229.775 1726.92,773.753 1821.58,773.753 1821.58,229.775 1726.92,229.775 \n",
       "  \"/>\n",
       "<path clip-path=\"url(#clip792)\" d=\"\n",
       "M1963.56 1589.72 L1963.56 773.753 L2058.22 773.753 L2058.22 1589.72 L1963.56 1589.72 L1963.56 1589.72  Z\n",
       "  \" fill=\"#009af9\" fill-rule=\"evenodd\" fill-opacity=\"1\"/>\n",
       "<polyline clip-path=\"url(#clip792)\" style=\"stroke:#000000; stroke-width:0; stroke-opacity:1; fill:none\" points=\"\n",
       "  1963.56,1589.72 1963.56,773.753 2058.22,773.753 2058.22,1589.72 1963.56,1589.72 \n",
       "  \"/>\n",
       "<path clip-path=\"url(#clip792)\" d=\"\n",
       "M2200.21 824.751 L2200.21 773.753 L2294.86 773.753 L2294.86 824.751 L2200.21 824.751 L2200.21 824.751  Z\n",
       "  \" fill=\"#009af9\" fill-rule=\"evenodd\" fill-opacity=\"1\"/>\n",
       "<polyline clip-path=\"url(#clip792)\" style=\"stroke:#000000; stroke-width:0; stroke-opacity:1; fill:none\" points=\"\n",
       "  2200.21,824.751 2200.21,773.753 2294.86,773.753 2294.86,824.751 2200.21,824.751 \n",
       "  \"/>\n",
       "<path clip-path=\"url(#clip792)\" d=\"\n",
       "M2436.85 773.753 L2436.85 773.753 L2531.5 773.753 L2531.5 773.753 L2436.85 773.753 L2436.85 773.753  Z\n",
       "  \" fill=\"#009af9\" fill-rule=\"evenodd\" fill-opacity=\"1\"/>\n",
       "<polyline clip-path=\"url(#clip792)\" style=\"stroke:#000000; stroke-width:0; stroke-opacity:1; fill:none\" points=\"\n",
       "  2436.85,773.753 2436.85,773.753 2531.5,773.753 2436.85,773.753 \n",
       "  \"/>\n",
       "<path clip-path=\"url(#clip792)\" d=\"\n",
       "M2673.49 722.755 L2673.49 773.753 L2768.15 773.753 L2768.15 722.755 L2673.49 722.755 L2673.49 722.755  Z\n",
       "  \" fill=\"#009af9\" fill-rule=\"evenodd\" fill-opacity=\"1\"/>\n",
       "<polyline clip-path=\"url(#clip792)\" style=\"stroke:#000000; stroke-width:0; stroke-opacity:1; fill:none\" points=\"\n",
       "  2673.49,722.755 2673.49,773.753 2768.15,773.753 2768.15,722.755 2673.49,722.755 \n",
       "  \"/>\n",
       "<path clip-path=\"url(#clip792)\" d=\"\n",
       "M2910.13 773.753 L2910.13 773.753 L3004.79 773.753 L3004.79 773.753 L2910.13 773.753 L2910.13 773.753  Z\n",
       "  \" fill=\"#009af9\" fill-rule=\"evenodd\" fill-opacity=\"1\"/>\n",
       "<polyline clip-path=\"url(#clip792)\" style=\"stroke:#000000; stroke-width:0; stroke-opacity:1; fill:none\" points=\"\n",
       "  2910.13,773.753 2910.13,773.753 3004.79,773.753 2910.13,773.753 \n",
       "  \"/>\n",
       "<path clip-path=\"url(#clip792)\" d=\"\n",
       "M3146.78 773.753 L3146.78 773.753 L3241.43 773.753 L3241.43 773.753 L3146.78 773.753 L3146.78 773.753  Z\n",
       "  \" fill=\"#009af9\" fill-rule=\"evenodd\" fill-opacity=\"1\"/>\n",
       "<polyline clip-path=\"url(#clip792)\" style=\"stroke:#000000; stroke-width:0; stroke-opacity:1; fill:none\" points=\"\n",
       "  3146.78,773.753 3146.78,773.753 3241.43,773.753 3146.78,773.753 \n",
       "  \"/>\n",
       "<path clip-path=\"url(#clip792)\" d=\"\n",
       "M875.007 1191.94 L875.007 773.753 L969.664 773.753 L969.664 1191.94 L875.007 1191.94 L875.007 1191.94  Z\n",
       "  \" fill=\"#e26f46\" fill-rule=\"evenodd\" fill-opacity=\"1\"/>\n",
       "<polyline clip-path=\"url(#clip792)\" style=\"stroke:#000000; stroke-width:0; stroke-opacity:1; fill:none\" points=\"\n",
       "  875.007,1191.94 875.007,773.753 969.664,773.753 969.664,1191.94 875.007,1191.94 \n",
       "  \"/>\n",
       "<path clip-path=\"url(#clip792)\" d=\"\n",
       "M1111.65 688.756 L1111.65 773.753 L1206.31 773.753 L1206.31 688.756 L1111.65 688.756 L1111.65 688.756  Z\n",
       "  \" fill=\"#e26f46\" fill-rule=\"evenodd\" fill-opacity=\"1\"/>\n",
       "<polyline clip-path=\"url(#clip792)\" style=\"stroke:#000000; stroke-width:0; stroke-opacity:1; fill:none\" points=\"\n",
       "  1111.65,688.756 1111.65,773.753 1206.31,773.753 1206.31,688.756 1111.65,688.756 \n",
       "  \"/>\n",
       "<path clip-path=\"url(#clip792)\" d=\"\n",
       "M1348.29 270.573 L1348.29 773.753 L1442.95 773.753 L1442.95 270.573 L1348.29 270.573 L1348.29 270.573  Z\n",
       "  \" fill=\"#e26f46\" fill-rule=\"evenodd\" fill-opacity=\"1\"/>\n",
       "<polyline clip-path=\"url(#clip792)\" style=\"stroke:#000000; stroke-width:0; stroke-opacity:1; fill:none\" points=\"\n",
       "  1348.29,270.573 1348.29,773.753 1442.95,773.753 1442.95,270.573 1348.29,270.573 \n",
       "  \"/>\n",
       "<path clip-path=\"url(#clip792)\" d=\"\n",
       "M1584.93 671.757 L1584.93 773.753 L1679.59 773.753 L1679.59 671.757 L1584.93 671.757 L1584.93 671.757  Z\n",
       "  \" fill=\"#e26f46\" fill-rule=\"evenodd\" fill-opacity=\"1\"/>\n",
       "<polyline clip-path=\"url(#clip792)\" style=\"stroke:#000000; stroke-width:0; stroke-opacity:1; fill:none\" points=\"\n",
       "  1584.93,671.757 1584.93,773.753 1679.59,773.753 1679.59,671.757 1584.93,671.757 \n",
       "  \"/>\n",
       "<path clip-path=\"url(#clip792)\" d=\"\n",
       "M1821.58 229.775 L1821.58 773.753 L1916.23 773.753 L1916.23 229.775 L1821.58 229.775 L1821.58 229.775  Z\n",
       "  \" fill=\"#e26f46\" fill-rule=\"evenodd\" fill-opacity=\"1\"/>\n",
       "<polyline clip-path=\"url(#clip792)\" style=\"stroke:#000000; stroke-width:0; stroke-opacity:1; fill:none\" points=\"\n",
       "  1821.58,229.775 1821.58,773.753 1916.23,773.753 1916.23,229.775 1821.58,229.775 \n",
       "  \"/>\n",
       "<path clip-path=\"url(#clip792)\" d=\"\n",
       "M2058.22 1589.72 L2058.22 773.753 L2152.88 773.753 L2152.88 1589.72 L2058.22 1589.72 L2058.22 1589.72  Z\n",
       "  \" fill=\"#e26f46\" fill-rule=\"evenodd\" fill-opacity=\"1\"/>\n",
       "<polyline clip-path=\"url(#clip792)\" style=\"stroke:#000000; stroke-width:0; stroke-opacity:1; fill:none\" points=\"\n",
       "  2058.22,1589.72 2058.22,773.753 2152.88,773.753 2152.88,1589.72 2058.22,1589.72 \n",
       "  \"/>\n",
       "<path clip-path=\"url(#clip792)\" d=\"\n",
       "M2294.86 824.751 L2294.86 773.753 L2389.52 773.753 L2389.52 824.751 L2294.86 824.751 L2294.86 824.751  Z\n",
       "  \" fill=\"#e26f46\" fill-rule=\"evenodd\" fill-opacity=\"1\"/>\n",
       "<polyline clip-path=\"url(#clip792)\" style=\"stroke:#000000; stroke-width:0; stroke-opacity:1; fill:none\" points=\"\n",
       "  2294.86,824.751 2294.86,773.753 2389.52,773.753 2389.52,824.751 2294.86,824.751 \n",
       "  \"/>\n",
       "<path clip-path=\"url(#clip792)\" d=\"\n",
       "M2531.5 773.753 L2531.5 773.753 L2626.16 773.753 L2626.16 773.753 L2531.5 773.753 L2531.5 773.753  Z\n",
       "  \" fill=\"#e26f46\" fill-rule=\"evenodd\" fill-opacity=\"1\"/>\n",
       "<polyline clip-path=\"url(#clip792)\" style=\"stroke:#000000; stroke-width:0; stroke-opacity:1; fill:none\" points=\"\n",
       "  2531.5,773.753 2531.5,773.753 2626.16,773.753 2531.5,773.753 \n",
       "  \"/>\n",
       "<path clip-path=\"url(#clip792)\" d=\"\n",
       "M2768.15 722.755 L2768.15 773.753 L2862.8 773.753 L2862.8 722.755 L2768.15 722.755 L2768.15 722.755  Z\n",
       "  \" fill=\"#e26f46\" fill-rule=\"evenodd\" fill-opacity=\"1\"/>\n",
       "<polyline clip-path=\"url(#clip792)\" style=\"stroke:#000000; stroke-width:0; stroke-opacity:1; fill:none\" points=\"\n",
       "  2768.15,722.755 2768.15,773.753 2862.8,773.753 2862.8,722.755 2768.15,722.755 \n",
       "  \"/>\n",
       "<path clip-path=\"url(#clip792)\" d=\"\n",
       "M3004.79 773.753 L3004.79 773.753 L3099.45 773.753 L3099.45 773.753 L3004.79 773.753 L3004.79 773.753  Z\n",
       "  \" fill=\"#e26f46\" fill-rule=\"evenodd\" fill-opacity=\"1\"/>\n",
       "<polyline clip-path=\"url(#clip792)\" style=\"stroke:#000000; stroke-width:0; stroke-opacity:1; fill:none\" points=\"\n",
       "  3004.79,773.753 3004.79,773.753 3099.45,773.753 3004.79,773.753 \n",
       "  \"/>\n",
       "<path clip-path=\"url(#clip792)\" d=\"\n",
       "M3241.43 773.753 L3241.43 773.753 L3336.09 773.753 L3336.09 773.753 L3241.43 773.753 L3241.43 773.753  Z\n",
       "  \" fill=\"#e26f46\" fill-rule=\"evenodd\" fill-opacity=\"1\"/>\n",
       "<polyline clip-path=\"url(#clip792)\" style=\"stroke:#000000; stroke-width:0; stroke-opacity:1; fill:none\" points=\"\n",
       "  3241.43,773.753 3241.43,773.753 3336.09,773.753 3241.43,773.753 \n",
       "  \"/>\n",
       "<path clip-path=\"url(#clip790)\" d=\"\n",
       "M2535.16 591.216 L3380.62 591.216 L3380.62 319.056 L2535.16 319.056  Z\n",
       "  \" fill=\"#000000\" fill-rule=\"evenodd\" fill-opacity=\"0\"/>\n",
       "<polyline clip-path=\"url(#clip790)\" style=\"stroke:#000000; stroke-width:16; stroke-opacity:0; fill:none\" points=\"\n",
       "  2535.16,591.216 3380.62,591.216 3380.62,319.056 2535.16,319.056 2535.16,591.216 \n",
       "  \"/>\n",
       "<path clip-path=\"url(#clip790)\" d=\"\n",
       "M2571.96 446.064 L2792.76 446.064 L2792.76 373.488 L2571.96 373.488 L2571.96 446.064  Z\n",
       "  \" fill=\"#009af9\" fill-rule=\"evenodd\" fill-opacity=\"1\"/>\n",
       "<polyline clip-path=\"url(#clip790)\" style=\"stroke:#000000; stroke-width:0; stroke-opacity:1; fill:none\" points=\"\n",
       "  2571.96,446.064 2792.76,446.064 2792.76,373.488 2571.96,373.488 2571.96,446.064 \n",
       "  \"/>\n",
       "<g clip-path=\"url(#clip790)\">\n",
       "<text style=\"fill:#000000; fill-opacity:1; font-family:Arial,Helvetica Neue,Helvetica,sans-serif; font-size:71px; text-anchor:start;\" transform=\"rotate(0, 2829.56, 435.776)\" x=\"2829.56\" y=\"435.776\">All Auctions</text>\n",
       "</g>\n",
       "<path clip-path=\"url(#clip790)\" d=\"\n",
       "M2571.96 536.784 L2792.76 536.784 L2792.76 464.208 L2571.96 464.208 L2571.96 536.784  Z\n",
       "  \" fill=\"#e26f46\" fill-rule=\"evenodd\" fill-opacity=\"1\"/>\n",
       "<polyline clip-path=\"url(#clip790)\" style=\"stroke:#000000; stroke-width:0; stroke-opacity:1; fill:none\" points=\"\n",
       "  2571.96,536.784 2792.76,536.784 2792.76,464.208 2571.96,464.208 2571.96,536.784 \n",
       "  \"/>\n",
       "<g clip-path=\"url(#clip790)\">\n",
       "<text style=\"fill:#000000; fill-opacity:1; font-family:Arial,Helvetica Neue,Helvetica,sans-serif; font-size:71px; text-anchor:start;\" transform=\"rotate(0, 2829.56, 526.496)\" x=\"2829.56\" y=\"526.496\">Small Auctions</text>\n",
       "</g>\n",
       "</svg>\n"
      ]
     },
     "execution_count": 178,
     "metadata": {},
     "output_type": "execute_result"
    }
   ],
   "source": [
    "fig = groupedbar(names, payments, group = auct_type, ylabel = \"Net Payments\", title = \"\",\n",
    "        legendfont=font(3), xtickfont=font(4), ytickfont=font(4), guidefont=font(4), line=0,\n",
    "        foreground_color_legend=nothing, background_color_legend=nothing, grid=false,\n",
    "        legend=:topright, xlabel = \"Bidders\")\n",
    "plot!(size=(230,130))\n",
    "savefig(\"fig_5.png\")\n",
    "fig"
   ]
  },
  {
   "cell_type": "markdown",
   "metadata": {},
   "source": [
    "<br><br><br><br>\n",
    "\n",
    "# 3. Structural Analysis"
   ]
  },
  {
   "cell_type": "markdown",
   "metadata": {},
   "source": [
    "## Step 1"
   ]
  },
  {
   "cell_type": "markdown",
   "metadata": {},
   "source": [
    "### Normalize the bids"
   ]
  },
  {
   "cell_type": "code",
   "execution_count": null,
   "metadata": {},
   "outputs": [],
   "source": []
  },
  {
   "cell_type": "markdown",
   "metadata": {},
   "source": [
    "## Step 3"
   ]
  },
  {
   "cell_type": "markdown",
   "metadata": {},
   "source": [
    "### Estimate $\\bar{H}_r$"
   ]
  },
  {
   "cell_type": "code",
   "execution_count": null,
   "metadata": {},
   "outputs": [],
   "source": []
  },
  {
   "cell_type": "markdown",
   "metadata": {},
   "source": [
    "### Estimate $G_m$"
   ]
  },
  {
   "cell_type": "code",
   "execution_count": null,
   "metadata": {},
   "outputs": [],
   "source": []
  },
  {
   "cell_type": "markdown",
   "metadata": {},
   "source": [
    "### Estimate $H_r$"
   ]
  },
  {
   "cell_type": "code",
   "execution_count": null,
   "metadata": {},
   "outputs": [],
   "source": []
  },
  {
   "cell_type": "markdown",
   "metadata": {},
   "source": [
    "## Step 4"
   ]
  },
  {
   "cell_type": "markdown",
   "metadata": {},
   "source": [
    "### Estimate bid function for each bidder"
   ]
  },
  {
   "cell_type": "code",
   "execution_count": null,
   "metadata": {},
   "outputs": [],
   "source": []
  },
  {
   "cell_type": "markdown",
   "metadata": {},
   "source": [
    "### Estimate $\\alpha_k$ (participation probabilities)"
   ]
  },
  {
   "cell_type": "code",
   "execution_count": null,
   "metadata": {},
   "outputs": [],
   "source": []
  },
  {
   "cell_type": "markdown",
   "metadata": {},
   "source": [
    "### Construct $G_{-i}$"
   ]
  },
  {
   "cell_type": "code",
   "execution_count": null,
   "metadata": {},
   "outputs": [],
   "source": []
  },
  {
   "cell_type": "markdown",
   "metadata": {},
   "source": [
    "### Construct $g_{-i}$"
   ]
  },
  {
   "cell_type": "code",
   "execution_count": null,
   "metadata": {},
   "outputs": [],
   "source": []
  },
  {
   "cell_type": "markdown",
   "metadata": {},
   "source": [
    "### Construct $v_{ik}$"
   ]
  },
  {
   "cell_type": "markdown",
   "metadata": {},
   "source": []
  },
  {
   "cell_type": "markdown",
   "metadata": {},
   "source": [
    "### Figure 2"
   ]
  },
  {
   "cell_type": "code",
   "execution_count": null,
   "metadata": {},
   "outputs": [],
   "source": []
  }
 ],
 "metadata": {
  "kernelspec": {
   "display_name": "Julia 1.5.3",
   "language": "julia",
   "name": "julia-1.5"
  },
  "language_info": {
   "file_extension": ".jl",
   "mimetype": "application/julia",
   "name": "julia",
   "version": "1.5.3"
  }
 },
 "nbformat": 4,
 "nbformat_minor": 4
}
