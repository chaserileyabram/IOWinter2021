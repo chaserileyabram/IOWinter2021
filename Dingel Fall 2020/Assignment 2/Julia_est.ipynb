{
 "cells": [
  {
   "cell_type": "code",
   "execution_count": 30,
   "metadata": {},
   "outputs": [
    {
     "name": "stdout",
     "output_type": "stream",
     "text": [
      "  3.128798 seconds (4.22 M allocations: 311.184 MiB, 44.68% gc time)\n"
     ]
    },
    {
     "data": {
      "text/plain": [
       "                          Fixed Effect Model                          \n",
       "======================================================================\n",
       "Number of obs:              709248  Degrees of freedom:          19174\n",
       "R2:                          0.702  R2 Adjusted:                 0.694\n",
       "F Statistic:               65902.0  p-value:                     0.000\n",
       "R2 within:                   0.244  Iterations:                     13\n",
       "Converged:                    true  \n",
       "======================================================================\n",
       "             Estimate  Std.Error  t value Pr(>|t|) Lower 95% Upper 95%\n",
       "----------------------------------------------------------------------\n",
       "logdist      -1.32537 0.00378779 -349.905    0.000  -1.33279  -1.31794\n",
       "contig        0.54954  0.0159811  34.3869    0.000  0.518218  0.580863\n",
       "comlang_off  0.762005 0.00774385  98.4013    0.000  0.746828  0.777183\n",
       "======================================================================\n"
      ]
     },
     "execution_count": 30,
     "metadata": {},
     "output_type": "execute_result"
    }
   ],
   "source": [
    "using StatFiles\n",
    "using DataFrames\n",
    "using FixedEffectModels\n",
    "using RegressionTables\n",
    "\n",
    "df = DataFrame(load(\"col_regfile09.dta\"))\n",
    "\n",
    "df = df[df.flow .> 0,:]\n",
    "df.logflow = log.(df.flow)\n",
    "df.logdist = log.(df.distw)\n",
    "\n",
    "small_df = df[df.year .> 1999,:]\n",
    "small_reg = reg(small_df, @formula(logflow ~ logdist + contig \n",
    "        + comlang_off + fe(iso_o)&fe(year) + fe(iso_d)&fe(year)), Vcov.robust())\n",
    "\n",
    "@time r = reg(df, @formula(logflow ~ logdist + contig \n",
    "        + comlang_off + fe(iso_o)&fe(year) + fe(iso_d)&fe(year)), \n",
    "    Vcov.robust(),\n",
    ")\n",
    "\n",
    "regtable(r, renderSettings = latexOutput(\"Table_3_Julia.tex\"))\n",
    "r\n"
   ]
  },
  {
   "cell_type": "code",
   "execution_count": 32,
   "metadata": {},
   "outputs": [
    {
     "data": {
      "text/plain": [
       "591"
      ]
     },
     "execution_count": 32,
     "metadata": {},
     "output_type": "execute_result"
    }
   ],
   "source": [
    "write(\"Julia_est.jl\", In[30])"
   ]
  },
  {
   "cell_type": "code",
   "execution_count": null,
   "metadata": {},
   "outputs": [],
   "source": []
  }
 ],
 "metadata": {
  "kernelspec": {
   "display_name": "Julia 1.2.0",
   "language": "julia",
   "name": "julia-1.2"
  },
  "language_info": {
   "file_extension": ".jl",
   "mimetype": "application/julia",
   "name": "julia",
   "version": "1.2.0"
  }
 },
 "nbformat": 4,
 "nbformat_minor": 2
}
