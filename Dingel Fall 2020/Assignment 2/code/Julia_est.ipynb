{
 "cells": [
  {
   "cell_type": "code",
   "execution_count": null,
   "metadata": {},
   "outputs": [],
   "source": [
    "using StatFiles\n",
    "using DataFrames\n",
    "using FixedEffectModels\n",
    "using RegressionTables\n",
    "\n",
    "df = DataFrame(load(\"col_regfile09.dta\"))\n",
    "\n",
    "df = df[df.flow .> 0,:]\n",
    "df.logflow = log.(df.flow)\n",
    "df.logdist = log.(df.distw)\n",
    "\n",
    "small_df = df[df.year .> 1999,:]\n",
    "small_reg = reg(small_df, @formula(logflow ~ logdist + contig \n",
    "        + comlang_off + fe(iso_o)&fe(year) + fe(iso_d)&fe(year)), Vcov.robust())\n",
    "\n",
    "@time r = reg(df, @formula(logflow ~ logdist + contig \n",
    "        + comlang_off + fe(iso_o)&fe(year) + fe(iso_d)&fe(year)), \n",
    "    Vcov.robust(),\n",
    ")\n",
    "\n",
    "regtable(r, renderSettings = latexOutput(\"Table_3_Julia.tex\"))\n",
    "r\n"
   ]
  },
  {
   "cell_type": "code",
   "execution_count": 29,
   "metadata": {},
   "outputs": [
    {
     "data": {
      "text/plain": [
       "79"
      ]
     },
     "execution_count": 29,
     "metadata": {},
     "output_type": "execute_result"
    }
   ],
   "source": [
    "write(\"Julia_est.jl\", In[2])"
   ]
  },
  {
   "cell_type": "code",
   "execution_count": null,
   "metadata": {},
   "outputs": [],
   "source": []
  }
 ],
 "metadata": {
  "kernelspec": {
   "display_name": "Julia 1.2.0",
   "language": "julia",
   "name": "julia-1.2"
  },
  "language_info": {
   "file_extension": ".jl",
   "mimetype": "application/julia",
   "name": "julia",
   "version": "1.2.0"
  }
 },
 "nbformat": 4,
 "nbformat_minor": 2
}
